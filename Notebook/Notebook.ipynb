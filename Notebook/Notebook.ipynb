{
 "cells": [
  {
   "cell_type": "markdown",
   "id": "b852394a",
   "metadata": {},
   "source": [
    "Inizializzazione delle librerie"
   ]
  },
  {
   "cell_type": "code",
   "execution_count": 3,
   "id": "04037c83",
   "metadata": {},
   "outputs": [],
   "source": [
    "import pandas as pd\n",
    "import os\n",
    "import plotly.express as px"
   ]
  },
  {
   "cell_type": "markdown",
   "id": "8c848a2f",
   "metadata": {},
   "source": [
    "Inizializzazione del dataframe"
   ]
  },
  {
   "cell_type": "code",
   "execution_count": 17,
   "id": "727c7e83",
   "metadata": {},
   "outputs": [
    {
     "data": {
      "text/html": [
       "<div>\n",
       "<style scoped>\n",
       "    .dataframe tbody tr th:only-of-type {\n",
       "        vertical-align: middle;\n",
       "    }\n",
       "\n",
       "    .dataframe tbody tr th {\n",
       "        vertical-align: top;\n",
       "    }\n",
       "\n",
       "    .dataframe thead th {\n",
       "        text-align: right;\n",
       "    }\n",
       "</style>\n",
       "<table border=\"1\" class=\"dataframe\">\n",
       "  <thead>\n",
       "    <tr style=\"text-align: right;\">\n",
       "      <th></th>\n",
       "      <th>Anno</th>\n",
       "      <th>Regione</th>\n",
       "      <th>Valore_produttivita</th>\n",
       "    </tr>\n",
       "  </thead>\n",
       "  <tbody>\n",
       "    <tr>\n",
       "      <th>0</th>\n",
       "      <td>2000</td>\n",
       "      <td>Piemonte</td>\n",
       "      <td>59.2180</td>\n",
       "    </tr>\n",
       "    <tr>\n",
       "      <th>1</th>\n",
       "      <td>2000</td>\n",
       "      <td>Valle d'Aosta</td>\n",
       "      <td>372.0144</td>\n",
       "    </tr>\n",
       "    <tr>\n",
       "      <th>2</th>\n",
       "      <td>2000</td>\n",
       "      <td>Lombardia</td>\n",
       "      <td>119.4304</td>\n",
       "    </tr>\n",
       "    <tr>\n",
       "      <th>3</th>\n",
       "      <td>2000</td>\n",
       "      <td>Trentino-Alto Adige</td>\n",
       "      <td>43.3656</td>\n",
       "    </tr>\n",
       "    <tr>\n",
       "      <th>4</th>\n",
       "      <td>2000</td>\n",
       "      <td>Veneto</td>\n",
       "      <td>24.3476</td>\n",
       "    </tr>\n",
       "    <tr>\n",
       "      <th>...</th>\n",
       "      <td>...</td>\n",
       "      <td>...</td>\n",
       "      <td>...</td>\n",
       "    </tr>\n",
       "    <tr>\n",
       "      <th>235</th>\n",
       "      <td>2011</td>\n",
       "      <td>Puglia</td>\n",
       "      <td>27.0511</td>\n",
       "    </tr>\n",
       "    <tr>\n",
       "      <th>236</th>\n",
       "      <td>2011</td>\n",
       "      <td>Basilicata</td>\n",
       "      <td>48.3853</td>\n",
       "    </tr>\n",
       "    <tr>\n",
       "      <th>237</th>\n",
       "      <td>2011</td>\n",
       "      <td>Calabria</td>\n",
       "      <td>27.9066</td>\n",
       "    </tr>\n",
       "    <tr>\n",
       "      <th>238</th>\n",
       "      <td>2011</td>\n",
       "      <td>Sicilia</td>\n",
       "      <td>12.7831</td>\n",
       "    </tr>\n",
       "    <tr>\n",
       "      <th>239</th>\n",
       "      <td>2011</td>\n",
       "      <td>Sardegna</td>\n",
       "      <td>27.4075</td>\n",
       "    </tr>\n",
       "  </tbody>\n",
       "</table>\n",
       "<p>240 rows × 3 columns</p>\n",
       "</div>"
      ],
      "text/plain": [
       "     Anno              Regione  Valore_produttivita\n",
       "0    2000             Piemonte              59.2180\n",
       "1    2000        Valle d'Aosta             372.0144\n",
       "2    2000            Lombardia             119.4304\n",
       "3    2000  Trentino-Alto Adige              43.3656\n",
       "4    2000               Veneto              24.3476\n",
       "..    ...                  ...                  ...\n",
       "235  2011               Puglia              27.0511\n",
       "236  2011           Basilicata              48.3853\n",
       "237  2011             Calabria              27.9066\n",
       "238  2011              Sicilia              12.7831\n",
       "239  2011             Sardegna              27.4075\n",
       "\n",
       "[240 rows x 3 columns]"
      ]
     },
     "metadata": {},
     "output_type": "display_data"
    }
   ],
   "source": [
    "df = pd.read_csv('../Dati/csv/produttivita.csv', sep=',')\n",
    "\n",
    "display(df)"
   ]
  },
  {
   "cell_type": "markdown",
   "id": "f3afab01",
   "metadata": {},
   "source": [
    "Creazione df coerente a quello fatto nelle calcoleted series"
   ]
  },
  {
   "cell_type": "code",
   "execution_count": 24,
   "id": "925c269c",
   "metadata": {},
   "outputs": [],
   "source": [
    "df_dati = df.rename(columns={'LAST UPDATE': 'LAST_UPDATE'})\n"
   ]
  },
  {
   "cell_type": "markdown",
   "id": "086499d4",
   "metadata": {},
   "source": [
    "Creazione grafico"
   ]
  },
  {
   "cell_type": "code",
   "execution_count": 22,
   "id": "90f5d21c",
   "metadata": {},
   "outputs": [
    {
     "data": {
      "application/vnd.plotly.v1+json": {
       "config": {
        "plotlyServerURL": "https://plot.ly"
       },
       "data": [
        {
         "hovertemplate": "species=AGK<br>TIME_PERIOD=%{x}<br>OBS_VALUE=%{y}<extra></extra>",
         "legendgroup": "AGK",
         "marker": {
          "color": "#636efa",
          "symbol": "circle"
         },
         "mode": "markers",
         "name": "AGK",
         "showlegend": true,
         "type": "scattergl",
         "x": {
          "bdata": "3wfgB+EH4gfjBw==",
          "dtype": "i2"
         },
         "xaxis": "x",
         "y": {
          "bdata": "2kCnDcyT5EBxPQrXI4/TQPxiyS+2cdBA0wY6baCbk0DJL5b8YrWTQA==",
          "dtype": "f8"
         },
         "yaxis": "y"
        },
        {
         "hovertemplate": "species=ALB<br>TIME_PERIOD=%{x}<br>OBS_VALUE=%{y}<extra></extra>",
         "legendgroup": "ALB",
         "marker": {
          "color": "#EF553B",
          "symbol": "circle"
         },
         "mode": "markers",
         "name": "ALB",
         "showlegend": true,
         "type": "scattergl",
         "x": {
          "bdata": "0QfSB9MH1AfVB9YH1wfYB9kH2gfbB9wH3QfeB98H4AfhB+IH4wfkB+UH5gfnBw==",
          "dtype": "i2"
         },
         "xaxis": "x",
         "y": {
          "bdata": "gZVDi2RS5UDQji5JeLU3QJKmVJzdVd9AVVVVVVVzykDJdr6vszQ/QYzzN8G0r0ZB8L+VdF9TTEF3sUP/04NAQaaOaO0K40VBaQOdtptqR0G/WPLrr3pJQY/C9ajq9jlBBJ020OmVL0Hf3d3dx4A7QfgDwHLhQi9BTxvotKNTOUGcLdV5W0AoQd7d3d23fDNBOpS66LEWLUHuCeAeqKsrQZqZmZkD/zVBgfas4dsVJ0GuR+E6r+1BQQ==",
          "dtype": "f8"
         },
         "yaxis": "y"
        },
        {
         "hovertemplate": "species=ALV<br>TIME_PERIOD=%{x}<br>OBS_VALUE=%{y}<extra></extra>",
         "legendgroup": "ALV",
         "marker": {
          "color": "#00cc96",
          "symbol": "circle"
         },
         "mode": "markers",
         "name": "ALV",
         "showlegend": true,
         "type": "scattergl",
         "x": {
          "bdata": "3wfgB+EH4gfjB+QH5QfmB+cH",
          "dtype": "i2"
         },
         "xaxis": "x",
         "y": {
          "bdata": "q6qqqqq1sUAiIiIiIgCNQKuqqqqq9aBAxpJfLPlNm0BVVVVVVdCfQOtRuB4FeaVAH4XrUbjuwEB4d3d3d5CwQC+W/GLJwZhA",
          "dtype": "f8"
         },
         "yaxis": "y"
        },
        {
         "hovertemplate": "species=AMB<br>TIME_PERIOD=%{x}<br>OBS_VALUE=%{y}<extra></extra>",
         "legendgroup": "AMB",
         "marker": {
          "color": "#ab63fa",
          "symbol": "circle"
         },
         "mode": "markers",
         "name": "AMB",
         "showlegend": true,
         "type": "scattergl",
         "x": {
          "bdata": "1QfWB9cH2AfZB9oH2wfcB90H3gffB+AH4QfiB+MH5AflB+YH5wc=",
          "dtype": "i2"
         },
         "xaxis": "x",
         "y": {
          "bdata": "pEjkqO7JRUEiIiICU45EQbu7uzvgVERBGEt+MZsAN0EAAADAi4E4Qe7u7u6saT5BAAAAgCo3PUEb6LSBUvgzQYiIiAhY9jlBBJ02kG1jQEHQaQOds+1CQSz5xRLu3kRBmpmZudeiREFVVVVV/xlAQei0gc7hdEFB84slv+qPOUGkcD2KHFo1QSIiIqLTeTlBpHA9Ci3INEE=",
          "dtype": "f8"
         },
         "yaxis": "y"
        },
        {
         "hovertemplate": "species=ANE<br>TIME_PERIOD=%{x}<br>OBS_VALUE=%{y}<extra></extra>",
         "legendgroup": "ANE",
         "marker": {
          "color": "#FFA15A",
          "symbol": "circle"
         },
         "mode": "markers",
         "name": "ANE",
         "showlegend": true,
         "type": "scattergl",
         "x": {
          "bdata": "yAfJB8oHywfMB80HzgfPB9AH0QfSB9MH1AfVB9YH1wfYB9kH2gfbB9wH3QfeB98H4AfhB+IH4wfkB+UH5gfnBw==",
          "dtype": "i2"
         },
         "xaxis": "x",
         "y": {
          "bdata": "AAAAYM9makFVVVW1+DlqQVVVVXWENGpBq6qqKvyZcEGrqqo6PBt1QQAAADAvbnZBq6qqumntdEGrqqr6pSVxQRDpt2clf3JB5IBwxNnBdkEUGpsw9FnYQOaJ+sd0dHRB8IKbC3vgd0EUqxmCdRx9QeF6FD5rFoZB5RdL2EyPgEG/WPLnc454QXTaQAuV7XtBdNpAm74peEH8Ysm3D/N4QQAAAPR1DHhB/GLJD/abcUG1gU4rgapwQbLkF1upGXRBAAAAEIvwdEGrqqralwN4QRIRETnOenVBWfKLOUiidkGg0wb69vJoQVVVVSXFdHdBq6qqgiseekHe3d2tmzB0QQ==",
          "dtype": "f8"
         },
         "yaxis": "y"
        },
        {
         "hovertemplate": "species=ANK<br>TIME_PERIOD=%{x}<br>OBS_VALUE=%{y}<extra></extra>",
         "legendgroup": "ANK",
         "marker": {
          "color": "#19d3f3",
          "symbol": "circle"
         },
         "mode": "markers",
         "name": "ANK",
         "showlegend": true,
         "type": "scattergl",
         "x": {
          "bdata": "3wfgB+EH4gfjB+QH5QfmB+cH",
          "dtype": "i2"
         },
         "xaxis": "x",
         "y": {
          "bdata": "exSuR37+SEGnDXTa5+FCQZX8Yum7rElBcEIhwkJBO0GSXyz5lGNCQVnyiyUHUjhBAAAAAIYcAUFVVVVVTar7QG6g0waajvBA",
          "dtype": "f8"
         },
         "yaxis": "y"
        },
        {
         "hovertemplate": "species=ANN<br>TIME_PERIOD=%{x}<br>OBS_VALUE=%{y}<extra></extra>",
         "legendgroup": "ANN",
         "marker": {
          "color": "#FF6692",
          "symbol": "circle"
         },
         "mode": "markers",
         "name": "ANN",
         "showlegend": true,
         "type": "scattergl",
         "x": {
          "bdata": "3wfgB+EH4gfjB+QH",
          "dtype": "i2"
         },
         "xaxis": "x",
         "y": {
          "bdata": "3t3d3V9DF0GV/GLJQ5oWQVVVVVV/bAtBagOdNnrxIUHbQKcNtNYaQacNdNpAlMBA",
          "dtype": "f8"
         },
         "yaxis": "y"
        },
        {
         "hovertemplate": "species=AOM<br>TIME_PERIOD=%{x}<br>OBS_VALUE=%{y}<extra></extra>",
         "legendgroup": "AOM",
         "marker": {
          "color": "#B6E880",
          "symbol": "circle"
         },
         "mode": "markers",
         "name": "AOM",
         "showlegend": true,
         "type": "scattergl",
         "x": {
          "bdata": "4wc=",
          "dtype": "i2"
         },
         "xaxis": "x",
         "y": {
          "bdata": "C9ejcD27mUA=",
          "dtype": "f8"
         },
         "yaxis": "y"
        },
        {
         "hovertemplate": "species=ARA<br>TIME_PERIOD=%{x}<br>OBS_VALUE=%{y}<extra></extra>",
         "legendgroup": "ARA",
         "marker": {
          "color": "#FF97FF",
          "symbol": "circle"
         },
         "mode": "markers",
         "name": "ARA",
         "showlegend": true,
         "type": "scattergl",
         "x": {
          "bdata": "1QfWB98H4AfhB+IH4wfkB+UH5gfnBw==",
          "dtype": "i2"
         },
         "xaxis": "x",
         "y": {
          "bdata": "qjspCnKUc0EGOm2gSJh4QYsAlLR0EUhBzVDvJDVVSUFZWcgZYqNUQeexUxPhFVFB7DB1O0THUkEtRNbMxOZLQdmD5/2CVkJBKDdkJqMdQ0H9vKkIuhFHQQ==",
          "dtype": "f8"
         },
         "yaxis": "y"
        },
        {
         "hovertemplate": "species=ARG<br>TIME_PERIOD=%{x}<br>OBS_VALUE=%{y}<extra></extra>",
         "legendgroup": "ARG",
         "marker": {
          "color": "#FECB52",
          "symbol": "circle"
         },
         "mode": "markers",
         "name": "ARG",
         "showlegend": true,
         "type": "scattergl",
         "x": {
          "bdata": "3wfgB+EH4wc=",
          "dtype": "i2"
         },
         "xaxis": "x",
         "y": {
          "bdata": "RURERESZ3kAAAAAAKG/pQPKLJb+YhN5ARURERESolUA=",
          "dtype": "f8"
         },
         "yaxis": "y"
        },
        {
         "hovertemplate": "species=ARI<br>TIME_PERIOD=%{x}<br>OBS_VALUE=%{y}<extra></extra>",
         "legendgroup": "ARI",
         "marker": {
          "color": "#636efa",
          "symbol": "circle"
         },
         "mode": "markers",
         "name": "ARI",
         "showlegend": true,
         "type": "scattergl",
         "x": {
          "bdata": "1wfYB9kH2gfbB9wH3QfeBw==",
          "dtype": "i2"
         },
         "xaxis": "x",
         "y": {
          "bdata": "QTN17LKKaUGQoPjv4IdhQaojWicEWWVBKT+pbBELaEHwWFmIkgJnQSZLwDyaAmZBZXCU/CXwaUGW/GJJ68RlQQ==",
          "dtype": "f8"
         },
         "yaxis": "y"
        },
        {
         "hovertemplate": "species=ARS<br>TIME_PERIOD=%{x}<br>OBS_VALUE=%{y}<extra></extra>",
         "legendgroup": "ARS",
         "marker": {
          "color": "#EF553B",
          "symbol": "circle"
         },
         "mode": "markers",
         "name": "ARS",
         "showlegend": true,
         "type": "scattergl",
         "x": {
          "bdata": "3wfgB+EH4gfjB+QH5QfmB+cH",
          "dtype": "i2"
         },
         "xaxis": "x",
         "y": {
          "bdata": "dF5jgwWVZEHV7IFQ99JkQYpu0P9+q2hB+Xs8rb5wYUEPU5fwSeZgQQ3gLQhPLmFB7FMst8MzYUE1Nxs4xFNiQYums+NA0WJB",
          "dtype": "f8"
         },
         "yaxis": "y"
        },
        {
         "hovertemplate": "species=ARY<br>TIME_PERIOD=%{x}<br>OBS_VALUE=%{y}<extra></extra>",
         "legendgroup": "ARY",
         "marker": {
          "color": "#00cc96",
          "symbol": "circle"
         },
         "mode": "markers",
         "name": "ARY",
         "showlegend": true,
         "type": "scattergl",
         "x": {
          "bdata": "4gfjB+QH",
          "dtype": "i2"
         },
         "xaxis": "x",
         "y": {
          "bdata": "7+7u7rYS50CnDXTacDPnQN7d3d3dsZhA",
          "dtype": "f8"
         },
         "yaxis": "y"
        },
        {
         "hovertemplate": "species=ATB<br>TIME_PERIOD=%{x}<br>OBS_VALUE=%{y}<extra></extra>",
         "legendgroup": "ATB",
         "marker": {
          "color": "#ab63fa",
          "symbol": "circle"
         },
         "mode": "markers",
         "name": "ATB",
         "showlegend": true,
         "type": "scattergl",
         "x": {
          "bdata": "1QfWB+IH4wfkB+UH5gfnBw==",
          "dtype": "i2"
         },
         "xaxis": "x",
         "y": {
          "bdata": "DLjU/roqQEH9YsmvZug3QdQGOm1ljCZB+cWSXyuwIUExlvxiCdzsQFVVVVXlZOdAVVVVVdXVtEBcj8L1qLaqQA==",
          "dtype": "f8"
         },
         "yaxis": "y"
        },
        {
         "hovertemplate": "species=BAS<br>TIME_PERIOD=%{x}<br>OBS_VALUE=%{y}<extra></extra>",
         "legendgroup": "BAS",
         "marker": {
          "color": "#FFA15A",
          "symbol": "circle"
         },
         "mode": "markers",
         "name": "BAS",
         "showlegend": true,
         "type": "scattergl",
         "x": {
          "bdata": "5AflB+YH5wc=",
          "dtype": "i2"
         },
         "xaxis": "x",
         "y": {
          "bdata": "WfKLJVjgEUFmZmZmuu0RQYiIiIiG1RBBVVVVVTWjD0E=",
          "dtype": "f8"
         },
         "yaxis": "y"
        },
        {
         "hovertemplate": "species=BAZ<br>TIME_PERIOD=%{x}<br>OBS_VALUE=%{y}<extra></extra>",
         "legendgroup": "BAZ",
         "marker": {
          "color": "#19d3f3",
          "symbol": "circle"
         },
         "mode": "markers",
         "name": "BAZ",
         "showlegend": true,
         "type": "scattergl",
         "x": {
          "bdata": "5AflB+YH5wc=",
          "dtype": "i2"
         },
         "xaxis": "x",
         "y": {
          "bdata": "zczMzOi58UDJL5b8Lsn4QBEREREZT/VAThvotNk580A=",
          "dtype": "f8"
         },
         "yaxis": "y"
        },
        {
         "hovertemplate": "species=BBS<br>TIME_PERIOD=%{x}<br>OBS_VALUE=%{y}<extra></extra>",
         "legendgroup": "BBS",
         "marker": {
          "color": "#FF6692",
          "symbol": "circle"
         },
         "mode": "markers",
         "name": "BBS",
         "showlegend": true,
         "type": "scattergl",
         "x": {
          "bdata": "3wfgB+EH4gfjB+QH",
          "dtype": "i2"
         },
         "xaxis": "x",
         "y": {
          "bdata": "IiIiIrSHKEGpMLZQ4xUdQbyJNEResxxBSZU7RnwRvUBgLPnFkmO9QChcj8K12rNA",
          "dtype": "f8"
         },
         "yaxis": "y"
        },
        {
         "hovertemplate": "species=BET<br>TIME_PERIOD=%{x}<br>OBS_VALUE=%{y}<extra></extra>",
         "legendgroup": "BET",
         "marker": {
          "color": "#B6E880",
          "symbol": "circle"
         },
         "mode": "markers",
         "name": "BET",
         "showlegend": true,
         "type": "scattergl",
         "x": {
          "bdata": "0AfRB9IH0wfUB9UH1gfXB9gH2QffB+AH4QfiB+MH5AflB+cH",
          "dtype": "i2"
         },
         "xaxis": "x",
         "y": {
          "bdata": "DpkF7VA9yEDGkl8shQ3SQNhcSJpSpWFAE16VHqZ86EAKHswTAr0AQd1uXNmIN/FAv1jyiw3180DC9Shcz77yQEx+seT/jgRB4XoUri+k+UDRaQOdBgzrQN7d3d3FuQBBEREREd2kD0FVCYuZTMARQX6x5BfjeANBAAAAADzW+kAiIiIiri4mQUx+seQTgglB",
          "dtype": "f8"
         },
         "yaxis": "y"
        },
        {
         "hovertemplate": "species=BFT<br>TIME_PERIOD=%{x}<br>OBS_VALUE=%{y}<extra></extra>",
         "legendgroup": "BFT",
         "marker": {
          "color": "#FF97FF",
          "symbol": "circle"
         },
         "mode": "markers",
         "name": "BFT",
         "showlegend": true,
         "type": "scattergl",
         "x": {
          "bdata": "yAfJB8oHywfMB80HzgfPB9AH0QfSB9MH1AfVB9YH1wfYB9kH2gfbB9wH3QfeB98H4AfhB+IH4wfkB+UH5gfnBw==",
          "dtype": "i2"
         },
         "xaxis": "x",
         "y": {
          "bdata": "VVVV1coZQEFVVVVVWmc2QQAAAACDajpBq6qqqherPkEAAAAABFNGQTmO4zhB4FBBVVVV1X8jXkGrqqqqguBdQTWD5eGS7mBBBAehVcqWWEHHmLuWcKe8QKAaL+1m6F5BUyrOWr+hWUHVwj//8mFRQYFOG+i4klVBxEKtUyqYWEF1TPAsxC1OQfB4bamji0xBMzMzMzOzRkC7u7u7QDpOQYXrUXjHIFlB2kCnTV5IW0HXyJvvLGJTQVJJnZ5gIlZBchsNFKVkWkGMTRg2wJJeQVr0f14F3WFB65jgQ1SSZEH8GHOn+XhaQYKVQ5mY5V9B+jQUkVsBZUHpkoQ/r8tkQQ==",
          "dtype": "f8"
         },
         "yaxis": "y"
        },
        {
         "hovertemplate": "species=BIL<br>TIME_PERIOD=%{x}<br>OBS_VALUE=%{y}<extra></extra>",
         "legendgroup": "BIL",
         "marker": {
          "color": "#FECB52",
          "symbol": "circle"
         },
         "mode": "markers",
         "name": "BIL",
         "showlegend": true,
         "type": "scattergl",
         "x": {
          "bdata": "1wfYB9kH2gfbB9wH3QfeB98H4AfhB+MH",
          "dtype": "i2"
         },
         "xaxis": "x",
         "y": {
          "bdata": "exSuR5xPEkFkyS+WS3IYQUt+seT5HiNBexSuR5k+EEEzMzMzlWYBQTptoNM2bvBAEREREfGQ8UCy5BdLzlfjQGAs+cVCOttARERERERZ0EDv7u7u7n/RQAc6baCTFddA",
          "dtype": "f8"
         },
         "yaxis": "y"
        },
        {
         "hovertemplate": "species=BLI<br>TIME_PERIOD=%{x}<br>OBS_VALUE=%{y}<extra></extra>",
         "legendgroup": "BLI",
         "marker": {
          "color": "#636efa",
          "symbol": "circle"
         },
         "mode": "markers",
         "name": "BLI",
         "showlegend": true,
         "type": "scattergl",
         "x": {
          "bdata": "4gfjB+UH5gfnBw==",
          "dtype": "i2"
         },
         "xaxis": "x",
         "y": {
          "bdata": "WfKLJb8QlkBcj8L1KMqkQLjTH7GAG1NAMEU+6wZTWED2viYEZa9DQA==",
          "dtype": "f8"
         },
         "yaxis": "y"
        },
        {
         "hovertemplate": "species=BLL<br>TIME_PERIOD=%{x}<br>OBS_VALUE=%{y}<extra></extra>",
         "legendgroup": "BLL",
         "marker": {
          "color": "#EF553B",
          "symbol": "circle"
         },
         "mode": "markers",
         "name": "BLL",
         "showlegend": true,
         "type": "scattergl",
         "x": {
          "bdata": "3wfgB+EH4gfjB+QH5QfmB+cH",
          "dtype": "i2"
         },
         "xaxis": "x",
         "y": {
          "bdata": "S36x5GHiG0H8YskvXiAbQauqqqoO7QVBJr9Y8gvBzkBVVVVV1RPFQHE9CtfoNhBBS36x5P9EHEERERERKcMUQXh3d3f7NhZB",
          "dtype": "f8"
         },
         "yaxis": "y"
        },
        {
         "hovertemplate": "species=BLT<br>TIME_PERIOD=%{x}<br>OBS_VALUE=%{y}<extra></extra>",
         "legendgroup": "BLT",
         "marker": {
          "color": "#00cc96",
          "symbol": "circle"
         },
         "mode": "markers",
         "name": "BLT",
         "showlegend": true,
         "type": "scattergl",
         "x": {
          "bdata": "5wc=",
          "dtype": "i2"
         },
         "xaxis": "x",
         "y": {
          "bdata": "yWfdYIp8JEA=",
          "dtype": "f8"
         },
         "yaxis": "y"
        },
        {
         "hovertemplate": "species=BLU<br>TIME_PERIOD=%{x}<br>OBS_VALUE=%{y}<extra></extra>",
         "legendgroup": "BLU",
         "marker": {
          "color": "#ab63fa",
          "symbol": "circle"
         },
         "mode": "markers",
         "name": "BLU",
         "showlegend": true,
         "type": "scattergl",
         "x": {
          "bdata": "3wfgB+EH4gfjB+QH5QfmB+cH",
          "dtype": "i2"
         },
         "xaxis": "x",
         "y": {
          "bdata": "Om2g045rDUG/WPKLDQkTQQvXo3DvKhBB5RdLfoWZEUF4d3d3D88PQZqZmZlBFw5B4XoUrtuoGUFFREREsHUeQS+W/GJNjR5B",
          "dtype": "f8"
         },
         "yaxis": "y"
        },
        {
         "hovertemplate": "species=BOC<br>TIME_PERIOD=%{x}<br>OBS_VALUE=%{y}<extra></extra>",
         "legendgroup": "BOC",
         "marker": {
          "color": "#FFA15A",
          "symbol": "circle"
         },
         "mode": "markers",
         "name": "BOC",
         "showlegend": true,
         "type": "scattergl",
         "x": {
          "bdata": "4gfjBw==",
          "dtype": "i2"
         },
         "xaxis": "x",
         "y": {
          "bdata": "bqDTBrrOvkCBThvoNJa6QA==",
          "dtype": "f8"
         },
         "yaxis": "y"
        },
        {
         "hovertemplate": "species=BOG<br>TIME_PERIOD=%{x}<br>OBS_VALUE=%{y}<extra></extra>",
         "legendgroup": "BOG",
         "marker": {
          "color": "#19d3f3",
          "symbol": "circle"
         },
         "mode": "markers",
         "name": "BOG",
         "showlegend": true,
         "type": "scattergl",
         "x": {
          "bdata": "yAfJB8oHywfMB80HzgfPB9AH0QfSB9MH1AfVB9YH1wfYB9kH2gfbB9wH3QfeB98H4AfhB+IH4wfkB+UH5gfnBw==",
          "dtype": "i2"
         },
         "xaxis": "x",
         "y": {
          "bdata": "AAAAAO9eP0FVVVXVZM1AQauqqqol2jNBq6qqqhvqMkGrqqqqGJIzQQAAAABcqTBBq6qqqrNoM0Grqqqq31YxQXdSTMuMuDJBK84+PCrAN0Ehi0e8T5KbQKVzaz/CXy9Bd1V6IMzkLkHSlIpz1W1BQfnFkt+jkzxBRURERDPqOUEiIiIi7pwzQXh3d3f2zzFBERER0TAJM0GrqqqqGy83QYFOG+hkbzNBEhEREfRyJ0EAAAAAkS01QZJfLHkI1SpByS+WfHSwLEFFRETEIPc5QUfhehQf0jdBY8kv1oEPMkFVVVVVdwkoQSz5xRKFhShBiIiIiKbxKkG8u7u72BEtQQ==",
          "dtype": "f8"
         },
         "yaxis": "y"
        },
        {
         "hovertemplate": "species=BON<br>TIME_PERIOD=%{x}<br>OBS_VALUE=%{y}<extra></extra>",
         "legendgroup": "BON",
         "marker": {
          "color": "#FF6692",
          "symbol": "circle"
         },
         "mode": "markers",
         "name": "BON",
         "showlegend": true,
         "type": "scattergl",
         "x": {
          "bdata": "1wfYB9kH2gfbB9wH3QfeB98H4AfhB+IH4wfkB+UH5gfnBw==",
          "dtype": "i2"
         },
         "xaxis": "x",
         "y": {
          "bdata": "3t3d3VDZO0H5xZKfwLY1QYbrUbiq/DVBNDMz81CQOEG1gU4boWY8QSa/WPKu7jhBehSuh5BQOkHaQKcNJzA1QVVVVVWmoy9BvLu7u98hMEEt+cWSZIEpQe/u7u5EwypBL5b8Ypu7LEEEnTbQw6svQSIiIqLLGixBIiIiIunrKUEs+cWSbvspQQ==",
          "dtype": "f8"
         },
         "yaxis": "y"
        },
        {
         "hovertemplate": "species=BOY<br>TIME_PERIOD=%{x}<br>OBS_VALUE=%{y}<extra></extra>",
         "legendgroup": "BOY",
         "marker": {
          "color": "#B6E880",
          "symbol": "circle"
         },
         "mode": "markers",
         "name": "BOY",
         "showlegend": true,
         "type": "scattergl",
         "x": {
          "bdata": "3wfgB+EH4gfjB+QH5QfmB+cH",
          "dtype": "i2"
         },
         "xaxis": "x",
         "y": {
          "bdata": "baDTBty5GkFVVVXVZCMgQQAAAAA8/SxBY8kvFk1rMUGh0wa6RJwwQYiIiIhW8iVBdNpAp7X5MUG7u7u7a54uQc3MzMxC8C9B",
          "dtype": "f8"
         },
         "yaxis": "y"
        },
        {
         "hovertemplate": "species=BPI<br>TIME_PERIOD=%{x}<br>OBS_VALUE=%{y}<extra></extra>",
         "legendgroup": "BPI",
         "marker": {
          "color": "#FF97FF",
          "symbol": "circle"
         },
         "mode": "markers",
         "name": "BPI",
         "showlegend": true,
         "type": "scattergl",
         "x": {
          "bdata": "3wfgB+EH4gfjB+QH5QfmB+cH",
          "dtype": "i2"
         },
         "xaxis": "x",
         "y": {
          "bdata": "uB6Fa8PRO0GV/GLJQBQ3QTwK12P3zjxBnjbQaalFBUGX/GLJQ/T5QAc6baAHQhZBeHd3dxQZIkHNzMzMa78iQW6g0wbOeCFB",
          "dtype": "f8"
         },
         "yaxis": "y"
        },
        {
         "hovertemplate": "species=BRB<br>TIME_PERIOD=%{x}<br>OBS_VALUE=%{y}<extra></extra>",
         "legendgroup": "BRB",
         "marker": {
          "color": "#FECB52",
          "symbol": "circle"
         },
         "mode": "markers",
         "name": "BRB",
         "showlegend": true,
         "type": "scattergl",
         "x": {
          "bdata": "1wfYB9kH2gfbB9wH3QfeB98H4AfhB+IH4wfkB+UH5gfnBw==",
          "dtype": "i2"
         },
         "xaxis": "x",
         "y": {
          "bdata": "eHd397izIUGF61G48rkWQcaSXyyl5hVBZMkvluQQC0GIiIiIEksQQeUXS365/ANBIiIiIk7LAUHziyW/hLgDQYwlv1jWOAdBx5JfLMk9AkHFkl8stfEKQW2g0wa81QhBpw102qD7DUEfhetRUCX7QFVVVVXfcAVBiIiIiKzeBEEoXI/Ctb0EQQ==",
          "dtype": "f8"
         },
         "yaxis": "y"
        },
        {
         "hovertemplate": "species=BRD<br>TIME_PERIOD=%{x}<br>OBS_VALUE=%{y}<extra></extra>",
         "legendgroup": "BRD",
         "marker": {
          "color": "#636efa",
          "symbol": "circle"
         },
         "mode": "markers",
         "name": "BRD",
         "showlegend": true,
         "type": "scattergl",
         "x": {
          "bdata": "5Qc=",
          "dtype": "i2"
         },
         "xaxis": "x",
         "y": {
          "bdata": "L5b8YongtUA=",
          "dtype": "f8"
         },
         "yaxis": "y"
        },
        {
         "hovertemplate": "species=BRF<br>TIME_PERIOD=%{x}<br>OBS_VALUE=%{y}<extra></extra>",
         "legendgroup": "BRF",
         "marker": {
          "color": "#EF553B",
          "symbol": "circle"
         },
         "mode": "markers",
         "name": "BRF",
         "showlegend": true,
         "type": "scattergl",
         "x": {
          "bdata": "3wfgB+EH4gfjB+QH5QfmB+cH",
          "dtype": "i2"
         },
         "xaxis": "x",
         "y": {
          "bdata": "k18s+UroIEG4HoXrbVAkQTfQaYODuC5B3t3d3U/HQ0Gx5BdLeYNAQdejcD12BwhBjCW/WIYHEUEiIiIiFrEMQVVVVVXdHw5B",
          "dtype": "f8"
         },
         "yaxis": "y"
        },
        {
         "hovertemplate": "species=BSC<br>TIME_PERIOD=%{x}<br>OBS_VALUE=%{y}<extra></extra>",
         "legendgroup": "BSC",
         "marker": {
          "color": "#00cc96",
          "symbol": "circle"
         },
         "mode": "markers",
         "name": "BSC",
         "showlegend": true,
         "type": "scattergl",
         "x": {
          "bdata": "4gfjB+UH",
          "dtype": "i2"
         },
         "xaxis": "x",
         "y": {
          "bdata": "6LSBTltWtkBFREREhCy3QELZ+5oQFDxA",
          "dtype": "f8"
         },
         "yaxis": "y"
        },
        {
         "hovertemplate": "species=BSH<br>TIME_PERIOD=%{x}<br>OBS_VALUE=%{y}<extra></extra>",
         "legendgroup": "BSH",
         "marker": {
          "color": "#ab63fa",
          "symbol": "circle"
         },
         "mode": "markers",
         "name": "BSH",
         "showlegend": true,
         "type": "scattergl",
         "x": {
          "bdata": "3wfgB+EH4gfjB+QH5QfmB+cH",
          "dtype": "i2"
         },
         "xaxis": "x",
         "y": {
          "bdata": "BzptoHcl8UBFREREVD7WQPnFkl9kEOtAe84/NvRY00C8u7u7O2jcQAAAAABQod5AiIiIiCiL6EARERERES3QQPrFkl+shcxA",
          "dtype": "f8"
         },
         "yaxis": "y"
        },
        {
         "hovertemplate": "species=BSS<br>TIME_PERIOD=%{x}<br>OBS_VALUE=%{y}<extra></extra>",
         "legendgroup": "BSS",
         "marker": {
          "color": "#FFA15A",
          "symbol": "circle"
         },
         "mode": "markers",
         "name": "BSS",
         "showlegend": true,
         "type": "scattergl",
         "x": {
          "bdata": "1wfYB9kH2gfbB9wH3QfeB98H4AfhB+IH4wfkB+UH5gfnBw==",
          "dtype": "i2"
         },
         "xaxis": "x",
         "y": {
          "bdata": "RUREBFTgM0HUBjotcbwxQaRwPQryRDFBq6qqqr8CMUGZmZkZgoYwQREREZFtRzJBVVVV1c51KkEzMzMz6yMuQVVVVVUykDlBG+i0gQU7PkH8YsmvNuM1QUVERERTsDNBoNMGOl5hMEHv7u7uTQErQfcoXE87yTVBzczMTF4VM0EOdNrAc3UtQQ==",
          "dtype": "f8"
         },
         "yaxis": "y"
        },
        {
         "hovertemplate": "species=BSX<br>TIME_PERIOD=%{x}<br>OBS_VALUE=%{y}<extra></extra>",
         "legendgroup": "BSX",
         "marker": {
          "color": "#19d3f3",
          "symbol": "circle"
         },
         "mode": "markers",
         "name": "BSX",
         "showlegend": true,
         "type": "scattergl",
         "x": {
          "bdata": "1wfYB9kH2gfbB9wH3QfeB98H4AfhB+IH4wflB+YH5wc=",
          "dtype": "i2"
         },
         "xaxis": "x",
         "y": {
          "bdata": "tYFOG9QFGUG4HoXrYV0SQfxiyS+kTBRBZ2ZmZkbdAkHziyW/CGMTQZNfLPltjg1BN9BpA+2u/0CnDXRaaxIiQdejcD1+QRFB3t3d3aPMFUFSuB6Fr6oWQacNdNqkwxFBmpmZmcEzDUFVVVVVlbrAQLu7u7s7BthAYYp81g2mZ0A=",
          "dtype": "f8"
         },
         "yaxis": "y"
        },
        {
         "hovertemplate": "species=BTP<br>TIME_PERIOD=%{x}<br>OBS_VALUE=%{y}<extra></extra>",
         "legendgroup": "BTP",
         "marker": {
          "color": "#FF6692",
          "symbol": "circle"
         },
         "mode": "markers",
         "name": "BTP",
         "showlegend": true,
         "type": "scattergl",
         "x": {
          "bdata": "4AfiB+MH",
          "dtype": "i2"
         },
         "xaxis": "x",
         "y": {
          "bdata": "MzMzMzMHh0DkcxQNf4OlQEGnDXTa86RA",
          "dtype": "f8"
         },
         "yaxis": "y"
        },
        {
         "hovertemplate": "species=CBC<br>TIME_PERIOD=%{x}<br>OBS_VALUE=%{y}<extra></extra>",
         "legendgroup": "CBC",
         "marker": {
          "color": "#B6E880",
          "symbol": "circle"
         },
         "mode": "markers",
         "name": "CBC",
         "showlegend": true,
         "type": "scattergl",
         "x": {
          "bdata": "3wfgB+EH4gfjB+QH5QfmB+cH",
          "dtype": "i2"
         },
         "xaxis": "x",
         "y": {
          "bdata": "VVVVVfWj6ECNJb9YEizqQEVERESEL8ZAIiIiItr28UDFkl8sKbTrQDfQaQO9dstAH4XrUXif00CIiIiIiArHQLy7u7v7I8BA",
          "dtype": "f8"
         },
         "yaxis": "y"
        },
        {
         "hovertemplate": "species=CBM<br>TIME_PERIOD=%{x}<br>OBS_VALUE=%{y}<extra></extra>",
         "legendgroup": "CBM",
         "marker": {
          "color": "#FF97FF",
          "symbol": "circle"
         },
         "mode": "markers",
         "name": "CBM",
         "showlegend": true,
         "type": "scattergl",
         "x": {
          "bdata": "3wfgB+EH4gfjB+QH5QfmB+cH",
          "dtype": "i2"
         },
         "xaxis": "x",
         "y": {
          "bdata": "EREREZGf8UBERERElK7xQERERETQ7fBAVVVVVT3A7ECSXyz55TfuQIwlv1jilvFAvLu7u+OmAUGIiIiIGKIAQcL1KFynwQFB",
          "dtype": "f8"
         },
         "yaxis": "y"
        },
        {
         "hovertemplate": "species=CBR<br>TIME_PERIOD=%{x}<br>OBS_VALUE=%{y}<extra></extra>",
         "legendgroup": "CBR",
         "marker": {
          "color": "#FECB52",
          "symbol": "circle"
         },
         "mode": "markers",
         "name": "CBR",
         "showlegend": true,
         "type": "scattergl",
         "x": {
          "bdata": "4gfjB+QH",
          "dtype": "i2"
         },
         "xaxis": "x",
         "y": {
          "bdata": "q6qqqiqP3kCy5BdLTsvgQCz5xZLfta9A",
          "dtype": "f8"
         },
         "yaxis": "y"
        },
        {
         "hovertemplate": "species=CDN<br>TIME_PERIOD=%{x}<br>OBS_VALUE=%{y}<extra></extra>",
         "legendgroup": "CDN",
         "marker": {
          "color": "#636efa",
          "symbol": "circle"
         },
         "mode": "markers",
         "name": "CDN",
         "showlegend": true,
         "type": "scattergl",
         "x": {
          "bdata": "4wc=",
          "dtype": "i2"
         },
         "xaxis": "x",
         "y": {
          "bdata": "UW25ShrVWkA=",
          "dtype": "f8"
         },
         "yaxis": "y"
        },
        {
         "hovertemplate": "species=CDX<br>TIME_PERIOD=%{x}<br>OBS_VALUE=%{y}<extra></extra>",
         "legendgroup": "CDX",
         "marker": {
          "color": "#EF553B",
          "symbol": "circle"
         },
         "mode": "markers",
         "name": "CDX",
         "showlegend": true,
         "type": "scattergl",
         "x": {
          "bdata": "1wfYB9kH2gfbB9wH3QfeBw==",
          "dtype": "i2"
         },
         "xaxis": "x",
         "y": {
          "bdata": "zczMzLe2HUGg0wY6ChMdQYmIiIiiziBBhetRuCqnJEHf3d3dr9kbQYwlv1hmhRdBDnTaQB86DkEAAAAAyz0aQQ==",
          "dtype": "f8"
         },
         "yaxis": "y"
        },
        {
         "hovertemplate": "species=CDZ<br>TIME_PERIOD=%{x}<br>OBS_VALUE=%{y}<extra></extra>",
         "legendgroup": "CDZ",
         "marker": {
          "color": "#00cc96",
          "symbol": "circle"
         },
         "mode": "markers",
         "name": "CDZ",
         "showlegend": true,
         "type": "scattergl",
         "x": {
          "bdata": "zAfQB9EH0gfTBw==",
          "dtype": "i2"
         },
         "xaxis": "x",
         "y": {
          "bdata": "q6qqqqqgwUBkqmBUUiaAQJVDi2z3Fs5A2anMp6F1d0ByQDiMpr0FQQ==",
          "dtype": "f8"
         },
         "yaxis": "y"
        },
        {
         "hovertemplate": "species=CEO<br>TIME_PERIOD=%{x}<br>OBS_VALUE=%{y}<extra></extra>",
         "legendgroup": "CEO",
         "marker": {
          "color": "#ab63fa",
          "symbol": "circle"
         },
         "mode": "markers",
         "name": "CEO",
         "showlegend": true,
         "type": "scattergl",
         "x": {
          "bdata": "4gfjB+QH5QfmB+cH",
          "dtype": "i2"
         },
         "xaxis": "x",
         "y": {
          "bdata": "q6qqqq8lJUH3KFyP2wQkQTptoNMY7BNB5RdLfnFVGkHe3d3dDecNQe/u7u4mKAJB",
          "dtype": "f8"
         },
         "yaxis": "y"
        },
        {
         "hovertemplate": "species=CEP<br>TIME_PERIOD=%{x}<br>OBS_VALUE=%{y}<extra></extra>",
         "legendgroup": "CEP",
         "marker": {
          "color": "#FFA15A",
          "symbol": "circle"
         },
         "mode": "markers",
         "name": "CEP",
         "showlegend": true,
         "type": "scattergl",
         "x": {
          "bdata": "2wc=",
          "dtype": "i2"
         },
         "xaxis": "x",
         "y": {
          "bdata": "d3d3d84rPUE=",
          "dtype": "f8"
         },
         "yaxis": "y"
        },
        {
         "hovertemplate": "species=CET<br>TIME_PERIOD=%{x}<br>OBS_VALUE=%{y}<extra></extra>",
         "legendgroup": "CET",
         "marker": {
          "color": "#19d3f3",
          "symbol": "circle"
         },
         "mode": "markers",
         "name": "CET",
         "showlegend": true,
         "type": "scattergl",
         "x": {
          "bdata": "4AfiB+MH5QfnBw==",
          "dtype": "i2"
         },
         "xaxis": "x",
         "y": {
          "bdata": "ERERETGa1EAhUXsk8PrAQPo3QhmVUc9AbqDTBops8EAlv1jy9zj3QA==",
          "dtype": "f8"
         },
         "yaxis": "y"
        },
        {
         "hovertemplate": "species=CGZ<br>TIME_PERIOD=%{x}<br>OBS_VALUE=%{y}<extra></extra>",
         "legendgroup": "CGZ",
         "marker": {
          "color": "#FF6692",
          "symbol": "circle"
         },
         "mode": "markers",
         "name": "CGZ",
         "showlegend": true,
         "type": "scattergl",
         "x": {
          "bdata": "1QfWBw==",
          "dtype": "i2"
         },
         "xaxis": "x",
         "y": {
          "bdata": "b6YvcYYzJEH6xZJfrIslQQ==",
          "dtype": "f8"
         },
         "yaxis": "y"
        },
        {
         "hovertemplate": "species=CIL<br>TIME_PERIOD=%{x}<br>OBS_VALUE=%{y}<extra></extra>",
         "legendgroup": "CIL",
         "marker": {
          "color": "#B6E880",
          "symbol": "circle"
         },
         "mode": "markers",
         "name": "CIL",
         "showlegend": true,
         "type": "scattergl",
         "x": {
          "bdata": "3wfgB+EH4gfjB+QH5QfmB+cH",
          "dtype": "i2"
         },
         "xaxis": "x",
         "y": {
          "bdata": "Z2ZmZl7LCEGGucoAGP0EQehILv/XkupAIatbPdYh80A+ZLe8ekv0QJfiqrIt5+ZA8Kr0AH038UDatD89m6LlQAAAAADgJO1A",
          "dtype": "f8"
         },
         "yaxis": "y"
        },
        {
         "hovertemplate": "species=CLQ<br>TIME_PERIOD=%{x}<br>OBS_VALUE=%{y}<extra></extra>",
         "legendgroup": "CLQ",
         "marker": {
          "color": "#FF97FF",
          "symbol": "circle"
         },
         "mode": "markers",
         "name": "CLQ",
         "showlegend": true,
         "type": "scattergl",
         "x": {
          "bdata": "5Qc=",
          "dtype": "i2"
         },
         "xaxis": "x",
         "y": {
          "bdata": "EREREREwoUA=",
          "dtype": "f8"
         },
         "yaxis": "y"
        },
        {
         "hovertemplate": "species=CLV<br>TIME_PERIOD=%{x}<br>OBS_VALUE=%{y}<extra></extra>",
         "legendgroup": "CLV",
         "marker": {
          "color": "#FECB52",
          "symbol": "circle"
         },
         "mode": "markers",
         "name": "CLV",
         "showlegend": true,
         "type": "scattergl",
         "x": {
          "bdata": "3wfgB+EH4gfjB+YH5wc=",
          "dtype": "i2"
         },
         "xaxis": "x",
         "y": {
          "bdata": "7u7u7q76yUBfLPnFonrxQKRwPQoPAvpA+cWSX3iSEUE40GkDpeXnQEVEREREEIhAu7u7u9tZ5kA=",
          "dtype": "f8"
         },
         "yaxis": "y"
        },
        {
         "hovertemplate": "species=CMK<br>TIME_PERIOD=%{x}<br>OBS_VALUE=%{y}<extra></extra>",
         "legendgroup": "CMK",
         "marker": {
          "color": "#636efa",
          "symbol": "circle"
         },
         "mode": "markers",
         "name": "CMK",
         "showlegend": true,
         "type": "scattergl",
         "x": {
          "bdata": "4gfjBw==",
          "dtype": "i2"
         },
         "xaxis": "x",
         "y": {
          "bdata": "ERERERF5nEBnZmZmZriiQA==",
          "dtype": "f8"
         },
         "yaxis": "y"
        },
        {
         "hovertemplate": "species=CNZ<br>TIME_PERIOD=%{x}<br>OBS_VALUE=%{y}<extra></extra>",
         "legendgroup": "CNZ",
         "marker": {
          "color": "#EF553B",
          "symbol": "circle"
         },
         "mode": "markers",
         "name": "CNZ",
         "showlegend": true,
         "type": "scattergl",
         "x": {
          "bdata": "zAfNB84HzwfQB9EH0gfTB9QH1QfWB9cH2AfZB9oH",
          "dtype": "i2"
         },
         "xaxis": "x",
         "y": {
          "bdata": "OY7jONYJC0HkOI7j5A4YQauqqqoQjCpBq6qqqq00MEGU0dsSu6AkQeQUHRnxbzJBsHJoke07e0C9wRfGMxU6QRSG7u/nSDhBm+s0shTWNUHCCsqXEnAxQYFOG2gslEtBL5b84trrO0GnDXSaDFFHQby7u7sFSUJB",
          "dtype": "f8"
         },
         "yaxis": "y"
        },
        {
         "hovertemplate": "species=COB<br>TIME_PERIOD=%{x}<br>OBS_VALUE=%{y}<extra></extra>",
         "legendgroup": "COB",
         "marker": {
          "color": "#00cc96",
          "symbol": "circle"
         },
         "mode": "markers",
         "name": "COB",
         "showlegend": true,
         "type": "scattergl",
         "x": {
          "bdata": "3wfgB+EH4gfjB+QH5QfmB+cH",
          "dtype": "i2"
         },
         "xaxis": "x",
         "y": {
          "bdata": "EREREXBEH0EX2c53qw4RQfyMC4ebGQ5BXynLUJNXEUEzMzMzZ0kSQSv2l90KVApBKS8f9tfUEUG7u7u7VUIoQUVERESS7hpB",
          "dtype": "f8"
         },
         "yaxis": "y"
        },
        {
         "hovertemplate": "species=COE<br>TIME_PERIOD=%{x}<br>OBS_VALUE=%{y}<extra></extra>",
         "legendgroup": "COE",
         "marker": {
          "color": "#ab63fa",
          "symbol": "circle"
         },
         "mode": "markers",
         "name": "COE",
         "showlegend": true,
         "type": "scattergl",
         "x": {
          "bdata": "1wfYB9kH2gfbB9wH3QfeB98H4AfhB+IH4wfkB+UH5gfnBw==",
          "dtype": "i2"
         },
         "xaxis": "x",
         "y": {
          "bdata": "16NwPdbPJUEDnTZQ2qghQZw20GlaCSZB+cWS362JJ0FfLPnFWjIsQXsUrke7iSFBBJ020CnFDEF4d3d3W6YWQWZmZmaUABZBZ2ZmZghaFkFVVVVVLcAKQVnyiyU1AApBd3d3d4/wBkFEREREdloQQc3MzMw41A9BRERERKJTEEGZmZmZad0SQQ==",
          "dtype": "f8"
         },
         "yaxis": "y"
        },
        {
         "hovertemplate": "species=COU<br>TIME_PERIOD=%{x}<br>OBS_VALUE=%{y}<extra></extra>",
         "legendgroup": "COU",
         "marker": {
          "color": "#FFA15A",
          "symbol": "circle"
         },
         "mode": "markers",
         "name": "COU",
         "showlegend": true,
         "type": "scattergl",
         "x": {
          "bdata": "4gfjBw==",
          "dtype": "i2"
         },
         "xaxis": "x",
         "y": {
          "bdata": "dNpAp41cskBnZmZmZiKxQA==",
          "dtype": "f8"
         },
         "yaxis": "y"
        },
        {
         "hovertemplate": "species=COZ<br>TIME_PERIOD=%{x}<br>OBS_VALUE=%{y}<extra></extra>",
         "legendgroup": "COZ",
         "marker": {
          "color": "#19d3f3",
          "symbol": "circle"
         },
         "mode": "markers",
         "name": "COZ",
         "showlegend": true,
         "type": "scattergl",
         "x": {
          "bdata": "1wfYB9kH2gfbB9wH3QfeB98H4AfiB+MH5AflB+YH5wc=",
          "dtype": "i2"
         },
         "xaxis": "x",
         "y": {
          "bdata": "1AY6bUAP3EC1gU4biKHnQC35xZKH3ORA7+7u7u7fvEBVVVVV1XPFQCIiIiLCIMtAN9BpAx2pp0AiIiIiIhaLQKuqqqqdBSJB4XoUrvPPFkGcNtBpg8euQML1KFyPlcBA7+7u7q6jw0Cy5BdL/kXDQEVERETEvtpAhetRuJ7HwEA=",
          "dtype": "f8"
         },
         "yaxis": "y"
        },
        {
         "hovertemplate": "species=CPW<br>TIME_PERIOD=%{x}<br>OBS_VALUE=%{y}<extra></extra>",
         "legendgroup": "CPW",
         "marker": {
          "color": "#FF6692",
          "symbol": "circle"
         },
         "mode": "markers",
         "name": "CPW",
         "showlegend": true,
         "type": "scattergl",
         "x": {
          "bdata": "4gfjBw==",
          "dtype": "i2"
         },
         "xaxis": "x",
         "y": {
          "bdata": "baDTBjoBmUD00DG8OG9aQA==",
          "dtype": "f8"
         },
         "yaxis": "y"
        },
        {
         "hovertemplate": "species=CRA<br>TIME_PERIOD=%{x}<br>OBS_VALUE=%{y}<extra></extra>",
         "legendgroup": "CRA",
         "marker": {
          "color": "#B6E880",
          "symbol": "circle"
         },
         "mode": "markers",
         "name": "CRA",
         "showlegend": true,
         "type": "scattergl",
         "x": {
          "bdata": "1wfYB9kH2gfbB9wH3QfeB98H4AfhB+IH4wfkB+UH5gfnBw==",
          "dtype": "i2"
         },
         "xaxis": "x",
         "y": {
          "bdata": "IiIiIl3fFUHNzMzMQOYTQc3MzMzAjQ5BZ2ZmZl3vEUE6baDTWFYTQYiIiIjQfghBc9pApxPhBUH8YskvqjgEQauqqqpD9xFBIiIiIq4ADUHvlA7WDWP3QETlTADLERJBmpmZmcpDGkFVVVVVxdYMQcaSXyxrthNBiIiIiAb/GkEAAAAABGQJQQ==",
          "dtype": "f8"
         },
         "yaxis": "y"
        },
        {
         "hovertemplate": "species=CRB<br>TIME_PERIOD=%{x}<br>OBS_VALUE=%{y}<extra></extra>",
         "legendgroup": "CRB",
         "marker": {
          "color": "#FF97FF",
          "symbol": "circle"
         },
         "mode": "markers",
         "name": "CRB",
         "showlegend": true,
         "type": "scattergl",
         "x": {
          "bdata": "5gfnBw==",
          "dtype": "i2"
         },
         "xaxis": "x",
         "y": {
          "bdata": "MzMzM//jAkGCThvoCLYZQQ==",
          "dtype": "f8"
         },
         "yaxis": "y"
        },
        {
         "hovertemplate": "species=CRS<br>TIME_PERIOD=%{x}<br>OBS_VALUE=%{y}<extra></extra>",
         "legendgroup": "CRS",
         "marker": {
          "color": "#FECB52",
          "symbol": "circle"
         },
         "mode": "markers",
         "name": "CRS",
         "showlegend": true,
         "type": "scattergl",
         "x": {
          "bdata": "0AfTB9UH1gc=",
          "dtype": "i2"
         },
         "xaxis": "x",
         "y": {
          "bdata": "ikSOmtSKx0AAAAAAAMGyQF+9d0E91QZBBjptoMkpC0E=",
          "dtype": "f8"
         },
         "yaxis": "y"
        },
        {
         "hovertemplate": "species=CRU<br>TIME_PERIOD=%{x}<br>OBS_VALUE=%{y}<extra></extra>",
         "legendgroup": "CRU",
         "marker": {
          "color": "#636efa",
          "symbol": "circle"
         },
         "mode": "markers",
         "name": "CRU",
         "showlegend": true,
         "type": "scattergl",
         "x": {
          "bdata": "yAfJB8oHywfMB80HzgfPB9AH0QfSB9MH1AfVB9YH1wfYB9kH2gfbB9wH3QfeB98H4AfhB+IH4wfkB+UH5gfnBw==",
          "dtype": "i2"
         },
         "xaxis": "x",
         "y": {
          "bdata": "q6qqyssqikFVVVUV7rZ8QVVVVRVgpn5BVVVVRSnBckHkOI4DIopzQcdxHBedXHZBOY7jeBOSbkHkOI7zcWBwQeWr95MfeHZBidojGRQNdUFCnd8dhqbIQOCEQhH37nNBu4YGELvxcEFlO9/viAdKQe6HsmLXgktBZGo40gXFLEEb6LQBrk01QR1/j/f9OTFBlVgsOOUpL0GhOkOm8T9AQT4K16MwLTNB1AY67XY8MUGrqqqqLqs1QVVVVVWjnyFBXyz5RXEXIUEuRkqwPqc3QY/C9SgIHhhBERERERvrG0GV/GLJG3EOQWLJL5YaPBVBq6qqql7BAEGJiIiIUGLiQA==",
          "dtype": "f8"
         },
         "yaxis": "y"
        },
        {
         "hovertemplate": "species=CSH<br>TIME_PERIOD=%{x}<br>OBS_VALUE=%{y}<extra></extra>",
         "legendgroup": "CSH",
         "marker": {
          "color": "#EF553B",
          "symbol": "circle"
         },
         "mode": "markers",
         "name": "CSH",
         "showlegend": true,
         "type": "scattergl",
         "x": {
          "bdata": "1wfYB9kH2gfbB9wH3QfeB98H4AfhB+IH4wfkB+UH5gfnBw==",
          "dtype": "i2"
         },
         "xaxis": "x",
         "y": {
          "bdata": "pHA9Cq85+ECZmZmZYVf+QKRwPQrLlQhBDnTaQA9XDUHYo3A976MYQSa/WPIi0RBB/GLJL9bT+UCy5BdLrk3jQAc6baCreOJAd3d3dzfq6UACiRmdvMb4QPnFkl+sU8hA3t3d3Z2e0UBVVVVVtanZQJ420GkD/dpAIiIiIiLewkDNzMzMjF3JQA==",
          "dtype": "f8"
         },
         "yaxis": "y"
        },
        {
         "hovertemplate": "species=CTB<br>TIME_PERIOD=%{x}<br>OBS_VALUE=%{y}<extra></extra>",
         "legendgroup": "CTB",
         "marker": {
          "color": "#00cc96",
          "symbol": "circle"
         },
         "mode": "markers",
         "name": "CTB",
         "showlegend": true,
         "type": "scattergl",
         "x": {
          "bdata": "3wfgB+EH4gfjB+QH",
          "dtype": "i2"
         },
         "xaxis": "x",
         "y": {
          "bdata": "ThvotIS5J0Es+cUSkMcmQUt+seSCHhtB5RdL/q8dIUFBpw10PEYbQXPaQKeNkspA",
          "dtype": "f8"
         },
         "yaxis": "y"
        },
        {
         "hovertemplate": "species=CTC<br>TIME_PERIOD=%{x}<br>OBS_VALUE=%{y}<extra></extra>",
         "legendgroup": "CTC",
         "marker": {
          "color": "#ab63fa",
          "symbol": "circle"
         },
         "mode": "markers",
         "name": "CTC",
         "showlegend": true,
         "type": "scattergl",
         "x": {
          "bdata": "3wfgB+EH4gfjB+QH5QfmB+cH",
          "dtype": "i2"
         },
         "xaxis": "x",
         "y": {
          "bdata": "gk4bDCX7cEGxfdvOJAFlQctKk6DcLGdBtzMms43haEFfoJEBs6ViQfPNNvfuBVlB0rSeuK29X0HfroTHzOFeQcWSX2zKf2dB",
          "dtype": "f8"
         },
         "yaxis": "y"
        },
        {
         "hovertemplate": "species=CTL<br>TIME_PERIOD=%{x}<br>OBS_VALUE=%{y}<extra></extra>",
         "legendgroup": "CTL",
         "marker": {
          "color": "#FFA15A",
          "symbol": "circle"
         },
         "mode": "markers",
         "name": "CTL",
         "showlegend": true,
         "type": "scattergl",
         "x": {
          "bdata": "yAfJB8oHywfMB80HzgfPB9AH0QfSB9MH1AfVB9YH1wfYB9kH2gfbB9wH3QfeB98H4AfhB+IH4wfkB+UH5gfnBw==",
          "dtype": "i2"
         },
         "xaxis": "x",
         "y": {
          "bdata": "q6qqytf3bUEAAABAVP1lQauqquo1+mpBq6qqqqE1YEGO4ziOUftcQRzHcdwJMGBB5DiOo9BhX0FyHMdxC9VZQYQNT8tA1lNBBFH3AYGAW0GuTyZbCritQEOJ+A92alJBsiESCJ2+VUFkesLIwwxsQWyyRmRLinBBMFwwrlFBcEHmfJ7U9k5qQTKHt9UHSm1BSufWanlgaUGPwvVo4f1xQeYXS578SGxBeHd3V9IwbEF3d3dHbLltQY/C9ahBMyNB1/ULdkx8DUGi9S/iOT/6QH/Js7juDxBBpkHkh173DEHDnnb4X6D1QGAs+cUWmBZB/AjpFhgPEUGrqqqq3zUQQQ==",
          "dtype": "f8"
         },
         "yaxis": "y"
        },
        {
         "hovertemplate": "species=CTR<br>TIME_PERIOD=%{x}<br>OBS_VALUE=%{y}<extra></extra>",
         "legendgroup": "CTR",
         "marker": {
          "color": "#19d3f3",
          "symbol": "circle"
         },
         "mode": "markers",
         "name": "CTR",
         "showlegend": true,
         "type": "scattergl",
         "x": {
          "bdata": "5QfnBw==",
          "dtype": "i2"
         },
         "xaxis": "x",
         "y": {
          "bdata": "+cWSX9ycBEGX/GLJR576QA==",
          "dtype": "f8"
         },
         "yaxis": "y"
        },
        {
         "hovertemplate": "species=CTZ<br>TIME_PERIOD=%{x}<br>OBS_VALUE=%{y}<extra></extra>",
         "legendgroup": "CTZ",
         "marker": {
          "color": "#FF6692",
          "symbol": "circle"
         },
         "mode": "markers",
         "name": "CTZ",
         "showlegend": true,
         "type": "scattergl",
         "x": {
          "bdata": "3wfgB+EH4gfjB+QH5QfmB+cH",
          "dtype": "i2"
         },
         "xaxis": "x",
         "y": {
          "bdata": "q6qqqmpp70BxPQrXg1ryQIiIiIioC+pAzczMzIqiAEEEnTbQiWX9QPnFkl9IYgBBIiIiIlrp9EARERER+Wn4QG2g0wY6XLRA",
          "dtype": "f8"
         },
         "yaxis": "y"
        },
        {
         "hovertemplate": "species=CVW<br>TIME_PERIOD=%{x}<br>OBS_VALUE=%{y}<extra></extra>",
         "legendgroup": "CVW",
         "marker": {
          "color": "#B6E880",
          "symbol": "circle"
         },
         "mode": "markers",
         "name": "CVW",
         "showlegend": true,
         "type": "scattergl",
         "x": {
          "bdata": "3wfgB+EH4gfjB+QH5QfmB+cH",
          "dtype": "i2"
         },
         "xaxis": "x",
         "y": {
          "bdata": "iIiIiBZVFkGamZmZgcMYQfUoXI8/KCVBnDbQ6T6mJkHv7u7u5KgnQbu7u7vdTRlBtIFOG5F9HUGrqqqqokAbQauqqqreeBZB",
          "dtype": "f8"
         },
         "yaxis": "y"
        },
        {
         "hovertemplate": "species=CWO<br>TIME_PERIOD=%{x}<br>OBS_VALUE=%{y}<extra></extra>",
         "legendgroup": "CWO",
         "marker": {
          "color": "#FF97FF",
          "symbol": "circle"
         },
         "mode": "markers",
         "name": "CWO",
         "showlegend": true,
         "type": "scattergl",
         "x": {
          "bdata": "5AflB+YH5wc=",
          "dtype": "i2"
         },
         "xaxis": "x",
         "y": {
          "bdata": "gU4b6LSNnEB2gynyWTdAQDMzMzMzy31AL85Dx/BCXUA=",
          "dtype": "f8"
         },
         "yaxis": "y"
        },
        {
         "hovertemplate": "species=DAB<br>TIME_PERIOD=%{x}<br>OBS_VALUE=%{y}<extra></extra>",
         "legendgroup": "DAB",
         "marker": {
          "color": "#FECB52",
          "symbol": "circle"
         },
         "mode": "markers",
         "name": "DAB",
         "showlegend": true,
         "type": "scattergl",
         "x": {
          "bdata": "ywfMB80HzgfPB9AH0wc=",
          "dtype": "i2"
         },
         "xaxis": "x",
         "y": {
          "bdata": "q6qqqioL2kBVVVVVVVGaQKuqqqq6n/xAq6qqqkpE/UAAAAAAADrTQCum5Ropu8xAzFodE3wxsEA=",
          "dtype": "f8"
         },
         "yaxis": "y"
        },
        {
         "hovertemplate": "species=DEC<br>TIME_PERIOD=%{x}<br>OBS_VALUE=%{y}<extra></extra>",
         "legendgroup": "DEC",
         "marker": {
          "color": "#636efa",
          "symbol": "circle"
         },
         "mode": "markers",
         "name": "DEC",
         "showlegend": true,
         "type": "scattergl",
         "x": {
          "bdata": "1wfYB9kH2gfbB9wH3QfeB98H4AfhB+IH4wfkB+UH5gfnBw==",
          "dtype": "i2"
         },
         "xaxis": "x",
         "y": {
          "bdata": "RURERNKfOUFVVVXVsjQxQbgehWtobDFBgk4baPLXMUHAWPILQpguQX+x5Bfehi1B3t3dndFAM0EAAACA9nIvQZf8YsmEHDBBhU9gp/2sI0Fc7rn5KE0WQcQYa5L25tRAzQGCOepvzEAmreW7mF3/QOIR7xMV2x1BeHd3d+oNI0EVrkdhiLYlQQ==",
          "dtype": "f8"
         },
         "yaxis": "y"
        },
        {
         "hovertemplate": "species=DEL<br>TIME_PERIOD=%{x}<br>OBS_VALUE=%{y}<extra></extra>",
         "legendgroup": "DEL",
         "marker": {
          "color": "#EF553B",
          "symbol": "circle"
         },
         "mode": "markers",
         "name": "DEL",
         "showlegend": true,
         "type": "scattergl",
         "x": {
          "bdata": "4gfjB+QH5QfmB+cH",
          "dtype": "i2"
         },
         "xaxis": "x",
         "y": {
          "bdata": "bHh6pSxlrUBlpRz1S4OjQLy7u7u7YLBAThvotFH42kDNzMzMDMvYQD4K16Pwc9xA",
          "dtype": "f8"
         },
         "yaxis": "y"
        },
        {
         "hovertemplate": "species=DEP<br>TIME_PERIOD=%{x}<br>OBS_VALUE=%{y}<extra></extra>",
         "legendgroup": "DEP",
         "marker": {
          "color": "#00cc96",
          "symbol": "circle"
         },
         "mode": "markers",
         "name": "DEP",
         "showlegend": true,
         "type": "scattergl",
         "x": {
          "bdata": "4gfjB+QH5QfmB+cH",
          "dtype": "i2"
         },
         "xaxis": "x",
         "y": {
          "bdata": "u7u7u2sb10AREREREbLUQIiIiIgIp8FAv1jyiyVvwEAiIiIiIg7AQJ420GmjDcdA",
          "dtype": "f8"
         },
         "yaxis": "y"
        },
        {
         "hovertemplate": "species=DEQ<br>TIME_PERIOD=%{x}<br>OBS_VALUE=%{y}<extra></extra>",
         "legendgroup": "DEQ",
         "marker": {
          "color": "#ab63fa",
          "symbol": "circle"
         },
         "mode": "markers",
         "name": "DEQ",
         "showlegend": true,
         "type": "scattergl",
         "x": {
          "bdata": "4gfjBw==",
          "dtype": "i2"
         },
         "xaxis": "x",
         "y": {
          "bdata": "WfKLJb/UmEBcj8L1KL2aQA==",
          "dtype": "f8"
         },
         "yaxis": "y"
        },
        {
         "hovertemplate": "species=DEX<br>TIME_PERIOD=%{x}<br>OBS_VALUE=%{y}<extra></extra>",
         "legendgroup": "DEX",
         "marker": {
          "color": "#FFA15A",
          "symbol": "circle"
         },
         "mode": "markers",
         "name": "DEX",
         "showlegend": true,
         "type": "scattergl",
         "x": {
          "bdata": "4wfkB+UH5gfnBw==",
          "dtype": "i2"
         },
         "xaxis": "x",
         "y": {
          "bdata": "84slv1j9pEAhIiIiEpXcQIJOG+j0JdhAmpmZmTmD00CkcD0KFy/FQA==",
          "dtype": "f8"
         },
         "yaxis": "y"
        },
        {
         "hovertemplate": "species=DGS<br>TIME_PERIOD=%{x}<br>OBS_VALUE=%{y}<extra></extra>",
         "legendgroup": "DGS",
         "marker": {
          "color": "#19d3f3",
          "symbol": "circle"
         },
         "mode": "markers",
         "name": "DGS",
         "showlegend": true,
         "type": "scattergl",
         "x": {
          "bdata": "4QfiB+MH5AflB+YH5wc=",
          "dtype": "i2"
         },
         "xaxis": "x",
         "y": {
          "bdata": "k18s+eVy5EBI4XoUniUBQWLJL5aMi/9Al/xiyddm6EARERER8UbzQFVVVVVlvelAGEt+sUw45UA=",
          "dtype": "f8"
         },
         "yaxis": "y"
        },
        {
         "hovertemplate": "species=DGZ<br>TIME_PERIOD=%{x}<br>OBS_VALUE=%{y}<extra></extra>",
         "legendgroup": "DGZ",
         "marker": {
          "color": "#FF6692",
          "symbol": "circle"
         },
         "mode": "markers",
         "name": "DGZ",
         "showlegend": true,
         "type": "scattergl",
         "x": {
          "bdata": "1QfWB9cH2AfZB9oH2wfcB90H3gffB+AH",
          "dtype": "i2"
         },
         "xaxis": "x",
         "y": {
          "bdata": "F0t+sUSXD0GnDXTa1NERQYmIiIg+PwFBAAAAAKik/kC4HoXr0W/4QCIiIiJi7/BA20CnDbRE6UAAAAAAoL7nQCIiIiKSPu5A7+7u7s6JAEGrqqqqSln0QHh3d3cHFfFA",
          "dtype": "f8"
         },
         "yaxis": "y"
        },
        {
         "hovertemplate": "species=DHZ<br>TIME_PERIOD=%{x}<br>OBS_VALUE=%{y}<extra></extra>",
         "legendgroup": "DHZ",
         "marker": {
          "color": "#B6E880",
          "symbol": "circle"
         },
         "mode": "markers",
         "name": "DHZ",
         "showlegend": true,
         "type": "scattergl",
         "x": {
          "bdata": "5QfnBw==",
          "dtype": "i2"
         },
         "xaxis": "x",
         "y": {
          "bdata": "nDbQaeMfzUBfLPnFEsDKQA==",
          "dtype": "f8"
         },
         "yaxis": "y"
        },
        {
         "hovertemplate": "species=DJB<br>TIME_PERIOD=%{x}<br>OBS_VALUE=%{y}<extra></extra>",
         "legendgroup": "DJB",
         "marker": {
          "color": "#FF97FF",
          "symbol": "circle"
         },
         "mode": "markers",
         "name": "DJB",
         "showlegend": true,
         "type": "scattergl",
         "x": {
          "bdata": "5AflB+YH5wc=",
          "dtype": "i2"
         },
         "xaxis": "x",
         "y": {
          "bdata": "MzMzMzP6t0CnDXTaQJjIQKuqqqrq3MpAAAAAAIAUwEA=",
          "dtype": "f8"
         },
         "yaxis": "y"
        },
        {
         "hovertemplate": "species=DOL<br>TIME_PERIOD=%{x}<br>OBS_VALUE=%{y}<extra></extra>",
         "legendgroup": "DOL",
         "marker": {
          "color": "#FECB52",
          "symbol": "circle"
         },
         "mode": "markers",
         "name": "DOL",
         "showlegend": true,
         "type": "scattergl",
         "x": {
          "bdata": "1wfYB9kH2gfbB9wH3QfeB98H4AfhB+IH4wfkB+UH5gfnBw==",
          "dtype": "i2"
         },
         "xaxis": "x",
         "y": {
          "bdata": "DnTagI77RUE6baBTIRFFQdtAp839SUJBPgrXo0YEQEE+CtejRqJAQREREZFKyTlB1AY6bcirLUGIiIiIoG0mQQAAAIBqTzVBWfKLJTEiOUFmZmbmBgkmQVVVVVUeASRBZmZmZqGNJkEcuJ/8abgdQfBer1+jwRpBEFULn+U0KEH3Bl/4DeokQQ==",
          "dtype": "f8"
         },
         "yaxis": "y"
        },
        {
         "hovertemplate": "species=DON<br>TIME_PERIOD=%{x}<br>OBS_VALUE=%{y}<extra></extra>",
         "legendgroup": "DON",
         "marker": {
          "color": "#636efa",
          "symbol": "circle"
         },
         "mode": "markers",
         "name": "DON",
         "showlegend": true,
         "type": "scattergl",
         "x": {
          "bdata": "1wfYB9kH2gfbB9wH3QfeB98H4AfhB+IH4wfkB+UH5gfnBw==",
          "dtype": "i2"
         },
         "xaxis": "x",
         "y": {
          "bdata": "6LSBTrWKJUGIiIiIhEwbQSIiIiKDVyBBVVVVVYWUDkF/seQXWZkbQZX8Ysm4bhZBKVyPwh2TLUFVVVVV/ysqQVVVVVV6LypBzczMzB6OMUHe3d3dqOc0QbWBTpsIgTJBGEt+sXRZKUHe3d3dPyopQRWuR+GmNyhB7+7u7lnMKEFtoNMGwkEaQQ==",
          "dtype": "f8"
         },
         "yaxis": "y"
        },
        {
         "hovertemplate": "species=DPS<br>TIME_PERIOD=%{x}<br>OBS_VALUE=%{y}<extra></extra>",
         "legendgroup": "DPS",
         "marker": {
          "color": "#EF553B",
          "symbol": "circle"
         },
         "mode": "markers",
         "name": "DPS",
         "showlegend": true,
         "type": "scattergl",
         "x": {
          "bdata": "1QfWB9cH2AfZB9oH2wfcB90H3gffB+AH4QfiB+MH5AflB+YH5wc=",
          "dtype": "i2"
         },
         "xaxis": "x",
         "y": {
          "bdata": "HMMJOHXvgUEAAADYNsuDQdzKJXS3SG9B6BiQATl5aEGmDXTEPqxqQT+uDSd3B25Bm5/1iT4IbEFNiSSgST1lQdG+zEYpvGRBckh9CrqDYkERoo+KLQZmQajHBXVOymFBERERycAlckFgLPlVGQdyQdtAp+1omHNBzczMRECLbEEOdNpgPcxmQdgifCLZ21tBLfnFcqB2ZEE=",
          "dtype": "f8"
         },
         "yaxis": "y"
        },
        {
         "hovertemplate": "species=DYL<br>TIME_PERIOD=%{x}<br>OBS_VALUE=%{y}<extra></extra>",
         "legendgroup": "DYL",
         "marker": {
          "color": "#00cc96",
          "symbol": "circle"
         },
         "mode": "markers",
         "name": "DYL",
         "showlegend": true,
         "type": "scattergl",
         "x": {
          "bdata": "4wc=",
          "dtype": "i2"
         },
         "xaxis": "x",
         "y": {
          "bdata": "KFyPwvVDlUA=",
          "dtype": "f8"
         },
         "yaxis": "y"
        },
        {
         "hovertemplate": "species=EDT<br>TIME_PERIOD=%{x}<br>OBS_VALUE=%{y}<extra></extra>",
         "legendgroup": "EDT",
         "marker": {
          "color": "#ab63fa",
          "symbol": "circle"
         },
         "mode": "markers",
         "name": "EDT",
         "showlegend": true,
         "type": "scattergl",
         "x": {
          "bdata": "3wfgB+EH4gfjB+QH5QfmB+cH",
          "dtype": "i2"
         },
         "xaxis": "x",
         "y": {
          "bdata": "BzptYGseVUFxPQq3J35UQauqqmpCIlRB/WLJ72dVUEFZ8ovluuZKQbSBTpsgETxBsuQXiw/qQEERERERfzk6QUGnDfTqeUBB",
          "dtype": "f8"
         },
         "yaxis": "y"
        },
        {
         "hovertemplate": "species=EFJ<br>TIME_PERIOD=%{x}<br>OBS_VALUE=%{y}<extra></extra>",
         "legendgroup": "EFJ",
         "marker": {
          "color": "#FFA15A",
          "symbol": "circle"
         },
         "mode": "markers",
         "name": "EFJ",
         "showlegend": true,
         "type": "scattergl",
         "x": {
          "bdata": "4gfjB+QH5QfmB+cH",
          "dtype": "i2"
         },
         "xaxis": "x",
         "y": {
          "bdata": "EREREbEqwkBfLPnF0mTKQCz5xZKfS8ZAPgrXo3BytUCrqqqqKs64QGkDnTYQl8hA",
          "dtype": "f8"
         },
         "yaxis": "y"
        },
        {
         "hovertemplate": "species=EGC<br>TIME_PERIOD=%{x}<br>OBS_VALUE=%{y}<extra></extra>",
         "legendgroup": "EGC",
         "marker": {
          "color": "#19d3f3",
          "symbol": "circle"
         },
         "mode": "markers",
         "name": "EGC",
         "showlegend": true,
         "type": "scattergl",
         "x": {
          "bdata": "4gfjBw==",
          "dtype": "i2"
         },
         "xaxis": "x",
         "y": {
          "bdata": "6LSBTpsb0UAOdNpAZyPYQA==",
          "dtype": "f8"
         },
         "yaxis": "y"
        },
        {
         "hovertemplate": "species=EGD<br>TIME_PERIOD=%{x}<br>OBS_VALUE=%{y}<extra></extra>",
         "legendgroup": "EGD",
         "marker": {
          "color": "#FF6692",
          "symbol": "circle"
         },
         "mode": "markers",
         "name": "EGD",
         "showlegend": true,
         "type": "scattergl",
         "x": {
          "bdata": "4gfjBw==",
          "dtype": "i2"
         },
         "xaxis": "x",
         "y": {
          "bdata": "v1jyi9U/0kBcj8L16O/JQA==",
          "dtype": "f8"
         },
         "yaxis": "y"
        },
        {
         "hovertemplate": "species=EHI<br>TIME_PERIOD=%{x}<br>OBS_VALUE=%{y}<extra></extra>",
         "legendgroup": "EHI",
         "marker": {
          "color": "#B6E880",
          "symbol": "circle"
         },
         "mode": "markers",
         "name": "EHI",
         "showlegend": true,
         "type": "scattergl",
         "x": {
          "bdata": "3wfgB+EH4gfjB+QH5QfmB+cH",
          "dtype": "i2"
         },
         "xaxis": "x",
         "y": {
          "bdata": "KVyPwlWB6ECcNtBp08zkQDQzMzO/Dv5A/GLJL5YssEBrA5020BuqQKcNdNrAVcpAMzMzMxMu4UBVVVVVFQrVQGTJL5aMj9ZA",
          "dtype": "f8"
         },
         "yaxis": "y"
        },
        {
         "hovertemplate": "species=EJB<br>TIME_PERIOD=%{x}<br>OBS_VALUE=%{y}<extra></extra>",
         "legendgroup": "EJB",
         "marker": {
          "color": "#FF97FF",
          "symbol": "circle"
         },
         "mode": "markers",
         "name": "EJB",
         "showlegend": true,
         "type": "scattergl",
         "x": {
          "bdata": "5Qc=",
          "dtype": "i2"
         },
         "xaxis": "x",
         "y": {
          "bdata": "3t3d3Z1T50A=",
          "dtype": "f8"
         },
         "yaxis": "y"
        },
        {
         "hovertemplate": "species=ELE<br>TIME_PERIOD=%{x}<br>OBS_VALUE=%{y}<extra></extra>",
         "legendgroup": "ELE",
         "marker": {
          "color": "#FECB52",
          "symbol": "circle"
         },
         "mode": "markers",
         "name": "ELE",
         "showlegend": true,
         "type": "scattergl",
         "x": {
          "bdata": "1wfYB9kH2gfbB9wH3QfeB98H4AfhB+IH4wfkB+UH5gfnBw==",
          "dtype": "i2"
         },
         "xaxis": "x",
         "y": {
          "bdata": "0WkDnX5LBEHv7u7uDl/zQAAAAADAIfxAtYFOG2QZ+EBOG+i0YUnjQEVERETEtNVAYCz5xfIz6EB3d3d3D0MCQeUXS37ZrQJBq6qqqup0EUHRaQOdgrIVQb9Y8ouvwhlBu7u7u7sVp0CIiIiISMrmQEGnDXTatbRARURERETAnECTXyz5SpEVQQ==",
          "dtype": "f8"
         },
         "yaxis": "y"
        },
        {
         "hovertemplate": "species=EOI<br>TIME_PERIOD=%{x}<br>OBS_VALUE=%{y}<extra></extra>",
         "legendgroup": "EOI",
         "marker": {
          "color": "#636efa",
          "symbol": "circle"
         },
         "mode": "markers",
         "name": "EOI",
         "showlegend": true,
         "type": "scattergl",
         "x": {
          "bdata": "3wfgB+EH4gfjB+QH5QfmB+cH",
          "dtype": "i2"
         },
         "xaxis": "x",
         "y": {
          "bdata": "3t3d3QRVUEGrqqqKuWNQQU4b6PRO+VJBWfKLZXcDWUHGkl9sS9dSQVnyi6Uc3T9BOm2gk16LPkF4d3f3y+s2QfrFkt/DNTxB",
          "dtype": "f8"
         },
         "yaxis": "y"
        },
        {
         "hovertemplate": "species=ETX<br>TIME_PERIOD=%{x}<br>OBS_VALUE=%{y}<extra></extra>",
         "legendgroup": "ETX",
         "marker": {
          "color": "#EF553B",
          "symbol": "circle"
         },
         "mode": "markers",
         "name": "ETX",
         "showlegend": true,
         "type": "scattergl",
         "x": {
          "bdata": "4gflB+YH5wc=",
          "dtype": "i2"
         },
         "xaxis": "x",
         "y": {
          "bdata": "q6qqqqpWkUCNJb9Y8mNqQHh3d3d3DbRA84slv1gnqkA=",
          "dtype": "f8"
         },
         "yaxis": "y"
        },
        {
         "hovertemplate": "species=EZS<br>TIME_PERIOD=%{x}<br>OBS_VALUE=%{y}<extra></extra>",
         "legendgroup": "EZS",
         "marker": {
          "color": "#00cc96",
          "symbol": "circle"
         },
         "mode": "markers",
         "name": "EZS",
         "showlegend": true,
         "type": "scattergl",
         "x": {
          "bdata": "3wfgB+EH4gfjB+QH5QfnBw==",
          "dtype": "i2"
         },
         "xaxis": "x",
         "y": {
          "bdata": "zczMzMBk/0Dv7u7uFpUBQee0gU7bwPpAawOdNlALzUBmZmZmZke2QLLkF0t+IaxAL5b8Ysn1uEB4d3d3d8OfQA==",
          "dtype": "f8"
         },
         "yaxis": "y"
        },
        {
         "hovertemplate": "species=F00<br>TIME_PERIOD=%{x}<br>OBS_VALUE=%{y}<extra></extra>",
         "legendgroup": "F00",
         "marker": {
          "color": "#ab63fa",
          "symbol": "circle"
         },
         "mode": "markers",
         "name": "F00",
         "showlegend": true,
         "type": "scattergl",
         "x": {
          "bdata": "yAfJB8oHywfMB80HzgfPB9AH0QfSB9MH1AfVB9YH1wfYB9kH2gfbB9wH3QfeB98H4AfhB+IH4wfkB+UH5gfnBw==",
          "dtype": "i2"
         },
         "xaxis": "x",
         "y": {
          "bdata": "juM4i7SxsUHHcRwPKWisQauqqv7dIatBq6qqxAJip0GrqirUjo+iQQAAAA4dQqFBjuM4jkubpEE5juP2mBqjQQAAAABQBPtAJUmSJIkjAEGeOBXAc+L5QBgByACOLp5B5LvzW7npoEF5art7rdiwQb34Jf7cGbJBNTo5KvMgq0GOvfNUQv+lQdyqsdOb2qxBROC1Eghbq0HbxClXdlCqQcWsly46D6ZBM7c1laXno0FYEoUViy2gQdBEEM6D/ppBaa14tKECmkGfCQaJij2bQbCT8g2DIJtBbA9AZWwymUHOVGt3bV6SQWcMaL1Ie5VBVWNQTnVilUGnno5+l9KUQQ==",
          "dtype": "f8"
         },
         "yaxis": "y"
        },
        {
         "hovertemplate": "species=F01<br>TIME_PERIOD=%{x}<br>OBS_VALUE=%{y}<extra></extra>",
         "legendgroup": "F01",
         "marker": {
          "color": "#FFA15A",
          "symbol": "circle"
         },
         "mode": "markers",
         "name": "F01",
         "showlegend": true,
         "type": "scattergl",
         "x": {
          "bdata": "yAfJB8oHywfMB80HzgfPB9AH0QfSB9MH1AfVB9YH1wfYB9kH2gfbB9wH3QfeB98H4AfhB+IH4wfkB+UH5gfnBw==",
          "dtype": "i2"
         },
         "xaxis": "x",
         "y": {
          "bdata": "juM4i7SxsUHHcRwPKWisQauqqv7dIatBq6qqxAJip0GrqirUjo+iQQAAAA4dQqFBjuM4jkubpEE5juP2mBqjQQAAAABQBPtAJUmSJIkjAEGeOBXAc+L5QBgByACOLp5B5LvzW7npoEF5art7rdiwQb34Jf7cGbJBNTo5KvMgq0GOvfNUQv+lQdyqsdOb2qxBROC1Eghbq0HbxClXdlCqQcWsly46D6ZBM7c1laXno0FYEoUViy2gQdBEEM6D/ppBaa14tKECmkGfCQaJij2bQbCT8g2DIJtBbA9AZWwymUHOVGt3bV6SQWcMaL1Ie5VBVWNQTnVilUGnno5+l9KUQQ==",
          "dtype": "f8"
         },
         "yaxis": "y"
        },
        {
         "hovertemplate": "species=F02<br>TIME_PERIOD=%{x}<br>OBS_VALUE=%{y}<extra></extra>",
         "legendgroup": "F02",
         "marker": {
          "color": "#19d3f3",
          "symbol": "circle"
         },
         "mode": "markers",
         "name": "F02",
         "showlegend": true,
         "type": "scattergl",
         "x": {
          "bdata": "1wfYB9kH2gfbB9wH3QfeB98H4AfhB+IH4wfkB+UH5gfnBw==",
          "dtype": "i2"
         },
         "xaxis": "x",
         "y": {
          "bdata": "0WkDnX5LBEHv7u7uDl/zQAAAAADAIfxAtYFOG2QZ+EBOG+i0YUnjQEVERETEtNVAYCz5xfIz6EB3d3d3D0MCQeUXS37ZrQJBq6qqqup0EUHRaQOdgrIVQb9Y8ouvwhlBu7u7u7sVp0CIiIiISMrmQEGnDXTatbRARURERETAnECTXyz5SpEVQQ==",
          "dtype": "f8"
         },
         "yaxis": "y"
        },
        {
         "hovertemplate": "species=F04<br>TIME_PERIOD=%{x}<br>OBS_VALUE=%{y}<extra></extra>",
         "legendgroup": "F04",
         "marker": {
          "color": "#FF6692",
          "symbol": "circle"
         },
         "mode": "markers",
         "name": "F04",
         "showlegend": true,
         "type": "scattergl",
         "x": {
          "bdata": "yAfJB8oHywfMB80HzgfPB9IH0wfUB9UH1gfXB9gH2QfaB9sH3AfdB94H3wfgB+EH4gfjB+QH5QfmB+cH",
          "dtype": "i2"
         },
         "xaxis": "x",
         "y": {
          "bdata": "AAAAaEHXmkHkOI6LfhmUQcdxHI/XbJNBx3EcZ2QTkkGrqqriokyPQQAAAC6Qc45Bx3Ec58nQkUGO4ziir5ORQeArHH1uuOxABCLw4ZSOkkFHurs4u0GUQdOCF1GpNp1BLDCkKcPQn0GsVmbzvyedQZDaBPJ6KJhB1DuvJ11QmkFNFYyAjHSZQdSSoXv0AJhBLiHf0d/1kkF4MA/MALeSQXDeUiPwkZFBdSdFSX6/k0E3zy/nA82QQTqREagFy5JBExYzi/aIk0E0WRhRFNWRQbc8WjOCbIpBCPT+v959jUEf8rgBI+OMQZdzKeFRzI9B",
          "dtype": "f8"
         },
         "yaxis": "y"
        },
        {
         "hovertemplate": "species=F07<br>TIME_PERIOD=%{x}<br>OBS_VALUE=%{y}<extra></extra>",
         "legendgroup": "F07",
         "marker": {
          "color": "#B6E880",
          "symbol": "circle"
         },
         "mode": "markers",
         "name": "F07",
         "showlegend": true,
         "type": "scattergl",
         "x": {
          "bdata": "yAfJB8oHywfMB80HzgfPB9IH0wfUB9UH1gfXB9gH2QfaB9sH3AfdB94H3wfgB+EH4gfjB+QH5QfmB+cH",
          "dtype": "i2"
         },
         "xaxis": "x",
         "y": {
          "bdata": "AAAAGtf3pUE5juPAdVuiQcdxHAV+a6FBVVVV2aywnEE5juMYHqGcQXIcx72nuJlBOY7jhNxll0HkOI7Xj6GUQU7gBE7iJutA6fap06Xfj0EeFVBKBTWTQUO4vN4TFqNBzM7VvGZLpEFF1ryyNfadQRRmpSDj3JdBMC9AZfxkn0H/Ho8nIUGdQUkMonaz2qdB59a+bjT3pEGfzUp7TJShQeaJylJKkppBtrhbh9T5kUG+XE89RfqPQSzKYaB/jI9B5bY4byY1jkEOD5KY+IuMQdZJkP5FfIRB80KJnDcMiUF2PlpEG1iJQWdKzLKkxIpB",
          "dtype": "f8"
         },
         "yaxis": "y"
        },
        {
         "hovertemplate": "species=F08<br>TIME_PERIOD=%{x}<br>OBS_VALUE=%{y}<extra></extra>",
         "legendgroup": "F08",
         "marker": {
          "color": "#FF97FF",
          "symbol": "circle"
         },
         "mode": "markers",
         "name": "F08",
         "showlegend": true,
         "type": "scattergl",
         "x": {
          "bdata": "yAfJB8oHywfMB80HzgfPB9IH0wfUB9UH1gfXB9gH2QfaB9sH3AfdB94H3wfgB+EH4gfjB+QH5QfmB+cH",
          "dtype": "i2"
         },
         "xaxis": "x",
         "y": {
          "bdata": "juM4i7SxsUHHcRwPKWisQauqqv7dIatBq6qqxAJip0GrqirUjo+iQQAAAA4dQqFBjuM4jkubpEE5juP2mBqjQZ44FcBz4vlAGAHIAI4unkHku/NbuemgQXlqu3ut2LBBvfgl/twZskE1Ojkq8yCrQY6981RC/6VB3Kqx05varEFE4LUSCFurQdvEKVd2UKpBxayXLjoPpkEztzWVpeejQVgShRWLLaBB0EQQzoP+mkFprXi0oQKaQbZb94c6O5tBc84kkbIdm0FucFs5bi6ZQeArI6gKXZJB/Rn0aHx1lUHHDMMxVmCVQU49gQupz5RB",
          "dtype": "f8"
         },
         "yaxis": "y"
        },
        {
         "hovertemplate": "species=F20<br>TIME_PERIOD=%{x}<br>OBS_VALUE=%{y}<extra></extra>",
         "legendgroup": "F20",
         "marker": {
          "color": "#FECB52",
          "symbol": "circle"
         },
         "mode": "markers",
         "name": "F20",
         "showlegend": true,
         "type": "scattergl",
         "x": {
          "bdata": "1wfYB9kH2gfbB9wH3QfeB98H4AfhB+IH4wfkB+UH5gfnBw==",
          "dtype": "i2"
         },
         "xaxis": "x",
         "y": {
          "bdata": "0WkDnX5LBEHv7u7uDl/zQAAAAADAIfxAtYFOG2QZ+EBOG+i0YUnjQEVERETEtNVAYCz5xfIz6EB3d3d3D0MCQeUXS37ZrQJBq6qqqup0EUHRaQOdgrIVQb9Y8ouvwhlBu7u7u7sVp0CIiIiISMrmQEGnDXTatbRARURERETAnECTXyz5SpEVQQ==",
          "dtype": "f8"
         },
         "yaxis": "y"
        },
        {
         "hovertemplate": "species=F22<br>TIME_PERIOD=%{x}<br>OBS_VALUE=%{y}<extra></extra>",
         "legendgroup": "F22",
         "marker": {
          "color": "#636efa",
          "symbol": "circle"
         },
         "mode": "markers",
         "name": "F22",
         "showlegend": true,
         "type": "scattergl",
         "x": {
          "bdata": "1wfYB9kH2gfbB9wH3QfeB98H4AfhB+IH4wfkB+UH5gfnBw==",
          "dtype": "i2"
         },
         "xaxis": "x",
         "y": {
          "bdata": "0WkDnX5LBEHv7u7uDl/zQAAAAADAIfxAtYFOG2QZ+EBOG+i0YUnjQEVERETEtNVAYCz5xfIz6EB3d3d3D0MCQeUXS37ZrQJBq6qqqup0EUHRaQOdgrIVQb9Y8ouvwhlBu7u7u7sVp0CIiIiISMrmQEGnDXTatbRARURERETAnECTXyz5SpEVQQ==",
          "dtype": "f8"
         },
         "yaxis": "y"
        },
        {
         "hovertemplate": "species=F30<br>TIME_PERIOD=%{x}<br>OBS_VALUE=%{y}<extra></extra>",
         "legendgroup": "F30",
         "marker": {
          "color": "#EF553B",
          "symbol": "circle"
         },
         "mode": "markers",
         "name": "F30",
         "showlegend": true,
         "type": "scattergl",
         "x": {
          "bdata": "yAfJB8oHywfMB80HzgfPB9AH0QfSB9MH1AfVB9YH1wfYB9kH2gfbB9wH3QfeB98H4AfhB+IH4wfkB+UH5gfnBw==",
          "dtype": "i2"
         },
         "xaxis": "x",
         "y": {
          "bdata": "AAAAGtf3pUE5juPAdVuiQcdxHAV+a6FBVVVV2aywnEE5juMYHqGcQXIcx72nuJlBOY7jhNxll0HkOI7Xj6GUQbdt27ZNKPBAAAAAANBI8UBO4ARO4ibrQOn2qdOl349BHhVQSgU1k0FDuLzeExajQczO1bxmS6RBJJTRljzxnUE7cYjdl9qXQfB1/1XvYJ9BISyQ/649nUFe3KbwodmnQS61a06z9qRBA78TMu+SoUEwdI+5pIuaQZQB5jWY9ZFBksR0xVjsj0FGYHtlLXuPQc38uLO6II5BUtgyDOOLjEEf7WEDRHqEQaOxFFIcDIlBamPObhdYiUFw2Wfb+7CKQQ==",
          "dtype": "f8"
         },
         "yaxis": "y"
        },
        {
         "hovertemplate": "species=F31<br>TIME_PERIOD=%{x}<br>OBS_VALUE=%{y}<extra></extra>",
         "legendgroup": "F31",
         "marker": {
          "color": "#00cc96",
          "symbol": "circle"
         },
         "mode": "markers",
         "name": "F31",
         "showlegend": true,
         "type": "scattergl",
         "x": {
          "bdata": "yAfJB8oHywfMB80HzgfPB9AH0QfSB9MH1AfVB9YH1wfYB9kH2gfbB9wH3QfeB98H4AfhB+IH4wfkB+UH5gfnBw==",
          "dtype": "i2"
         },
         "xaxis": "x",
         "y": {
          "bdata": "q6qqijznikEAAAAQPyuAQauqqkobu31Bx3EcZyx9YkEAAACA02VWQTmO47ghmVdBVVVV1YehUkHkOI7j+fhLQZqZmZmZNZNAZmZmZmaamUC6rRpxznSmQAmsHOYTMlRBGdLOmqAFU0Fdj8K5hkRZQY63gnd+1V5BBmz0Oe+qYkH8+F4eYsxZQRrV/Pdc3l9BNBE2bjvVYEEyeltOOOdpQUymCs6TcGhBCkP35w60YEGL/WW/RsBiQeFV6VcujWdBxL6K9d+QW0FeGUEwonZXQbmc1sYZyFZBiXss0REIVUELa1DRl/RPQUWJg7HpeVRBixIHw03FUkHBXk4QlB5gQQ==",
          "dtype": "f8"
         },
         "yaxis": "y"
        },
        {
         "hovertemplate": "species=F32<br>TIME_PERIOD=%{x}<br>OBS_VALUE=%{y}<extra></extra>",
         "legendgroup": "F32",
         "marker": {
          "color": "#ab63fa",
          "symbol": "circle"
         },
         "mode": "markers",
         "name": "F32",
         "showlegend": true,
         "type": "scattergl",
         "x": {
          "bdata": "yAfJB8oHywfMB80HzgfPB9AH0QfSB9MH1AfVB9YH1wfYB9kH2gfbB9wH3QfeB98H4AfhB+IH4wfkB+UH5gfnBw==",
          "dtype": "i2"
         },
         "xaxis": "x",
         "y": {
          "bdata": "HMdxvOcNd0GO4ziOUPV3QXIcxwHBA3hBAAAAYN/AdkEcx3GcLB53QVVVVfU7N3dBq6qqCugidEFVVVUVqRtwQZqZmZmZ0LRAt23btm3brkBst3QgcJSzQIZpRjZG2VtBiWQXntXKYEGk5wMRuQp4QRJuH8JBQHtBeMkSJMlDdkFxAz5MNjJzQfLqHGq+u3JBgLfA5vtCgEH34TOisHp+QZi4aExqA3pBzarPhXr9d0Gk376yCLZ2QXh6pc60+HdBgCbCXp57d0EUGpuOlvx1QaK8fGbDpmdBV53CS9nLZUGitDfyEAtiQZc0RiXldWJBia2zznZxYkHyiyXPbvhuQQ==",
          "dtype": "f8"
         },
         "yaxis": "y"
        },
        {
         "hovertemplate": "species=F33<br>TIME_PERIOD=%{x}<br>OBS_VALUE=%{y}<extra></extra>",
         "legendgroup": "F33",
         "marker": {
          "color": "#FFA15A",
          "symbol": "circle"
         },
         "mode": "markers",
         "name": "F33",
         "showlegend": true,
         "type": "scattergl",
         "x": {
          "bdata": "yAfJB8oHywfMB80HzgfPB9AH0QfSB9MH1AfVB9YH1wfYB9kH2gfbB9wH3QfeB98H4AfhB+IH4wfkB+UH5gfnBw==",
          "dtype": "i2"
         },
         "xaxis": "x",
         "y": {
          "bdata": "AAAAwC9GWUEAAAAAqaFYQQAAAAB811BBVVVV1UTDU0GrqqoqMQ5ZQVVVVdWgnVBBAAAAwPmgUUEAAACA4ghQQQAAAAAA1b1AAAAAAAC0wECHFtnOd5a0QNmHz7iWPUxB/9emyrpxUEG0xUiVL4aEQbpriQru8oJB6ylfqbEci0Fgm/pxM9OEQVuMFCeOHYRB+qMVm1Pwg0Hv7u7L7JaDQd90uAAQU4FBurVffyvpgUGpE1B4N86BQR2kuqbDgIJBPfIHKpavdkF/RZFwcCJ3QXmXiwfJGXdBZvfkCMahcUEzzPbIb95oQa7I1bM7u29BK8b5NSKubkE63CGy6JR2QQ==",
          "dtype": "f8"
         },
         "yaxis": "y"
        },
        {
         "hovertemplate": "species=F34<br>TIME_PERIOD=%{x}<br>OBS_VALUE=%{y}<extra></extra>",
         "legendgroup": "F34",
         "marker": {
          "color": "#19d3f3",
          "symbol": "circle"
         },
         "mode": "markers",
         "name": "F34",
         "showlegend": true,
         "type": "scattergl",
         "x": {
          "bdata": "zAfNB88H0AfRB9IH0wfUB9UH1gfXB9gH2QfaB9sH3AfdB94H3wfgB+EH4gfjB+QH5QfmB+cH",
          "dtype": "i2"
         },
         "xaxis": "x",
         "y": {
          "bdata": "AAAAAAC4jEAAAAAAAACzQAAAAAAAiKVAAAAAAAAAPkAAAAAAAOBgQPQiACUrzEdAR95MX8LTy0BpthgpRfPOQOdNRSIMHVRB9IH3hC9hVkGhrtudI+lwQYuzDy1OEmxBMoKgpOLUYkEfPsPMFk9wQaTfvi3ENHFBE6sZYEXwbkGSplQiuPBnQaT+jWLl/WlBiGNd5tyma0E/KuuEZkxgQfyRImRSeWFB2IFz3s0FYUFpvl0lchNfQQGPlY35dFNBEMzRL/8NWUFFBWG9rWNWQWkAb/eeYWBB",
          "dtype": "f8"
         },
         "yaxis": "y"
        },
        {
         "hovertemplate": "species=F35<br>TIME_PERIOD=%{x}<br>OBS_VALUE=%{y}<extra></extra>",
         "legendgroup": "F35",
         "marker": {
          "color": "#FF6692",
          "symbol": "circle"
         },
         "mode": "markers",
         "name": "F35",
         "showlegend": true,
         "type": "scattergl",
         "x": {
          "bdata": "yAfJB8oHywfMB80HzgfPB9AH0QfSB9MH1AfVB9YH1wfYB9kH2gfbB9wH3QfeB98H4AfhB+IH4wfkB+UH5gfnBw==",
          "dtype": "i2"
         },
         "xaxis": "x",
         "y": {
          "bdata": "VVVVVSX1ckFVVVXlPAF0QQAAAHAej3JBAAAAUFJLekFVVVU9WKGAQauqqopxeHxBVVVVZY8ke0Grqqqa0Qt3QQAAAACQ8vFAAAAAALAb8kBMEl6VQpfgQM+wKxy+EHpBkqZUG4NNfUFYOTRqhaOAQbWBzoD+XohBQV23J2bhgkHi7MNZs+V8QQcVwjhIIYBBT0NB/6+AfEGooSDGVSx9QZISqAueeH1BWTzilAwGd0F1lkY9Zqx2QZfaZUFYbHtB4AU3ybo7fEG7k2KmNwZ9QUhTKgEK5X1Bf49nEDlUgEGSy39DPwBxQauFf8E7HH1B2MibMCFBf0EpOpIHJJZ3QQ==",
          "dtype": "f8"
         },
         "yaxis": "y"
        },
        {
         "hovertemplate": "species=F36<br>TIME_PERIOD=%{x}<br>OBS_VALUE=%{y}<extra></extra>",
         "legendgroup": "F36",
         "marker": {
          "color": "#B6E880",
          "symbol": "circle"
         },
         "mode": "markers",
         "name": "F36",
         "showlegend": true,
         "type": "scattergl",
         "x": {
          "bdata": "yAfJB8oHywfMB80HzgfPB9AH0QfSB9MH1AfVB9YH1wfYB9kH2gfbB9wH3QfeB98H4AfhB+IH4wfkB+UH5gfnBw==",
          "dtype": "i2"
         },
         "xaxis": "x",
         "y": {
          "bdata": "AAAAAJfNV0FVVVU1TStpQVVVVTXOlmNBq6qqCrIyYEGrqqqKuMFlQeQ4jsNwrGJBVVVVFcOra0FVVVWVe7BoQTMzMzMzQbRAAAAAAACotkB8xUDEg/2+QG9PfZc1dGRBbwUnJYimYkGPLkkkv8R3Qf2k2rq4MHlBGr8h39xYdkHILGhW4JpuQSEvfotJtXRBPnlYt5MZfEHOPnyKe/R8QWxTTwCknHhBJCh+aC3Bc0HwzPFobZtuQbHS9V5y/2ZB5XPD4OeWakG6ulvsdlVrQZthODF7bGdB9FlNA0OmaUGOpJS7ajhmQZxdyc0BOGhBCsmWR9mBZ0FUcz173ptrQQ==",
          "dtype": "f8"
         },
         "yaxis": "y"
        },
        {
         "hovertemplate": "species=F37<br>TIME_PERIOD=%{x}<br>OBS_VALUE=%{y}<extra></extra>",
         "legendgroup": "F37",
         "marker": {
          "color": "#FF97FF",
          "symbol": "circle"
         },
         "mode": "markers",
         "name": "F37",
         "showlegend": true,
         "type": "scattergl",
         "x": {
          "bdata": "yAfJB8oHywfMB80HzgfPB9AH0QfSB9MH1AfVB9YH1wfYB9kH2gfbB9wH3QfeB98H4AfhB+IH4wfkB+UH5gfnBw==",
          "dtype": "i2"
         },
         "xaxis": "x",
         "y": {
          "bdata": "VVVV1ae1UkFVVVXVIRlTQVVVVVVA6UtBVVVV1Y+wUUEAAAAA35FUQVVVVZWcG1JBVVVVVQhJVEEAAADAu0dQQQAAAAAAv8BAAAAAAID5wkD9QMw44Hu0QGIyVfznQVBBrPQAG2cnTEE2qz6L6LBjQRdte2AormNBawOdtuh2aUFx87Mobn9kQbohs1a8iWVBKakTAAjkZEHYy8meYWljQWtQIfSHAV9BhC9MLpWoW0EEwmF4dM5dQciYu1I5UWRBZMxd60mLZUH0bFZVu71jQeTN9E1D8mFBZc+LlJkGYEEpqwKRAiBHQTWXykZ/V0dBvdX8vqgoUkGt40mvibhGQQ==",
          "dtype": "f8"
         },
         "yaxis": "y"
        },
        {
         "hovertemplate": "species=F38<br>TIME_PERIOD=%{x}<br>OBS_VALUE=%{y}<extra></extra>",
         "legendgroup": "F38",
         "marker": {
          "color": "#FECB52",
          "symbol": "circle"
         },
         "mode": "markers",
         "name": "F38",
         "showlegend": true,
         "type": "scattergl",
         "x": {
          "bdata": "yAfJB8oHywfMB80HzgfPB9AH0QfSB9MH1AfVB9YH1wfYB9kH2gfbB9wH3QfeB98H4AfhB+IH4wfkB+UH5gfnBw==",
          "dtype": "i2"
         },
         "xaxis": "x",
         "y": {
          "bdata": "q6qqqp6SSUGrqqqqVXFDQauqqirriEBB5DiO4+jaMkGrqqqqTF4vQQAAAAD0Z0ZBAAAAAE28OUGrqqqqHBImQQAAAAAAEHpAAAAAAACgcUCdIS9+LUxyQEK6xenEVRlBhhvw+STKHEHXNO/Ar2JJQZhMFVRQHURBf7Hkx3ESQ0EsikSexGU/QXJlY8hQOkBB03KNFBs9QEE5j52KEIxFQRi30cDIWzlBYXl9Y7uyOkFVMCp5teE9QeeMKG2rGjtBlXUSZEjdMUFyCZp5X94yQcs18radhTdB1OQ8RvbMREGduvL5VaMwQaW6k+Lp6DpBYqQE+qNtN0GF61FIz+c0QQ==",
          "dtype": "f8"
         },
         "yaxis": "y"
        },
        {
         "hovertemplate": "species=F39<br>TIME_PERIOD=%{x}<br>OBS_VALUE=%{y}<extra></extra>",
         "legendgroup": "F39",
         "marker": {
          "color": "#636efa",
          "symbol": "circle"
         },
         "mode": "markers",
         "name": "F39",
         "showlegend": true,
         "type": "scattergl",
         "x": {
          "bdata": "yAfJB8oHywfMB80HzgfPB9AH0QfSB9MH1AfVB9YH1wfYB9kH2gfbB9wH3QfeB98H4AfhB+IH4wfkB+UH5gfnBw==",
          "dtype": "i2"
         },
         "xaxis": "x",
         "y": {
          "bdata": "AAAArGEEoUGrqqpGUYSaQVVVVXEPS5pBchzHUYU1ikGO4zjGkw+IQQAAACgvxYZBchzH+RZnhEGrqqoaUW2DQSVJkiQJs9JAMzMzM3N63ECDk1oVch7gQGGfotbsLYJBF4ph4Tm2hkFD97+clJGEQZMAtcrTnIJBRh0w3nzSZUHR27JKwthoQWPRdDgEh3FBA2A8X4PWa0GkcD3mj3l0QQAAAMjz6G9BXyz5VUE5YkG/WPJ7tf9gQS+W/JIqoVNBZ2ZmNiYDUEHKPyBN+1Y1QUorXJqq7TNBZqAynn1UN0E+cEdSi+U7QX6x5BdwqEBBDaj5A+fFL0ERERERxKM1QQ==",
          "dtype": "f8"
         },
         "yaxis": "y"
        },
        {
         "hovertemplate": "species=F40<br>TIME_PERIOD=%{x}<br>OBS_VALUE=%{y}<extra></extra>",
         "legendgroup": "F40",
         "marker": {
          "color": "#EF553B",
          "symbol": "circle"
         },
         "mode": "markers",
         "name": "F40",
         "showlegend": true,
         "type": "scattergl",
         "x": {
          "bdata": "yAfJB8oHywfMB80HzgfPB9AH0QfSB9MH1AfVB9YH1wfYB9kH2gfbB9wH3QfeB98H4AfhB+IH4wfkB+UH5gfnBw==",
          "dtype": "i2"
         },
         "xaxis": "x",
         "y": {
          "bdata": "5DiO6ztDh0HHcRzHueh6QVVVVVVPsXxBHMdx3P2reUGrqqoqqJR1QQAAAHiWFHhBq6qqmrKJdUGrqqqKkLF4QQAAAABA7MRAzczMzExTxkBtKQ0ih07QQIwjS2VD2XZBJfkkWhjnd0G7/cwB6+eNQUGvUtjzHZFBynnsfButjkGhof/zItiHQWmhd6eQ2opB/U0omNU9i0EeAckWU+GIQfZyMokRxYNBJWX4Dl34g0HzH1JCdNWBQaDLQU906oRBGEy4GZCGgUF0byd7zlqFQcXZh9CD5YNB4qC53960gkEVHz32fsx8QRsyC+5T+XtBr5ZZ7CAFfUGhEuoBjap/QQ==",
          "dtype": "f8"
         },
         "yaxis": "y"
        },
        {
         "hovertemplate": "species=F42<br>TIME_PERIOD=%{x}<br>OBS_VALUE=%{y}<extra></extra>",
         "legendgroup": "F42",
         "marker": {
          "color": "#00cc96",
          "symbol": "circle"
         },
         "mode": "markers",
         "name": "F42",
         "showlegend": true,
         "type": "scattergl",
         "x": {
          "bdata": "0AfTB9UH1gfXB9gH2QfaB9sH3AfdB94H3wfgB+EH4gfjB+QH5QfmB+cH",
          "dtype": "i2"
         },
         "xaxis": "x",
         "y": {
          "bdata": "AAAAAAAAIkAAAAAAAMGyQF+9d0E91QZBBjptoMkpC0EiIiIiXd8VQc3MzMxA5hNBzczMzMCNDkFnZmZmXe8RQTptoNNYVhNBiIiIiNB+CEFz2kCnE+EFQfxiyS+qOARBqMZLd0zcF0EiIiIirgANQfV3yRKhEwNB2o8UkcJ2F0FImlLxXa8fQX6MuSte+hJBAEcoI6ngHUGU9ga/UkAkQZLLf4jrBydB",
          "dtype": "f8"
         },
         "yaxis": "y"
        },
        {
         "hovertemplate": "species=F43<br>TIME_PERIOD=%{x}<br>OBS_VALUE=%{y}<extra></extra>",
         "legendgroup": "F43",
         "marker": {
          "color": "#ab63fa",
          "symbol": "circle"
         },
         "mode": "markers",
         "name": "F43",
         "showlegend": true,
         "type": "scattergl",
         "x": {
          "bdata": "yAfJB8oHywfMB80HzgfPB9AH0QfSB9MH1AfVB9YH1wfYB9kH2gfbB9wH3QfeB98H4AfhB+IH4wfkB+UH5gfnBw==",
          "dtype": "i2"
         },
         "xaxis": "x",
         "y": {
          "bdata": "VVVVlXp0cUEAAADA50xnQauqqkrCx2hBq6qqKq3BZEFVVVVV4RNrQQAAAKAZHmxBq6qqKrobYUFVVVX17epmQQAAAAAAmKJAAAAAAADCoUAtsp3vp423QCD0bCxJpWVB6NZ+e3QsZEEEDLit5T12QX+x5HySDnlBqCVDMh/ecUHrmOA3nR1tQSDSbwuXIXBBMLYQ7qaRbUGhoX+M9mxoQUKVmk8mfWJBcqJdnTGgYEGKZouNyb1bQVgnQdYQP11B2tLfgMwpWEHk7jdB+WtfQdVTvkBeR1xBS6Pc0GClXEHaiv2FBLtKQY/Y5C4UiE9BOTjr1g2sTUF3+5knbj9QQQ==",
          "dtype": "f8"
         },
         "yaxis": "y"
        },
        {
         "hovertemplate": "species=F45<br>TIME_PERIOD=%{x}<br>OBS_VALUE=%{y}<extra></extra>",
         "legendgroup": "F45",
         "marker": {
          "color": "#FFA15A",
          "symbol": "circle"
         },
         "mode": "markers",
         "name": "F45",
         "showlegend": true,
         "type": "scattergl",
         "x": {
          "bdata": "zAfNB84HzwfQB9EH0gfTB9QH1QfWB9cH2AfZB9oH2wfcB90H3gffB+AH4QfiB+MH5AflB+YH5wc=",
          "dtype": "i2"
         },
         "xaxis": "x",
         "y": {
          "bdata": "OY7jONYJC0HkOI7j5A4YQauqqqoQjCpBq6qqqq5aMEEAAAAAAGB2QAAAAAAAqIRArtuNKxsIiEC95kISnHg6QRSG7u/nSDhBw2xv4GUhgkEt5CT43/aEQXfOKdBaDoFBshnN5b+heEF6qkO2ich8QXKndCzgqH9BnEtxxxt/fEGJNu1yGtp3Qb+SvuS0enlB77QiZtijdkHGUE7b4Cp8QXxibFMFoXdBGLYXaAA4fUGRM+tQuv56QSVO491VBntBgr7WtIM0dkEy5i6M/cxzQcugi4z9cnVB703mq6ufdkE=",
          "dtype": "f8"
         },
         "yaxis": "y"
        },
        {
         "hovertemplate": "species=F47<br>TIME_PERIOD=%{x}<br>OBS_VALUE=%{y}<extra></extra>",
         "legendgroup": "F47",
         "marker": {
          "color": "#19d3f3",
          "symbol": "circle"
         },
         "mode": "markers",
         "name": "F47",
         "showlegend": true,
         "type": "scattergl",
         "x": {
          "bdata": "yAfJB8oHywfMB80HzgfPB9AH0QfSB9MH1AfVB9YH1wfYB9kH2gfbB9wH3QfeB98H4AfhB+IH4wfkB+UH5gfnBw==",
          "dtype": "i2"
         },
         "xaxis": "x",
         "y": {
          "bdata": "q6qqyssqikFVVVUV7rZ8QVVVVRVgpn5BVVVVRSnBckHkOI4DIopzQcdxHBedXHZBOY7jeBOSbkHkOI7zcWBwQWZmZmZm48VAmpmZmRnjwkBCnd8dhqbIQOCEQhH37nNBu4YGELvxcEFk3OfrXjVkQX1Heu5yxGZBIOcQDSBaYkHu6JKq2LtrQYnaI6MrUWFBxObjbquEX0FQBF7RDcJhQaVza+UjH2VBJbwqyagtZEHSlIpD1ARkQZ7seRVRdWRB7zhFGbIbZUEhHMY30H5aQXuoWqIpuWVBPL1SqrO4YEF67FRi3mBaQe41Fyzj5mBB30+NK2CwYEHLDZmdC2ReQQ==",
          "dtype": "f8"
         },
         "yaxis": "y"
        },
        {
         "hovertemplate": "species=F50<br>TIME_PERIOD=%{x}<br>OBS_VALUE=%{y}<extra></extra>",
         "legendgroup": "F50",
         "marker": {
          "color": "#FF6692",
          "symbol": "circle"
         },
         "mode": "markers",
         "name": "F50",
         "showlegend": true,
         "type": "scattergl",
         "x": {
          "bdata": "yAfJB8oHywfMB80HzgfPB9AH0QfSB9MH1AfVB9YH1wfYB9kH2gfbB9wH3QfeB98H4AfhB+IH4wfkB+UH5gfnBw==",
          "dtype": "i2"
         },
         "xaxis": "x",
         "y": {
          "bdata": "q6qqBo/QlkGrqqpKEA+UQVVVVdndYJJBchzHmfdQh0Ecx3GsmViLQY7jOO6VjIhBOY7joPbciEGO4zi+186GQQAAAAAQHe1AAAAAAEBV7kCmwmPwKe3lQIKbH49J4I9Bia1zUBOOjkGVYPG+wIWMQUD+P+r+ZY1BPMqufsSii0ENHxHeK3mIQbUyYYWBxolBUnYNyZOrh0G/gjT75iCHQSh+DIbRQI5By+jtXr8ZjUFz+Q9qX9iMQY5T9Lzi945BIchBz/xKg0Etx77tv3qDQfakuQ5rAodBqSPa8eFZhEEU6BOpddx8QcqJ9p5rm4JBvHFlNTpBgUHuOEVvFpyKQQ==",
          "dtype": "f8"
         },
         "yaxis": "y"
        },
        {
         "hovertemplate": "species=F52<br>TIME_PERIOD=%{x}<br>OBS_VALUE=%{y}<extra></extra>",
         "legendgroup": "F52",
         "marker": {
          "color": "#B6E880",
          "symbol": "circle"
         },
         "mode": "markers",
         "name": "F52",
         "showlegend": true,
         "type": "scattergl",
         "x": {
          "bdata": "1wfYB9kH2gfbB9wH3QfeB98H4AfhB+IH4wfkB+UH5gfnBw==",
          "dtype": "i2"
         },
         "xaxis": "x",
         "y": {
          "bdata": "eHd3d1joV0GrqqoqYQ9VQaDTBppfHFZB6LSB7sXUUkEvlvxSO6VVQSIiImKQbktBvLu7mwOKTUGrqqrqs4pNQfRHK1G9PEhBrWneUUiASEH13gVv4RVIQeALk8H8oEZBZDixAuPJQ0EExY/5LbRBQeQUHaHC/kZBa3VMOIqBRkG+nOxJ9Y1DQQ==",
          "dtype": "f8"
         },
         "yaxis": "y"
        },
        {
         "hovertemplate": "species=F53<br>TIME_PERIOD=%{x}<br>OBS_VALUE=%{y}<extra></extra>",
         "legendgroup": "F53",
         "marker": {
          "color": "#FF97FF",
          "symbol": "circle"
         },
         "mode": "markers",
         "name": "F53",
         "showlegend": true,
         "type": "scattergl",
         "x": {
          "bdata": "5AflB+YH5wc=",
          "dtype": "i2"
         },
         "xaxis": "x",
         "y": {
          "bdata": "jCW/WLLN20A30GkD7ZroQGZmZmbmhfVA20CnDWT28EA=",
          "dtype": "f8"
         },
         "yaxis": "y"
        },
        {
         "hovertemplate": "species=F54<br>TIME_PERIOD=%{x}<br>OBS_VALUE=%{y}<extra></extra>",
         "legendgroup": "F54",
         "marker": {
          "color": "#FECB52",
          "symbol": "circle"
         },
         "mode": "markers",
         "name": "F54",
         "showlegend": true,
         "type": "scattergl",
         "x": {
          "bdata": "4gfjB+QH5QfmB+cH",
          "dtype": "i2"
         },
         "xaxis": "x",
         "y": {
          "bdata": "rkfheriPFEEHOm2gPDwgQWlN88732BZBv8dz0EbUGkGrqqqq6tzKQAAAAACAFMBA",
          "dtype": "f8"
         },
         "yaxis": "y"
        },
        {
         "hovertemplate": "species=F55<br>TIME_PERIOD=%{x}<br>OBS_VALUE=%{y}<extra></extra>",
         "legendgroup": "F55",
         "marker": {
          "color": "#636efa",
          "symbol": "circle"
         },
         "mode": "markers",
         "name": "F55",
         "showlegend": true,
         "type": "scattergl",
         "x": {
          "bdata": "1QfWB9cH2AfZB9oH2wfcB90H3gffB+AH4QfiB+MH5AflB+YH5wc=",
          "dtype": "i2"
         },
         "xaxis": "x",
         "y": {
          "bdata": "nDOidFpjFUFPG+i0DCoYQR5dktAgeitBqsynYU4MIEGlc2s/OdcoQXzQszldYyVBxIwDAieyJEGVsgyxRHgqQSvzaegqGR5BN2QWdPwYG0FpSsUZJ+8TQczuyWNo4ilBT2U+zW0mGUG39isqnMMqQWtN8y46YyhBZa2OidzwH0EvcdG2fKknQQEDLsWJDDJBJCVQp7vpPUE=",
          "dtype": "f8"
         },
         "yaxis": "y"
        },
        {
         "hovertemplate": "species=F56<br>TIME_PERIOD=%{x}<br>OBS_VALUE=%{y}<extra></extra>",
         "legendgroup": "F56",
         "marker": {
          "color": "#EF553B",
          "symbol": "circle"
         },
         "mode": "markers",
         "name": "F56",
         "showlegend": true,
         "type": "scattergl",
         "x": {
          "bdata": "1QfWB9cH2AfZB9oH2wfcB90H3gffB+AH4QfiB+MH5AflB+YH5wc=",
          "dtype": "i2"
         },
         "xaxis": "x",
         "y": {
          "bdata": "x9/j5+V2bUHw7u6OLm1vQcHvzDeh5nRBwfL6t6dMdUEvbqO3QLF0QeEOwee3Q3RB6P7Xit1SdEGlmJY0a/VwQSDSb9Nq02xB91C1FI6BakEGNz+VwktrQbMxnCDpEnBBLv8hrzB/Z0EmdQLaSjJuQQVZPN9zd3BBuUbedE4kcEFLe4PJBwd2QQFNhNSv53NBNFuMSG/OcEE=",
          "dtype": "f8"
         },
         "yaxis": "y"
        },
        {
         "hovertemplate": "species=F57<br>TIME_PERIOD=%{x}<br>OBS_VALUE=%{y}<extra></extra>",
         "legendgroup": "F57",
         "marker": {
          "color": "#00cc96",
          "symbol": "circle"
         },
         "mode": "markers",
         "name": "F57",
         "showlegend": true,
         "type": "scattergl",
         "x": {
          "bdata": "yAfJB8oHywfMB80HzgfPB9AH0QfSB9MH1AfVB9YH1wfYB9kH2gfbB9wH3QfeB98H4AfhB+IH4wfkB+UH5gfnBw==",
          "dtype": "i2"
         },
         "xaxis": "x",
         "y": {
          "bdata": "AAAAuHNChkGrqqrqOz2DQQAAAPAx24RBchzHQdTGc0HHcRzn55V0QVVVVfW0CXVBOY7jqBHYc0HkOI6DGgxxQQAAAACAX8BAAAAAAEDuwkCrqqqqRgbCQEvGk+2pFmtBpJP0xScNakEXcKnPUD+DQfaPmKGIiIRBfcucfRMLg0EOtms33Q6AQVmTFNGgZ4FB7iJfp4V8f0HOGVF4i+B9QazSg2RSDYNBGHApYk2Xg0HmHSdB67uDQeaupTLqKoZB//zRAJU6ekGse1HOvvh8QdGJl1aY9oBBPOrCTNzJe0F2dEmdaiZxQdN60kvyeHVBVbRM6V8VdEFnsLwUO/h/QQ==",
          "dtype": "f8"
         },
         "yaxis": "y"
        },
        {
         "hovertemplate": "species=F58<br>TIME_PERIOD=%{x}<br>OBS_VALUE=%{y}<extra></extra>",
         "legendgroup": "F58",
         "marker": {
          "color": "#ab63fa",
          "symbol": "circle"
         },
         "mode": "markers",
         "name": "F58",
         "showlegend": true,
         "type": "scattergl",
         "x": {
          "bdata": "yAfJB8oHywfMB80HzgfPB9AH0QfSB9MH1AfVB9YH1wfYB9kH2gfbB9wH3QfeB98H4AfhB+IH4wfkB+UH5gfnBw==",
          "dtype": "i2"
         },
         "xaxis": "x",
         "y": {
          "bdata": "AAAAiMxeh0EAAABAAuGEQQAAAEBLzX9B5DiOs1DbekEAAACgyA2BQRzHcQy4D3xBVVVVZSDifUHkOI7j3pF8QZqZmZk5Bu5AAAAAALCZ6UB3uYjvlufkQNLe4C+8GplBGUu+LegKmEESg8AuP7dvQUCnDRTK7mpBREREROYjLUGPwvUoDrQvQauqqipLKy1B5hdL/p84KUFSuB4FGZItQUGnDbRMFDNBL5b8Yo2vHEHlF0t+m3grQckvlvyexSNBBJ020Er/JEHL8LKZO9EsQeF6FK4CPDFBWfKLJYYiNUFEREREOIYSQQAAAABItAFB3t3d3R1x/EDe3d3dOWfxQA==",
          "dtype": "f8"
         },
         "yaxis": "y"
        },
        {
         "hovertemplate": "species=F70<br>TIME_PERIOD=%{x}<br>OBS_VALUE=%{y}<extra></extra>",
         "legendgroup": "F70",
         "marker": {
          "color": "#FFA15A",
          "symbol": "circle"
         },
         "mode": "markers",
         "name": "F70",
         "showlegend": true,
         "type": "scattergl",
         "x": {
          "bdata": "4QfiB+MH5AflB+YH5wc=",
          "dtype": "i2"
         },
         "xaxis": "x",
         "y": {
          "bdata": "EREREXGU+kCW/GLJ0yYAQe+nxks91QZBaZQbMuYU8EDXEvLBJ80QQaTckFkxLPlAB6nuJO8FAEE=",
          "dtype": "f8"
         },
         "yaxis": "y"
        },
        {
         "hovertemplate": "species=F76<br>TIME_PERIOD=%{x}<br>OBS_VALUE=%{y}<extra></extra>",
         "legendgroup": "F76",
         "marker": {
          "color": "#19d3f3",
          "symbol": "circle"
         },
         "mode": "markers",
         "name": "F76",
         "showlegend": true,
         "type": "scattergl",
         "x": {
          "bdata": "4QfiB+MH5AflB+YH5wc=",
          "dtype": "i2"
         },
         "xaxis": "x",
         "y": {
          "bdata": "EREREXGU+kCW/GLJ0yYAQdpApw36ewZBERERETGi30Bbj8L1zM8FQRERERERfKVAEREREdEN6EA=",
          "dtype": "f8"
         },
         "yaxis": "y"
        },
        {
         "hovertemplate": "species=F77<br>TIME_PERIOD=%{x}<br>OBS_VALUE=%{y}<extra></extra>",
         "legendgroup": "F77",
         "marker": {
          "color": "#FF6692",
          "symbol": "circle"
         },
         "mode": "markers",
         "name": "F77",
         "showlegend": true,
         "type": "scattergl",
         "x": {
          "bdata": "4wfkB+UH5gfnBw==",
          "dtype": "i2"
         },
         "xaxis": "x",
         "y": {
          "bdata": "Jr9Y8ssPsEC4HoXrSSnhQL9Y8oulBPlAERERETEd+UDe3d3dOcn0QA==",
          "dtype": "f8"
         },
         "yaxis": "y"
        },
        {
         "hovertemplate": "species=FIM<br>TIME_PERIOD=%{x}<br>OBS_VALUE=%{y}<extra></extra>",
         "legendgroup": "FIM",
         "marker": {
          "color": "#B6E880",
          "symbol": "circle"
         },
         "mode": "markers",
         "name": "FIM",
         "showlegend": true,
         "type": "scattergl",
         "x": {
          "bdata": "1wfYB9kH2gfbB9wH3QfeB98H4AfhB+IH4wfkB+UH5gfnBw==",
          "dtype": "i2"
         },
         "xaxis": "x",
         "y": {
          "bdata": "vLu7uwpFQEFuoNOGYhU9QZf8YgmFiTdBEREREWpEMkFfLPlF1YohQbWBThtMeBFBIiIiotEbSkHE9Sjc9NcoQTfQaQMHJCRBnDbQaZWhJUFH4XqU874oQS35xRK0CC9B0WkDHVsqJEEs+cUS+P0gQQ102sBT3CpBeHd3dznNJUGkcD2KuDcrQQ==",
          "dtype": "f8"
         },
         "yaxis": "y"
        },
        {
         "hovertemplate": "species=FIN<br>TIME_PERIOD=%{x}<br>OBS_VALUE=%{y}<extra></extra>",
         "legendgroup": "FIN",
         "marker": {
          "color": "#FF97FF",
          "symbol": "circle"
         },
         "mode": "markers",
         "name": "FIN",
         "showlegend": true,
         "type": "scattergl",
         "x": {
          "bdata": "yAfJB8oHywfMB80HzgfPB9AH0QfSB9MH1AfVB9YH1wfYB9kH2gc=",
          "dtype": "i2"
         },
         "xaxis": "x",
         "y": {
          "bdata": "AAAArGEEoUGrqqpGUYSaQVVVVXEPS5pBchzHUYU1ikGO4zjGkw+IQQAAACgvxYZBchzH+RZnhEGrqqoaUW2DQXg7q9nrRHtBy76r9HA2iEGDk1oVch7gQGGfotbsLYJBF4ph4Tm2hkFD97+clJGEQZMAtcrTnIJBVVVVVTFeHUGrqqqqNCYSQdBpA52wOxBBu7u7u3WKAEE=",
          "dtype": "f8"
         },
         "yaxis": "y"
        },
        {
         "hovertemplate": "species=FLE<br>TIME_PERIOD=%{x}<br>OBS_VALUE=%{y}<extra></extra>",
         "legendgroup": "FLE",
         "marker": {
          "color": "#FECB52",
          "symbol": "circle"
         },
         "mode": "markers",
         "name": "FLE",
         "showlegend": true,
         "type": "scattergl",
         "x": {
          "bdata": "1wfYB9kH2gfbB9wH3QfeB98H4AfhB+IH4wfkB+UH5gfnBw==",
          "dtype": "i2"
         },
         "xaxis": "x",
         "y": {
          "bdata": "odMGOkGKFUGnDXTazjUJQfnFkl/OMgpBBzptoOMnCEFVVVVVLSoDQXTaQKdJgQhBJr9Y8vNh/EAZS36x1Hf4QGTJL5YsDPpAl/xiyX+R8UBOG+i07db7QBvotIHWcvlA/GLJL+b49UBFREREVDz0QKcNdNrQQwBB3t3d3dU190C0gU4bOHjnQA==",
          "dtype": "f8"
         },
         "yaxis": "y"
        },
        {
         "hovertemplate": "species=FOR<br>TIME_PERIOD=%{x}<br>OBS_VALUE=%{y}<extra></extra>",
         "legendgroup": "FOR",
         "marker": {
          "color": "#636efa",
          "symbol": "circle"
         },
         "mode": "markers",
         "name": "FOR",
         "showlegend": true,
         "type": "scattergl",
         "x": {
          "bdata": "1wfYB9kH2gfbB9wH3QfeB98H4AfhB+IH4wfkB+UH",
          "dtype": "i2"
         },
         "xaxis": "x",
         "y": {
          "bdata": "5RdLfmuHHUGX/GLJQQoWQd7d3d19KxpBSOF6lCReIEHRaQOdHp4kQX6x5BfJ1iFBAAAAgMYDKEEL16NwKSgqQRvotIHu/SRB5RdLfmmiJEGMJb/YxEUjQTMzMzObTwhBaQOdNkBFAUFLfrHkMRIHQe7u7u4OitxA",
          "dtype": "f8"
         },
         "yaxis": "y"
        },
        {
         "hovertemplate": "species=FRI<br>TIME_PERIOD=%{x}<br>OBS_VALUE=%{y}<extra></extra>",
         "legendgroup": "FRI",
         "marker": {
          "color": "#EF553B",
          "symbol": "circle"
         },
         "mode": "markers",
         "name": "FRI",
         "showlegend": true,
         "type": "scattergl",
         "x": {
          "bdata": "4gfjB+QH5QfmB+cH",
          "dtype": "i2"
         },
         "xaxis": "x",
         "y": {
          "bdata": "WHzFVzwd9EAK2ZK5AZTRQKuqqqqq8rJAQKcNdFqxxUC7u7u7e8jGQO7u7u4u/8tA",
          "dtype": "f8"
         },
         "yaxis": "y"
        },
        {
         "hovertemplate": "species=FRZ<br>TIME_PERIOD=%{x}<br>OBS_VALUE=%{y}<extra></extra>",
         "legendgroup": "FRZ",
         "marker": {
          "color": "#00cc96",
          "symbol": "circle"
         },
         "mode": "markers",
         "name": "FRZ",
         "showlegend": true,
         "type": "scattergl",
         "x": {
          "bdata": "1wfYB9kH2gfbB9wH3QfeB98H4AfhB+IH4wfkB+UH5gfnBw==",
          "dtype": "i2"
         },
         "xaxis": "x",
         "y": {
          "bdata": "mpmZmb0WD0HsUbgeu3AXQd7d3d1tURlB3t3d3Q99HkH5xZJfrJAOQd7d3d1Jzf1AVVVVVQv5F0F02kCnpWwMQYmIiIgekwtBRURERI2DHEF4d3d3mgMaQX/+48onrh1BdNpApyN0GEGIiIiIYYgjQae39LxfswlBtNps3hEAFEHM/tAaM1oTQQ==",
          "dtype": "f8"
         },
         "yaxis": "y"
        },
        {
         "hovertemplate": "species=FTX<br>TIME_PERIOD=%{x}<br>OBS_VALUE=%{y}<extra></extra>",
         "legendgroup": "FTX",
         "marker": {
          "color": "#ab63fa",
          "symbol": "circle"
         },
         "mode": "markers",
         "name": "FTX",
         "showlegend": true,
         "type": "scattergl",
         "x": {
          "bdata": "5AfmB+cH",
          "dtype": "i2"
         },
         "xaxis": "x",
         "y": {
          "bdata": "7+7u7i5w1UCamZmZ6dXtQKcNdNpg2OtA",
          "dtype": "f8"
         },
         "yaxis": "y"
        },
        {
         "hovertemplate": "species=GAR<br>TIME_PERIOD=%{x}<br>OBS_VALUE=%{y}<extra></extra>",
         "legendgroup": "GAR",
         "marker": {
          "color": "#FFA15A",
          "symbol": "circle"
         },
         "mode": "markers",
         "name": "GAR",
         "showlegend": true,
         "type": "scattergl",
         "x": {
          "bdata": "1QfWB9cH2AfZB9oH2wfcB90H3gffB+AH4QfiB+MH5AflB+YH5wc=",
          "dtype": "i2"
         },
         "xaxis": "x",
         "y": {
          "bdata": "HMnlP5yGAEGIiIiInjoKQVyPwvWIhAxBawOdNjSA90D1KFyPErnTQERERET4Bv1A/GLJLz4j9kD8YskvkmTyQL9Y8ovBvPpApHA9Cncc6EA6baDTDkf6QKuqqqpyP/1AdNpApx2v9EC7u7u7e/XoQHh3d3c/o+NA2kCnDeQq9UBVVVVVJZ7+QBERERGhZuRAYCz5xXI76kA=",
          "dtype": "f8"
         },
         "yaxis": "y"
        },
        {
         "hovertemplate": "species=GAS<br>TIME_PERIOD=%{x}<br>OBS_VALUE=%{y}<extra></extra>",
         "legendgroup": "GAS",
         "marker": {
          "color": "#19d3f3",
          "symbol": "circle"
         },
         "mode": "markers",
         "name": "GAS",
         "showlegend": true,
         "type": "scattergl",
         "x": {
          "bdata": "1wfYB9kH2gfbB9wH3QfeB98H4AfhB+IH4wflB+YH5wc=",
          "dtype": "i2"
         },
         "xaxis": "x",
         "y": {
          "bdata": "eHd3d1joV0GrqqoqYQ9VQaDTBppfHFZB6LSB7sXUUkEvlvxSO6VVQSIiImKQbktBvLu7mwOKTUGrqqrqs4pNQXh3d3d3IdRA/GLJL3aU0UBmZmZm5tm0QH6x5BdLPqFAZMkvlvz2mUCIiIiIiFqaQO/u7u7uxpVARURERESUlkA=",
          "dtype": "f8"
         },
         "yaxis": "y"
        },
        {
         "hovertemplate": "species=GAU<br>TIME_PERIOD=%{x}<br>OBS_VALUE=%{y}<extra></extra>",
         "legendgroup": "GAU",
         "marker": {
          "color": "#FF6692",
          "symbol": "circle"
         },
         "mode": "markers",
         "name": "GAU",
         "showlegend": true,
         "type": "scattergl",
         "x": {
          "bdata": "4AfiBw==",
          "dtype": "i2"
         },
         "xaxis": "x",
         "y": {
          "bdata": "l/xiya8Zo0C4HoXrUT6iQA==",
          "dtype": "f8"
         },
         "yaxis": "y"
        },
        {
         "hovertemplate": "species=GBA<br>TIME_PERIOD=%{x}<br>OBS_VALUE=%{y}<extra></extra>",
         "legendgroup": "GBA",
         "marker": {
          "color": "#B6E880",
          "symbol": "circle"
         },
         "mode": "markers",
         "name": "GBA",
         "showlegend": true,
         "type": "scattergl",
         "x": {
          "bdata": "5wc=",
          "dtype": "i2"
         },
         "xaxis": "x",
         "y": {
          "bdata": "7+7u7u6uxkA=",
          "dtype": "f8"
         },
         "yaxis": "y"
        },
        {
         "hovertemplate": "species=GBN<br>TIME_PERIOD=%{x}<br>OBS_VALUE=%{y}<extra></extra>",
         "legendgroup": "GBN",
         "marker": {
          "color": "#FF97FF",
          "symbol": "circle"
         },
         "mode": "markers",
         "name": "GBN",
         "showlegend": true,
         "type": "scattergl",
         "x": {
          "bdata": "4gfjB+QH",
          "dtype": "i2"
         },
         "xaxis": "x",
         "y": {
          "bdata": "lfxiyZfM/UCSXyz5/dv6QLgeheuRYcFA",
          "dtype": "f8"
         },
         "yaxis": "y"
        },
        {
         "hovertemplate": "species=GDG<br>TIME_PERIOD=%{x}<br>OBS_VALUE=%{y}<extra></extra>",
         "legendgroup": "GDG",
         "marker": {
          "color": "#FECB52",
          "symbol": "circle"
         },
         "mode": "markers",
         "name": "GDG",
         "showlegend": true,
         "type": "scattergl",
         "x": {
          "bdata": "4gfjBw==",
          "dtype": "i2"
         },
         "xaxis": "x",
         "y": {
          "bdata": "RERERESomkAiIiIiIt6hQA==",
          "dtype": "f8"
         },
         "yaxis": "y"
        },
        {
         "hovertemplate": "species=GFB<br>TIME_PERIOD=%{x}<br>OBS_VALUE=%{y}<extra></extra>",
         "legendgroup": "GFB",
         "marker": {
          "color": "#636efa",
          "symbol": "circle"
         },
         "mode": "markers",
         "name": "GFB",
         "showlegend": true,
         "type": "scattergl",
         "x": {
          "bdata": "1wfYB9kH2gfbB9wH3QfeB98H4AfhB+IH4wfkB+UH5gfnBw==",
          "dtype": "i2"
         },
         "xaxis": "x",
         "y": {
          "bdata": "UrgehdON60DXo3A9Ir34QDptoNO2RvRA393d3ZVA+EDrUbgeVY34QAAAAACsAvpAq6qqqhKVAkGF61G4bs4EQe/u7u7WkAFBKFyPwmVc/EBZ8osleyT+QEVERETLABNB1BvbWMiPEUGl/KRa5LwIQauqqqrI/BlB3t3d3fvsG0GrqqqqW9cfQQ==",
          "dtype": "f8"
         },
         "yaxis": "y"
        },
        {
         "hovertemplate": "species=GGU<br>TIME_PERIOD=%{x}<br>OBS_VALUE=%{y}<extra></extra>",
         "legendgroup": "GGU",
         "marker": {
          "color": "#EF553B",
          "symbol": "circle"
         },
         "mode": "markers",
         "name": "GGU",
         "showlegend": true,
         "type": "scattergl",
         "x": {
          "bdata": "4gfjBw==",
          "dtype": "i2"
         },
         "xaxis": "x",
         "y": {
          "bdata": "QacNdNqflkAUrkfhel2VQA==",
          "dtype": "f8"
         },
         "yaxis": "y"
        },
        {
         "hovertemplate": "species=GGY<br>TIME_PERIOD=%{x}<br>OBS_VALUE=%{y}<extra></extra>",
         "legendgroup": "GGY",
         "marker": {
          "color": "#00cc96",
          "symbol": "circle"
         },
         "mode": "markers",
         "name": "GGY",
         "showlegend": true,
         "type": "scattergl",
         "x": {
          "bdata": "4gfjBw==",
          "dtype": "i2"
         },
         "xaxis": "x",
         "y": {
          "bdata": "exSuR2E/skDe3d3dXWuwQA==",
          "dtype": "f8"
         },
         "yaxis": "y"
        },
        {
         "hovertemplate": "species=GLI<br>TIME_PERIOD=%{x}<br>OBS_VALUE=%{y}<extra></extra>",
         "legendgroup": "GLI",
         "marker": {
          "color": "#ab63fa",
          "symbol": "circle"
         },
         "mode": "markers",
         "name": "GLI",
         "showlegend": true,
         "type": "scattergl",
         "x": {
          "bdata": "4gfjBw==",
          "dtype": "i2"
         },
         "xaxis": "x",
         "y": {
          "bdata": "UrgehevTkUC0gU4b6BilQA==",
          "dtype": "f8"
         },
         "yaxis": "y"
        },
        {
         "hovertemplate": "species=GOA<br>TIME_PERIOD=%{x}<br>OBS_VALUE=%{y}<extra></extra>",
         "legendgroup": "GOA",
         "marker": {
          "color": "#FFA15A",
          "symbol": "circle"
         },
         "mode": "markers",
         "name": "GOA",
         "showlegend": true,
         "type": "scattergl",
         "x": {
          "bdata": "5Qc=",
          "dtype": "i2"
         },
         "xaxis": "x",
         "y": {
          "bdata": "DnTaQAcMwkA=",
          "dtype": "f8"
         },
         "yaxis": "y"
        },
        {
         "hovertemplate": "species=GOB<br>TIME_PERIOD=%{x}<br>OBS_VALUE=%{y}<extra></extra>",
         "legendgroup": "GOB",
         "marker": {
          "color": "#19d3f3",
          "symbol": "circle"
         },
         "mode": "markers",
         "name": "GOB",
         "showlegend": true,
         "type": "scattergl",
         "x": {
          "bdata": "4gfjB+UH5gfnBw==",
          "dtype": "i2"
         },
         "xaxis": "x",
         "y": {
          "bdata": "Jb9Y8otGvEBOG+i0AYeyQE4b6LSBtpdA7+7u7u5RoUBZ8oslv6qNQA==",
          "dtype": "f8"
         },
         "yaxis": "y"
        },
        {
         "hovertemplate": "species=GPA<br>TIME_PERIOD=%{x}<br>OBS_VALUE=%{y}<extra></extra>",
         "legendgroup": "GPA",
         "marker": {
          "color": "#FF6692",
          "symbol": "circle"
         },
         "mode": "markers",
         "name": "GPA",
         "showlegend": true,
         "type": "scattergl",
         "x": {
          "bdata": "1wfYB9kH2gfbB9wH3QfeB98H4AfhB+IH4wfkB+UH5gfnBw==",
          "dtype": "i2"
         },
         "xaxis": "x",
         "y": {
          "bdata": "VVVVVZClJEHRaQOdMMEfQUt+seSYNiJBwvUoXJvZI0FVVVXVEkMjQUVERET4KB1BG+i0gQKjFkGrqqqq6YYeQSW/WPJ1ZB9BBzptoPKKHUGrqqqqXh4fQVVVVVWl/iZBAAAAAGurI0EGOm2gi10ZQRIRERE1mRZBzczMzOBKF0GrqqqqWmwWQQ==",
          "dtype": "f8"
         },
         "yaxis": "y"
        },
        {
         "hovertemplate": "species=GPD<br>TIME_PERIOD=%{x}<br>OBS_VALUE=%{y}<extra></extra>",
         "legendgroup": "GPD",
         "marker": {
          "color": "#B6E880",
          "symbol": "circle"
         },
         "mode": "markers",
         "name": "GPD",
         "showlegend": true,
         "type": "scattergl",
         "x": {
          "bdata": "1wfYB9kH2gfbB9wH3QfeB98H4AfhB+IH4wfkB+UH5gfnBw==",
          "dtype": "i2"
         },
         "xaxis": "x",
         "y": {
          "bdata": "mpmZmcVTGEGrqqqqsPQTQVVVVVWnoRNBPgrXo0LbFEEb6LSBuowQQR6F61Fk5wxBf7HkF9A1E0F3d3d3yB0aQRERERE37g5B7FG4HkkcE0F9pnGCodISQRy5W38iAQtBRcuU6VBUBUExCKwcer7UQJs4ud+pot5AVVVVVdXg50D8YskvHv7zQA==",
          "dtype": "f8"
         },
         "yaxis": "y"
        },
        {
         "hovertemplate": "species=GPW<br>TIME_PERIOD=%{x}<br>OBS_VALUE=%{y}<extra></extra>",
         "legendgroup": "GPW",
         "marker": {
          "color": "#FF97FF",
          "symbol": "circle"
         },
         "mode": "markers",
         "name": "GPW",
         "showlegend": true,
         "type": "scattergl",
         "x": {
          "bdata": "4AfiB+MH5AflB+YH5wc=",
          "dtype": "i2"
         },
         "xaxis": "x",
         "y": {
          "bdata": "q6qqql4EAkE8RoyxfZPyQJ7vp8bbIulAJJTR2wq540Cg0wY6TV7hQK9n9ftfCOFApw102li890A=",
          "dtype": "f8"
         },
         "yaxis": "y"
        },
        {
         "hovertemplate": "species=GPX<br>TIME_PERIOD=%{x}<br>OBS_VALUE=%{y}<extra></extra>",
         "legendgroup": "GPX",
         "marker": {
          "color": "#FECB52",
          "symbol": "circle"
         },
         "mode": "markers",
         "name": "GPX",
         "showlegend": true,
         "type": "scattergl",
         "x": {
          "bdata": "4wfkB+UH5gfnBw==",
          "dtype": "i2"
         },
         "xaxis": "x",
         "y": {
          "bdata": "suQXS34epECZmZmZ+fICQQAAAAAHlRlBeHd3d+WPFEH2KFyP3rURQQ==",
          "dtype": "f8"
         },
         "yaxis": "y"
        },
        {
         "hovertemplate": "species=GSM<br>TIME_PERIOD=%{x}<br>OBS_VALUE=%{y}<extra></extra>",
         "legendgroup": "GSM",
         "marker": {
          "color": "#636efa",
          "symbol": "circle"
         },
         "mode": "markers",
         "name": "GSM",
         "showlegend": true,
         "type": "scattergl",
         "x": {
          "bdata": "4gfjB+UH5wc=",
          "dtype": "i2"
         },
         "xaxis": "x",
         "y": {
          "bdata": "BzptoBPOvEAmv1jyi1q6QJNfLPnFuJ9AxpJfLFkfwEA=",
          "dtype": "f8"
         },
         "yaxis": "y"
        },
        {
         "hovertemplate": "species=GUG<br>TIME_PERIOD=%{x}<br>OBS_VALUE=%{y}<extra></extra>",
         "legendgroup": "GUG",
         "marker": {
          "color": "#EF553B",
          "symbol": "circle"
         },
         "mode": "markers",
         "name": "GUG",
         "showlegend": true,
         "type": "scattergl",
         "x": {
          "bdata": "3wfgB+EH4gfjB+QH5QfmB+cH",
          "dtype": "i2"
         },
         "xaxis": "x",
         "y": {
          "bdata": "baDTBpr7AkG5HoXr0fnpQKRwPQr3uNpAtYFOG5Ax6EDv7u7uHqPnQImIiIiQTOtAG+i0gV5c9UARERER8cTdQIwlv1jysL5A",
          "dtype": "f8"
         },
         "yaxis": "y"
        },
        {
         "hovertemplate": "species=GUM<br>TIME_PERIOD=%{x}<br>OBS_VALUE=%{y}<extra></extra>",
         "legendgroup": "GUM",
         "marker": {
          "color": "#00cc96",
          "symbol": "circle"
         },
         "mode": "markers",
         "name": "GUM",
         "showlegend": true,
         "type": "scattergl",
         "x": {
          "bdata": "3wfhB+IH4wfkB+UH5gfnBw==",
          "dtype": "i2"
         },
         "xaxis": "x",
         "y": {
          "bdata": "LPnFkp8btEAiIiIiwnjIQCIiIiJKEuNAxpJfLNH24kBFRERExEDPQPnFkl/MUMBAq6qqqipzwUARERERcVrBQA==",
          "dtype": "f8"
         },
         "yaxis": "y"
        },
        {
         "hovertemplate": "species=GUN<br>TIME_PERIOD=%{x}<br>OBS_VALUE=%{y}<extra></extra>",
         "legendgroup": "GUN",
         "marker": {
          "color": "#ab63fa",
          "symbol": "circle"
         },
         "mode": "markers",
         "name": "GUN",
         "showlegend": true,
         "type": "scattergl",
         "x": {
          "bdata": "3wfgB+EH4gfjB+QH5QfmB+cH",
          "dtype": "i2"
         },
         "xaxis": "x",
         "y": {
          "bdata": "LfnFkv9K3UC8u7u7+/zcQKuqqqrKuNZAMzMzMzOsrEAt+cWS3x6qQNFpA502DK1AeHd3d39X+0AzMzMz25D5QNtApw2U7O1A",
          "dtype": "f8"
         },
         "yaxis": "y"
        },
        {
         "hovertemplate": "species=GUP<br>TIME_PERIOD=%{x}<br>OBS_VALUE=%{y}<extra></extra>",
         "legendgroup": "GUP",
         "marker": {
          "color": "#FFA15A",
          "symbol": "circle"
         },
         "mode": "markers",
         "name": "GUP",
         "showlegend": true,
         "type": "scattergl",
         "x": {
          "bdata": "4gfjBw==",
          "dtype": "i2"
         },
         "xaxis": "x",
         "y": {
          "bdata": "eHd3d3fbnEAEZe9rQlBXQA==",
          "dtype": "f8"
         },
         "yaxis": "y"
        },
        {
         "hovertemplate": "species=GUR<br>TIME_PERIOD=%{x}<br>OBS_VALUE=%{y}<extra></extra>",
         "legendgroup": "GUR",
         "marker": {
          "color": "#19d3f3",
          "symbol": "circle"
         },
         "mode": "markers",
         "name": "GUR",
         "showlegend": true,
         "type": "scattergl",
         "x": {
          "bdata": "3wfgB+EH4gfjB+QH5QfmB+cH",
          "dtype": "i2"
         },
         "xaxis": "x",
         "y": {
          "bdata": "G+i0gcBeEEFpA502vokNQSEiIiJSjQlB5RdLfimZD0E0MzMz2zgLQb9Y8osh1QRBq6qqqqY+AEHv7u7u5vYEQRlLfrHwJwZB",
          "dtype": "f8"
         },
         "yaxis": "y"
        },
        {
         "hovertemplate": "species=GUS<br>TIME_PERIOD=%{x}<br>OBS_VALUE=%{y}<extra></extra>",
         "legendgroup": "GUS",
         "marker": {
          "color": "#FF6692",
          "symbol": "circle"
         },
         "mode": "markers",
         "name": "GUS",
         "showlegend": true,
         "type": "scattergl",
         "x": {
          "bdata": "5QfnBw==",
          "dtype": "i2"
         },
         "xaxis": "x",
         "y": {
          "bdata": "7+7u7r507UB4d3d3V1/RQA==",
          "dtype": "f8"
         },
         "yaxis": "y"
        },
        {
         "hovertemplate": "species=GUU<br>TIME_PERIOD=%{x}<br>OBS_VALUE=%{y}<extra></extra>",
         "legendgroup": "GUU",
         "marker": {
          "color": "#B6E880",
          "symbol": "circle"
         },
         "mode": "markers",
         "name": "GUU",
         "showlegend": true,
         "type": "scattergl",
         "x": {
          "bdata": "3wfgB+EH4gfjB+QH5QfmB+cH",
          "dtype": "i2"
         },
         "xaxis": "x",
         "y": {
          "bdata": "QacNdP1uO0FI4XqUpgtAQb9Y8ovnwz1B57SBTrmtP0FQU8uGJPMxQTjQaQPh5StBiYiICJTMLkEiIiIiuVYoQXTaQKczuyJB",
          "dtype": "f8"
         },
         "yaxis": "y"
        },
        {
         "hovertemplate": "species=GUX<br>TIME_PERIOD=%{x}<br>OBS_VALUE=%{y}<extra></extra>",
         "legendgroup": "GUX",
         "marker": {
          "color": "#FF97FF",
          "symbol": "circle"
         },
         "mode": "markers",
         "name": "GUX",
         "showlegend": true,
         "type": "scattergl",
         "x": {
          "bdata": "zAfNB88H0AfRB9IH0wfUB9UH1gfXB9gH2QfaB9sH3AfdB94H4QflB+YH5wc=",
          "dtype": "i2"
         },
         "xaxis": "x",
         "y": {
          "bdata": "AAAAAAC4jEAAAAAAAACzQAAAAAAAiKVAqhb++SuA0kBUmU9D9+HwQPQiACUrzEdAAAAAAIClyEDLfBoKbgzQQEbeTB9wIztB59Z+JZkRQEFmZmamhC5KQa5H4frh20VB3Fukw77aPEEiIiJiCBtIQckvlnxShEtBJb9YMuIFSkEEnTZQD1FCQbu7u3upCEZB6LSBTlu91UAlv1jyC4D2QDMzMzPzfvpAThvotClL7kA=",
          "dtype": "f8"
         },
         "yaxis": "y"
        },
        {
         "hovertemplate": "species=HAL<br>TIME_PERIOD=%{x}<br>OBS_VALUE=%{y}<extra></extra>",
         "legendgroup": "HAL",
         "marker": {
          "color": "#FECB52",
          "symbol": "circle"
         },
         "mode": "markers",
         "name": "HAL",
         "showlegend": true,
         "type": "scattergl",
         "x": {
          "bdata": "3wflBw==",
          "dtype": "i2"
         },
         "xaxis": "x",
         "y": {
          "bdata": "AAAAAAAAAABpA5020E+uQA==",
          "dtype": "f8"
         },
         "yaxis": "y"
        },
        {
         "hovertemplate": "species=HKE<br>TIME_PERIOD=%{x}<br>OBS_VALUE=%{y}<extra></extra>",
         "legendgroup": "HKE",
         "marker": {
          "color": "#636efa",
          "symbol": "circle"
         },
         "mode": "markers",
         "name": "HKE",
         "showlegend": true,
         "type": "scattergl",
         "x": {
          "bdata": "yAfJB8oHywfMB80HzgfPB9AH0QfSB9MH1AfVB9YH1wfYB9kH2gfbB9wH3QfeB98H4AfhB+IH4wfkB+UH5gfnBw==",
          "dtype": "i2"
         },
         "xaxis": "x",
         "y": {
          "bdata": "VVVVvRV2gEGrqqrK8ViBQVVVVU2ak4FBHMdx3GNAdkGrqqoaWZt2QVVVVdUsGXZBAAAAgDeBc0EAAAAArdNuQdIA3q5JVG5BPujZlEfyX0HoJOyx1vmxQDEIrNwFhVpBrD8Ro3QtYEEiL35JSMt1QSuct6s6aHlBlt98mG19dEGLo4VsFqlxQVw9J2naRnFBS36x2CTIfUGrqqrqZWF7QYXrURAxpHdBGUt+lYlhdUGamZlpkkV0QRvotMFt63VBtYFOQ40xdUHUBjqdLdVzQVGolBZ0hWRBpHA96vg0b0Hd4vRmgxdgQZkF7TzZLmBBn+qQ6UDEYEHmF0uOFmRsQQ==",
          "dtype": "f8"
         },
         "yaxis": "y"
        },
        {
         "hovertemplate": "species=HMM<br>TIME_PERIOD=%{x}<br>OBS_VALUE=%{y}<extra></extra>",
         "legendgroup": "HMM",
         "marker": {
          "color": "#EF553B",
          "symbol": "circle"
         },
         "mode": "markers",
         "name": "HMM",
         "showlegend": true,
         "type": "scattergl",
         "x": {
          "bdata": "3wfgB+EH4gfjB+QH5QfmB+cH",
          "dtype": "i2"
         },
         "xaxis": "x",
         "y": {
          "bdata": "N9BpA1WzHEGh0wY6Wb4eQa5H4XqodSFBJr9Y8hKZHEEb6LSB8L0XQfrFkl9UCwxBS36x5CHTBkFFREREJH3/QKuqqqpOMPdA",
          "dtype": "f8"
         },
         "yaxis": "y"
        },
        {
         "hovertemplate": "species=HMY<br>TIME_PERIOD=%{x}<br>OBS_VALUE=%{y}<extra></extra>",
         "legendgroup": "HMY",
         "marker": {
          "color": "#00cc96",
          "symbol": "circle"
         },
         "mode": "markers",
         "name": "HMY",
         "showlegend": true,
         "type": "scattergl",
         "x": {
          "bdata": "4wc=",
          "dtype": "i2"
         },
         "xaxis": "x",
         "y": {
          "bdata": "gynyWTdYWUA=",
          "dtype": "f8"
         },
         "yaxis": "y"
        },
        {
         "hovertemplate": "species=HOM<br>TIME_PERIOD=%{x}<br>OBS_VALUE=%{y}<extra></extra>",
         "legendgroup": "HOM",
         "marker": {
          "color": "#ab63fa",
          "symbol": "circle"
         },
         "mode": "markers",
         "name": "HOM",
         "showlegend": true,
         "type": "scattergl",
         "x": {
          "bdata": "3wfgB+EH4gfjB+QH5QfmB+cH",
          "dtype": "i2"
         },
         "xaxis": "x",
         "y": {
          "bdata": "ERER0XkqM0FFREQEfjkzQYiIiMgqXTRBcT0K14azNkFgLPnFObUvQWLJL5Z0ZR9BVVVVVWOsKUF4d3d3xM4oQSIiIiJkWyxB",
          "dtype": "f8"
         },
         "yaxis": "y"
        },
        {
         "hovertemplate": "species=HPR<br>TIME_PERIOD=%{x}<br>OBS_VALUE=%{y}<extra></extra>",
         "legendgroup": "HPR",
         "marker": {
          "color": "#FFA15A",
          "symbol": "circle"
         },
         "mode": "markers",
         "name": "HPR",
         "showlegend": true,
         "type": "scattergl",
         "x": {
          "bdata": "4gfjBw==",
          "dtype": "i2"
         },
         "xaxis": "x",
         "y": {
          "bdata": "baDTBjrBkUD5xZJfLCWLQA==",
          "dtype": "f8"
         },
         "yaxis": "y"
        },
        {
         "hovertemplate": "species=HXT<br>TIME_PERIOD=%{x}<br>OBS_VALUE=%{y}<extra></extra>",
         "legendgroup": "HXT",
         "marker": {
          "color": "#19d3f3",
          "symbol": "circle"
         },
         "mode": "markers",
         "name": "HXT",
         "showlegend": true,
         "type": "scattergl",
         "x": {
          "bdata": "4AfjB+QH5QfmB+cH",
          "dtype": "i2"
         },
         "xaxis": "x",
         "y": {
          "bdata": "7FG4HoUTfkDJL5b84iGjQN7d3d1dCapAG+i0gU7bokDe3d3d3VynQN7d3d3dKZ1A",
          "dtype": "f8"
         },
         "yaxis": "y"
        },
        {
         "hovertemplate": "species=HYB<br>TIME_PERIOD=%{x}<br>OBS_VALUE=%{y}<extra></extra>",
         "legendgroup": "HYB",
         "marker": {
          "color": "#FF6692",
          "symbol": "circle"
         },
         "mode": "markers",
         "name": "HYB",
         "showlegend": true,
         "type": "scattergl",
         "x": {
          "bdata": "4wc=",
          "dtype": "i2"
         },
         "xaxis": "x",
         "y": {
          "bdata": "ILGAO/1RWkA=",
          "dtype": "f8"
         },
         "yaxis": "y"
        },
        {
         "hovertemplate": "species=HYS<br>TIME_PERIOD=%{x}<br>OBS_VALUE=%{y}<extra></extra>",
         "legendgroup": "HYS",
         "marker": {
          "color": "#B6E880",
          "symbol": "circle"
         },
         "mode": "markers",
         "name": "HYS",
         "showlegend": true,
         "type": "scattergl",
         "x": {
          "bdata": "4wc=",
          "dtype": "i2"
         },
         "xaxis": "x",
         "y": {
          "bdata": "GEt+seSelUA=",
          "dtype": "f8"
         },
         "yaxis": "y"
        },
        {
         "hovertemplate": "species=IAR<br>TIME_PERIOD=%{x}<br>OBS_VALUE=%{y}<extra></extra>",
         "legendgroup": "IAR",
         "marker": {
          "color": "#FF97FF",
          "symbol": "circle"
         },
         "mode": "markers",
         "name": "IAR",
         "showlegend": true,
         "type": "scattergl",
         "x": {
          "bdata": "4gfjB+QH5QfmB+cH",
          "dtype": "i2"
         },
         "xaxis": "x",
         "y": {
          "bdata": "Jr9Y8uNx60CamZmZybDtQDQzMzMz3d9Aq6qqqpKB8EBERERElHbhQK5H4Xo0ctRA",
          "dtype": "f8"
         },
         "yaxis": "y"
        },
        {
         "hovertemplate": "species=IIR<br>TIME_PERIOD=%{x}<br>OBS_VALUE=%{y}<extra></extra>",
         "legendgroup": "IIR",
         "marker": {
          "color": "#FECB52",
          "symbol": "circle"
         },
         "mode": "markers",
         "name": "IIR",
         "showlegend": true,
         "type": "scattergl",
         "x": {
          "bdata": "5AflB+YH5wc=",
          "dtype": "i2"
         },
         "xaxis": "x",
         "y": {
          "bdata": "Om2g0wagqUBBpw102gaiQN7d3d3doqNAsAlB2fs6ZkA=",
          "dtype": "f8"
         },
         "yaxis": "y"
        },
        {
         "hovertemplate": "species=ILL<br>TIME_PERIOD=%{x}<br>OBS_VALUE=%{y}<extra></extra>",
         "legendgroup": "ILL",
         "marker": {
          "color": "#636efa",
          "symbol": "circle"
         },
         "mode": "markers",
         "name": "ILL",
         "showlegend": true,
         "type": "scattergl",
         "x": {
          "bdata": "4gfjBw==",
          "dtype": "i2"
         },
         "xaxis": "x",
         "y": {
          "bdata": "k18s+eVw0UBVVVVV1TunQA==",
          "dtype": "f8"
         },
         "yaxis": "y"
        },
        {
         "hovertemplate": "species=JAA<br>TIME_PERIOD=%{x}<br>OBS_VALUE=%{y}<extra></extra>",
         "legendgroup": "JAA",
         "marker": {
          "color": "#EF553B",
          "symbol": "circle"
         },
         "mode": "markers",
         "name": "JAA",
         "showlegend": true,
         "type": "scattergl",
         "x": {
          "bdata": "4AfhB+IH4wfkB+UH5gfnBw==",
          "dtype": "i2"
         },
         "xaxis": "x",
         "y": {
          "bdata": "3t3d3d2fkEDNzMzMDBLOQNpApw10rqBAIiIiIiK2l0CIiIiIiFSXQO7u7u5uUcdAAAAAABC15EBnZmZmZh+8QA==",
          "dtype": "f8"
         },
         "yaxis": "y"
        },
        {
         "hovertemplate": "species=JAI<br>TIME_PERIOD=%{x}<br>OBS_VALUE=%{y}<extra></extra>",
         "legendgroup": "JAI",
         "marker": {
          "color": "#00cc96",
          "symbol": "circle"
         },
         "mode": "markers",
         "name": "JAI",
         "showlegend": true,
         "type": "scattergl",
         "x": {
          "bdata": "3wfgB+EH4gfjB+QH5QfmB+cH",
          "dtype": "i2"
         },
         "xaxis": "x",
         "y": {
          "bdata": "EREREcnK7UCnDXTaYG/uQGdmZmbm+sxAC/sUix9YAEHmF0t+o08HQUN4tHFu3eZA3t3d3UUl80ARERERYfLtQImIiIigSOZA",
          "dtype": "f8"
         },
         "yaxis": "y"
        },
        {
         "hovertemplate": "species=JAR<br>TIME_PERIOD=%{x}<br>OBS_VALUE=%{y}<extra></extra>",
         "legendgroup": "JAR",
         "marker": {
          "color": "#ab63fa",
          "symbol": "circle"
         },
         "mode": "markers",
         "name": "JAR",
         "showlegend": true,
         "type": "scattergl",
         "x": {
          "bdata": "4gfjB+QH5QfmB+cH",
          "dtype": "i2"
         },
         "xaxis": "x",
         "y": {
          "bdata": "MzMzM3MevUBMfrHkl6bDQIFOG+g0A79ADnTaQKd0n0B4d3d3d7mfQHsUrkfheoZA",
          "dtype": "f8"
         },
         "yaxis": "y"
        },
        {
         "hovertemplate": "species=JAX<br>TIME_PERIOD=%{x}<br>OBS_VALUE=%{y}<extra></extra>",
         "legendgroup": "JAX",
         "marker": {
          "color": "#FFA15A",
          "symbol": "circle"
         },
         "mode": "markers",
         "name": "JAX",
         "showlegend": true,
         "type": "scattergl",
         "x": {
          "bdata": "yAfJB8oHywfMB80HzgfPB9AH0QfSB9MH1AfVB9YH1wfYB9kH2gfbB9wH3QfeBw==",
          "dtype": "i2"
         },
         "xaxis": "x",
         "y": {
          "bdata": "q6qqqkEwP0Grqqqqn248QVVVVVUj0jZBAAAAAE/wOkFVVVVVDDM6QVVVVVWE8jNBVVVVVZ/kOkGrqqqq1Fw0QYIH8wQ/ejJBoYze9ouwOUGHgiwe8UiaQD58hs2hODJBOWpyPkqVM0HUvxFS1gBDQdpAp42OLUdBAAAAgBgaR0HRaQNdjLtAQZJfLHkJbEFBexSuh8+nQ0FVVVVVAbBDQZX8YknwrT5BPArXo7QGN0FmZmZmObE6QQ==",
          "dtype": "f8"
         },
         "yaxis": "y"
        },
        {
         "hovertemplate": "species=JAY<br>TIME_PERIOD=%{x}<br>OBS_VALUE=%{y}<extra></extra>",
         "legendgroup": "JAY",
         "marker": {
          "color": "#19d3f3",
          "symbol": "circle"
         },
         "mode": "markers",
         "name": "JAY",
         "showlegend": true,
         "type": "scattergl",
         "x": {
          "bdata": "4gfjB+QH5QfmB+cH",
          "dtype": "i2"
         },
         "xaxis": "x",
         "y": {
          "bdata": "57SBTttHvEAAAAAAgHDBQCIiIiKimctAexSuR+EYokDyWTeYIp9VQOQXS36xoJBA",
          "dtype": "f8"
         },
         "yaxis": "y"
        },
        {
         "hovertemplate": "species=JDP<br>TIME_PERIOD=%{x}<br>OBS_VALUE=%{y}<extra></extra>",
         "legendgroup": "JDP",
         "marker": {
          "color": "#FF6692",
          "symbol": "circle"
         },
         "mode": "markers",
         "name": "JDP",
         "showlegend": true,
         "type": "scattergl",
         "x": {
          "bdata": "4gfjBw==",
          "dtype": "i2"
         },
         "xaxis": "x",
         "y": {
          "bdata": "5RdLfrF/kkANdNpAp2WOQA==",
          "dtype": "f8"
         },
         "yaxis": "y"
        },
        {
         "hovertemplate": "species=JOD<br>TIME_PERIOD=%{x}<br>OBS_VALUE=%{y}<extra></extra>",
         "legendgroup": "JOD",
         "marker": {
          "color": "#B6E880",
          "symbol": "circle"
         },
         "mode": "markers",
         "name": "JOD",
         "showlegend": true,
         "type": "scattergl",
         "x": {
          "bdata": "1wfYB9kH2gfbB9wH3QfeB98H4AfhB+IH4wfkB+UH5gfnBw==",
          "dtype": "i2"
         },
         "xaxis": "x",
         "y": {
          "bdata": "HoXr0SBlMkGrqqqqG0AwQVVVVVW8lTJBOm2gE2jnMUEYS34xI/0vQZw20GmdhytBVVVV1QZFKkHaQKcNcjcpQTfQaQMyijFBBJ020BmlL0FMfrHkqQMnQRIREVEyzjVB+thKVXq7KEFGPy0ZrVMeQUGnDTROHzFB1eyB9gv+IEGMJb+YTXAwQQ==",
          "dtype": "f8"
         },
         "yaxis": "y"
        },
        {
         "hovertemplate": "species=JRS<br>TIME_PERIOD=%{x}<br>OBS_VALUE=%{y}<extra></extra>",
         "legendgroup": "JRS",
         "marker": {
          "color": "#FF97FF",
          "symbol": "circle"
         },
         "mode": "markers",
         "name": "JRS",
         "showlegend": true,
         "type": "scattergl",
         "x": {
          "bdata": "3wfgB+EH4gfjB+QH5QfmB+cH",
          "dtype": "i2"
         },
         "xaxis": "x",
         "y": {
          "bdata": "RURERByQCkFBpw10WjgBQW2g0wYQcQdBVVVVVU8lD0G8u7u7BBsSQbLkF0soJwZBaQOdNuokAUFFREREPHcEQaVwPQqXjAdB",
          "dtype": "f8"
         },
         "yaxis": "y"
        },
        {
         "hovertemplate": "species=JXX<br>TIME_PERIOD=%{x}<br>OBS_VALUE=%{y}<extra></extra>",
         "legendgroup": "JXX",
         "marker": {
          "color": "#FECB52",
          "symbol": "circle"
         },
         "mode": "markers",
         "name": "JXX",
         "showlegend": true,
         "type": "scattergl",
         "x": {
          "bdata": "5AflB+YH5wc=",
          "dtype": "i2"
         },
         "xaxis": "x",
         "y": {
          "bdata": "+cWSX5wx20Amv1jyKwLUQM3MzMzMCeRAISIiIuJ8xkA=",
          "dtype": "f8"
         },
         "yaxis": "y"
        },
        {
         "hovertemplate": "species=KDE<br>TIME_PERIOD=%{x}<br>OBS_VALUE=%{y}<extra></extra>",
         "legendgroup": "KDE",
         "marker": {
          "color": "#636efa",
          "symbol": "circle"
         },
         "mode": "markers",
         "name": "KDE",
         "showlegend": true,
         "type": "scattergl",
         "x": {
          "bdata": "4gfjB+QH",
          "dtype": "i2"
         },
         "xaxis": "x",
         "y": {
          "bdata": "Om2g04aFvUARERERUYjSQPUoXI/CU4FA",
          "dtype": "f8"
         },
         "yaxis": "y"
        },
        {
         "hovertemplate": "species=KLK<br>TIME_PERIOD=%{x}<br>OBS_VALUE=%{y}<extra></extra>",
         "legendgroup": "KLK",
         "marker": {
          "color": "#EF553B",
          "symbol": "circle"
         },
         "mode": "markers",
         "name": "KLK",
         "showlegend": true,
         "type": "scattergl",
         "x": {
          "bdata": "1wfYB9kH2gfbB9wH3QfeB98H4AfhB+IH4wfkB+UH5gfnBw==",
          "dtype": "i2"
         },
         "xaxis": "x",
         "y": {
          "bdata": "BJ02EBs6RUF4d3c3ix5DQUVERMSRYkZBIiIiAldqQ0EYS34RuXhDQXh3d/fDVUBBtYFOm//oQEE6baATTaI5QSIiIqKokzpBAAAAANrOOkGIiIgIqqY3QSIiIqLkF0JB0wY67VF4OUEHOm2gFE42QTfQacM9eUFBzczMTKJ+P0H8YskvFAE9QQ==",
          "dtype": "f8"
         },
         "yaxis": "y"
        },
        {
         "hovertemplate": "species=KOB<br>TIME_PERIOD=%{x}<br>OBS_VALUE=%{y}<extra></extra>",
         "legendgroup": "KOB",
         "marker": {
          "color": "#00cc96",
          "symbol": "circle"
         },
         "mode": "markers",
         "name": "KOB",
         "showlegend": true,
         "type": "scattergl",
         "x": {
          "bdata": "5Qc=",
          "dtype": "i2"
         },
         "xaxis": "x",
         "y": {
          "bdata": "U+SzbjBFZEA=",
          "dtype": "f8"
         },
         "yaxis": "y"
        },
        {
         "hovertemplate": "species=LBE<br>TIME_PERIOD=%{x}<br>OBS_VALUE=%{y}<extra></extra>",
         "legendgroup": "LBE",
         "marker": {
          "color": "#ab63fa",
          "symbol": "circle"
         },
         "mode": "markers",
         "name": "LBE",
         "showlegend": true,
         "type": "scattergl",
         "x": {
          "bdata": "1QfWB9cH2AfZB9oH2wfcB90H3gffB+AH4QfiB+MH5AflB+YH5wc=",
          "dtype": "i2"
         },
         "xaxis": "x",
         "y": {
          "bdata": "6CDVnXAXBkGrqqqqikgFQbu7u7sjBAZBaQOdNmhdCkEAAAAAcOMOQRhLfrFQIRJBhetRuNp1DkEs+cWSE3kJQWAs+cVgBwtBiIiIiKALB0EUrkfhPiYEQYFOG+ie9ApBq6qqqqZ8CEENdNpAc1YEQauqqqqC0BFBVVVVVWkQBUGnDXTaUFAAQSIiIiIy9QFBu7u7u4uHA0E=",
          "dtype": "f8"
         },
         "yaxis": "y"
        },
        {
         "hovertemplate": "species=LDB<br>TIME_PERIOD=%{x}<br>OBS_VALUE=%{y}<extra></extra>",
         "legendgroup": "LDB",
         "marker": {
          "color": "#FFA15A",
          "symbol": "circle"
         },
         "mode": "markers",
         "name": "LDB",
         "showlegend": true,
         "type": "scattergl",
         "x": {
          "bdata": "4QfiB+MH5Ac=",
          "dtype": "i2"
         },
         "xaxis": "x",
         "y": {
          "bdata": "C9ejcD3npkAHOm2gK4D1QIXrUbiuRvFAOm2g0wbJpUA=",
          "dtype": "f8"
         },
         "yaxis": "y"
        },
        {
         "hovertemplate": "species=LDV<br>TIME_PERIOD=%{x}<br>OBS_VALUE=%{y}<extra></extra>",
         "legendgroup": "LDV",
         "marker": {
          "color": "#19d3f3",
          "symbol": "circle"
         },
         "mode": "markers",
         "name": "LDV",
         "showlegend": true,
         "type": "scattergl",
         "x": {
          "bdata": "4QfiB+MH5AflB+YH5wc=",
          "dtype": "i2"
         },
         "xaxis": "x",
         "y": {
          "bdata": "56FjeHF+aEBFRERERIvWQOQXS36RMtJAlvxiyd+l0EBI4XoUrvaxQEVERETELb9ASOF6FG7Ds0A=",
          "dtype": "f8"
         },
         "yaxis": "y"
        },
        {
         "hovertemplate": "species=LEE<br>TIME_PERIOD=%{x}<br>OBS_VALUE=%{y}<extra></extra>",
         "legendgroup": "LEE",
         "marker": {
          "color": "#FF6692",
          "symbol": "circle"
         },
         "mode": "markers",
         "name": "LEE",
         "showlegend": true,
         "type": "scattergl",
         "x": {
          "bdata": "1wfYB9kH2gfbB9wH3QfeB98H4AfhB+IH4wfkB+UH5gfnBw==",
          "dtype": "i2"
         },
         "xaxis": "x",
         "y": {
          "bdata": "KFyPwtVT9EBVVVVVxXbjQIJOG+hEkfFAWfKLJd/47kBiyS+WZLv5QD4K16MQ2PNAOm2g09T1EUGIiIiIdqgLQe/u7u6GSgpBKFyPwlEgB0F7FK5HpUz3QL9Y8ouxshBBdNpAp4WfAkFOG+i0sUj0QBzotIFGqfFAAAAAAPgsA0F4d3d3V6z4QA==",
          "dtype": "f8"
         },
         "yaxis": "y"
        },
        {
         "hovertemplate": "species=LEM<br>TIME_PERIOD=%{x}<br>OBS_VALUE=%{y}<extra></extra>",
         "legendgroup": "LEM",
         "marker": {
          "color": "#B6E880",
          "symbol": "circle"
         },
         "mode": "markers",
         "name": "LEM",
         "showlegend": true,
         "type": "scattergl",
         "x": {
          "bdata": "ywfMBw==",
          "dtype": "i2"
         },
         "xaxis": "x",
         "y": {
          "bdata": "q6qqqqo7tkBVVVVVVX++QA==",
          "dtype": "f8"
         },
         "yaxis": "y"
        },
        {
         "hovertemplate": "species=LEP<br>TIME_PERIOD=%{x}<br>OBS_VALUE=%{y}<extra></extra>",
         "legendgroup": "LEP",
         "marker": {
          "color": "#FF97FF",
          "symbol": "circle"
         },
         "mode": "markers",
         "name": "LEP",
         "showlegend": true,
         "type": "scattergl",
         "x": {
          "bdata": "4QfiB+MH5AflB+YH5wc=",
          "dtype": "i2"
         },
         "xaxis": "x",
         "y": {
          "bdata": "yS+W/KJSs0B4d3d3l0zLQDwK16PwAMhApw102uCmxkB4d3d391q0QIiIiIiI8K5A1AY6baDtokA=",
          "dtype": "f8"
         },
         "yaxis": "y"
        },
        {
         "hovertemplate": "species=LEZ<br>TIME_PERIOD=%{x}<br>OBS_VALUE=%{y}<extra></extra>",
         "legendgroup": "LEZ",
         "marker": {
          "color": "#FECB52",
          "symbol": "circle"
         },
         "mode": "markers",
         "name": "LEZ",
         "showlegend": true,
         "type": "scattergl",
         "x": {
          "bdata": "5AflB+YH5wc=",
          "dtype": "i2"
         },
         "xaxis": "x",
         "y": {
          "bdata": "YCz5xRrj6kBtoNMGOjrcQJmZmZkpQOBAVVVVVXWd40A=",
          "dtype": "f8"
         },
         "yaxis": "y"
        },
        {
         "hovertemplate": "species=LKN<br>TIME_PERIOD=%{x}<br>OBS_VALUE=%{y}<extra></extra>",
         "legendgroup": "LKN",
         "marker": {
          "color": "#636efa",
          "symbol": "circle"
         },
         "mode": "markers",
         "name": "LKN",
         "showlegend": true,
         "type": "scattergl",
         "x": {
          "bdata": "4gfjBw==",
          "dtype": "i2"
         },
         "xaxis": "x",
         "y": {
          "bdata": "ERERERGClECamZmZmeOUQA==",
          "dtype": "f8"
         },
         "yaxis": "y"
        },
        {
         "hovertemplate": "species=LKW<br>TIME_PERIOD=%{x}<br>OBS_VALUE=%{y}<extra></extra>",
         "legendgroup": "LKW",
         "marker": {
          "color": "#EF553B",
          "symbol": "circle"
         },
         "mode": "markers",
         "name": "LKW",
         "showlegend": true,
         "type": "scattergl",
         "x": {
          "bdata": "4gfjB+QH5QfnBw==",
          "dtype": "i2"
         },
         "xaxis": "x",
         "y": {
          "bdata": "5r6vJBcOJUHWvShUA+kjQSa/WPJLP9NA8oslvxigvEARERER0a3CQA==",
          "dtype": "f8"
         },
         "yaxis": "y"
        },
        {
         "hovertemplate": "species=LNZ<br>TIME_PERIOD=%{x}<br>OBS_VALUE=%{y}<extra></extra>",
         "legendgroup": "LNZ",
         "marker": {
          "color": "#00cc96",
          "symbol": "circle"
         },
         "mode": "markers",
         "name": "LNZ",
         "showlegend": true,
         "type": "scattergl",
         "x": {
          "bdata": "1QfWBw==",
          "dtype": "i2"
         },
         "xaxis": "x",
         "y": {
          "bdata": "LLKd7yce2kARERER0fjbQA==",
          "dtype": "f8"
         },
         "yaxis": "y"
        },
        {
         "hovertemplate": "species=LTA<br>TIME_PERIOD=%{x}<br>OBS_VALUE=%{y}<extra></extra>",
         "legendgroup": "LTA",
         "marker": {
          "color": "#ab63fa",
          "symbol": "circle"
         },
         "mode": "markers",
         "name": "LTA",
         "showlegend": true,
         "type": "scattergl",
         "x": {
          "bdata": "1wfYB9kH2gfbB9wH3QfeB98H4AfhB+IH4wfkB+UH5gfnBw==",
          "dtype": "i2"
         },
         "xaxis": "x",
         "y": {
          "bdata": "pHA9Ch/jH0HGkl8s9RsYQSz5xZJJLCdBfrHkF+orIEERERERaekcQXd3d3cnqBtBAAAAACStIkHlF0t+vdMgQXd3d3c/1ShBREREhBNWMEGu73K0SJQhQWAs+cUg9C1Bq6qq6hRQNUF+seQXjH0yQUVERER+sCNB7+7u7rRUJEHRaQOd9IkvQQ==",
          "dtype": "f8"
         },
         "yaxis": "y"
        },
        {
         "hovertemplate": "species=LZS<br>TIME_PERIOD=%{x}<br>OBS_VALUE=%{y}<extra></extra>",
         "legendgroup": "LZS",
         "marker": {
          "color": "#FFA15A",
          "symbol": "circle"
         },
         "mode": "markers",
         "name": "LZS",
         "showlegend": true,
         "type": "scattergl",
         "x": {
          "bdata": "3wfgB+EH4wc=",
          "dtype": "i2"
         },
         "xaxis": "x",
         "y": {
          "bdata": "pHA9ChcyskBTuB6F6w6sQLLkF0vMkg1BdNpApw2hyEA=",
          "dtype": "f8"
         },
         "yaxis": "y"
        },
        {
         "hovertemplate": "species=LZZ<br>TIME_PERIOD=%{x}<br>OBS_VALUE=%{y}<extra></extra>",
         "legendgroup": "LZZ",
         "marker": {
          "color": "#19d3f3",
          "symbol": "circle"
         },
         "mode": "markers",
         "name": "LZZ",
         "showlegend": true,
         "type": "scattergl",
         "x": {
          "bdata": "5AflB+YH5wc=",
          "dtype": "i2"
         },
         "xaxis": "x",
         "y": {
          "bdata": "BzptICTqKUGCThvosE4QQZqZmZktAh1BIiIiIt5mL0E=",
          "dtype": "f8"
         },
         "yaxis": "y"
        },
        {
         "hovertemplate": "species=MAC<br>TIME_PERIOD=%{x}<br>OBS_VALUE=%{y}<extra></extra>",
         "legendgroup": "MAC",
         "marker": {
          "color": "#FF6692",
          "symbol": "circle"
         },
         "mode": "markers",
         "name": "MAC",
         "showlegend": true,
         "type": "scattergl",
         "x": {
          "bdata": "1QfWB9cH2AfZB9oH2wfcB90H3gffB+AH4QfiB+MH5AflB+YH5wc=",
          "dtype": "i2"
         },
         "xaxis": "x",
         "y": {
          "bdata": "FPidmW8kQEE6baDTito5QauqqqoxrDdBpHA9yhYvMkERERER9qg1QW6g0wYeYjZBw/Uo3DpSMkFY8oulcTQyQb9Y8kvKjDVBOm2gU3BUNEHGkl9s9W8xQTGW/GL8yCVB7+7u7ouaM0EiIiKiizI4QZf8YsnEkTVBS36xZL1LJ0FApw30gQ8oQbu7u7tUwiRBq6qqqoI3HkE=",
          "dtype": "f8"
         },
         "yaxis": "y"
        },
        {
         "hovertemplate": "species=MAZ<br>TIME_PERIOD=%{x}<br>OBS_VALUE=%{y}<extra></extra>",
         "legendgroup": "MAZ",
         "marker": {
          "color": "#B6E880",
          "symbol": "circle"
         },
         "mode": "markers",
         "name": "MAZ",
         "showlegend": true,
         "type": "scattergl",
         "x": {
          "bdata": "yAfJB8oHywfMB80HzgfPB9AH0QfSB9MH1AfVB9YH4gfjB+QH5QfmB+cH",
          "dtype": "i2"
         },
         "xaxis": "x",
         "y": {
          "bdata": "AAAAABzURUFVVVXVpPtHQVVVVVXOgEBBAAAAgKLpRUFVVVVV7ApMQVVVVVWiPkpBAAAAgIQgS0EAAACA2mFGQZCdyoRdNEdBVzaG44q+TEFWM1he39OrQHL24fOpaEdBLfzztwNeQkEkTam4aLkiQfxiyS8rnR5BR+F6FJ5G50BxPQrXO1TgQHTaQKf9selAeHd3d3emm0AiIiIiIjCRQH6x5BdLq5ZA",
          "dtype": "f8"
         },
         "yaxis": "y"
        },
        {
         "hovertemplate": "species=MEG<br>TIME_PERIOD=%{x}<br>OBS_VALUE=%{y}<extra></extra>",
         "legendgroup": "MEG",
         "marker": {
          "color": "#FF97FF",
          "symbol": "circle"
         },
         "mode": "markers",
         "name": "MEG",
         "showlegend": true,
         "type": "scattergl",
         "x": {
          "bdata": "1QfWB+IH4wc=",
          "dtype": "i2"
         },
         "xaxis": "x",
         "y": {
          "bdata": "AAAAAIBTyUAAAAAAAAAAAGAs+cVS+ctAqqqqqoqm0EA=",
          "dtype": "f8"
         },
         "yaxis": "y"
        },
        {
         "hovertemplate": "species=MGA<br>TIME_PERIOD=%{x}<br>OBS_VALUE=%{y}<extra></extra>",
         "legendgroup": "MGA",
         "marker": {
          "color": "#FECB52",
          "symbol": "circle"
         },
         "mode": "markers",
         "name": "MGA",
         "showlegend": true,
         "type": "scattergl",
         "x": {
          "bdata": "3wfgB+EH4gfjB+QH",
          "dtype": "i2"
         },
         "xaxis": "x",
         "y": {
          "bdata": "7+7u7vYOBkGPwvUo5NcIQauqqqpGCxtB3t3d3b0R30De3d3dlUjwQMaSXyz5iqdA",
          "dtype": "f8"
         },
         "yaxis": "y"
        },
        {
         "hovertemplate": "species=MGC<br>TIME_PERIOD=%{x}<br>OBS_VALUE=%{y}<extra></extra>",
         "legendgroup": "MGC",
         "marker": {
          "color": "#636efa",
          "symbol": "circle"
         },
         "mode": "markers",
         "name": "MGC",
         "showlegend": true,
         "type": "scattergl",
         "x": {
          "bdata": "3wfgB+EH4gfjB+QH",
          "dtype": "i2"
         },
         "xaxis": "x",
         "y": {
          "bdata": "EhEREfvDG0GkcD0KyEkeQTwK16PUdR9BRERERP4REEFLfrHk3LolQT4K16NwhYpA",
          "dtype": "f8"
         },
         "yaxis": "y"
        },
        {
         "hovertemplate": "species=MGS<br>TIME_PERIOD=%{x}<br>OBS_VALUE=%{y}<extra></extra>",
         "legendgroup": "MGS",
         "marker": {
          "color": "#EF553B",
          "symbol": "circle"
         },
         "mode": "markers",
         "name": "MGS",
         "showlegend": true,
         "type": "scattergl",
         "x": {
          "bdata": "4wc=",
          "dtype": "i2"
         },
         "xaxis": "x",
         "y": {
          "bdata": "w/UoXA+RwUA=",
          "dtype": "f8"
         },
         "yaxis": "y"
        },
        {
         "hovertemplate": "species=MKG<br>TIME_PERIOD=%{x}<br>OBS_VALUE=%{y}<extra></extra>",
         "legendgroup": "MKG",
         "marker": {
          "color": "#00cc96",
          "symbol": "circle"
         },
         "mode": "markers",
         "name": "MKG",
         "showlegend": true,
         "type": "scattergl",
         "x": {
          "bdata": "4gfjBw==",
          "dtype": "i2"
         },
         "xaxis": "x",
         "y": {
          "bdata": "84slv1gcrUC/WPKLJUCpQA==",
          "dtype": "f8"
         },
         "yaxis": "y"
        },
        {
         "hovertemplate": "species=MLR<br>TIME_PERIOD=%{x}<br>OBS_VALUE=%{y}<extra></extra>",
         "legendgroup": "MLR",
         "marker": {
          "color": "#ab63fa",
          "symbol": "circle"
         },
         "mode": "markers",
         "name": "MLR",
         "showlegend": true,
         "type": "scattergl",
         "x": {
          "bdata": "4gfjB+QH",
          "dtype": "i2"
         },
         "xaxis": "x",
         "y": {
          "bdata": "7+7u7m4GwUBBpw102j7BQK5H4XoUkZlA",
          "dtype": "f8"
         },
         "yaxis": "y"
        },
        {
         "hovertemplate": "species=MMH<br>TIME_PERIOD=%{x}<br>OBS_VALUE=%{y}<extra></extra>",
         "legendgroup": "MMH",
         "marker": {
          "color": "#FFA15A",
          "symbol": "circle"
         },
         "mode": "markers",
         "name": "MMH",
         "showlegend": true,
         "type": "scattergl",
         "x": {
          "bdata": "3wfgB+EH4gfjB+QH5QfmB+cH",
          "dtype": "i2"
         },
         "xaxis": "x",
         "y": {
          "bdata": "ERERET2QAEFVVVVVhSUAQTttoNPkxgVBMzMzM+9bC0GMJb9Y2hENQdFpA50SmAdBVVVVVdlXBEGrqqqqtrsEQZf8YskbHQdB",
          "dtype": "f8"
         },
         "yaxis": "y"
        },
        {
         "hovertemplate": "species=MNZ<br>TIME_PERIOD=%{x}<br>OBS_VALUE=%{y}<extra></extra>",
         "legendgroup": "MNZ",
         "marker": {
          "color": "#19d3f3",
          "symbol": "circle"
         },
         "mode": "markers",
         "name": "MNZ",
         "showlegend": true,
         "type": "scattergl",
         "x": {
          "bdata": "1QfWB9cH2AfZB9oH2wfcB90H3gflB+YH5wc=",
          "dtype": "i2"
         },
         "xaxis": "x",
         "y": {
          "bdata": "1AY6ZZyzU0GW/GJ5VTpVQckvlpx1AVRB1AY6rcr6UUEAAABwf7JTQS+W/OIKB1VB7FG4fo2kU0HXo3B93UhRQSz5xZIXSEtBIiIioj7+SEHWDabIZ11RQGZmZmZmDaRAwhT5rBvsZkA=",
          "dtype": "f8"
         },
         "yaxis": "y"
        },
        {
         "hovertemplate": "species=MOL<br>TIME_PERIOD=%{x}<br>OBS_VALUE=%{y}<extra></extra>",
         "legendgroup": "MOL",
         "marker": {
          "color": "#FF6692",
          "symbol": "circle"
         },
         "mode": "markers",
         "name": "MOL",
         "showlegend": true,
         "type": "scattergl",
         "x": {
          "bdata": "yAfJB8oHywfMB80HzgfPB9AH0QfSB9MH1AfVB9YH1wfYB9kH2gfbB9wH3QfeB98H4AfhB+IH4wfkB+UH5gfnBw==",
          "dtype": "i2"
         },
         "xaxis": "x",
         "y": {
          "bdata": "AAAAiMxeh0EAAABAAuGEQQAAAEBLzX9B5DiOs1DbekEAAACgyA2BQRzHcQy4D3xBVVVVZSDifUHkOI7j3pF8Qcxqp7IsAoFBov1TTi8lgUF3uYjvlufkQNLe4C+8GplBGUu+LegKmEESg8AuP7dvQUCnDRTK7mpBREREROYjLUGPwvUoDrQvQauqqipLKy1B5hdL/p84KUFSuB4FGZItQUGnDbRMFDNBL5b8Yo2vHEHlF0t+m3grQckvlvyexSNBBJ020Er/JEHL8LKZO9EsQeF6FK4CPDFBWfKLJYYiNUFEREREOIYSQQAAAABItAFB3t3d3R1x/EDe3d3dOWfxQA==",
          "dtype": "f8"
         },
         "yaxis": "y"
        },
        {
         "hovertemplate": "species=MON<br>TIME_PERIOD=%{x}<br>OBS_VALUE=%{y}<extra></extra>",
         "legendgroup": "MON",
         "marker": {
          "color": "#B6E880",
          "symbol": "circle"
         },
         "mode": "markers",
         "name": "MON",
         "showlegend": true,
         "type": "scattergl",
         "x": {
          "bdata": "3wfgB+EH4gfjB+QH5QfmB+cH",
          "dtype": "i2"
         },
         "xaxis": "x",
         "y": {
          "bdata": "mZmZGaHlLEHJL5b8E50wQe/u7m5pniFBVVVVVZczKkFK/6UfEz4fQVyPwrUGgRRB12670BDVOEE3ww2Iybo2QTCW/OK45UBB",
          "dtype": "f8"
         },
         "yaxis": "y"
        },
        {
         "hovertemplate": "species=MPO<br>TIME_PERIOD=%{x}<br>OBS_VALUE=%{y}<extra></extra>",
         "legendgroup": "MPO",
         "marker": {
          "color": "#FF97FF",
          "symbol": "circle"
         },
         "mode": "markers",
         "name": "MPO",
         "showlegend": true,
         "type": "scattergl",
         "x": {
          "bdata": "4gfjBw==",
          "dtype": "i2"
         },
         "xaxis": "x",
         "y": {
          "bdata": "8oslv1gOk0AOdNpApwWEQA==",
          "dtype": "f8"
         },
         "yaxis": "y"
        },
        {
         "hovertemplate": "species=MPT<br>TIME_PERIOD=%{x}<br>OBS_VALUE=%{y}<extra></extra>",
         "legendgroup": "MPT",
         "marker": {
          "color": "#FECB52",
          "symbol": "circle"
         },
         "mode": "markers",
         "name": "MPT",
         "showlegend": true,
         "type": "scattergl",
         "x": {
          "bdata": "3wfgB+EH4gfjB+QH",
          "dtype": "i2"
         },
         "xaxis": "x",
         "y": {
          "bdata": "WfKLJTf+FEEpXI/CQRYdQQHU1DLK2g1BZ2ZmZmQ7AkGkcD0K32ABQQ502kCnfalA",
          "dtype": "f8"
         },
         "yaxis": "y"
        },
        {
         "hovertemplate": "species=MRK<br>TIME_PERIOD=%{x}<br>OBS_VALUE=%{y}<extra></extra>",
         "legendgroup": "MRK",
         "marker": {
          "color": "#636efa",
          "symbol": "circle"
         },
         "mode": "markers",
         "name": "MRK",
         "showlegend": true,
         "type": "scattergl",
         "x": {
          "bdata": "4gfjBw==",
          "dtype": "i2"
         },
         "xaxis": "x",
         "y": {
          "bdata": "ERERERHVmEDUBjptoMOZQA==",
          "dtype": "f8"
         },
         "yaxis": "y"
        },
        {
         "hovertemplate": "species=MSF<br>TIME_PERIOD=%{x}<br>OBS_VALUE=%{y}<extra></extra>",
         "legendgroup": "MSF",
         "marker": {
          "color": "#EF553B",
          "symbol": "circle"
         },
         "mode": "markers",
         "name": "MSF",
         "showlegend": true,
         "type": "scattergl",
         "x": {
          "bdata": "3wfgB+EH4gfjB+QH5QfnBw==",
          "dtype": "i2"
         },
         "xaxis": "x",
         "y": {
          "bdata": "UrgeheycJEEdpLoTGjAhQQko+mlVPh5Bsw+f4aT4GkFDNqP5tREdQaHTBjpNzNpAp6Y3NlDGAEHaQKcNcNIHQQ==",
          "dtype": "f8"
         },
         "yaxis": "y"
        },
        {
         "hovertemplate": "species=MSM<br>TIME_PERIOD=%{x}<br>OBS_VALUE=%{y}<extra></extra>",
         "legendgroup": "MSM",
         "marker": {
          "color": "#00cc96",
          "symbol": "circle"
         },
         "mode": "markers",
         "name": "MSM",
         "showlegend": true,
         "type": "scattergl",
         "x": {
          "bdata": "4gfjB+QH5Qc=",
          "dtype": "i2"
         },
         "xaxis": "x",
         "y": {
          "bdata": "rkfheriPFEEHOm2gPDwgQSa/WPIfihZBAAAAAIwfGkE=",
          "dtype": "f8"
         },
         "yaxis": "y"
        },
        {
         "hovertemplate": "species=MSP<br>TIME_PERIOD=%{x}<br>OBS_VALUE=%{y}<extra></extra>",
         "legendgroup": "MSP",
         "marker": {
          "color": "#ab63fa",
          "symbol": "circle"
         },
         "mode": "markers",
         "name": "MSP",
         "showlegend": true,
         "type": "scattergl",
         "x": {
          "bdata": "4gfjB+QH5QfmB+cH",
          "dtype": "i2"
         },
         "xaxis": "x",
         "y": {
          "bdata": "EhEREZGf10BmZmZmRhXsQDptoNPmx9lArkfhetQB4ECrqqqqqo8MQYXrUbheeNtA",
          "dtype": "f8"
         },
         "yaxis": "y"
        },
        {
         "hovertemplate": "species=MTS<br>TIME_PERIOD=%{x}<br>OBS_VALUE=%{y}<extra></extra>",
         "legendgroup": "MTS",
         "marker": {
          "color": "#FFA15A",
          "symbol": "circle"
         },
         "mode": "markers",
         "name": "MTS",
         "showlegend": true,
         "type": "scattergl",
         "x": {
          "bdata": "1QfWB9cH2AfZB9oH2wfcB90H3gffB+AH4QfiB+MH5AflB+YH5wc=",
          "dtype": "i2"
         },
         "xaxis": "x",
         "y": {
          "bdata": "7+7usGHZZkEL16MQR39qQWLJLzZgmGtBAAAAuH0TaUFVVVUla0dpQVVVVa14BmdB7+7uvgDVZkFxPQqXGrtiQVK4Ht1WB2JBBzptAGhQYUF4d3e/+VxjQZqZmRm7C2RBS36xzHEqYUHRaQP9z/pkQfnFkr8nuF9B+cWSn3tyWUEDnTZAMj9gQauqqgqLb2BBKVyPwlpBXkE=",
          "dtype": "f8"
         },
         "yaxis": "y"
        },
        {
         "hovertemplate": "species=MUE<br>TIME_PERIOD=%{x}<br>OBS_VALUE=%{y}<extra></extra>",
         "legendgroup": "MUE",
         "marker": {
          "color": "#19d3f3",
          "symbol": "circle"
         },
         "mode": "markers",
         "name": "MUE",
         "showlegend": true,
         "type": "scattergl",
         "x": {
          "bdata": "3wfgB+EH4gfjB+QH5QfmB+cH",
          "dtype": "i2"
         },
         "xaxis": "x",
         "y": {
          "bdata": "eHd3dyH9FEG/WPKLrZYaQZf8Yslvm91AVVVVVQHq/kBmZmZmdl/9QM3MzMyMV/VAsuQXS/4A40Dv7u7urqvDQJqZmZmJY9NA",
          "dtype": "f8"
         },
         "yaxis": "y"
        },
        {
         "hovertemplate": "species=MUF<br>TIME_PERIOD=%{x}<br>OBS_VALUE=%{y}<extra></extra>",
         "legendgroup": "MUF",
         "marker": {
          "color": "#FF6692",
          "symbol": "circle"
         },
         "mode": "markers",
         "name": "MUF",
         "showlegend": true,
         "type": "scattergl",
         "x": {
          "bdata": "3wfgB+EH4gfjB+QH",
          "dtype": "i2"
         },
         "xaxis": "x",
         "y": {
          "bdata": "L5b8YqnD5EAAAAAAQJ3aQG6g0wb3ABlBBJ020Amd4UDotIFO21/vQDMzMzMzMq9A",
          "dtype": "f8"
         },
         "yaxis": "y"
        },
        {
         "hovertemplate": "species=MUL<br>TIME_PERIOD=%{x}<br>OBS_VALUE=%{y}<extra></extra>",
         "legendgroup": "MUL",
         "marker": {
          "color": "#B6E880",
          "symbol": "circle"
         },
         "mode": "markers",
         "name": "MUL",
         "showlegend": true,
         "type": "scattergl",
         "x": {
          "bdata": "yAfJB8oHywfMB80HzgfPB9AH0QfSB9MH1AfVB9YH1wfYB9kH2gfbB9wH3QfeB98H4AfhB+IH4wfkB+UH5gfnBw==",
          "dtype": "i2"
         },
         "xaxis": "x",
         "y": {
          "bdata": "q6qqqqPiTEEAAAAA+JxLQQAAAICVvURBVVVVVTFYSUGrqqrqHDxRQauqqir7nkZBq6qqqlXuRkFVVVXVGL1EQRx8YRL9vkFBp+hIjuSYRUEtRkqgbs2pQJhxQOiLKUNB1QyWx6x/R0Fkggdzn99AQSz5xZICiTVB57SBTlIvOkFgLPnFQLs0QUt+saRDzjNBL5b8YoBbNkEEnTZQJEBBQVVVVZVjmztBq6qqKgsjPkERERHRYhc+QcL1KNw5azFBYskvFprnNUGBThvodOPUQHh3d3esXDlB9ShcD182NkFFREREzSwuQauqqioJeDdBu7u7uyquNkFxPQrXKvcuQQ==",
          "dtype": "f8"
         },
         "yaxis": "y"
        },
        {
         "hovertemplate": "species=MUR<br>TIME_PERIOD=%{x}<br>OBS_VALUE=%{y}<extra></extra>",
         "legendgroup": "MUR",
         "marker": {
          "color": "#FF97FF",
          "symbol": "circle"
         },
         "mode": "markers",
         "name": "MUR",
         "showlegend": true,
         "type": "scattergl",
         "x": {
          "bdata": "1QfWB9cH2AfZB9oH2wfcB90H3gffB+AH4QfiB+MH5AflB+YH5wc=",
          "dtype": "i2"
         },
         "xaxis": "x",
         "y": {
          "bdata": "O5X5VCGabEE20GnDfOprQT4K10P8sWhBMzMzI23GYkHGkl9sa2RhQREREREPAWJBIiIioqWbXkGrqqqqPptXQauqqvoB+ldBMzMzkzvFV0Hu7u5+YYdWQQY6bZCQuldBaQOdVmz9WEH3GRcm6uxOQfUQjaYbXkRBbkQK2NKCQkH1WuP2mutFQf9g4MGVnEdBN9BpA8BaTkE=",
          "dtype": "f8"
         },
         "yaxis": "y"
        },
        {
         "hovertemplate": "species=MUT<br>TIME_PERIOD=%{x}<br>OBS_VALUE=%{y}<extra></extra>",
         "legendgroup": "MUT",
         "marker": {
          "color": "#FECB52",
          "symbol": "circle"
         },
         "mode": "markers",
         "name": "MUT",
         "showlegend": true,
         "type": "scattergl",
         "x": {
          "bdata": "1QfWB9cH2AfZB9oH2wfcB90H3gffB+AH4QfiB+MH5AflB+YH5wc=",
          "dtype": "i2"
         },
         "xaxis": "x",
         "y": {
          "bdata": "44BwkzOIcEGCThtsw3lwQSa/WEKeWG1BkcL18BBiZkFVVVW9X3xjQdFpA4XVE2NBMzMzM0UrYUGnDXRaWnhjQRvotMFEm15BiIiISMnzYUHhehTuVDhkQVhuaUFC7VdB3lF2sZQwWEGVLuqstjJZQUOQg3bPWVJBXI/CVTXXUUHO9CVuiBVLQYL/rdyztUZBBzpt4FCxUUE=",
          "dtype": "f8"
         },
         "yaxis": "y"
        },
        {
         "hovertemplate": "species=MUX<br>TIME_PERIOD=%{x}<br>OBS_VALUE=%{y}<extra></extra>",
         "legendgroup": "MUX",
         "marker": {
          "color": "#636efa",
          "symbol": "circle"
         },
         "mode": "markers",
         "name": "MUX",
         "showlegend": true,
         "type": "scattergl",
         "x": {
          "bdata": "3wflBw==",
          "dtype": "i2"
         },
         "xaxis": "x",
         "y": {
          "bdata": "mpmZmWkh5EDu7u7uxmH9QA==",
          "dtype": "f8"
         },
         "yaxis": "y"
        },
        {
         "hovertemplate": "species=MYL<br>TIME_PERIOD=%{x}<br>OBS_VALUE=%{y}<extra></extra>",
         "legendgroup": "MYL",
         "marker": {
          "color": "#EF553B",
          "symbol": "circle"
         },
         "mode": "markers",
         "name": "MYL",
         "showlegend": true,
         "type": "scattergl",
         "x": {
          "bdata": "4gfjBw==",
          "dtype": "i2"
         },
         "xaxis": "x",
         "y": {
          "bdata": "u7u7u7tDpUDYo3A9Cj+jQA==",
          "dtype": "f8"
         },
         "yaxis": "y"
        },
        {
         "hovertemplate": "species=MZZ<br>TIME_PERIOD=%{x}<br>OBS_VALUE=%{y}<extra></extra>",
         "legendgroup": "MZZ",
         "marker": {
          "color": "#00cc96",
          "symbol": "circle"
         },
         "mode": "markers",
         "name": "MZZ",
         "showlegend": true,
         "type": "scattergl",
         "x": {
          "bdata": "1wfYB9kH2gfbB9wH3QfeB98H4AfhB+IH4wfkB+UH5gfnBw==",
          "dtype": "i2"
         },
         "xaxis": "x",
         "y": {
          "bdata": "G+i0Ufy5cUEREREpFWx0QQAAAFh59XxBVVVVebgRd0GkcD3mj3l0QQAAAMjz6G9BXyz5VUE5YkG/WPJ7tf9gQS+W/JIqoVNBZ2ZmNiYDUEHKPyBN+1Y1QUorXJqq7TNBZqAynn1UN0E+cEdSi+U7QX6x5BdwqEBBDaj5A+fFL0ERERERxKM1QQ==",
          "dtype": "f8"
         },
         "yaxis": "y"
        },
        {
         "hovertemplate": "species=NAU<br>TIME_PERIOD=%{x}<br>OBS_VALUE=%{y}<extra></extra>",
         "legendgroup": "NAU",
         "marker": {
          "color": "#ab63fa",
          "symbol": "circle"
         },
         "mode": "markers",
         "name": "NAU",
         "showlegend": true,
         "type": "scattergl",
         "x": {
          "bdata": "1wfYB9kH2gfbB9wH3QfeB98H4AfhB+IH4wfkB+UH5gfnBw==",
          "dtype": "i2"
         },
         "xaxis": "x",
         "y": {
          "bdata": "zczMzPwj+UDu7u7upvIIQVVVVVXpEgtBQKcNdPoG5kDlF0t+cSHqQKcNdNrgfuNArkfhenTTzEDRaQOddlDqQIiIiIjoouxA7+7u7uBuAUE6baDT1lz+QBWuR+HaCghBEREREdH580BpA5020LXkQE4b6LQhOelAq6qqqvqu4kDUBjptQBTTQA==",
          "dtype": "f8"
         },
         "yaxis": "y"
        },
        {
         "hovertemplate": "species=NEP<br>TIME_PERIOD=%{x}<br>OBS_VALUE=%{y}<extra></extra>",
         "legendgroup": "NEP",
         "marker": {
          "color": "#FFA15A",
          "symbol": "circle"
         },
         "mode": "markers",
         "name": "NEP",
         "showlegend": true,
         "type": "scattergl",
         "x": {
          "bdata": "yAfJB8oHywfMB80HzgfPB9AH0QfSB9MH1AfVB9YH1wfYB9kH2gfbB9wH3QfeB98H4AfhB+IH4wfkB+UH5gfnBw==",
          "dtype": "i2"
         },
         "xaxis": "x",
         "y": {
          "bdata": "VVVVlXp0cUEAAADA50xnQauqqkrCx2hBq6qqKq3BZEFVVVVV4RNrQQAAAKAZHmxBq6qqKrobYUFVVVX17epmQTojSsmxnWRBJLwq+xmhZUEtsp3vp423QCD0bCxJpWVB6NZ+e3QsZEGuALlH3RR2QfYoXJ/e53hBSf5gGrvNbUG2UvX+FEtoQZ+DVPHJBWpBPDHrd0+OaEFwsaJwzTRkQXUCmiTQzV5BXrpJ8GvjW0HUDn+tDMZVQS7886MmlFVBhDeRlkn/VUG8AuRiCg5dQSGoLQTC7FtBGOyGkVnwVkEGTOCOBfhGQUnpv4R71kpBamKUMi9iRkEbpqMxAORJQQ==",
          "dtype": "f8"
         },
         "yaxis": "y"
        },
        {
         "hovertemplate": "species=NSQ<br>TIME_PERIOD=%{x}<br>OBS_VALUE=%{y}<extra></extra>",
         "legendgroup": "NSQ",
         "marker": {
          "color": "#19d3f3",
          "symbol": "circle"
         },
         "mode": "markers",
         "name": "NSQ",
         "showlegend": true,
         "type": "scattergl",
         "x": {
          "bdata": "3wfgB+EH4gfjB+QH5QfmB+cH",
          "dtype": "i2"
         },
         "xaxis": "x",
         "y": {
          "bdata": "+cWSnxMhQkG8u7sbiwZBQaHTBpqclUBBq6qqapC8OUERERERH8o0QWLJL5aI3TZB0wY67QBKO0Hv7u7uQXE9QXsUrsdozDZB",
          "dtype": "f8"
         },
         "yaxis": "y"
        },
        {
         "hovertemplate": "species=OAM<br>TIME_PERIOD=%{x}<br>OBS_VALUE=%{y}<extra></extra>",
         "legendgroup": "OAM",
         "marker": {
          "color": "#FF6692",
          "symbol": "circle"
         },
         "mode": "markers",
         "name": "OAM",
         "showlegend": true,
         "type": "scattergl",
         "x": {
          "bdata": "5AflB+YH5wc=",
          "dtype": "i2"
         },
         "xaxis": "x",
         "y": {
          "bdata": "VVVVVRVqD0E0MzMzw9EeQTMzMzOLlhRBAAAAAFyeDEE=",
          "dtype": "f8"
         },
         "yaxis": "y"
        },
        {
         "hovertemplate": "species=OBR<br>TIME_PERIOD=%{x}<br>OBS_VALUE=%{y}<extra></extra>",
         "legendgroup": "OBR",
         "marker": {
          "color": "#B6E880",
          "symbol": "circle"
         },
         "mode": "markers",
         "name": "OBR",
         "showlegend": true,
         "type": "scattergl",
         "x": {
          "bdata": "4wc=",
          "dtype": "i2"
         },
         "xaxis": "x",
         "y": {
          "bdata": "EB3Di/MQWEA=",
          "dtype": "f8"
         },
         "yaxis": "y"
        },
        {
         "hovertemplate": "species=OCC<br>TIME_PERIOD=%{x}<br>OBS_VALUE=%{y}<extra></extra>",
         "legendgroup": "OCC",
         "marker": {
          "color": "#FF97FF",
          "symbol": "circle"
         },
         "mode": "markers",
         "name": "OCC",
         "showlegend": true,
         "type": "scattergl",
         "x": {
          "bdata": "1wfYB9kH2gfbB9wH3QfeB98H4AfhB+IH4wfkB+UH5gfnBw==",
          "dtype": "i2"
         },
         "xaxis": "x",
         "y": {
          "bdata": "garkWkZuWEFxyXEfdBVVQaSSOt1kr1dBsE09gV2qVEHaQKf91hliQdijcI2YlVxBAAAAILa7WkHYo3AtbRFWQfxiya/7oVpBy+7J+7T/TUE5yWlysgFNQcpHZSlUnFlBlCiO3v8uW0HePNVxfTFUQRIKEYByClpBr/hz9wi9WUGPwvUIZ7ljQQ==",
          "dtype": "f8"
         },
         "yaxis": "y"
        },
        {
         "hovertemplate": "species=OCM<br>TIME_PERIOD=%{x}<br>OBS_VALUE=%{y}<extra></extra>",
         "legendgroup": "OCM",
         "marker": {
          "color": "#FECB52",
          "symbol": "circle"
         },
         "mode": "markers",
         "name": "OCM",
         "showlegend": true,
         "type": "scattergl",
         "x": {
          "bdata": "1QfWB9cH2AfZB9oH2wfcB90H3gc=",
          "dtype": "i2"
         },
         "xaxis": "x",
         "y": {
          "bdata": "NKXinM+8ZkEAAACg4FFnQWsDnWZiG2ZBvLu724k+YUFVVVV1VFNhQVnyi+WBLF9BmZmZGVRQX0FVVVWVNe5cQVVVVfXg7mFBzMzMzJqFX0E=",
          "dtype": "f8"
         },
         "yaxis": "y"
        },
        {
         "hovertemplate": "species=OCZ<br>TIME_PERIOD=%{x}<br>OBS_VALUE=%{y}<extra></extra>",
         "legendgroup": "OCZ",
         "marker": {
          "color": "#636efa",
          "symbol": "circle"
         },
         "mode": "markers",
         "name": "OCZ",
         "showlegend": true,
         "type": "scattergl",
         "x": {
          "bdata": "yAfJB8oHywfMB80HzgfPB9AH0QfSB9MH1AfVB9YH",
          "dtype": "i2"
         },
         "xaxis": "x",
         "y": {
          "bdata": "VVVV1Z/JXEFVVVW1+c5gQQAAACAJQWBBq6qqKtt5VEEAAABA7KlYQcdxHEcXH1pBVVVVVX/aX0HHcRyHajlcQY/mZkWYv1RBJlS/oBCVWEHkEe8TOuSvQNBqvZiTSVdBo9libFR0VUEVb2Q6ZoVbQZ6tll6/VVxB",
          "dtype": "f8"
         },
         "yaxis": "y"
        },
        {
         "hovertemplate": "species=OFJ<br>TIME_PERIOD=%{x}<br>OBS_VALUE=%{y}<extra></extra>",
         "legendgroup": "OFJ",
         "marker": {
          "color": "#EF553B",
          "symbol": "circle"
         },
         "mode": "markers",
         "name": "OFJ",
         "showlegend": true,
         "type": "scattergl",
         "x": {
          "bdata": "4Ac=",
          "dtype": "i2"
         },
         "xaxis": "x",
         "y": {
          "bdata": "iIiIiIgYpUA=",
          "dtype": "f8"
         },
         "yaxis": "y"
        },
        {
         "hovertemplate": "species=OHQ<br>TIME_PERIOD=%{x}<br>OBS_VALUE=%{y}<extra></extra>",
         "legendgroup": "OHQ",
         "marker": {
          "color": "#00cc96",
          "symbol": "circle"
         },
         "mode": "markers",
         "name": "OHQ",
         "showlegend": true,
         "type": "scattergl",
         "x": {
          "bdata": "4gfjB+QH5QfmB+cH",
          "dtype": "i2"
         },
         "xaxis": "x",
         "y": {
          "bdata": "k18s+QWbtED8YskvFiy3QFVVVVXVEadA0WkDnXZBs0CamZmZmUe1QFVVVVVVBZ9A",
          "dtype": "f8"
         },
         "yaxis": "y"
        },
        {
         "hovertemplate": "species=OMZ<br>TIME_PERIOD=%{x}<br>OBS_VALUE=%{y}<extra></extra>",
         "legendgroup": "OMZ",
         "marker": {
          "color": "#ab63fa",
          "symbol": "circle"
         },
         "mode": "markers",
         "name": "OMZ",
         "showlegend": true,
         "type": "scattergl",
         "x": {
          "bdata": "1QfWB+EH4gfjB+QH5QfmB+cH",
          "dtype": "i2"
         },
         "xaxis": "x",
         "y": {
          "bdata": "UkmdEjcZYkEiIiJKrgVhQSa/WPKLLZNAKcPL5mgD0EAiIiIiwsXVQM3MzMxsL+xAq6qqqmKu+0DNzMzMIGMAQdFpA51qsANB",
          "dtype": "f8"
         },
         "yaxis": "y"
        },
        {
         "hovertemplate": "species=ONK<br>TIME_PERIOD=%{x}<br>OBS_VALUE=%{y}<extra></extra>",
         "legendgroup": "ONK",
         "marker": {
          "color": "#FFA15A",
          "symbol": "circle"
         },
         "mode": "markers",
         "name": "ONK",
         "showlegend": true,
         "type": "scattergl",
         "x": {
          "bdata": "5AflB+YH5wc=",
          "dtype": "i2"
         },
         "xaxis": "x",
         "y": {
          "bdata": "IiIiIiLso0Dks24wRf5gQNC6wRT5rFlAYYp81g2md0A=",
          "dtype": "f8"
         },
         "yaxis": "y"
        },
        {
         "hovertemplate": "species=OQT<br>TIME_PERIOD=%{x}<br>OBS_VALUE=%{y}<extra></extra>",
         "legendgroup": "OQT",
         "marker": {
          "color": "#19d3f3",
          "symbol": "circle"
         },
         "mode": "markers",
         "name": "OQT",
         "showlegend": true,
         "type": "scattergl",
         "x": {
          "bdata": "4gfjB+QH5QfmB+cH",
          "dtype": "i2"
         },
         "xaxis": "x",
         "y": {
          "bdata": "tIFOGyg+20A6baDTFqLhQFVVVVWVPNxAq6qqqup01kC8u7u7u+HSQDMzMzPzF9FA",
          "dtype": "f8"
         },
         "yaxis": "y"
        },
        {
         "hovertemplate": "species=OQU<br>TIME_PERIOD=%{x}<br>OBS_VALUE=%{y}<extra></extra>",
         "legendgroup": "OQU",
         "marker": {
          "color": "#FF6692",
          "symbol": "circle"
         },
         "mode": "markers",
         "name": "OQU",
         "showlegend": true,
         "type": "scattergl",
         "x": {
          "bdata": "5Qc=",
          "dtype": "i2"
         },
         "xaxis": "x",
         "y": {
          "bdata": "vLu7uwtt8EA=",
          "dtype": "f8"
         },
         "yaxis": "y"
        },
        {
         "hovertemplate": "species=OUB<br>TIME_PERIOD=%{x}<br>OBS_VALUE=%{y}<extra></extra>",
         "legendgroup": "OUB",
         "marker": {
          "color": "#B6E880",
          "symbol": "circle"
         },
         "mode": "markers",
         "name": "OUB",
         "showlegend": true,
         "type": "scattergl",
         "x": {
          "bdata": "4gfjB+QH5QfmB+cH",
          "dtype": "i2"
         },
         "xaxis": "x",
         "y": {
          "bdata": "YCz5xRJFqkB02kCnDQasQO/u7u7OQMVA7+7u7m6JzUBmZmZmJkzDQIiIiIgIEblA",
          "dtype": "f8"
         },
         "yaxis": "y"
        },
        {
         "hovertemplate": "species=OUM<br>TIME_PERIOD=%{x}<br>OBS_VALUE=%{y}<extra></extra>",
         "legendgroup": "OUM",
         "marker": {
          "color": "#FF97FF",
          "symbol": "circle"
         },
         "mode": "markers",
         "name": "OUM",
         "showlegend": true,
         "type": "scattergl",
         "x": {
          "bdata": "4gfjB+QH5QfmB+cH",
          "dtype": "i2"
         },
         "xaxis": "x",
         "y": {
          "bdata": "DXTaQJHbLUFxPQrXmL0tQYJOG+gLEyVBIiIiour+JkFEREREYXshQTptoNPmciFB",
          "dtype": "f8"
         },
         "yaxis": "y"
        },
        {
         "hovertemplate": "species=OUW<br>TIME_PERIOD=%{x}<br>OBS_VALUE=%{y}<extra></extra>",
         "legendgroup": "OUW",
         "marker": {
          "color": "#FECB52",
          "symbol": "circle"
         },
         "mode": "markers",
         "name": "OUW",
         "showlegend": true,
         "type": "scattergl",
         "x": {
          "bdata": "3wfgB+EH4wc=",
          "dtype": "i2"
         },
         "xaxis": "x",
         "y": {
          "bdata": "q6qqKnmmMUHe3d0dy/I0QdijcD2q9M1Au7u7u/sc7kA=",
          "dtype": "f8"
         },
         "yaxis": "y"
        },
        {
         "hovertemplate": "species=OXY<br>TIME_PERIOD=%{x}<br>OBS_VALUE=%{y}<extra></extra>",
         "legendgroup": "OXY",
         "marker": {
          "color": "#636efa",
          "symbol": "circle"
         },
         "mode": "markers",
         "name": "OXY",
         "showlegend": true,
         "type": "scattergl",
         "x": {
          "bdata": "4wc=",
          "dtype": "i2"
         },
         "xaxis": "x",
         "y": {
          "bdata": "o9pylTRKV0A=",
          "dtype": "f8"
         },
         "yaxis": "y"
        },
        {
         "hovertemplate": "species=OYF<br>TIME_PERIOD=%{x}<br>OBS_VALUE=%{y}<extra></extra>",
         "legendgroup": "OYF",
         "marker": {
          "color": "#EF553B",
          "symbol": "circle"
         },
         "mode": "markers",
         "name": "OYF",
         "showlegend": true,
         "type": "scattergl",
         "x": {
          "bdata": "5AflB+YH5wc=",
          "dtype": "i2"
         },
         "xaxis": "x",
         "y": {
          "bdata": "jCW/WLLN20A30GkD7ZroQGZmZmbmhfVA20CnDWT28EA=",
          "dtype": "f8"
         },
         "yaxis": "y"
        },
        {
         "hovertemplate": "species=PAC<br>TIME_PERIOD=%{x}<br>OBS_VALUE=%{y}<extra></extra>",
         "legendgroup": "PAC",
         "marker": {
          "color": "#00cc96",
          "symbol": "circle"
         },
         "mode": "markers",
         "name": "PAC",
         "showlegend": true,
         "type": "scattergl",
         "x": {
          "bdata": "1QfWB98H4AfhB+IH4wfkB+UH5gfnBw==",
          "dtype": "i2"
         },
         "xaxis": "x",
         "y": {
          "bdata": "JSusAcBuSkH8YskvpzZHQTfQacMd40BBVVVVVYTuQkH8Yslv3d07Qb9Y8gvl2DpBq6qqqjmxOEFiyS+WJgotQb9Y8sv/7ihBUEZvqxRoJkElv1hydaUyQQ==",
          "dtype": "f8"
         },
         "yaxis": "y"
        },
        {
         "hovertemplate": "species=PAX<br>TIME_PERIOD=%{x}<br>OBS_VALUE=%{y}<extra></extra>",
         "legendgroup": "PAX",
         "marker": {
          "color": "#ab63fa",
          "symbol": "circle"
         },
         "mode": "markers",
         "name": "PAX",
         "showlegend": true,
         "type": "scattergl",
         "x": {
          "bdata": "1wfYB9kH2gfbB9wH3QfeB98H",
          "dtype": "i2"
         },
         "xaxis": "x",
         "y": {
          "bdata": "Om2gg1beUkEs+cVyn85KQRIRETF0QUxBVVVVVWg7SkElv1iS1htIQe/u7q6fTEZB393dXVl/RkGrqqpqWU5KQSIiIiIavvNA",
          "dtype": "f8"
         },
         "yaxis": "y"
        },
        {
         "hovertemplate": "species=PDZ<br>TIME_PERIOD=%{x}<br>OBS_VALUE=%{y}<extra></extra>",
         "legendgroup": "PDZ",
         "marker": {
          "color": "#FFA15A",
          "symbol": "circle"
         },
         "mode": "markers",
         "name": "PDZ",
         "showlegend": true,
         "type": "scattergl",
         "x": {
          "bdata": "zwfQB9EH0gfTB9UH1gfkB+UH5gfnBw==",
          "dtype": "i2"
         },
         "xaxis": "x",
         "y": {
          "bdata": "VVVVVdW/x0Coxku3Lu4KQXEY32pJNxVB2V92Tx7udEAAAAAAQGPcQFVVVVVVlatAq6qqqnaP90BVVVVVjfH2QEVERETezANBq6qqqmK9/UCIiIiIUA3vQA==",
          "dtype": "f8"
         },
         "yaxis": "y"
        },
        {
         "hovertemplate": "species=PIC<br>TIME_PERIOD=%{x}<br>OBS_VALUE=%{y}<extra></extra>",
         "legendgroup": "PIC",
         "marker": {
          "color": "#19d3f3",
          "symbol": "circle"
         },
         "mode": "markers",
         "name": "PIC",
         "showlegend": true,
         "type": "scattergl",
         "x": {
          "bdata": "yAfJB8oHywfMB80HzgfPB9AH0QfSB9MH1AfVB9YH1wfYB9kH2gfbB9wH3QfeB+IH4wfkB+UH5gfnBw==",
          "dtype": "i2"
         },
         "xaxis": "x",
         "y": {
          "bdata": "q6qqqj7zJ0Grqqqqim0jQVVVVVUFMRhBq6qqqsDsIkGrqqqqYHcnQVVVVVWhShJBVVVVVRULFUFVVVVVVVsVQfNpKEjXrQlBkX77ujC6CkEv3SQGgXlpQMKr0gNB5QNBKfA7c8vRCkEMTIFf1AxFQauqqqrsATdBl/xiSRi6OUHGkl+sAoJCQVVVVdXtszxBgU4baClUPUGIiIjoRldEQTGW/GLqnD5BBJ020ARQM0FpA502j7ZBQa5H4XqIKx9Bq6qqqvI3H0HJL5b80ujcQLgeheuho9pAAAAAAOAS2UC0gU4bKNXLQA==",
          "dtype": "f8"
         },
         "yaxis": "y"
        },
        {
         "hovertemplate": "species=PIL<br>TIME_PERIOD=%{x}<br>OBS_VALUE=%{y}<extra></extra>",
         "legendgroup": "PIL",
         "marker": {
          "color": "#FF6692",
          "symbol": "circle"
         },
         "mode": "markers",
         "name": "PIL",
         "showlegend": true,
         "type": "scattergl",
         "x": {
          "bdata": "yAfJB8oHywfMB80HzgfPB9AH0QfSB9MH1AfVB9YH1wfYB9kH2gfbB9wH3QfeB98H4AfhB+IH4wfkB+UH5gfnBw==",
          "dtype": "i2"
         },
         "xaxis": "x",
         "y": {
          "bdata": "q6qqaoMHV0EAAAAAf5FbQVVVVRXD01VBq6qqCthiY0GrqqrqH09oQauqqupRKVhBq6qq6uncWEEAAABAAJlXQcksaAc7i1dBXW3FXgeIWUH0RyvRPKnBQCZ4MP+McVZBnJ/1a5q0VUHRbDE2D31QQRzotDHcJ1JBq6qqKmIzUUEwlvxCyYJQQckvljyAKVBBAAAAQJlmUEGamZkZlx9QQe/u7p7o6VRB0WkDrVEUVUFBpw20GZpXQVVVVSW5uFxBOm2g011eXEFSuB4VW6JRQYiIiDjULGBB5RdLDu5AY0F7FK6H+YNRQQSdNpDBfVVBeHd3VyvkU0EvlvxCH5dJQQ==",
          "dtype": "f8"
         },
         "yaxis": "y"
        },
        {
         "hovertemplate": "species=PJC<br>TIME_PERIOD=%{x}<br>OBS_VALUE=%{y}<extra></extra>",
         "legendgroup": "PJC",
         "marker": {
          "color": "#B6E880",
          "symbol": "circle"
         },
         "mode": "markers",
         "name": "PJC",
         "showlegend": true,
         "type": "scattergl",
         "x": {
          "bdata": "4gfjB+QH5QfmB+cH",
          "dtype": "i2"
         },
         "xaxis": "x",
         "y": {
          "bdata": "aQOdNtAtlUBLfrHkF4OiQFuPwvUoAJZACdejcD0wpUAREREREaOTQOJ6FK5HfZJA",
          "dtype": "f8"
         },
         "yaxis": "y"
        },
        {
         "hovertemplate": "species=PLE<br>TIME_PERIOD=%{x}<br>OBS_VALUE=%{y}<extra></extra>",
         "legendgroup": "PLE",
         "marker": {
          "color": "#FF97FF",
          "symbol": "circle"
         },
         "mode": "markers",
         "name": "PLE",
         "showlegend": true,
         "type": "scattergl",
         "x": {
          "bdata": "zAfNB84HzwfQB9EH0gfTB9QH1QfWBw==",
          "dtype": "i2"
         },
         "xaxis": "x",
         "y": {
          "bdata": "q6qqqqogvkCrqqqqOsL6QKuqqqo6CPxAVVVVVVWDw0BkE4buo1rSQDCW/GKRCd1AqV0mnVt7SkB8PzVe9iTdQIWkKRVHTd9AGLr/tanvxkBgLPnFsuPOQA==",
          "dtype": "f8"
         },
         "yaxis": "y"
        },
        {
         "hovertemplate": "species=PLS<br>TIME_PERIOD=%{x}<br>OBS_VALUE=%{y}<extra></extra>",
         "legendgroup": "PLS",
         "marker": {
          "color": "#FECB52",
          "symbol": "circle"
         },
         "mode": "markers",
         "name": "PLS",
         "showlegend": true,
         "type": "scattergl",
         "x": {
          "bdata": "4gfjBw==",
          "dtype": "i2"
         },
         "xaxis": "x",
         "y": {
          "bdata": "exSuRyGNvEAzMzMzM7OyQA==",
          "dtype": "f8"
         },
         "yaxis": "y"
        },
        {
         "hovertemplate": "species=POA<br>TIME_PERIOD=%{x}<br>OBS_VALUE=%{y}<extra></extra>",
         "legendgroup": "POA",
         "marker": {
          "color": "#636efa",
          "symbol": "circle"
         },
         "mode": "markers",
         "name": "POA",
         "showlegend": true,
         "type": "scattergl",
         "x": {
          "bdata": "3wfgB+EH4gfjB+QH5QfmB+cH",
          "dtype": "i2"
         },
         "xaxis": "x",
         "y": {
          "bdata": "q6qqqhIQBUGMJb9Y2izzQCEiIiJCk+hALPnFkvtT8UCamZmZ9fH5QFVVVVVhXhhBiIiIiAzgFEGIiIiITIkRQVnyiyW3nRBB",
          "dtype": "f8"
         },
         "yaxis": "y"
        },
        {
         "hovertemplate": "species=POD<br>TIME_PERIOD=%{x}<br>OBS_VALUE=%{y}<extra></extra>",
         "legendgroup": "POD",
         "marker": {
          "color": "#EF553B",
          "symbol": "circle"
         },
         "mode": "markers",
         "name": "POD",
         "showlegend": true,
         "type": "scattergl",
         "x": {
          "bdata": "1QfWB9cH2AfZB9oH2wfcB90H3gffB+AH4QfiB+MH5AflB+YH5wc=",
          "dtype": "i2"
         },
         "xaxis": "x",
         "y": {
          "bdata": "bFNPKYl8OUFVVVVVKuQnQTMzMzMK6yNBseQXS0xRIUERERERJQUVQauqqqpyuhZB/GLJL/AcGEEiIiIi3DQRQdejcD1CshFB57SBTm+tF0Grqqqq/DoeQbLkF0vEQSJBq6qqqlKFHEGcNtBpDcIqQaRwPQqRDyhBtYFOmxriIEHbQKcNNjggQRERERHz/hdBRURERGt/EUE=",
          "dtype": "f8"
         },
         "yaxis": "y"
        },
        {
         "hovertemplate": "species=POI<br>TIME_PERIOD=%{x}<br>OBS_VALUE=%{y}<extra></extra>",
         "legendgroup": "POI",
         "marker": {
          "color": "#00cc96",
          "symbol": "circle"
         },
         "mode": "markers",
         "name": "POI",
         "showlegend": true,
         "type": "scattergl",
         "x": {
          "bdata": "5Qc=",
          "dtype": "i2"
         },
         "xaxis": "x",
         "y": {
          "bdata": "2kCnDXRUpUA=",
          "dtype": "f8"
         },
         "yaxis": "y"
        },
        {
         "hovertemplate": "species=POP<br>TIME_PERIOD=%{x}<br>OBS_VALUE=%{y}<extra></extra>",
         "legendgroup": "POP",
         "marker": {
          "color": "#ab63fa",
          "symbol": "circle"
         },
         "mode": "markers",
         "name": "POP",
         "showlegend": true,
         "type": "scattergl",
         "x": {
          "bdata": "3wfgB+EH4gfjB+QH5QfmB+cH",
          "dtype": "i2"
         },
         "xaxis": "x",
         "y": {
          "bdata": "AAAAAPDH/UC/WPKLiRD7QPxiyS/uXfNAvLu7u3vo7EAt+cWSH1XsQJ420GlPsfhAehSuRyH510Dv7u7uHnPrQFVVVVVVFORA",
          "dtype": "f8"
         },
         "yaxis": "y"
        },
        {
         "hovertemplate": "species=POR<br>TIME_PERIOD=%{x}<br>OBS_VALUE=%{y}<extra></extra>",
         "legendgroup": "POR",
         "marker": {
          "color": "#FFA15A",
          "symbol": "circle"
         },
         "mode": "markers",
         "name": "POR",
         "showlegend": true,
         "type": "scattergl",
         "x": {
          "bdata": "3wfgB+EH4gfjB+cH",
          "dtype": "i2"
         },
         "xaxis": "x",
         "y": {
          "bdata": "pw102kDpoEAwlvxiyQ+RQPOLJb9YXINAyS+W/GLxkUC4HoXrUfKRQLu7u7u762ZA",
          "dtype": "f8"
         },
         "yaxis": "y"
        },
        {
         "hovertemplate": "species=PRA<br>TIME_PERIOD=%{x}<br>OBS_VALUE=%{y}<extra></extra>",
         "legendgroup": "PRA",
         "marker": {
          "color": "#19d3f3",
          "symbol": "circle"
         },
         "mode": "markers",
         "name": "PRA",
         "showlegend": true,
         "type": "scattergl",
         "x": {
          "bdata": "3wfgB+EH4gfjB+QH",
          "dtype": "i2"
         },
         "xaxis": "x",
         "y": {
          "bdata": "rkfhegP0FEEAAAAA29sXQWkDnTa/AShBVVVVVecmJUFgLPnF8psbQVVVVVXtUOVA",
          "dtype": "f8"
         },
         "yaxis": "y"
        },
        {
         "hovertemplate": "species=PRR<br>TIME_PERIOD=%{x}<br>OBS_VALUE=%{y}<extra></extra>",
         "legendgroup": "PRR",
         "marker": {
          "color": "#FF6692",
          "symbol": "circle"
         },
         "mode": "markers",
         "name": "PRR",
         "showlegend": true,
         "type": "scattergl",
         "x": {
          "bdata": "4gfjBw==",
          "dtype": "i2"
         },
         "xaxis": "x",
         "y": {
          "bdata": "q6qqqqoMpUDJZ91ginxTQA==",
          "dtype": "f8"
         },
         "yaxis": "y"
        },
        {
         "hovertemplate": "species=PSL<br>TIME_PERIOD=%{x}<br>OBS_VALUE=%{y}<extra></extra>",
         "legendgroup": "PSL",
         "marker": {
          "color": "#B6E880",
          "symbol": "circle"
         },
         "mode": "markers",
         "name": "PSL",
         "showlegend": true,
         "type": "scattergl",
         "x": {
          "bdata": "4Ac=",
          "dtype": "i2"
         },
         "xaxis": "x",
         "y": {
          "bdata": "mZmZmVmwwUA=",
          "dtype": "f8"
         },
         "yaxis": "y"
        },
        {
         "hovertemplate": "species=QSX<br>TIME_PERIOD=%{x}<br>OBS_VALUE=%{y}<extra></extra>",
         "legendgroup": "QSX",
         "marker": {
          "color": "#FF97FF",
          "symbol": "circle"
         },
         "mode": "markers",
         "name": "QSX",
         "showlegend": true,
         "type": "scattergl",
         "x": {
          "bdata": "5QfmB+cH",
          "dtype": "i2"
         },
         "xaxis": "x",
         "y": {
          "bdata": "VVVVVVUjo0CtG0yRzzphQMIU+awbTCFA",
          "dtype": "f8"
         },
         "yaxis": "y"
        },
        {
         "hovertemplate": "species=QUB<br>TIME_PERIOD=%{x}<br>OBS_VALUE=%{y}<extra></extra>",
         "legendgroup": "QUB",
         "marker": {
          "color": "#FECB52",
          "symbol": "circle"
         },
         "mode": "markers",
         "name": "QUB",
         "showlegend": true,
         "type": "scattergl",
         "x": {
          "bdata": "4gfjB+QH5QfmB+cH",
          "dtype": "i2"
         },
         "xaxis": "x",
         "y": {
          "bdata": "IiIiIiK7y0BpA502UMzAQC35xZJf/atAj8L1KFzjsEDe3d3dXQq3QLy7u7s73LpA",
          "dtype": "f8"
         },
         "yaxis": "y"
        },
        {
         "hovertemplate": "species=RAE<br>TIME_PERIOD=%{x}<br>OBS_VALUE=%{y}<extra></extra>",
         "legendgroup": "RAE",
         "marker": {
          "color": "#636efa",
          "symbol": "circle"
         },
         "mode": "markers",
         "name": "RAE",
         "showlegend": true,
         "type": "scattergl",
         "x": {
          "bdata": "3wfgB+EH4gfjB+QH5QfmB+cH",
          "dtype": "i2"
         },
         "xaxis": "x",
         "y": {
          "bdata": "pw10Wu0RI0FVVVVVf/0mQacNdNrK5glB+cWSX2yc2ECNJb9Y0kXnQC35xZL/9NtAz2kDne7x+kCIiIiICP60QPnFkl8sXLZA",
          "dtype": "f8"
         },
         "yaxis": "y"
        },
        {
         "hovertemplate": "species=RCR<br>TIME_PERIOD=%{x}<br>OBS_VALUE=%{y}<extra></extra>",
         "legendgroup": "RCR",
         "marker": {
          "color": "#EF553B",
          "symbol": "circle"
         },
         "mode": "markers",
         "name": "RCR",
         "showlegend": true,
         "type": "scattergl",
         "x": {
          "bdata": "5QfnBw==",
          "dtype": "i2"
         },
         "xaxis": "x",
         "y": {
          "bdata": "VVVVVQGrDUGZmZmZQasAQQ==",
          "dtype": "f8"
         },
         "yaxis": "y"
        },
        {
         "hovertemplate": "species=RDC<br>TIME_PERIOD=%{x}<br>OBS_VALUE=%{y}<extra></extra>",
         "legendgroup": "RDC",
         "marker": {
          "color": "#00cc96",
          "symbol": "circle"
         },
         "mode": "markers",
         "name": "RDC",
         "showlegend": true,
         "type": "scattergl",
         "x": {
          "bdata": "4gfjBw==",
          "dtype": "i2"
         },
         "xaxis": "x",
         "y": {
          "bdata": "LPnFkl/YqECy5BdLfvOoQA==",
          "dtype": "f8"
         },
         "yaxis": "y"
        },
        {
         "hovertemplate": "species=RED<br>TIME_PERIOD=%{x}<br>OBS_VALUE=%{y}<extra></extra>",
         "legendgroup": "RED",
         "marker": {
          "color": "#ab63fa",
          "symbol": "circle"
         },
         "mode": "markers",
         "name": "RED",
         "showlegend": true,
         "type": "scattergl",
         "x": {
          "bdata": "0QfTB9QH2Qc=",
          "dtype": "i2"
         },
         "xaxis": "x",
         "y": {
          "bdata": "DeAtkPA9ukCrqqqqqkafQGwJ+aDnua5A3t3d3d3FdUA=",
          "dtype": "f8"
         },
         "yaxis": "y"
        },
        {
         "hovertemplate": "species=RGX<br>TIME_PERIOD=%{x}<br>OBS_VALUE=%{y}<extra></extra>",
         "legendgroup": "RGX",
         "marker": {
          "color": "#FFA15A",
          "symbol": "circle"
         },
         "mode": "markers",
         "name": "RGX",
         "showlegend": true,
         "type": "scattergl",
         "x": {
          "bdata": "5AflB+YH5wc=",
          "dtype": "i2"
         },
         "xaxis": "x",
         "y": {
          "bdata": "DoRkAdBTEUH5xZLfKr0gQfG6fkELnhVBmpmZmbb6FUE=",
          "dtype": "f8"
         },
         "yaxis": "y"
        },
        {
         "hovertemplate": "species=RIB<br>TIME_PERIOD=%{x}<br>OBS_VALUE=%{y}<extra></extra>",
         "legendgroup": "RIB",
         "marker": {
          "color": "#19d3f3",
          "symbol": "circle"
         },
         "mode": "markers",
         "name": "RIB",
         "showlegend": true,
         "type": "scattergl",
         "x": {
          "bdata": "4gfjBw==",
          "dtype": "i2"
         },
         "xaxis": "x",
         "y": {
          "bdata": "pw102sCysECg0wY6bQy2QA==",
          "dtype": "f8"
         },
         "yaxis": "y"
        },
        {
         "hovertemplate": "species=RJA<br>TIME_PERIOD=%{x}<br>OBS_VALUE=%{y}<extra></extra>",
         "legendgroup": "RJA",
         "marker": {
          "color": "#FF6692",
          "symbol": "circle"
         },
         "mode": "markers",
         "name": "RJA",
         "showlegend": true,
         "type": "scattergl",
         "x": {
          "bdata": "3wfgB+EH4gfjB+QH5QfmB+cH",
          "dtype": "i2"
         },
         "xaxis": "x",
         "y": {
          "bdata": "mZmZmelQ90AAAAAApJQAQQ102kDL6RFBXyz5xZK2rkCh0wY6rYzEQJqZmZm5OuZARERERIwy/kCIiIiIgB8EQby7u7ujBQBB",
          "dtype": "f8"
         },
         "yaxis": "y"
        },
        {
         "hovertemplate": "species=RJB<br>TIME_PERIOD=%{x}<br>OBS_VALUE=%{y}<extra></extra>",
         "legendgroup": "RJB",
         "marker": {
          "color": "#B6E880",
          "symbol": "circle"
         },
         "mode": "markers",
         "name": "RJB",
         "showlegend": true,
         "type": "scattergl",
         "x": {
          "bdata": "4gfjB+QH5QfmB+cH",
          "dtype": "i2"
         },
         "xaxis": "x",
         "y": {
          "bdata": "odMGOp2W8kB4d3d3N7LVQHh3d3f3Br1Ak18s+SVM40CrqqqqKh7QQI/C9Shc87pA",
          "dtype": "f8"
         },
         "yaxis": "y"
        },
        {
         "hovertemplate": "species=RJC<br>TIME_PERIOD=%{x}<br>OBS_VALUE=%{y}<extra></extra>",
         "legendgroup": "RJC",
         "marker": {
          "color": "#FF97FF",
          "symbol": "circle"
         },
         "mode": "markers",
         "name": "RJC",
         "showlegend": true,
         "type": "scattergl",
         "x": {
          "bdata": "3wfgB+EH4gfjB+QH5QfmB+cH",
          "dtype": "i2"
         },
         "xaxis": "x",
         "y": {
          "bdata": "ThvoNDO4IUEYS34xB2QhQXh3d/fbkCNBmpmZmRNiJEG8u7u7O3gqQSW/WPKfTBhBq6qqqhg1HEGIiIiIkGgVQWLJL5brKhRB",
          "dtype": "f8"
         },
         "yaxis": "y"
        },
        {
         "hovertemplate": "species=RJF<br>TIME_PERIOD=%{x}<br>OBS_VALUE=%{y}<extra></extra>",
         "legendgroup": "RJF",
         "marker": {
          "color": "#FECB52",
          "symbol": "circle"
         },
         "mode": "markers",
         "name": "RJF",
         "showlegend": true,
         "type": "scattergl",
         "x": {
          "bdata": "4wfkBw==",
          "dtype": "i2"
         },
         "xaxis": "x",
         "y": {
          "bdata": "pFFtuUq6VECcNtBpA7eUQA==",
          "dtype": "f8"
         },
         "yaxis": "y"
        },
        {
         "hovertemplate": "species=RJH<br>TIME_PERIOD=%{x}<br>OBS_VALUE=%{y}<extra></extra>",
         "legendgroup": "RJH",
         "marker": {
          "color": "#636efa",
          "symbol": "circle"
         },
         "mode": "markers",
         "name": "RJH",
         "showlegend": true,
         "type": "scattergl",
         "x": {
          "bdata": "4gfjB+QH5QfmB+cH",
          "dtype": "i2"
         },
         "xaxis": "x",
         "y": {
          "bdata": "l7U6JnCa0EBH4XoUrovOQJqZmZm5A+hAOm2g0/YO00CrqqqqCtnQQLu7u7u7VbJA",
          "dtype": "f8"
         },
         "yaxis": "y"
        },
        {
         "hovertemplate": "species=RJI<br>TIME_PERIOD=%{x}<br>OBS_VALUE=%{y}<extra></extra>",
         "legendgroup": "RJI",
         "marker": {
          "color": "#EF553B",
          "symbol": "circle"
         },
         "mode": "markers",
         "name": "RJI",
         "showlegend": true,
         "type": "scattergl",
         "x": {
          "bdata": "4gfjB+QH5QfmB+cH",
          "dtype": "i2"
         },
         "xaxis": "x",
         "y": {
          "bdata": "tYFOG+j4lUCg0wY6bceaQJX8Yskvm75AjCW/WPLKmECrqqqqqhiVQI/C9ShcOYVA",
          "dtype": "f8"
         },
         "yaxis": "y"
        },
        {
         "hovertemplate": "species=RJM<br>TIME_PERIOD=%{x}<br>OBS_VALUE=%{y}<extra></extra>",
         "legendgroup": "RJM",
         "marker": {
          "color": "#00cc96",
          "symbol": "circle"
         },
         "mode": "markers",
         "name": "RJM",
         "showlegend": true,
         "type": "scattergl",
         "x": {
          "bdata": "3wfgB+EH4gfjB+QH5QfmB+cH",
          "dtype": "i2"
         },
         "xaxis": "x",
         "y": {
          "bdata": "2kCnDZS430BqA502KFPgQLLkF0uegcRAhetRuB65wUCTXyz5xSjGQLu7u7s7osxA5RdLfrFpuUCIiIiIqGncQB+F61FQ7+FA",
          "dtype": "f8"
         },
         "yaxis": "y"
        },
        {
         "hovertemplate": "species=RJO<br>TIME_PERIOD=%{x}<br>OBS_VALUE=%{y}<extra></extra>",
         "legendgroup": "RJO",
         "marker": {
          "color": "#ab63fa",
          "symbol": "circle"
         },
         "mode": "markers",
         "name": "RJO",
         "showlegend": true,
         "type": "scattergl",
         "x": {
          "bdata": "4gfjB+QH5QfmB+cH",
          "dtype": "i2"
         },
         "xaxis": "x",
         "y": {
          "bdata": "suQXS/7vx0BVVVVVVU/LQKuqqqoKddBADXTaQKclnUBFRERERGCTQBERERER0XZA",
          "dtype": "f8"
         },
         "yaxis": "y"
        },
        {
         "hovertemplate": "species=RJR<br>TIME_PERIOD=%{x}<br>OBS_VALUE=%{y}<extra></extra>",
         "legendgroup": "RJR",
         "marker": {
          "color": "#FFA15A",
          "symbol": "circle"
         },
         "mode": "markers",
         "name": "RJR",
         "showlegend": true,
         "type": "scattergl",
         "x": {
          "bdata": "4gc=",
          "dtype": "i2"
         },
         "xaxis": "x",
         "y": {
          "bdata": "Z2ZmZmbSpEA=",
          "dtype": "f8"
         },
         "yaxis": "y"
        },
        {
         "hovertemplate": "species=RJT<br>TIME_PERIOD=%{x}<br>OBS_VALUE=%{y}<extra></extra>",
         "legendgroup": "RJT",
         "marker": {
          "color": "#19d3f3",
          "symbol": "circle"
         },
         "mode": "markers",
         "name": "RJT",
         "showlegend": true,
         "type": "scattergl",
         "x": {
          "bdata": "4gc=",
          "dtype": "i2"
         },
         "xaxis": "x",
         "y": {
          "bdata": "AAAAAIDEqUA=",
          "dtype": "f8"
         },
         "yaxis": "y"
        },
        {
         "hovertemplate": "species=RJU<br>TIME_PERIOD=%{x}<br>OBS_VALUE=%{y}<extra></extra>",
         "legendgroup": "RJU",
         "marker": {
          "color": "#FF6692",
          "symbol": "circle"
         },
         "mode": "markers",
         "name": "RJU",
         "showlegend": true,
         "type": "scattergl",
         "x": {
          "bdata": "4gfjB+QH",
          "dtype": "i2"
         },
         "xaxis": "x",
         "y": {
          "bdata": "LPnFkl/UjEC1gU4b6MiQQE4b6LRBZLVA",
          "dtype": "f8"
         },
         "yaxis": "y"
        },
        {
         "hovertemplate": "species=RKQ<br>TIME_PERIOD=%{x}<br>OBS_VALUE=%{y}<extra></extra>",
         "legendgroup": "RKQ",
         "marker": {
          "color": "#B6E880",
          "symbol": "circle"
         },
         "mode": "markers",
         "name": "RKQ",
         "showlegend": true,
         "type": "scattergl",
         "x": {
          "bdata": "5AflB+YH5wc=",
          "dtype": "i2"
         },
         "xaxis": "x",
         "y": {
          "bdata": "LfnFkl+Qr0COwvUoXM6dQO/u7u7u4J9AERERERHFlEA=",
          "dtype": "f8"
         },
         "yaxis": "y"
        },
        {
         "hovertemplate": "species=RLI<br>TIME_PERIOD=%{x}<br>OBS_VALUE=%{y}<extra></extra>",
         "legendgroup": "RLI",
         "marker": {
          "color": "#FF97FF",
          "symbol": "circle"
         },
         "mode": "markers",
         "name": "RLI",
         "showlegend": true,
         "type": "scattergl",
         "x": {
          "bdata": "4gfjBw==",
          "dtype": "i2"
         },
         "xaxis": "x",
         "y": {
          "bdata": "Jr9Y8ovHmUDlF0t+sUueQA==",
          "dtype": "f8"
         },
         "yaxis": "y"
        },
        {
         "hovertemplate": "species=RNH<br>TIME_PERIOD=%{x}<br>OBS_VALUE=%{y}<extra></extra>",
         "legendgroup": "RNH",
         "marker": {
          "color": "#FECB52",
          "symbol": "circle"
         },
         "mode": "markers",
         "name": "RNH",
         "showlegend": true,
         "type": "scattergl",
         "x": {
          "bdata": "4gfjB+QH",
          "dtype": "i2"
         },
         "xaxis": "x",
         "y": {
          "bdata": "Jb9Y8otIu0C8u7u7OxTCQH6x5BdLxKJA",
          "dtype": "f8"
         },
         "yaxis": "y"
        },
        {
         "hovertemplate": "species=ROA<br>TIME_PERIOD=%{x}<br>OBS_VALUE=%{y}<extra></extra>",
         "legendgroup": "ROA",
         "marker": {
          "color": "#636efa",
          "symbol": "circle"
         },
         "mode": "markers",
         "name": "ROA",
         "showlegend": true,
         "type": "scattergl",
         "x": {
          "bdata": "4gfjB+QH5QfmB+cH",
          "dtype": "i2"
         },
         "xaxis": "x",
         "y": {
          "bdata": "PQrXo3Cc0kDu7u7ubnTOQNejcD0KE89AzczMzMxVt0BmZmZm5g3EQKHTBjqt9LFA",
          "dtype": "f8"
         },
         "yaxis": "y"
        },
        {
         "hovertemplate": "species=RPG<br>TIME_PERIOD=%{x}<br>OBS_VALUE=%{y}<extra></extra>",
         "legendgroup": "RPG",
         "marker": {
          "color": "#EF553B",
          "symbol": "circle"
         },
         "mode": "markers",
         "name": "RPG",
         "showlegend": true,
         "type": "scattergl",
         "x": {
          "bdata": "3wfgB+EH4gfjB+QH",
          "dtype": "i2"
         },
         "xaxis": "x",
         "y": {
          "bdata": "YskvlqCsG0E6baDTFCcaQYiIiIhScCNB9Shcj0eZLEHRaQOd4JQmQZNfLPmVOuRA",
          "dtype": "f8"
         },
         "yaxis": "y"
        },
        {
         "hovertemplate": "species=RRU<br>TIME_PERIOD=%{x}<br>OBS_VALUE=%{y}<extra></extra>",
         "legendgroup": "RRU",
         "marker": {
          "color": "#00cc96",
          "symbol": "circle"
         },
         "mode": "markers",
         "name": "RRU",
         "showlegend": true,
         "type": "scattergl",
         "x": {
          "bdata": "5Qc=",
          "dtype": "i2"
         },
         "xaxis": "x",
         "y": {
          "bdata": "MzMzM3OCw0A=",
          "dtype": "f8"
         },
         "yaxis": "y"
        },
        {
         "hovertemplate": "species=RSE<br>TIME_PERIOD=%{x}<br>OBS_VALUE=%{y}<extra></extra>",
         "legendgroup": "RSE",
         "marker": {
          "color": "#ab63fa",
          "symbol": "circle"
         },
         "mode": "markers",
         "name": "RSE",
         "showlegend": true,
         "type": "scattergl",
         "x": {
          "bdata": "3wfgB+EH4gfjB+QH5Qc=",
          "dtype": "i2"
         },
         "xaxis": "x",
         "y": {
          "bdata": "S36xBGwfQEERERERj/I/QbgehWshKEFBThvotIt1EUF4d3d355v7QOUXS36hMfVAVVVVVZXTvkA=",
          "dtype": "f8"
         },
         "yaxis": "y"
        },
        {
         "hovertemplate": "species=RUB<br>TIME_PERIOD=%{x}<br>OBS_VALUE=%{y}<extra></extra>",
         "legendgroup": "RUB",
         "marker": {
          "color": "#FFA15A",
          "symbol": "circle"
         },
         "mode": "markers",
         "name": "RUB",
         "showlegend": true,
         "type": "scattergl",
         "x": {
          "bdata": "5wc=",
          "dtype": "i2"
         },
         "xaxis": "x",
         "y": {
          "bdata": "pshn3WDKQkA=",
          "dtype": "f8"
         },
         "yaxis": "y"
        },
        {
         "hovertemplate": "species=SAA<br>TIME_PERIOD=%{x}<br>OBS_VALUE=%{y}<extra></extra>",
         "legendgroup": "SAA",
         "marker": {
          "color": "#19d3f3",
          "symbol": "circle"
         },
         "mode": "markers",
         "name": "SAA",
         "showlegend": true,
         "type": "scattergl",
         "x": {
          "bdata": "1wfYB9kH2gfbB9wH3QfeB98H4AfhB+IH4wfkB+UH5gfnBw==",
          "dtype": "i2"
         },
         "xaxis": "x",
         "y": {
          "bdata": "zczMzMrYE0Hv7u7u3jwGQRERERENWw9BVVVVVemgCEGrqqqqesoEQXd3d3cL9wVB4XoUrvtp/0BOG+i0sZHzQJJfLPk1yfpAXI/C9XAlB0F3d3d3YOIhQRvotIHFHBFB3t3d3SNuE0FkyS+WvDj/QKcNdNp0rw1BVVVVVVEmAEGnDXTa2KcHQQ==",
          "dtype": "f8"
         },
         "yaxis": "y"
        },
        {
         "hovertemplate": "species=SAN<br>TIME_PERIOD=%{x}<br>OBS_VALUE=%{y}<extra></extra>",
         "legendgroup": "SAN",
         "marker": {
          "color": "#FF6692",
          "symbol": "circle"
         },
         "mode": "markers",
         "name": "SAN",
         "showlegend": true,
         "type": "scattergl",
         "x": {
          "bdata": "1wfYB9kH2gfbB9wH3QfeB98H4AfhB+MH",
          "dtype": "i2"
         },
         "xaxis": "x",
         "y": {
          "bdata": "Om2g0+4qF0GPwvUoVCnnQFnyiyX/+PtALPnFkj/hCkHC9ShciwX1QGsDnTYoeAdB6LSBTqOGBEFgLPnFcIIIQWZmZmY21AlBfrHkF/f/C0GTXyz52doCQQAAAAAA6MRA",
          "dtype": "f8"
         },
         "yaxis": "y"
        },
        {
         "hovertemplate": "species=SAU<br>TIME_PERIOD=%{x}<br>OBS_VALUE=%{y}<extra></extra>",
         "legendgroup": "SAU",
         "marker": {
          "color": "#B6E880",
          "symbol": "circle"
         },
         "mode": "markers",
         "name": "SAU",
         "showlegend": true,
         "type": "scattergl",
         "x": {
          "bdata": "3wfgB+EH4gfjB+QH5QfmB+cH",
          "dtype": "i2"
         },
         "xaxis": "x",
         "y": {
          "bdata": "cT0K1xO18UD5xZJfKG71QN/d3d2loehAyS+W/O4U+kAmv1jyq9z2QASdNtAJy8NAq6qqqqrCtUC7u7u7Oy3PQDGW/GLJEapA",
          "dtype": "f8"
         },
         "yaxis": "y"
        },
        {
         "hovertemplate": "species=SBA<br>TIME_PERIOD=%{x}<br>OBS_VALUE=%{y}<extra></extra>",
         "legendgroup": "SBA",
         "marker": {
          "color": "#FF97FF",
          "symbol": "circle"
         },
         "mode": "markers",
         "name": "SBA",
         "showlegend": true,
         "type": "scattergl",
         "x": {
          "bdata": "3wfgB+EH4gfjB+QH5QfmB+cH",
          "dtype": "i2"
         },
         "xaxis": "x",
         "y": {
          "bdata": "Z2ZmZm7yEUEZS36xmm0JQYwlv1g+Gw5BIiIiIiK/CEF4d3d3KyIIQei0gU73DgJB+cWSX3QBBEERERERiRAGQShcj8JJj/hA",
          "dtype": "f8"
         },
         "yaxis": "y"
        },
        {
         "hovertemplate": "species=SBG<br>TIME_PERIOD=%{x}<br>OBS_VALUE=%{y}<extra></extra>",
         "legendgroup": "SBG",
         "marker": {
          "color": "#FECB52",
          "symbol": "circle"
         },
         "mode": "markers",
         "name": "SBG",
         "showlegend": true,
         "type": "scattergl",
         "x": {
          "bdata": "1wfYB9kH2gfbB9wH3QfeB98H4AfhB+IH4wfkB+UH5gfnBw==",
          "dtype": "i2"
         },
         "xaxis": "x",
         "y": {
          "bdata": "/GLJL/iCPkEiIiLiXeM6QQnXozA9/zdB61G4HvoUOkEOdNqAGWpBQQ102kB6tzxBCtejcIdDQkF7FK5nRCJBQVVVVVUM20ZBR+F6lNVcSEGrqqoqHu5PQckvlvxcC1JBAAAAQO4uSUHTBjotSqY9QbHkF8tCJEJBvLu7e4FkQEFVVVXV//M7QQ==",
          "dtype": "f8"
         },
         "yaxis": "y"
        },
        {
         "hovertemplate": "species=SBL<br>TIME_PERIOD=%{x}<br>OBS_VALUE=%{y}<extra></extra>",
         "legendgroup": "SBL",
         "marker": {
          "color": "#636efa",
          "symbol": "circle"
         },
         "mode": "markers",
         "name": "SBL",
         "showlegend": true,
         "type": "scattergl",
         "x": {
          "bdata": "3wfgB+EH4gfjB+QH5QfmB+cH",
          "dtype": "i2"
         },
         "xaxis": "x",
         "y": {
          "bdata": "frHkF0vznkDotIFOG0aNQJf8Yskvq5FAxtv78i0WsECy5BdL/uamQM3MzMxM2rJARURERERgnEDe3d3d3YGbQEt+seQXY5BA",
          "dtype": "f8"
         },
         "yaxis": "y"
        },
        {
         "hovertemplate": "species=SBP<br>TIME_PERIOD=%{x}<br>OBS_VALUE=%{y}<extra></extra>",
         "legendgroup": "SBP",
         "marker": {
          "color": "#EF553B",
          "symbol": "circle"
         },
         "mode": "markers",
         "name": "SBP",
         "showlegend": true,
         "type": "scattergl",
         "x": {
          "bdata": "5AflB+YH5wc=",
          "dtype": "i2"
         },
         "xaxis": "x",
         "y": {
          "bdata": "OiZ4sGj2C0F02kCnRd0VQRERERERLBVB2KNwPTWbFUE=",
          "dtype": "f8"
         },
         "yaxis": "y"
        },
        {
         "hovertemplate": "species=SBR<br>TIME_PERIOD=%{x}<br>OBS_VALUE=%{y}<extra></extra>",
         "legendgroup": "SBR",
         "marker": {
          "color": "#00cc96",
          "symbol": "circle"
         },
         "mode": "markers",
         "name": "SBR",
         "showlegend": true,
         "type": "scattergl",
         "x": {
          "bdata": "3wfgB+EH4gfjB+QH5QfmB+cH",
          "dtype": "i2"
         },
         "xaxis": "x",
         "y": {
          "bdata": "YskvlnrNGkHJL5b8sCMQQRERERF3UBRBmpmZmWmPEkGrqqqqlv8QQSIiIiKvbiFBMzMzM6L0IUG8u7u7TQUgQYiIiIiQ/QlB",
          "dtype": "f8"
         },
         "yaxis": "y"
        },
        {
         "hovertemplate": "species=SBS<br>TIME_PERIOD=%{x}<br>OBS_VALUE=%{y}<extra></extra>",
         "legendgroup": "SBS",
         "marker": {
          "color": "#ab63fa",
          "symbol": "circle"
         },
         "mode": "markers",
         "name": "SBS",
         "showlegend": true,
         "type": "scattergl",
         "x": {
          "bdata": "1wfYB9kH2gfbB9wH3QfeB98H4AfhB+IH4wfkB+UH5gfnBw==",
          "dtype": "i2"
         },
         "xaxis": "x",
         "y": {
          "bdata": "MZb8Yv7DNkFxPQrXY5ckQeJ6FK6XbyhBMZb8YjyyKEGkcD0KbqUnQRlLfrG8uBlB9Shcjy6EE0He3d3dEVAeQR+F61FOIRpBKVyPwk45GUHv7u7ulG8aQauqqqoCqhRBc9pAp0EsD0HhehSuU90DQXoUrkcxZApBZmZmZnIaDEERERERWYgNQQ==",
          "dtype": "f8"
         },
         "yaxis": "y"
        },
        {
         "hovertemplate": "species=SBZ<br>TIME_PERIOD=%{x}<br>OBS_VALUE=%{y}<extra></extra>",
         "legendgroup": "SBZ",
         "marker": {
          "color": "#FFA15A",
          "symbol": "circle"
         },
         "mode": "markers",
         "name": "SBZ",
         "showlegend": true,
         "type": "scattergl",
         "x": {
          "bdata": "4gfjBw==",
          "dtype": "i2"
         },
         "xaxis": "x",
         "y": {
          "bdata": "LPnFkt/kuUBFRERERMm4QA==",
          "dtype": "f8"
         },
         "yaxis": "y"
        },
        {
         "hovertemplate": "species=SCF<br>TIME_PERIOD=%{x}<br>OBS_VALUE=%{y}<extra></extra>",
         "legendgroup": "SCF",
         "marker": {
          "color": "#19d3f3",
          "symbol": "circle"
         },
         "mode": "markers",
         "name": "SCF",
         "showlegend": true,
         "type": "scattergl",
         "x": {
          "bdata": "1wfYB9kH2gfbB9wH3QfeB98H4AfhB+IH4wfkBw==",
          "dtype": "i2"
         },
         "xaxis": "x",
         "y": {
          "bdata": "Xyz5JWsRREHaQKfNAQZAQYFOG+jm+z5B7+7urllRQ0EEnTbQ0DtAQYwlv1jrXT1B0wY67QrhPEEzMzPzxhc9Qd7d3d2fhwpByS+W/PKx+kCJiIiISE/fQFyPwvVoPMZAv1jyiyWEvUAHOm2g0/S7QA==",
          "dtype": "f8"
         },
         "yaxis": "y"
        },
        {
         "hovertemplate": "species=SCK<br>TIME_PERIOD=%{x}<br>OBS_VALUE=%{y}<extra></extra>",
         "legendgroup": "SCK",
         "marker": {
          "color": "#FF6692",
          "symbol": "circle"
         },
         "mode": "markers",
         "name": "SCK",
         "showlegend": true,
         "type": "scattergl",
         "x": {
          "bdata": "4gfjBw==",
          "dtype": "i2"
         },
         "xaxis": "x",
         "y": {
          "bdata": "GEt+seTzkUAt4E5/xII9QA==",
          "dtype": "f8"
         },
         "yaxis": "y"
        },
        {
         "hovertemplate": "species=SCO<br>TIME_PERIOD=%{x}<br>OBS_VALUE=%{y}<extra></extra>",
         "legendgroup": "SCO",
         "marker": {
          "color": "#B6E880",
          "symbol": "circle"
         },
         "mode": "markers",
         "name": "SCO",
         "showlegend": true,
         "type": "scattergl",
         "x": {
          "bdata": "1wfYB9kH2gfbB9wH3QfeB98H4AfhBw==",
          "dtype": "i2"
         },
         "xaxis": "x",
         "y": {
          "bdata": "QKcN9HNHTkG7u7s77rNEQYiIiAji/klBKFyPAhkoSkHv7u4uH1NPQRhLfrFLnUlBZMkvViA0SUEL16MwTchJQY/C9SicAbZAq6qqqqoxs0Crqqqqqky1QA==",
          "dtype": "f8"
         },
         "yaxis": "y"
        },
        {
         "hovertemplate": "species=SCR<br>TIME_PERIOD=%{x}<br>OBS_VALUE=%{y}<extra></extra>",
         "legendgroup": "SCR",
         "marker": {
          "color": "#FF97FF",
          "symbol": "circle"
         },
         "mode": "markers",
         "name": "SCR",
         "showlegend": true,
         "type": "scattergl",
         "x": {
          "bdata": "3wfhB+IH4wfkB+UH5gfnBw==",
          "dtype": "i2"
         },
         "xaxis": "x",
         "y": {
          "bdata": "/GLJL76990BMfrHkxyL5QCIiIiKaIwJBeHd3dz/89UAiIiIispbyQCIiIiIixwRBeHd3d7dU8UBiyS+WHMT/QA==",
          "dtype": "f8"
         },
         "yaxis": "y"
        },
        {
         "hovertemplate": "species=SCS<br>TIME_PERIOD=%{x}<br>OBS_VALUE=%{y}<extra></extra>",
         "legendgroup": "SCS",
         "marker": {
          "color": "#FECB52",
          "symbol": "circle"
         },
         "mode": "markers",
         "name": "SCS",
         "showlegend": true,
         "type": "scattergl",
         "x": {
          "bdata": "3wfiB+MH5AflB+YH5wc=",
          "dtype": "i2"
         },
         "xaxis": "x",
         "y": {
          "bdata": "IiIiIqKDtkDhehSupxPRQAJR6cjWdgBBnFO2dT3kMUE0MzPTs5NGQYiIiMhhlEZBv1jyC02BQ0E=",
          "dtype": "f8"
         },
         "yaxis": "y"
        },
        {
         "hovertemplate": "species=SCX<br>TIME_PERIOD=%{x}<br>OBS_VALUE=%{y}<extra></extra>",
         "legendgroup": "SCX",
         "marker": {
          "color": "#636efa",
          "symbol": "circle"
         },
         "mode": "markers",
         "name": "SCX",
         "showlegend": true,
         "type": "scattergl",
         "x": {
          "bdata": "1wfYB9kH2gfbB9wH3QfeB98H4AfhB+IH4wfkB+UH5gfnBw==",
          "dtype": "i2"
         },
         "xaxis": "x",
         "y": {
          "bdata": "YskvFnndI0G7u7u7fT4UQSlcj8KSdxdB2KNwPcPGFEHUBjptdEUXQc3MzMw0hyJBq6qqqvaCD0HRaQOdZDIQQRhLfrE8KQxB/WLJL4pgEkHyiyW/mDDZQIwlv1gS/eNAsuQXS04o5kAb6LSBDt/hQF8s+cXaIuVAvLu7u6NS8ECMJb9YEsfXQA==",
          "dtype": "f8"
         },
         "yaxis": "y"
        },
        {
         "hovertemplate": "species=SDR<br>TIME_PERIOD=%{x}<br>OBS_VALUE=%{y}<extra></extra>",
         "legendgroup": "SDR",
         "marker": {
          "color": "#EF553B",
          "symbol": "circle"
         },
         "mode": "markers",
         "name": "SDR",
         "showlegend": true,
         "type": "scattergl",
         "x": {
          "bdata": "4gfjBw==",
          "dtype": "i2"
         },
         "xaxis": "x",
         "y": {
          "bdata": "iIiIiIhAhkB7FK5H4ZyCQA==",
          "dtype": "f8"
         },
         "yaxis": "y"
        },
        {
         "hovertemplate": "species=SDS<br>TIME_PERIOD=%{x}<br>OBS_VALUE=%{y}<extra></extra>",
         "legendgroup": "SDS",
         "marker": {
          "color": "#00cc96",
          "symbol": "circle"
         },
         "mode": "markers",
         "name": "SDS",
         "showlegend": true,
         "type": "scattergl",
         "x": {
          "bdata": "3wfgB+EH4gfjB+QH",
          "dtype": "i2"
         },
         "xaxis": "x",
         "y": {
          "bdata": "L5b8Ygngs0Cg0wY6bdelQIJOG+i0rulAjCW/WLJusEAEnTbQaT2dQJ420GkDo65A",
          "dtype": "f8"
         },
         "yaxis": "y"
        },
        {
         "hovertemplate": "species=SDV<br>TIME_PERIOD=%{x}<br>OBS_VALUE=%{y}<extra></extra>",
         "legendgroup": "SDV",
         "marker": {
          "color": "#ab63fa",
          "symbol": "circle"
         },
         "mode": "markers",
         "name": "SDV",
         "showlegend": true,
         "type": "scattergl",
         "x": {
          "bdata": "1QfWB9cH2AfZB9oH2wfcB90H3gfkB+UH5gfnBw==",
          "dtype": "i2"
         },
         "xaxis": "x",
         "y": {
          "bdata": "tKNLEtUENUEs+cWSCYEnQX+x5JfJKipBOm2g0+4ZJkHJL5Z8nJYoQdpApw2AWiJBN9Bpg7KoKUGuR+F62xohQauqqqpc8yFBXyz5xThhIkHv7u7uygInQXE9Ctfx1iFBVVVVVUs6HkHziyW/ZjscQQ==",
          "dtype": "f8"
         },
         "yaxis": "y"
        },
        {
         "hovertemplate": "species=SFS<br>TIME_PERIOD=%{x}<br>OBS_VALUE=%{y}<extra></extra>",
         "legendgroup": "SFS",
         "marker": {
          "color": "#FFA15A",
          "symbol": "circle"
         },
         "mode": "markers",
         "name": "SFS",
         "showlegend": true,
         "type": "scattergl",
         "x": {
          "bdata": "1wfYB9kH2gfbB9wH3QfeB98H4AfhB+IH4wfkB+UH5gfnBw==",
          "dtype": "i2"
         },
         "xaxis": "x",
         "y": {
          "bdata": "TH6xZC37REHv7u4OgLBCQQAAAAANRkNBVVVVNRr4REFApw00yTFGQcaSX6wBAEhBBJ020NGqPUFVVVXVshhEQZJfLPlJ8D5BpHA9SsN+QEFpA522capGQXh3d/fcJD5Bv1jyi/C9PUG7u7s7aiwlQTMzMzOlaSZBq6qqqkRaIEHJL5b8YvIZQQ==",
          "dtype": "f8"
         },
         "yaxis": "y"
        },
        {
         "hovertemplate": "species=SHO<br>TIME_PERIOD=%{x}<br>OBS_VALUE=%{y}<extra></extra>",
         "legendgroup": "SHO",
         "marker": {
          "color": "#19d3f3",
          "symbol": "circle"
         },
         "mode": "markers",
         "name": "SHO",
         "showlegend": true,
         "type": "scattergl",
         "x": {
          "bdata": "4QfiB+MH5AflB+YH5wc=",
          "dtype": "i2"
         },
         "xaxis": "x",
         "y": {
          "bdata": "AAAAAEBH00Ck374OrITCQEjhehTukcJA8oslvxgvv0ApXI/C9enNQIiIiIiIkcpAkl8s+UXtvEA=",
          "dtype": "f8"
         },
         "yaxis": "y"
        },
        {
         "hovertemplate": "species=SHR<br>TIME_PERIOD=%{x}<br>OBS_VALUE=%{y}<extra></extra>",
         "legendgroup": "SHR",
         "marker": {
          "color": "#FF6692",
          "symbol": "circle"
         },
         "mode": "markers",
         "name": "SHR",
         "showlegend": true,
         "type": "scattergl",
         "x": {
          "bdata": "3wfgB+EH4gfjB+QH",
          "dtype": "i2"
         },
         "xaxis": "x",
         "y": {
          "bdata": "BzptoI+ZFUFkyS+WggoXQVK4HoX5tSFBq6qqqror8UBBpw10ernjQGkDnTbQ5KlA",
          "dtype": "f8"
         },
         "yaxis": "y"
        },
        {
         "hovertemplate": "species=SIL<br>TIME_PERIOD=%{x}<br>OBS_VALUE=%{y}<extra></extra>",
         "legendgroup": "SIL",
         "marker": {
          "color": "#B6E880",
          "symbol": "circle"
         },
         "mode": "markers",
         "name": "SIL",
         "showlegend": true,
         "type": "scattergl",
         "x": {
          "bdata": "1gfXB9gH2QfaB9sH3AfdB94H3wfgB+EH4wc=",
          "dtype": "i2"
         },
         "xaxis": "x",
         "y": {
          "bdata": "Jb9Y8ufSIkHf3d1dKvk7Qei0gc4NaD5B1AY6LfJ5QkGNJb/YCEM5Qauqqqr1njJBnDbQadteL0FPG+i0T3cjQdpApw3eBCRB20CnDR5wIkFSuB6FTIMlQVK4HoUoIihBMzMzM0sv5EA=",
          "dtype": "f8"
         },
         "yaxis": "y"
        },
        {
         "hovertemplate": "species=SIU<br>TIME_PERIOD=%{x}<br>OBS_VALUE=%{y}<extra></extra>",
         "legendgroup": "SIU",
         "marker": {
          "color": "#FF97FF",
          "symbol": "circle"
         },
         "mode": "markers",
         "name": "SIU",
         "showlegend": true,
         "type": "scattergl",
         "x": {
          "bdata": "4wfkB+UH5gfnBw==",
          "dtype": "i2"
         },
         "xaxis": "x",
         "y": {
          "bdata": "Jr9Y8ssPsEC4HoXrSSnhQL9Y8oulBPlAERERETEd+UDe3d3dOcn0QA==",
          "dtype": "f8"
         },
         "yaxis": "y"
        },
        {
         "hovertemplate": "species=SIY<br>TIME_PERIOD=%{x}<br>OBS_VALUE=%{y}<extra></extra>",
         "legendgroup": "SIY",
         "marker": {
          "color": "#FECB52",
          "symbol": "circle"
         },
         "mode": "markers",
         "name": "SIY",
         "showlegend": true,
         "type": "scattergl",
         "x": {
          "bdata": "4gfjBw==",
          "dtype": "i2"
         },
         "xaxis": "x",
         "y": {
          "bdata": "RUREREQ4nkAb6LSBToWjQA==",
          "dtype": "f8"
         },
         "yaxis": "y"
        },
        {
         "hovertemplate": "species=SJA<br>TIME_PERIOD=%{x}<br>OBS_VALUE=%{y}<extra></extra>",
         "legendgroup": "SJA",
         "marker": {
          "color": "#636efa",
          "symbol": "circle"
         },
         "mode": "markers",
         "name": "SJA",
         "showlegend": true,
         "type": "scattergl",
         "x": {
          "bdata": "1QfWB9cH2AfZB9oH2wfcB90H3gffB+AH4QfiB+MH5AflB+YH5wc=",
          "dtype": "i2"
         },
         "xaxis": "x",
         "y": {
          "bdata": "nDOidFpjFUFPG+i0DCoYQZ420GnTBw9Bc9pAp/EmCEEvlvxiJV8aQRERERE1QxZBNDMzM1dpEkHNzMzMGCAQQauqqqryEQ1BVVVVVXMwBkFxPQrXc2T4QIwlv1gSxCBBG+i0gTyxF0E30GkD7ssdQTfQaQP4/h9BmZmZmX0OFkFqA502jOwgQRERERGtJBxBS36x5J9jK0E=",
          "dtype": "f8"
         },
         "yaxis": "y"
        },
        {
         "hovertemplate": "species=SKA<br>TIME_PERIOD=%{x}<br>OBS_VALUE=%{y}<extra></extra>",
         "legendgroup": "SKA",
         "marker": {
          "color": "#EF553B",
          "symbol": "circle"
         },
         "mode": "markers",
         "name": "SKA",
         "showlegend": true,
         "type": "scattergl",
         "x": {
          "bdata": "3wfgB+EH4gfjB+QH5QfmB+cH",
          "dtype": "i2"
         },
         "xaxis": "x",
         "y": {
          "bdata": "1AY6bUAH9EARERERRQvwQIiIiIjoD8RAERERERE9mkBZ8oslvxmdQJNfLPmFRbpAMZb8Ypmv2kCIiIiIyGHIQGkDnTYwM8NA",
          "dtype": "f8"
         },
         "yaxis": "y"
        },
        {
         "hovertemplate": "species=SKJ<br>TIME_PERIOD=%{x}<br>OBS_VALUE=%{y}<extra></extra>",
         "legendgroup": "SKJ",
         "marker": {
          "color": "#00cc96",
          "symbol": "circle"
         },
         "mode": "markers",
         "name": "SKJ",
         "showlegend": true,
         "type": "scattergl",
         "x": {
          "bdata": "zQfQB9EH0gfTB9QH1QfWB9cH2AfZB98H4AfhB+IH4wfkB+UH5gfnBw==",
          "dtype": "i2"
         },
         "xaxis": "x",
         "y": {
          "bdata": "VVVVVX11DEG28/3U1DngQOdC0tRxBSFBDncI9vJSkUC41C7z28QiQc6t/QoKFiVBdgXI/dijKEEy7xLW3CgnQT4K16NhjyZBQacNNG2wM0FEREREtIMqQSchAVUpAARBiEIQYs4aO0Ep5BKWPP1EQQF7L2RdjTpBLSoahGxqJkGWwCQvhv8xQfSRgRkugjlBm2yyyQQWK0HlGTpnoesoQQ==",
          "dtype": "f8"
         },
         "yaxis": "y"
        },
        {
         "hovertemplate": "species=SKM<br>TIME_PERIOD=%{x}<br>OBS_VALUE=%{y}<extra></extra>",
         "legendgroup": "SKM",
         "marker": {
          "color": "#ab63fa",
          "symbol": "circle"
         },
         "mode": "markers",
         "name": "SKM",
         "showlegend": true,
         "type": "scattergl",
         "x": {
          "bdata": "4gfjB+QH5QfmB+cH",
          "dtype": "i2"
         },
         "xaxis": "x",
         "y": {
          "bdata": "Om2g08jkD0EF6A7bmjcGQVVVVVUTgwFB5RdLfgneCkF4d3d3Y18SQWdmZmb22wBB",
          "dtype": "f8"
         },
         "yaxis": "y"
        },
        {
         "hovertemplate": "species=SKX<br>TIME_PERIOD=%{x}<br>OBS_VALUE=%{y}<extra></extra>",
         "legendgroup": "SKX",
         "marker": {
          "color": "#FFA15A",
          "symbol": "circle"
         },
         "mode": "markers",
         "name": "SKX",
         "showlegend": true,
         "type": "scattergl",
         "x": {
          "bdata": "1QfWB9cH2AfZB9oH2wfcB90H3gffB+AH4QfiB+MH5AflB+YH5wc=",
          "dtype": "i2"
         },
         "xaxis": "x",
         "y": {
          "bdata": "N9OXOCMPEUF3d3d3teoSQRERERGUxhdBeHd3d+yGGEGrqqqqPoURQc3MzMyIlBhBiIiIiNeKLEFVVVVVrckKQVVVVVW9ZQRBxZJfLNU1CUFVVVVV1dvjQHoUrkfp4whBIiIiIqJPp0DNzMzMzFGSQDptoNMGyqdAyS+W/DK20ECkcD0K112vQCIiIiLitsxAJb9Y8ot2okA=",
          "dtype": "f8"
         },
         "yaxis": "y"
        },
        {
         "hovertemplate": "species=SLM<br>TIME_PERIOD=%{x}<br>OBS_VALUE=%{y}<extra></extra>",
         "legendgroup": "SLM",
         "marker": {
          "color": "#19d3f3",
          "symbol": "circle"
         },
         "mode": "markers",
         "name": "SLM",
         "showlegend": true,
         "type": "scattergl",
         "x": {
          "bdata": "1wfYB9kH2gfbB9wH3QfeB98H4AfhB+IH4wfkB+UH5gfnBw==",
          "dtype": "i2"
         },
         "xaxis": "x",
         "y": {
          "bdata": "BJ020JuTJkEEnTbQ/h0SQSIiIiKkyxJBKVyPwp3WC0EEnTbQscwOQZqZmZkHUQNB7FG4HoU79UAYS36xzAYMQYwlv1jsLBJBmZmZmRNCDEFpA5027NUEQZNfLPndgANBeHd3d6ed+UDNzMzMLLnuQAc6baCzUPJA7+7u7i6660AAAAAAcM31QA==",
          "dtype": "f8"
         },
         "yaxis": "y"
        },
        {
         "hovertemplate": "species=SLO<br>TIME_PERIOD=%{x}<br>OBS_VALUE=%{y}<extra></extra>",
         "legendgroup": "SLO",
         "marker": {
          "color": "#FF6692",
          "symbol": "circle"
         },
         "mode": "markers",
         "name": "SLO",
         "showlegend": true,
         "type": "scattergl",
         "x": {
          "bdata": "1wfYB9kH2gfbB9wH3QfeB98H4AfhB+IH4wfkB+UH5gfnBw==",
          "dtype": "i2"
         },
         "xaxis": "x",
         "y": {
          "bdata": "eHd3R8w0U0GIiIgIQbhOQckvllwu8lNBxpJfrEthT0FPG+j0EXNKQQ102sCLMkNBIiIigpliQEF4d3e3bKRCQbu7uxshf0hB2kCnLbbRRUFdZYDGoYFAQWHD00u0vzZB61G4/nv7QEE/mnb7dFQuQRJPUqOyJjNBiIiIiHJ3NkFVVVXVzPgzQQ==",
          "dtype": "f8"
         },
         "yaxis": "y"
        },
        {
         "hovertemplate": "species=SMA<br>TIME_PERIOD=%{x}<br>OBS_VALUE=%{y}<extra></extra>",
         "legendgroup": "SMA",
         "marker": {
          "color": "#B6E880",
          "symbol": "circle"
         },
         "mode": "markers",
         "name": "SMA",
         "showlegend": true,
         "type": "scattergl",
         "x": {
          "bdata": "4gfjBw==",
          "dtype": "i2"
         },
         "xaxis": "x",
         "y": {
          "bdata": "njbQaQP7pEBvMEU+66ZXQA==",
          "dtype": "f8"
         },
         "yaxis": "y"
        },
        {
         "hovertemplate": "species=SMD<br>TIME_PERIOD=%{x}<br>OBS_VALUE=%{y}<extra></extra>",
         "legendgroup": "SMD",
         "marker": {
          "color": "#FF97FF",
          "symbol": "circle"
         },
         "mode": "markers",
         "name": "SMD",
         "showlegend": true,
         "type": "scattergl",
         "x": {
          "bdata": "3wfgB+EH4gfjB+QH",
          "dtype": "i2"
         },
         "xaxis": "x",
         "y": {
          "bdata": "eHd3dzdOwEDKV+9dcKm4QAvKR2VkkQJBuRluwNX2HkF3d3f3oYgmQdBpA50WXcBA",
          "dtype": "f8"
         },
         "yaxis": "y"
        },
        {
         "hovertemplate": "species=SNQ<br>TIME_PERIOD=%{x}<br>OBS_VALUE=%{y}<extra></extra>",
         "legendgroup": "SNQ",
         "marker": {
          "color": "#FECB52",
          "symbol": "circle"
         },
         "mode": "markers",
         "name": "SNQ",
         "showlegend": true,
         "type": "scattergl",
         "x": {
          "bdata": "3wfgB+EH4gfjB+QH",
          "dtype": "i2"
         },
         "xaxis": "x",
         "y": {
          "bdata": "wFjyi9WQ7ED5xZJfLDntQM3MzMwk3vBAu7u7u9sB3UBLfrHk1yLSQO/u7u7uTI9A",
          "dtype": "f8"
         },
         "yaxis": "y"
        },
        {
         "hovertemplate": "species=SOI<br>TIME_PERIOD=%{x}<br>OBS_VALUE=%{y}<extra></extra>",
         "legendgroup": "SOI",
         "marker": {
          "color": "#636efa",
          "symbol": "circle"
         },
         "mode": "markers",
         "name": "SOI",
         "showlegend": true,
         "type": "scattergl",
         "x": {
          "bdata": "1wfYB9kH2gfbB9wH3QfeBw==",
          "dtype": "i2"
         },
         "xaxis": "x",
         "y": {
          "bdata": "VVVVVXoVF0FnZmZmyIUiQdejcL0BJSxBMzMzs9EQKkEt+cWS8BYmQTQzM7MZeTFBLPnFkqF2J0E30GkDo1cjQQ==",
          "dtype": "f8"
         },
         "yaxis": "y"
        },
        {
         "hovertemplate": "species=SOL<br>TIME_PERIOD=%{x}<br>OBS_VALUE=%{y}<extra></extra>",
         "legendgroup": "SOL",
         "marker": {
          "color": "#EF553B",
          "symbol": "circle"
         },
         "mode": "markers",
         "name": "SOL",
         "showlegend": true,
         "type": "scattergl",
         "x": {
          "bdata": "yAfJB8oHywfMB80HzgfPB9AH0QfSB9MH1AfVB9YH1wfYB9kH2gfbB9wH3QfeB98H4AfhB+IH4wfkB+UH5gfnBw==",
          "dtype": "i2"
         },
         "xaxis": "x",
         "y": {
          "bdata": "q6qqijznikEAAAAQPyuAQauqqkobu31BVVVV1eZyYkGO4zhOY1tWQRzHcRyxBldBAAAAQB0KUkHkOI5jQNNLQdDAtfCUEUtBKeXIfWUmUUG/Iz0feDWmQNBxSFmNHlRBJR5QJgzzUkEAQhFYBjpZQQkOQidvzF5B1U6nJ0tfXkGh+DGmq2hUQTX3fd1IgFpB7tPx4IM9W0Gy5BeTuWhlQbu7uxP8JGRB2KNwfUODWUFmZmY2vXxdQfxiyf+LKGJByQImdDR1VUFKFEfzl5pTQeJDdtsDqlFBsPaKsZKqUEER5KBkTLZIQfWuZ3UmUU1Bq6qqqpZaWEGeNtB5oddYQQ==",
          "dtype": "f8"
         },
         "yaxis": "y"
        },
        {
         "hovertemplate": "species=SOO<br>TIME_PERIOD=%{x}<br>OBS_VALUE=%{y}<extra></extra>",
         "legendgroup": "SOO",
         "marker": {
          "color": "#00cc96",
          "symbol": "circle"
         },
         "mode": "markers",
         "name": "SOO",
         "showlegend": true,
         "type": "scattergl",
         "x": {
          "bdata": "3wfkB+UH5gfnBw==",
          "dtype": "i2"
         },
         "xaxis": "x",
         "y": {
          "bdata": "eHd3d+EcEUG6iO/EmPfjQDMzMzNTucRAq6qqqiqgvUAiIiIicjnTQA==",
          "dtype": "f8"
         },
         "yaxis": "y"
        },
        {
         "hovertemplate": "species=SOS<br>TIME_PERIOD=%{x}<br>OBS_VALUE=%{y}<extra></extra>",
         "legendgroup": "SOS",
         "marker": {
          "color": "#ab63fa",
          "symbol": "circle"
         },
         "mode": "markers",
         "name": "SOS",
         "showlegend": true,
         "type": "scattergl",
         "x": {
          "bdata": "4AfiB+MH5AflB+YH5wc=",
          "dtype": "i2"
         },
         "xaxis": "x",
         "y": {
          "bdata": "zczMzMwBq0CIiIiICBnEQNUeCQ6C58BAfNCzWVmF0UDvuTmC2y/kQL8b+D7CqdtA7+7u7shqAUE=",
          "dtype": "f8"
         },
         "yaxis": "y"
        },
        {
         "hovertemplate": "species=SOX<br>TIME_PERIOD=%{x}<br>OBS_VALUE=%{y}<extra></extra>",
         "legendgroup": "SOX",
         "marker": {
          "color": "#FFA15A",
          "symbol": "circle"
         },
         "mode": "markers",
         "name": "SOX",
         "showlegend": true,
         "type": "scattergl",
         "x": {
          "bdata": "1wfYB9kH2gfbB9wH3QfeB98H4Qc=",
          "dtype": "i2"
         },
         "xaxis": "x",
         "y": {
          "bdata": "ERERESFx8EDbQKcN/M7rQGZmZmY2avpAeHd3d1/W9EBZ8oslx4nzQGkDnTbIgQBB4XoUrsOl8ECcNtBpu7v4QEt+seQ3j/1A84slv4Qa+EA=",
          "dtype": "f8"
         },
         "yaxis": "y"
        },
        {
         "hovertemplate": "species=SPC<br>TIME_PERIOD=%{x}<br>OBS_VALUE=%{y}<extra></extra>",
         "legendgroup": "SPC",
         "marker": {
          "color": "#19d3f3",
          "symbol": "circle"
         },
         "mode": "markers",
         "name": "SPC",
         "showlegend": true,
         "type": "scattergl",
         "x": {
          "bdata": "3wfgB+EH4gfjB+QH5QfmB+cH",
          "dtype": "i2"
         },
         "xaxis": "x",
         "y": {
          "bdata": "GEt+sblcFkFcj8J1pwohQVnyiyXWnR1BG+i0Acq8MUG7u7u7RbgnQRvotIFCswZBZ2ZmZrCcBkFnZmZm8mgAQauqqqqCD/9A",
          "dtype": "f8"
         },
         "yaxis": "y"
        },
        {
         "hovertemplate": "species=SPF<br>TIME_PERIOD=%{x}<br>OBS_VALUE=%{y}<extra></extra>",
         "legendgroup": "SPF",
         "marker": {
          "color": "#FF6692",
          "symbol": "circle"
         },
         "mode": "markers",
         "name": "SPF",
         "showlegend": true,
         "type": "scattergl",
         "x": {
          "bdata": "4wc=",
          "dtype": "i2"
         },
         "xaxis": "x",
         "y": {
          "bdata": "PgrXo3AJlUA=",
          "dtype": "f8"
         },
         "yaxis": "y"
        },
        {
         "hovertemplate": "species=SPN<br>TIME_PERIOD=%{x}<br>OBS_VALUE=%{y}<extra></extra>",
         "legendgroup": "SPN",
         "marker": {
          "color": "#B6E880",
          "symbol": "circle"
         },
         "mode": "markers",
         "name": "SPN",
         "showlegend": true,
         "type": "scattergl",
         "x": {
          "bdata": "4AflB+YH",
          "dtype": "i2"
         },
         "xaxis": "x",
         "y": {
          "bdata": "u7u7uzugp0A3mCKfdYNHQNC6wRT5rElA",
          "dtype": "f8"
         },
         "yaxis": "y"
        },
        {
         "hovertemplate": "species=SPR<br>TIME_PERIOD=%{x}<br>OBS_VALUE=%{y}<extra></extra>",
         "legendgroup": "SPR",
         "marker": {
          "color": "#FF97FF",
          "symbol": "circle"
         },
         "mode": "markers",
         "name": "SPR",
         "showlegend": true,
         "type": "scattergl",
         "x": {
          "bdata": "1QfWB9cH2AfZB9oH2wfcB90H3gffB+AH4QfiB+MH5AflB+YH5wc=",
          "dtype": "i2"
         },
         "xaxis": "x",
         "y": {
          "bdata": "eVV6gF395kB3d3d3t3HdQNFpA50WYeBAu7u7u0ui5EAJ16NwbVfoQBIRERFxeehA0WkDnZYW4ED5xZJfjEzYQHh3d3fXV9dAS36x5JcD4EAYS36x9P/jQFnyiyW/PtZA7+7u7k6d5kA0MzMzg0XvQASdNtBZa/hARURERPRe20De3d3dfVXqQFVVVVWlW+RAlfxiya99zUA=",
          "dtype": "f8"
         },
         "yaxis": "y"
        },
        {
         "hovertemplate": "species=SQC<br>TIME_PERIOD=%{x}<br>OBS_VALUE=%{y}<extra></extra>",
         "legendgroup": "SQC",
         "marker": {
          "color": "#FECB52",
          "symbol": "circle"
         },
         "mode": "markers",
         "name": "SQC",
         "showlegend": true,
         "type": "scattergl",
         "x": {
          "bdata": "yAfJB8oHywfMB80HzgfPB9AH0QfSB9MH1AfVB9YH1wfYB9kH2gfbB9wH3QfeB98H4QfiB+MH5AflB+YH5wc=",
          "dtype": "i2"
         },
         "xaxis": "x",
         "y": {
          "bdata": "q6qqOigxcEGrqqpKUBhrQQAAAKCGNW1BAAAAgKoCWkHkOI5jPLRcQauqquqaqllBchzH8W4nUEFVVVXVsEpMQWNd3AZHsU1BTLurvT1NUkEm9A1f+T2iQF1Q3+I83E1BEw8oi/cZTkE5hCplCGJVQUzg1v3rY1VB3ypi52DHV0FJCdTBC6tUQYrNx90GDVRBx89ZpS6eVkEiIiL6PxhgQbgehbsggFVBYskv1gC2V0GrqqqywyVgQXh3d3c3z7dAeHd3d1eCA0EOdNpAp/zOQGAs+cVy7sdAQKcNdPonxkAiIiIiYvDOQN7d3d296tJAVVVVVZW20UA=",
          "dtype": "f8"
         },
         "yaxis": "y"
        },
        {
         "hovertemplate": "species=SQE<br>TIME_PERIOD=%{x}<br>OBS_VALUE=%{y}<extra></extra>",
         "legendgroup": "SQE",
         "marker": {
          "color": "#636efa",
          "symbol": "circle"
         },
         "mode": "markers",
         "name": "SQE",
         "showlegend": true,
         "type": "scattergl",
         "x": {
          "bdata": "3wfgB+EH4gfjB+QH5QfmB+cH",
          "dtype": "i2"
         },
         "xaxis": "x",
         "y": {
          "bdata": "EREREXlG+kCrqqqqSqHqQBSuRyHlBTlB1AY6ba7AFkE6j53K/QUFQSkNIj8xh/JA5fpkcrzLI0Ek5mwUdjQfQXE9CtethCBB",
          "dtype": "f8"
         },
         "yaxis": "y"
        },
        {
         "hovertemplate": "species=SQF<br>TIME_PERIOD=%{x}<br>OBS_VALUE=%{y}<extra></extra>",
         "legendgroup": "SQF",
         "marker": {
          "color": "#EF553B",
          "symbol": "circle"
         },
         "mode": "markers",
         "name": "SQF",
         "showlegend": true,
         "type": "scattergl",
         "x": {
          "bdata": "4gfjB+QH5QfmB+cH",
          "dtype": "i2"
         },
         "xaxis": "x",
         "y": {
          "bdata": "7+7u7qNKEkGrqqqqtKgVQbHkF0tmYBxB2kCnDQpGJkF4d3d34MEkQe/u7u7pGyhB",
          "dtype": "f8"
         },
         "yaxis": "y"
        },
        {
         "hovertemplate": "species=SQM<br>TIME_PERIOD=%{x}<br>OBS_VALUE=%{y}<extra></extra>",
         "legendgroup": "SQM",
         "marker": {
          "color": "#00cc96",
          "symbol": "circle"
         },
         "mode": "markers",
         "name": "SQM",
         "showlegend": true,
         "type": "scattergl",
         "x": {
          "bdata": "1wfYB9kH2gfbB9wH3QfeB98H4AfhB+IH4wfkB+UH5gfnBw==",
          "dtype": "i2"
         },
         "xaxis": "x",
         "y": {
          "bdata": "q6qq6moGVUFSuB61MmJWQUt+seTN71pBoNMGKtUNVkERERHxb0JUQVVVVVUZ31BBJb9Yst8nTEFVVVVVhCdJQY/C9QgMbk5BMzMzs27GTUElv1iSy51RQe/u7i5rJVVBfrHkFzKRUUG/WPKLOzZDQV8s+cU7UjxBMzMzM7CyPEGrqqpqMNU4QQ==",
          "dtype": "f8"
         },
         "yaxis": "y"
        },
        {
         "hovertemplate": "species=SQR<br>TIME_PERIOD=%{x}<br>OBS_VALUE=%{y}<extra></extra>",
         "legendgroup": "SQR",
         "marker": {
          "color": "#ab63fa",
          "symbol": "circle"
         },
         "mode": "markers",
         "name": "SQR",
         "showlegend": true,
         "type": "scattergl",
         "x": {
          "bdata": "3wfgB+EH4gfjB+QH5QfmB+cH",
          "dtype": "i2"
         },
         "xaxis": "x",
         "y": {
          "bdata": "Xyz5Bfl4VkHC9ShcrNRUQQAAADDLw1lBS36xpL8DXEGkcD0qPFNSQVnyi2WyaT9BbaDTZmM9REFVVVXVGUtCQQ102qDJykRB",
          "dtype": "f8"
         },
         "yaxis": "y"
        },
        {
         "hovertemplate": "species=SQU<br>TIME_PERIOD=%{x}<br>OBS_VALUE=%{y}<extra></extra>",
         "legendgroup": "SQU",
         "marker": {
          "color": "#FFA15A",
          "symbol": "circle"
         },
         "mode": "markers",
         "name": "SQU",
         "showlegend": true,
         "type": "scattergl",
         "x": {
          "bdata": "yAfJB8oHywfMB9AH0QfSB9MH",
          "dtype": "i2"
         },
         "xaxis": "x",
         "y": {
          "bdata": "AAAAQGeZWEFVVVXVJSRWQQAAAMBh+1VBq6qqqjoz9EBVVVVVVVmWQKxBhRD9JJBArdUxwfdE0EC1gU4b6GxIQH1njr9H2dlA",
          "dtype": "f8"
         },
         "yaxis": "y"
        },
        {
         "hovertemplate": "species=SRG<br>TIME_PERIOD=%{x}<br>OBS_VALUE=%{y}<extra></extra>",
         "legendgroup": "SRG",
         "marker": {
          "color": "#19d3f3",
          "symbol": "circle"
         },
         "mode": "markers",
         "name": "SRG",
         "showlegend": true,
         "type": "scattergl",
         "x": {
          "bdata": "1wfYB9kH2gfbB9wH3QfeB98H4AfhB+IH4wfkB+UH5gfnBw==",
          "dtype": "i2"
         },
         "xaxis": "x",
         "y": {
          "bdata": "ZmZmpkClS0HRaQMdl1VFQSIiIqIGNkdBVVVVNWWXSEH6xZLfeqRLQUREROQf00ZBXI/C1QGJS0FVVVWV6a5DQSlcj8J1b7BAeHd3d3fOs0CuR+F6NKfaQOi0gU4LMdFAgU4b6HT4tEDe3d0dJ0cyQXE9CtdHCDlBVVVVFSZgQEEiIiIiK4g5QQ==",
          "dtype": "f8"
         },
         "yaxis": "y"
        },
        {
         "hovertemplate": "species=SRJ<br>TIME_PERIOD=%{x}<br>OBS_VALUE=%{y}<extra></extra>",
         "legendgroup": "SRJ",
         "marker": {
          "color": "#FF6692",
          "symbol": "circle"
         },
         "mode": "markers",
         "name": "SRJ",
         "showlegend": true,
         "type": "scattergl",
         "x": {
          "bdata": "4wc=",
          "dtype": "i2"
         },
         "xaxis": "x",
         "y": {
          "bdata": "FfmsG0wxV0A=",
          "dtype": "f8"
         },
         "yaxis": "y"
        },
        {
         "hovertemplate": "species=SRK<br>TIME_PERIOD=%{x}<br>OBS_VALUE=%{y}<extra></extra>",
         "legendgroup": "SRK",
         "marker": {
          "color": "#B6E880",
          "symbol": "circle"
         },
         "mode": "markers",
         "name": "SRK",
         "showlegend": true,
         "type": "scattergl",
         "x": {
          "bdata": "4gfjB+QH5wc=",
          "dtype": "i2"
         },
         "xaxis": "x",
         "y": {
          "bdata": "BjptoFP+2kBFREREhALcQHh3d3e3iLZAHjqGF+fhRkA=",
          "dtype": "f8"
         },
         "yaxis": "y"
        },
        {
         "hovertemplate": "species=SRX<br>TIME_PERIOD=%{x}<br>OBS_VALUE=%{y}<extra></extra>",
         "legendgroup": "SRX",
         "marker": {
          "color": "#FF97FF",
          "symbol": "circle"
         },
         "mode": "markers",
         "name": "SRX",
         "showlegend": true,
         "type": "scattergl",
         "x": {
          "bdata": "yAfJB8oHywfMB80HzgfPB9AH0QfSB9MH1AfVB9YH1wfYB9kH2gfbB9wH3QfeB98H4AfhB+IH4wfkB+UH5gfnBw==",
          "dtype": "i2"
         },
         "xaxis": "x",
         "y": {
          "bdata": "q6qqqp6SSUGrqqqqVXFDQauqqirriEBB5DiO4+jaMkGrqqqqTF4vQQAAAAD0Z0ZBAAAAAE28OUGrqqqqHBImQewKkHt9yR1Bpw10mhMZGkGdIS9+LUxyQEK6xenEVRlBhhvw+STKHEG/nxqv7pk1QdQGOu0lXDNBq6qqqrMFMUEHOm2g9r4oQcaSXyyhoSxBAAAAAGcqMEHv7u7uNJIuQauqqqq9kClBu7u7u2GVLEEVrkfh2AwvQZ020GkDZ6FAMzMzM7NzoEBBpw102o+TQIiIiIiI4oJAERERERHBgEDJL5b8ojDSQIiIiIiIM7xAMzMzMzN61UDf3d3d3RyvQA==",
          "dtype": "f8"
         },
         "yaxis": "y"
        },
        {
         "hovertemplate": "species=SSB<br>TIME_PERIOD=%{x}<br>OBS_VALUE=%{y}<extra></extra>",
         "legendgroup": "SSB",
         "marker": {
          "color": "#FECB52",
          "symbol": "circle"
         },
         "mode": "markers",
         "name": "SSB",
         "showlegend": true,
         "type": "scattergl",
         "x": {
          "bdata": "1wfYB9kH2gfbB9wH3QfeB98H4AfhB+IH4wfkB+UH5gfnBw==",
          "dtype": "i2"
         },
         "xaxis": "x",
         "y": {
          "bdata": "mpmZGbk2PUEHOm2g414vQYwlv1inhjtBG+i0gQQFOkGZmZm5yKhAQc3MzMxebTtBdNpAh8X1QkF7FK5H7IM2QURERMSAVDhBjCW/WG1YNkHXo3C9inAuQXh3d3ephDJBH4Xr0czpLUEehetROC0iQbu7u7vIDSlB7+7u7tmxKkHv7u7usOIkQQ==",
          "dtype": "f8"
         },
         "yaxis": "y"
        },
        {
         "hovertemplate": "species=STT<br>TIME_PERIOD=%{x}<br>OBS_VALUE=%{y}<extra></extra>",
         "legendgroup": "STT",
         "marker": {
          "color": "#636efa",
          "symbol": "circle"
         },
         "mode": "markers",
         "name": "STT",
         "showlegend": true,
         "type": "scattergl",
         "x": {
          "bdata": "3wfgB+EH4gfjB+UH5gfnBw==",
          "dtype": "i2"
         },
         "xaxis": "x",
         "y": {
          "bdata": "q6qqqqrckEDPaQOdNiaIQIiIiIgIfKxAIiIiIiLeiUAvzkPH8MJXQIA7/RELuD9AbzBFPusGS0Cg0wY6bdxxQA==",
          "dtype": "f8"
         },
         "yaxis": "y"
        },
        {
         "hovertemplate": "species=SVE<br>TIME_PERIOD=%{x}<br>OBS_VALUE=%{y}<extra></extra>",
         "legendgroup": "SVE",
         "marker": {
          "color": "#EF553B",
          "symbol": "circle"
         },
         "mode": "markers",
         "name": "SVE",
         "showlegend": true,
         "type": "scattergl",
         "x": {
          "bdata": "1QfWB9cH2AfZB9oH2wfcB90H3gffB+AH4QfiB+MH5AflB+YH5wc=",
          "dtype": "i2"
         },
         "xaxis": "x",
         "y": {
          "bdata": "x9/j5+V2bUHw7u6OLm1vQbWBTj9VMXFBjCW/qH7dcUFjyS+axnhwQZf8Ytn4yHBBAAAAeDDEcEGx5Bdj1O9qQRvotDlDSmVBERERSYR3ZEFSuB6lygVkQc3MzBxRWGhBvLu7y91TYUHrUbi+XaZmQbu7u9PN52tBpw10wpW3a0GkcD0yQO1yQREREUnkAXFBiIiIyK7qbEE=",
          "dtype": "f8"
         },
         "yaxis": "y"
        },
        {
         "hovertemplate": "species=SVV<br>TIME_PERIOD=%{x}<br>OBS_VALUE=%{y}<extra></extra>",
         "legendgroup": "SVV",
         "marker": {
          "color": "#00cc96",
          "symbol": "circle"
         },
         "mode": "markers",
         "name": "SVV",
         "showlegend": true,
         "type": "scattergl",
         "x": {
          "bdata": "5Qc=",
          "dtype": "i2"
         },
         "xaxis": "x",
         "y": {
          "bdata": "N9BpAx09oEA=",
          "dtype": "f8"
         },
         "yaxis": "y"
        },
        {
         "hovertemplate": "species=SWA<br>TIME_PERIOD=%{x}<br>OBS_VALUE=%{y}<extra></extra>",
         "legendgroup": "SWA",
         "marker": {
          "color": "#ab63fa",
          "symbol": "circle"
         },
         "mode": "markers",
         "name": "SWA",
         "showlegend": true,
         "type": "scattergl",
         "x": {
          "bdata": "3wfgB+EH4gfjB+QH",
          "dtype": "i2"
         },
         "xaxis": "x",
         "y": {
          "bdata": "kl8s+aPhKEFuoNOGyvwpQbLkF4udjTFB+cWSX6C/HUHbQKcNHo8SQYwlv1jylMZA",
          "dtype": "f8"
         },
         "yaxis": "y"
        },
        {
         "hovertemplate": "species=SWO<br>TIME_PERIOD=%{x}<br>OBS_VALUE=%{y}<extra></extra>",
         "legendgroup": "SWO",
         "marker": {
          "color": "#FFA15A",
          "symbol": "circle"
         },
         "mode": "markers",
         "name": "SWO",
         "showlegend": true,
         "type": "scattergl",
         "x": {
          "bdata": "yAfJB8oHywfMB80HzgfPB9AH0QfSB9MH1AfVB9YH1wfYB9kH2gfbB9wH3QfeB98H4AfhB+IH4wfkB+UH5gfnBw==",
          "dtype": "i2"
         },
         "xaxis": "x",
         "y": {
          "bdata": "AAAAAN2ET0FVVVW1Fl9mQauqqmouSmBBq6qqKu67WEGrqqpK3C1gQauqqmqUmV1BAAAAQFQ2WUEAAACAEINTQU9lPl2yjlZB606KsR48XUEAcq+5UEitQLxxZasi4lxB3EPVcnkMWUHhehTC8eZ6QV8s+aXAP3tBRUREGD70eUHHkl/E/ARxQVVVVaUgfHNBFa5HzTpLdkFFREQwIWZzQTfQaaPcF21Bu7u7C0mSYkG7u7sbeT9kQXsUrudGFGlBeHd3F99DZ0F02kBnzL5iQd7d3e18lVZBhetRaIumXkElv1jyy0NgQXoUrgcmmVVBRURERE1lWUFSuB4F/9FcQQ==",
          "dtype": "f8"
         },
         "yaxis": "y"
        },
        {
         "hovertemplate": "species=SYC<br>TIME_PERIOD=%{x}<br>OBS_VALUE=%{y}<extra></extra>",
         "legendgroup": "SYC",
         "marker": {
          "color": "#19d3f3",
          "symbol": "circle"
         },
         "mode": "markers",
         "name": "SYC",
         "showlegend": true,
         "type": "scattergl",
         "x": {
          "bdata": "3wfgB+EH4gfjB+QH5QfmB+cH",
          "dtype": "i2"
         },
         "xaxis": "x",
         "y": {
          "bdata": "u7u7u/kSBEEYS36xRGQEQRERERHdUPJA9Shcj+J0B0FSuB6FF9gJQaVwPQpHPPpA2kCnDRTH/EBmZmZm5nb4QHh3d3en1fJA",
          "dtype": "f8"
         },
         "yaxis": "y"
        },
        {
         "hovertemplate": "species=SYT<br>TIME_PERIOD=%{x}<br>OBS_VALUE=%{y}<extra></extra>",
         "legendgroup": "SYT",
         "marker": {
          "color": "#FF6692",
          "symbol": "circle"
         },
         "mode": "markers",
         "name": "SYT",
         "showlegend": true,
         "type": "scattergl",
         "x": {
          "bdata": "3wfgB+EH4gfjB+QH5QfmB+cH",
          "dtype": "i2"
         },
         "xaxis": "x",
         "y": {
          "bdata": "AAAAAAAZq0DotIFOm6euQJf8YskvPrZA5RdLfrFKrkAiIiIiIubAQK5H4XoU/K1AgU4b6LQqvkBVVVVVVYa5QLu7u7u7vaNA",
          "dtype": "f8"
         },
         "yaxis": "y"
        },
        {
         "hovertemplate": "species=TDQ<br>TIME_PERIOD=%{x}<br>OBS_VALUE=%{y}<extra></extra>",
         "legendgroup": "TDQ",
         "marker": {
          "color": "#B6E880",
          "symbol": "circle"
         },
         "mode": "markers",
         "name": "TDQ",
         "showlegend": true,
         "type": "scattergl",
         "x": {
          "bdata": "3wfgB+EH4gfjB+QH5QfmB+cH",
          "dtype": "i2"
         },
         "xaxis": "x",
         "y": {
          "bdata": "rkfhetxBAEEmv1jyu7r3QA502kCFIB1BISIiIkTGGUH8YskvMtQUQRSuR+F6uAZB7+7u7ji+BEGIiIiI9CYAQe/u7u4+TOlA",
          "dtype": "f8"
         },
         "yaxis": "y"
        },
        {
         "hovertemplate": "species=TGS<br>TIME_PERIOD=%{x}<br>OBS_VALUE=%{y}<extra></extra>",
         "legendgroup": "TGS",
         "marker": {
          "color": "#FF97FF",
          "symbol": "circle"
         },
         "mode": "markers",
         "name": "TGS",
         "showlegend": true,
         "type": "scattergl",
         "x": {
          "bdata": "1QfWB9cH2AfZB9oH2wfcB90H3gffB+AH4QfiB+MH5AflB+YH5wc=",
          "dtype": "i2"
         },
         "xaxis": "x",
         "y": {
          "bdata": "eAskSALMRUGUXyy5pnhOQURERIRt7VdBq6qq2ifXUEFI4Xp0o3tTQWZmZqZb2lRBS36xdJleUkHMzMxMSLlLQW2g0yaA4ktBREREFDORUEFFRES0glxWQXyLdHT99E1BC+IWBj3bUkEwpoY3wTBTQbx+wWZ8/U5BFd7lEnDqSEGOeohG2+RJQUVERAR2gVtBFK5HoTUxWEE=",
          "dtype": "f8"
         },
         "yaxis": "y"
        },
        {
         "hovertemplate": "species=TRA<br>TIME_PERIOD=%{x}<br>OBS_VALUE=%{y}<extra></extra>",
         "legendgroup": "TRA",
         "marker": {
          "color": "#FECB52",
          "symbol": "circle"
         },
         "mode": "markers",
         "name": "TRA",
         "showlegend": true,
         "type": "scattergl",
         "x": {
          "bdata": "1wfYB9kH2gfbB9wH3QfeB98H4AfhB+IH4wc=",
          "dtype": "i2"
         },
         "xaxis": "x",
         "y": {
          "bdata": "QacNdNKyGEFBpw10W5oQQcL1KFwdPxJBgU4b6FB5E0E30GkD4SkOQauqqqqG1w1BiIiIiP3vEEEEnTbQdUcNQQAAAACCHQ9BVVVVVf36DUEzMzMzQ8ANQckvlvxi7NpAq6qqqoI76kA=",
          "dtype": "f8"
         },
         "yaxis": "y"
        },
        {
         "hovertemplate": "species=TTO<br>TIME_PERIOD=%{x}<br>OBS_VALUE=%{y}<extra></extra>",
         "legendgroup": "TTO",
         "marker": {
          "color": "#636efa",
          "symbol": "circle"
         },
         "mode": "markers",
         "name": "TTO",
         "showlegend": true,
         "type": "scattergl",
         "x": {
          "bdata": "4gfjBw==",
          "dtype": "i2"
         },
         "xaxis": "x",
         "y": {
          "bdata": "3t3d3d0xmUDsUbgehZ6UQA==",
          "dtype": "f8"
         },
         "yaxis": "y"
        },
        {
         "hovertemplate": "species=TTR<br>TIME_PERIOD=%{x}<br>OBS_VALUE=%{y}<extra></extra>",
         "legendgroup": "TTR",
         "marker": {
          "color": "#EF553B",
          "symbol": "circle"
         },
         "mode": "markers",
         "name": "TTR",
         "showlegend": true,
         "type": "scattergl",
         "x": {
          "bdata": "4gfjB+QH5QfmB+cH",
          "dtype": "i2"
         },
         "xaxis": "x",
         "y": {
          "bdata": "eHd3d3ekqUBBpw102peeQN7d3d3dJZFArkfhehSdlUCZmZmZmdOQQBERERERhYtA",
          "dtype": "f8"
         },
         "yaxis": "y"
        },
        {
         "hovertemplate": "species=TTV<br>TIME_PERIOD=%{x}<br>OBS_VALUE=%{y}<extra></extra>",
         "legendgroup": "TTV",
         "marker": {
          "color": "#00cc96",
          "symbol": "circle"
         },
         "mode": "markers",
         "name": "TTV",
         "showlegend": true,
         "type": "scattergl",
         "x": {
          "bdata": "4gfjB+QH5QfmB+cH",
          "dtype": "i2"
         },
         "xaxis": "x",
         "y": {
          "bdata": "VVVVVVWMo0CMJb9Y8vqgQNMGOm2gepxAnTbQaQNVokAiIiIiIgCVQEGnDXTaSJRA",
          "dtype": "f8"
         },
         "yaxis": "y"
        },
        {
         "hovertemplate": "species=TUN<br>TIME_PERIOD=%{x}<br>OBS_VALUE=%{y}<extra></extra>",
         "legendgroup": "TUN",
         "marker": {
          "color": "#ab63fa",
          "symbol": "circle"
         },
         "mode": "markers",
         "name": "TUN",
         "showlegend": true,
         "type": "scattergl",
         "x": {
          "bdata": "zQfVB9YH",
          "dtype": "i2"
         },
         "xaxis": "x",
         "y": {
          "bdata": "AAAAAMAG3ECw4enlRidIQR+F6zHeaEFB",
          "dtype": "f8"
         },
         "yaxis": "y"
        },
        {
         "hovertemplate": "species=TUR<br>TIME_PERIOD=%{x}<br>OBS_VALUE=%{y}<extra></extra>",
         "legendgroup": "TUR",
         "marker": {
          "color": "#FFA15A",
          "symbol": "circle"
         },
         "mode": "markers",
         "name": "TUR",
         "showlegend": true,
         "type": "scattergl",
         "x": {
          "bdata": "3wfgB+EH4gfjB+QH5QfmB+cH",
          "dtype": "i2"
         },
         "xaxis": "x",
         "y": {
          "bdata": "AAAAAEAkKEEAAAAADgIpQWTJL5bauRZBY8kvVsMsMUFSuB4FUOYmQRERERFHjBBBHoXrUVeEF0FFREREcqATQSEiIiIWtRdB",
          "dtype": "f8"
         },
         "yaxis": "y"
        },
        {
         "hovertemplate": "species=UGU<br>TIME_PERIOD=%{x}<br>OBS_VALUE=%{y}<extra></extra>",
         "legendgroup": "UGU",
         "marker": {
          "color": "#19d3f3",
          "symbol": "circle"
         },
         "mode": "markers",
         "name": "UGU",
         "showlegend": true,
         "type": "scattergl",
         "x": {
          "bdata": "4wc=",
          "dtype": "i2"
         },
         "xaxis": "x",
         "y": {
          "bdata": "Y3hxHjqGWEA=",
          "dtype": "f8"
         },
         "yaxis": "y"
        },
        {
         "hovertemplate": "species=ULF<br>TIME_PERIOD=%{x}<br>OBS_VALUE=%{y}<extra></extra>",
         "legendgroup": "ULF",
         "marker": {
          "color": "#FF6692",
          "symbol": "circle"
         },
         "mode": "markers",
         "name": "ULF",
         "showlegend": true,
         "type": "scattergl",
         "x": {
          "bdata": "4gfjBw==",
          "dtype": "i2"
         },
         "xaxis": "x",
         "y": {
          "bdata": "oNMGOo0RykCy5BdLXq3RQA==",
          "dtype": "f8"
         },
         "yaxis": "y"
        },
        {
         "hovertemplate": "species=URM<br>TIME_PERIOD=%{x}<br>OBS_VALUE=%{y}<extra></extra>",
         "legendgroup": "URM",
         "marker": {
          "color": "#B6E880",
          "symbol": "circle"
         },
         "mode": "markers",
         "name": "URM",
         "showlegend": true,
         "type": "scattergl",
         "x": {
          "bdata": "4QfiB+MH5AflB+YH5wc=",
          "dtype": "i2"
         },
         "xaxis": "x",
         "y": {
          "bdata": "EREREXGU+kCW/GLJ0yYAQdpApw36ewZBERERETGi30Bbj8L1zM8FQRERERERfKVAEREREdEN6EA=",
          "dtype": "f8"
         },
         "yaxis": "y"
        },
        {
         "hovertemplate": "species=UUC<br>TIME_PERIOD=%{x}<br>OBS_VALUE=%{y}<extra></extra>",
         "legendgroup": "UUC",
         "marker": {
          "color": "#FF97FF",
          "symbol": "circle"
         },
         "mode": "markers",
         "name": "UUC",
         "showlegend": true,
         "type": "scattergl",
         "x": {
          "bdata": "1wfYB9kH2gfbB9wH3QfeB98H4AfhB+IH4wfkB+UH5gfnBw==",
          "dtype": "i2"
         },
         "xaxis": "x",
         "y": {
          "bdata": "AAAAAE1PGkHUBjptjx4VQTfQaQNoFRFBq6qqqkSfE0He3d3dzSITQZqZmZm3HxNBq6qqqmLjDUFtoNMGZkAQQdFpA50DWhVB84slvwI3F0GnDXTafrUFQQSdNtBtkQ9BJr9Y8kDnEEHv7u7ulk0IQSz5xZK30A1BiIiIiIRJB0FVVVVVt8sIQQ==",
          "dtype": "f8"
         },
         "yaxis": "y"
        },
        {
         "hovertemplate": "species=VEV<br>TIME_PERIOD=%{x}<br>OBS_VALUE=%{y}<extra></extra>",
         "legendgroup": "VEV",
         "marker": {
          "color": "#FECB52",
          "symbol": "circle"
         },
         "mode": "markers",
         "name": "VEV",
         "showlegend": true,
         "type": "scattergl",
         "x": {
          "bdata": "4QfiB+MH5AflB+YH5wc=",
          "dtype": "i2"
         },
         "xaxis": "x",
         "y": {
          "bdata": "ZmZmZmYwtEC1gU4bCJXwQIXrUbjepORA16NwPcqc60As+cWS/y/tQHh3d3f/0vJARURERMQO2EA=",
          "dtype": "f8"
         },
         "yaxis": "y"
        },
        {
         "hovertemplate": "species=VMA<br>TIME_PERIOD=%{x}<br>OBS_VALUE=%{y}<extra></extra>",
         "legendgroup": "VMA",
         "marker": {
          "color": "#636efa",
          "symbol": "circle"
         },
         "mode": "markers",
         "name": "VMA",
         "showlegend": true,
         "type": "scattergl",
         "x": {
          "bdata": "1wfYB9kH2gfbB9wH3QfeB98H4AfhB+IH4wfkB+UH5gfnBw==",
          "dtype": "i2"
         },
         "xaxis": "x",
         "y": {
          "bdata": "4XoUrl/qHkHv7u7uAwcXQZqZmZm1URVBdNpAp2VQGkHsUbge5f4aQW2g0waZ7xRBk18s+dP4E0EAAAAA0eskQetRuF5vTjFBYskvlsDGNUF4d3d3p/MvQb9Y8os3jjFB7+7ubtVlLkH5xZJfkEoVQfcoXI/IXhhBOgM8Pb0gN0HPaQOdNlkOQQ==",
          "dtype": "f8"
         },
         "yaxis": "y"
        },
        {
         "hovertemplate": "species=VSC<br>TIME_PERIOD=%{x}<br>OBS_VALUE=%{y}<extra></extra>",
         "legendgroup": "VSC",
         "marker": {
          "color": "#EF553B",
          "symbol": "circle"
         },
         "mode": "markers",
         "name": "VSC",
         "showlegend": true,
         "type": "scattergl",
         "x": {
          "bdata": "4gfjB+QH5QfmB+cH",
          "dtype": "i2"
         },
         "xaxis": "x",
         "y": {
          "bdata": "iIiIiAB4FUF/seQX5XsMQdFpA51iuP9AAAAAAORLBkFVVVVVUSckQe/u7m7s/S9B",
          "dtype": "f8"
         },
         "yaxis": "y"
        },
        {
         "hovertemplate": "species=WAH<br>TIME_PERIOD=%{x}<br>OBS_VALUE=%{y}<extra></extra>",
         "legendgroup": "WAH",
         "marker": {
          "color": "#00cc96",
          "symbol": "circle"
         },
         "mode": "markers",
         "name": "WAH",
         "showlegend": true,
         "type": "scattergl",
         "x": {
          "bdata": "5QfnBw==",
          "dtype": "i2"
         },
         "xaxis": "x",
         "y": {
          "bdata": "RUREREQ9m0C7u7u724XIQA==",
          "dtype": "f8"
         },
         "yaxis": "y"
        },
        {
         "hovertemplate": "species=WEG<br>TIME_PERIOD=%{x}<br>OBS_VALUE=%{y}<extra></extra>",
         "legendgroup": "WEG",
         "marker": {
          "color": "#ab63fa",
          "symbol": "circle"
         },
         "mode": "markers",
         "name": "WEG",
         "showlegend": true,
         "type": "scattergl",
         "x": {
          "bdata": "4gfjB+QH5QfmB+cH",
          "dtype": "i2"
         },
         "xaxis": "x",
         "y": {
          "bdata": "u7u7uxvS+UDf3d3duWD7QFyPwvUorvFA7+7u7vYR5kBFREREZNflQNQGOm1wy91A",
          "dtype": "f8"
         },
         "yaxis": "y"
        },
        {
         "hovertemplate": "species=WHB<br>TIME_PERIOD=%{x}<br>OBS_VALUE=%{y}<extra></extra>",
         "legendgroup": "WHB",
         "marker": {
          "color": "#FFA15A",
          "symbol": "circle"
         },
         "mode": "markers",
         "name": "WHB",
         "showlegend": true,
         "type": "scattergl",
         "x": {
          "bdata": "yAfJB8oHywfMB80HzgfPB9AH0QfSB9MH1AfVB9YH1wfYB9kH2gfbB9wH3QfeB98H4AfhB+IH4wfkB+UH5gfnBw==",
          "dtype": "i2"
         },
         "xaxis": "x",
         "y": {
          "bdata": "AAAAAGmMOkFVVVVVheIzQauqqqrczytBVVVVVYMbKEFVVVVVA00oQQAAAADT4zFBq6qqqiY7JEGrqqqqYEAmQfcGXzjFGiNBJzQ2gZY/KUGF61G4HqV8QJzpSxw5aiNBIwAla92yI0GrqqqqmHgpQYmIiIjKYytBl/xiSTf6JUFfLPnF8EQgQXE9Cte3QxtBj8L1KKUxHkGX/GLJqn4cQei0gU4jeBNBN9BpA69xCkEwlvxinVUQQVK4HoUj1QRBseQXS2o7BEF4d3d3hzr1QL9Y8ov1CPpAGEt+sQwZDUEwlvxi2QwAQfKLJb+4DvhAEREREdEY9EAHOm2gW03wQA==",
          "dtype": "f8"
         },
         "yaxis": "y"
        },
        {
         "hovertemplate": "species=WHG<br>TIME_PERIOD=%{x}<br>OBS_VALUE=%{y}<extra></extra>",
         "legendgroup": "WHG",
         "marker": {
          "color": "#19d3f3",
          "symbol": "circle"
         },
         "mode": "markers",
         "name": "WHG",
         "showlegend": true,
         "type": "scattergl",
         "x": {
          "bdata": "1QfWB9cH2AfZB9oH2wfcB90H3gffB+AH4QfiB+MH5AflB+YH5wc=",
          "dtype": "i2"
         },
         "xaxis": "x",
         "y": {
          "bdata": "V8cEj/9dNUEL16Ow8iM3QSIiIqL/OjJBBzpt4L0yMUEvlvxi7AozQe/u7u7HBTVBWfKLJV2uOEGrqqpqRVUyQW2g0wY6xzNBIiIioqzlKkFxPQrX8yYkQVVVVVUq+ClBnDbQaQcvLUGrqqoqY+YyQREREZGLfC9BAAAAABidHkHRaQOdTH8kQVVVVVXnYSBB3t3d3RcYFUE=",
          "dtype": "f8"
         },
         "yaxis": "y"
        },
        {
         "hovertemplate": "species=WRA<br>TIME_PERIOD=%{x}<br>OBS_VALUE=%{y}<extra></extra>",
         "legendgroup": "WRA",
         "marker": {
          "color": "#FF6692",
          "symbol": "circle"
         },
         "mode": "markers",
         "name": "WRA",
         "showlegend": true,
         "type": "scattergl",
         "x": {
          "bdata": "3wfgB+EH4gfjB+QH5QfmB+cH",
          "dtype": "i2"
         },
         "xaxis": "x",
         "y": {
          "bdata": "zczMzIwmDEEt+cWSw2sVQUt+seSbeyBB8oslv4PUHUHe3d3dTQobQauqqqryuAlBJb9Y8nfXF0FVVVVVbZX3QDCW/GKht/JA",
          "dtype": "f8"
         },
         "yaxis": "y"
        },
        {
         "hovertemplate": "species=WRF<br>TIME_PERIOD=%{x}<br>OBS_VALUE=%{y}<extra></extra>",
         "legendgroup": "WRF",
         "marker": {
          "color": "#B6E880",
          "symbol": "circle"
         },
         "mode": "markers",
         "name": "WRF",
         "showlegend": true,
         "type": "scattergl",
         "x": {
          "bdata": "4gfjB+QH5QfmB+cH",
          "dtype": "i2"
         },
         "xaxis": "x",
         "y": {
          "bdata": "1AY6bQhr6kDv7u7uPlHzQJHC9Si8uulAnDbQaQtO4UAiIiIiYkDlQNijcD2avuVA",
          "dtype": "f8"
         },
         "yaxis": "y"
        },
        {
         "hovertemplate": "species=WRM<br>TIME_PERIOD=%{x}<br>OBS_VALUE=%{y}<extra></extra>",
         "legendgroup": "WRM",
         "marker": {
          "color": "#FF97FF",
          "symbol": "circle"
         },
         "mode": "markers",
         "name": "WRM",
         "showlegend": true,
         "type": "scattergl",
         "x": {
          "bdata": "4wc=",
          "dtype": "i2"
         },
         "xaxis": "x",
         "y": {
          "bdata": "2kCnDbQytEA=",
          "dtype": "f8"
         },
         "yaxis": "y"
        },
        {
         "hovertemplate": "species=WRX<br>TIME_PERIOD=%{x}<br>OBS_VALUE=%{y}<extra></extra>",
         "legendgroup": "WRX",
         "marker": {
          "color": "#FECB52",
          "symbol": "circle"
         },
         "mode": "markers",
         "name": "WRX",
         "showlegend": true,
         "type": "scattergl",
         "x": {
          "bdata": "5AflB+cH",
          "dtype": "i2"
         },
         "xaxis": "x",
         "y": {
          "bdata": "u7u7u7u1o0AYS36x5GuiQH+x5BdLtJ5A",
          "dtype": "f8"
         },
         "yaxis": "y"
        },
        {
         "hovertemplate": "species=XIX<br>TIME_PERIOD=%{x}<br>OBS_VALUE=%{y}<extra></extra>",
         "legendgroup": "XIX",
         "marker": {
          "color": "#636efa",
          "symbol": "circle"
         },
         "mode": "markers",
         "name": "XIX",
         "showlegend": true,
         "type": "scattergl",
         "x": {
          "bdata": "5AflB+YH5wc=",
          "dtype": "i2"
         },
         "xaxis": "x",
         "y": {
          "bdata": "4XoUroeuy0C/WPKLJdW3QBERERGRE7FAJr9Y8oswq0A=",
          "dtype": "f8"
         },
         "yaxis": "y"
        },
        {
         "hovertemplate": "species=XKX<br>TIME_PERIOD=%{x}<br>OBS_VALUE=%{y}<extra></extra>",
         "legendgroup": "XKX",
         "marker": {
          "color": "#EF553B",
          "symbol": "circle"
         },
         "mode": "markers",
         "name": "XKX",
         "showlegend": true,
         "type": "scattergl",
         "x": {
          "bdata": "3wfgB+EH4gfjB+QH5QfmB+cH",
          "dtype": "i2"
         },
         "xaxis": "x",
         "y": {
          "bdata": "rkfh+nFZIEEzMzMzN2gLQacNdDocY0NBnjbQaQO9jUDRaQOdNiDBQE1C/BZQPBRBVVVV1WCMI0EB3gKJvjQiQUGnDXREFChB",
          "dtype": "f8"
         },
         "yaxis": "y"
        },
        {
         "hovertemplate": "species=XYN<br>TIME_PERIOD=%{x}<br>OBS_VALUE=%{y}<extra></extra>",
         "legendgroup": "XYN",
         "marker": {
          "color": "#00cc96",
          "symbol": "circle"
         },
         "mode": "markers",
         "name": "XYN",
         "showlegend": true,
         "type": "scattergl",
         "x": {
          "bdata": "1wfYB9kH2gfbB9wH3QfeB98H4AfhB+IH4wfkB+UH5gfnBw==",
          "dtype": "i2"
         },
         "xaxis": "x",
         "y": {
          "bdata": "ThvotM6+E0FuoNMG2NYeQSlcj0Kc9CxBDXTawI8VI0HNzMzMNoccQZX8YsmYUBVBKVyPwgNyD0EL16Nwq90KQZw20GkvTwhB+aBns5zE70B7tbaDpu8DQdxj6UOO1PZANcLIuFcg70BwzojS8PXiQETyqAvksvlAf4/nIKeAAkGnDXTa8JIPQQ==",
          "dtype": "f8"
         },
         "yaxis": "y"
        },
        {
         "hovertemplate": "species=YFC<br>TIME_PERIOD=%{x}<br>OBS_VALUE=%{y}<extra></extra>",
         "legendgroup": "YFC",
         "marker": {
          "color": "#ab63fa",
          "symbol": "circle"
         },
         "mode": "markers",
         "name": "YFC",
         "showlegend": true,
         "type": "scattergl",
         "x": {
          "bdata": "4gfjBw==",
          "dtype": "i2"
         },
         "xaxis": "x",
         "y": {
          "bdata": "Gui0gU7vmkCX/GLJL72cQA==",
          "dtype": "f8"
         },
         "yaxis": "y"
        },
        {
         "hovertemplate": "species=YFT<br>TIME_PERIOD=%{x}<br>OBS_VALUE=%{y}<extra></extra>",
         "legendgroup": "YFT",
         "marker": {
          "color": "#FFA15A",
          "symbol": "circle"
         },
         "mode": "markers",
         "name": "YFT",
         "showlegend": true,
         "type": "scattergl",
         "x": {
          "bdata": "zQfQB9EH0gfTB9QH1QfWB9cH2AfZB98H4AfhB+IH4wfkB+UH5wc=",
          "dtype": "i2"
         },
         "xaxis": "x",
         "y": {
          "bdata": "q6qqqqpk30BifKuI6enkQDhCGR0PHyJBfDwHqW4di0B0/D2e3vo2QaEdXbLIlkBBLtr2kBM+NEGW/GLJhNI0QWPJL5YxrTFBmpmZmSoLNEF4d3d3onIgQXE9CtcF4StBmZmZmeQ8MUGrqqqquDA2QQG8BRJTYyRB8oslP+EwI0Es+cUSPukiQVVVVdUVmUpBlfxiSaCtREE=",
          "dtype": "f8"
         },
         "yaxis": "y"
        },
        {
         "hovertemplate": "species=YFU<br>TIME_PERIOD=%{x}<br>OBS_VALUE=%{y}<extra></extra>",
         "legendgroup": "YFU",
         "marker": {
          "color": "#19d3f3",
          "symbol": "circle"
         },
         "mode": "markers",
         "name": "YFU",
         "showlegend": true,
         "type": "scattergl",
         "x": {
          "bdata": "4AfjB+QH5QfmB+cH",
          "dtype": "i2"
         },
         "xaxis": "x",
         "y": {
          "bdata": "eHd3d3fRtEDNzMzMzPSWQNFpA502yZFAPhFdXhhYmUBERERERECQQG6g0wZ6trlA",
          "dtype": "f8"
         },
         "yaxis": "y"
        },
        {
         "hovertemplate": "species=YRS<br>TIME_PERIOD=%{x}<br>OBS_VALUE=%{y}<extra></extra>",
         "legendgroup": "YRS",
         "marker": {
          "color": "#FF6692",
          "symbol": "circle"
         },
         "mode": "markers",
         "name": "YRS",
         "showlegend": true,
         "type": "scattergl",
         "x": {
          "bdata": "1wfYB9kH2gfbB9wH3QfeB98H4AfhB+IH4wfkB+UH5wc=",
          "dtype": "i2"
         },
         "xaxis": "x",
         "y": {
          "bdata": "q6qqqhI/HUHJL5b8CTcYQdFpA53mYB9BAAAAAP+RH0Hf3d3dVa8YQVVVVVU43RZB84slv02JEUG7u7u7c48HQXE9CtdjXQBBIiIiIhqGAUH5xZJf1IIAQQAAAABs9wBBq6qqqtrL+0BnZmZmZtGxQAAAAAAAN7lAQacNdJqUwkA=",
          "dtype": "f8"
         },
         "yaxis": "y"
        },
        {
         "hovertemplate": "species=ZGC<br>TIME_PERIOD=%{x}<br>OBS_VALUE=%{y}<extra></extra>",
         "legendgroup": "ZGC",
         "marker": {
          "color": "#B6E880",
          "symbol": "circle"
         },
         "mode": "markers",
         "name": "ZGC",
         "showlegend": true,
         "type": "scattergl",
         "x": {
          "bdata": "4gfjB+QH5QfmB+cH",
          "dtype": "i2"
         },
         "xaxis": "x",
         "y": {
          "bdata": "PgrXo2CW8kC7u7u7OxTCQBvotIHmv+VApw102sBtqUDe3d3dXSSzQD4K16PwUbZA",
          "dtype": "f8"
         },
         "yaxis": "y"
        }
       ],
       "layout": {
        "legend": {
         "title": {
          "text": "species"
         },
         "tracegroupgap": 0
        },
        "template": {
         "data": {
          "bar": [
           {
            "error_x": {
             "color": "#2a3f5f"
            },
            "error_y": {
             "color": "#2a3f5f"
            },
            "marker": {
             "line": {
              "color": "#E5ECF6",
              "width": 0.5
             },
             "pattern": {
              "fillmode": "overlay",
              "size": 10,
              "solidity": 0.2
             }
            },
            "type": "bar"
           }
          ],
          "barpolar": [
           {
            "marker": {
             "line": {
              "color": "#E5ECF6",
              "width": 0.5
             },
             "pattern": {
              "fillmode": "overlay",
              "size": 10,
              "solidity": 0.2
             }
            },
            "type": "barpolar"
           }
          ],
          "carpet": [
           {
            "aaxis": {
             "endlinecolor": "#2a3f5f",
             "gridcolor": "white",
             "linecolor": "white",
             "minorgridcolor": "white",
             "startlinecolor": "#2a3f5f"
            },
            "baxis": {
             "endlinecolor": "#2a3f5f",
             "gridcolor": "white",
             "linecolor": "white",
             "minorgridcolor": "white",
             "startlinecolor": "#2a3f5f"
            },
            "type": "carpet"
           }
          ],
          "choropleth": [
           {
            "colorbar": {
             "outlinewidth": 0,
             "ticks": ""
            },
            "type": "choropleth"
           }
          ],
          "contour": [
           {
            "colorbar": {
             "outlinewidth": 0,
             "ticks": ""
            },
            "colorscale": [
             [
              0,
              "#0d0887"
             ],
             [
              0.1111111111111111,
              "#46039f"
             ],
             [
              0.2222222222222222,
              "#7201a8"
             ],
             [
              0.3333333333333333,
              "#9c179e"
             ],
             [
              0.4444444444444444,
              "#bd3786"
             ],
             [
              0.5555555555555556,
              "#d8576b"
             ],
             [
              0.6666666666666666,
              "#ed7953"
             ],
             [
              0.7777777777777778,
              "#fb9f3a"
             ],
             [
              0.8888888888888888,
              "#fdca26"
             ],
             [
              1,
              "#f0f921"
             ]
            ],
            "type": "contour"
           }
          ],
          "contourcarpet": [
           {
            "colorbar": {
             "outlinewidth": 0,
             "ticks": ""
            },
            "type": "contourcarpet"
           }
          ],
          "heatmap": [
           {
            "colorbar": {
             "outlinewidth": 0,
             "ticks": ""
            },
            "colorscale": [
             [
              0,
              "#0d0887"
             ],
             [
              0.1111111111111111,
              "#46039f"
             ],
             [
              0.2222222222222222,
              "#7201a8"
             ],
             [
              0.3333333333333333,
              "#9c179e"
             ],
             [
              0.4444444444444444,
              "#bd3786"
             ],
             [
              0.5555555555555556,
              "#d8576b"
             ],
             [
              0.6666666666666666,
              "#ed7953"
             ],
             [
              0.7777777777777778,
              "#fb9f3a"
             ],
             [
              0.8888888888888888,
              "#fdca26"
             ],
             [
              1,
              "#f0f921"
             ]
            ],
            "type": "heatmap"
           }
          ],
          "histogram": [
           {
            "marker": {
             "pattern": {
              "fillmode": "overlay",
              "size": 10,
              "solidity": 0.2
             }
            },
            "type": "histogram"
           }
          ],
          "histogram2d": [
           {
            "colorbar": {
             "outlinewidth": 0,
             "ticks": ""
            },
            "colorscale": [
             [
              0,
              "#0d0887"
             ],
             [
              0.1111111111111111,
              "#46039f"
             ],
             [
              0.2222222222222222,
              "#7201a8"
             ],
             [
              0.3333333333333333,
              "#9c179e"
             ],
             [
              0.4444444444444444,
              "#bd3786"
             ],
             [
              0.5555555555555556,
              "#d8576b"
             ],
             [
              0.6666666666666666,
              "#ed7953"
             ],
             [
              0.7777777777777778,
              "#fb9f3a"
             ],
             [
              0.8888888888888888,
              "#fdca26"
             ],
             [
              1,
              "#f0f921"
             ]
            ],
            "type": "histogram2d"
           }
          ],
          "histogram2dcontour": [
           {
            "colorbar": {
             "outlinewidth": 0,
             "ticks": ""
            },
            "colorscale": [
             [
              0,
              "#0d0887"
             ],
             [
              0.1111111111111111,
              "#46039f"
             ],
             [
              0.2222222222222222,
              "#7201a8"
             ],
             [
              0.3333333333333333,
              "#9c179e"
             ],
             [
              0.4444444444444444,
              "#bd3786"
             ],
             [
              0.5555555555555556,
              "#d8576b"
             ],
             [
              0.6666666666666666,
              "#ed7953"
             ],
             [
              0.7777777777777778,
              "#fb9f3a"
             ],
             [
              0.8888888888888888,
              "#fdca26"
             ],
             [
              1,
              "#f0f921"
             ]
            ],
            "type": "histogram2dcontour"
           }
          ],
          "mesh3d": [
           {
            "colorbar": {
             "outlinewidth": 0,
             "ticks": ""
            },
            "type": "mesh3d"
           }
          ],
          "parcoords": [
           {
            "line": {
             "colorbar": {
              "outlinewidth": 0,
              "ticks": ""
             }
            },
            "type": "parcoords"
           }
          ],
          "pie": [
           {
            "automargin": true,
            "type": "pie"
           }
          ],
          "scatter": [
           {
            "fillpattern": {
             "fillmode": "overlay",
             "size": 10,
             "solidity": 0.2
            },
            "type": "scatter"
           }
          ],
          "scatter3d": [
           {
            "line": {
             "colorbar": {
              "outlinewidth": 0,
              "ticks": ""
             }
            },
            "marker": {
             "colorbar": {
              "outlinewidth": 0,
              "ticks": ""
             }
            },
            "type": "scatter3d"
           }
          ],
          "scattercarpet": [
           {
            "marker": {
             "colorbar": {
              "outlinewidth": 0,
              "ticks": ""
             }
            },
            "type": "scattercarpet"
           }
          ],
          "scattergeo": [
           {
            "marker": {
             "colorbar": {
              "outlinewidth": 0,
              "ticks": ""
             }
            },
            "type": "scattergeo"
           }
          ],
          "scattergl": [
           {
            "marker": {
             "colorbar": {
              "outlinewidth": 0,
              "ticks": ""
             }
            },
            "type": "scattergl"
           }
          ],
          "scattermap": [
           {
            "marker": {
             "colorbar": {
              "outlinewidth": 0,
              "ticks": ""
             }
            },
            "type": "scattermap"
           }
          ],
          "scattermapbox": [
           {
            "marker": {
             "colorbar": {
              "outlinewidth": 0,
              "ticks": ""
             }
            },
            "type": "scattermapbox"
           }
          ],
          "scatterpolar": [
           {
            "marker": {
             "colorbar": {
              "outlinewidth": 0,
              "ticks": ""
             }
            },
            "type": "scatterpolar"
           }
          ],
          "scatterpolargl": [
           {
            "marker": {
             "colorbar": {
              "outlinewidth": 0,
              "ticks": ""
             }
            },
            "type": "scatterpolargl"
           }
          ],
          "scatterternary": [
           {
            "marker": {
             "colorbar": {
              "outlinewidth": 0,
              "ticks": ""
             }
            },
            "type": "scatterternary"
           }
          ],
          "surface": [
           {
            "colorbar": {
             "outlinewidth": 0,
             "ticks": ""
            },
            "colorscale": [
             [
              0,
              "#0d0887"
             ],
             [
              0.1111111111111111,
              "#46039f"
             ],
             [
              0.2222222222222222,
              "#7201a8"
             ],
             [
              0.3333333333333333,
              "#9c179e"
             ],
             [
              0.4444444444444444,
              "#bd3786"
             ],
             [
              0.5555555555555556,
              "#d8576b"
             ],
             [
              0.6666666666666666,
              "#ed7953"
             ],
             [
              0.7777777777777778,
              "#fb9f3a"
             ],
             [
              0.8888888888888888,
              "#fdca26"
             ],
             [
              1,
              "#f0f921"
             ]
            ],
            "type": "surface"
           }
          ],
          "table": [
           {
            "cells": {
             "fill": {
              "color": "#EBF0F8"
             },
             "line": {
              "color": "white"
             }
            },
            "header": {
             "fill": {
              "color": "#C8D4E3"
             },
             "line": {
              "color": "white"
             }
            },
            "type": "table"
           }
          ]
         },
         "layout": {
          "annotationdefaults": {
           "arrowcolor": "#2a3f5f",
           "arrowhead": 0,
           "arrowwidth": 1
          },
          "autotypenumbers": "strict",
          "coloraxis": {
           "colorbar": {
            "outlinewidth": 0,
            "ticks": ""
           }
          },
          "colorscale": {
           "diverging": [
            [
             0,
             "#8e0152"
            ],
            [
             0.1,
             "#c51b7d"
            ],
            [
             0.2,
             "#de77ae"
            ],
            [
             0.3,
             "#f1b6da"
            ],
            [
             0.4,
             "#fde0ef"
            ],
            [
             0.5,
             "#f7f7f7"
            ],
            [
             0.6,
             "#e6f5d0"
            ],
            [
             0.7,
             "#b8e186"
            ],
            [
             0.8,
             "#7fbc41"
            ],
            [
             0.9,
             "#4d9221"
            ],
            [
             1,
             "#276419"
            ]
           ],
           "sequential": [
            [
             0,
             "#0d0887"
            ],
            [
             0.1111111111111111,
             "#46039f"
            ],
            [
             0.2222222222222222,
             "#7201a8"
            ],
            [
             0.3333333333333333,
             "#9c179e"
            ],
            [
             0.4444444444444444,
             "#bd3786"
            ],
            [
             0.5555555555555556,
             "#d8576b"
            ],
            [
             0.6666666666666666,
             "#ed7953"
            ],
            [
             0.7777777777777778,
             "#fb9f3a"
            ],
            [
             0.8888888888888888,
             "#fdca26"
            ],
            [
             1,
             "#f0f921"
            ]
           ],
           "sequentialminus": [
            [
             0,
             "#0d0887"
            ],
            [
             0.1111111111111111,
             "#46039f"
            ],
            [
             0.2222222222222222,
             "#7201a8"
            ],
            [
             0.3333333333333333,
             "#9c179e"
            ],
            [
             0.4444444444444444,
             "#bd3786"
            ],
            [
             0.5555555555555556,
             "#d8576b"
            ],
            [
             0.6666666666666666,
             "#ed7953"
            ],
            [
             0.7777777777777778,
             "#fb9f3a"
            ],
            [
             0.8888888888888888,
             "#fdca26"
            ],
            [
             1,
             "#f0f921"
            ]
           ]
          },
          "colorway": [
           "#636efa",
           "#EF553B",
           "#00cc96",
           "#ab63fa",
           "#FFA15A",
           "#19d3f3",
           "#FF6692",
           "#B6E880",
           "#FF97FF",
           "#FECB52"
          ],
          "font": {
           "color": "#2a3f5f"
          },
          "geo": {
           "bgcolor": "white",
           "lakecolor": "white",
           "landcolor": "#E5ECF6",
           "showlakes": true,
           "showland": true,
           "subunitcolor": "white"
          },
          "hoverlabel": {
           "align": "left"
          },
          "hovermode": "closest",
          "mapbox": {
           "style": "light"
          },
          "paper_bgcolor": "white",
          "plot_bgcolor": "#E5ECF6",
          "polar": {
           "angularaxis": {
            "gridcolor": "white",
            "linecolor": "white",
            "ticks": ""
           },
           "bgcolor": "#E5ECF6",
           "radialaxis": {
            "gridcolor": "white",
            "linecolor": "white",
            "ticks": ""
           }
          },
          "scene": {
           "xaxis": {
            "backgroundcolor": "#E5ECF6",
            "gridcolor": "white",
            "gridwidth": 2,
            "linecolor": "white",
            "showbackground": true,
            "ticks": "",
            "zerolinecolor": "white"
           },
           "yaxis": {
            "backgroundcolor": "#E5ECF6",
            "gridcolor": "white",
            "gridwidth": 2,
            "linecolor": "white",
            "showbackground": true,
            "ticks": "",
            "zerolinecolor": "white"
           },
           "zaxis": {
            "backgroundcolor": "#E5ECF6",
            "gridcolor": "white",
            "gridwidth": 2,
            "linecolor": "white",
            "showbackground": true,
            "ticks": "",
            "zerolinecolor": "white"
           }
          },
          "shapedefaults": {
           "line": {
            "color": "#2a3f5f"
           }
          },
          "ternary": {
           "aaxis": {
            "gridcolor": "white",
            "linecolor": "white",
            "ticks": ""
           },
           "baxis": {
            "gridcolor": "white",
            "linecolor": "white",
            "ticks": ""
           },
           "bgcolor": "#E5ECF6",
           "caxis": {
            "gridcolor": "white",
            "linecolor": "white",
            "ticks": ""
           }
          },
          "title": {
           "x": 0.05
          },
          "xaxis": {
           "automargin": true,
           "gridcolor": "white",
           "linecolor": "white",
           "ticks": "",
           "title": {
            "standoff": 15
           },
           "zerolinecolor": "white",
           "zerolinewidth": 2
          },
          "yaxis": {
           "automargin": true,
           "gridcolor": "white",
           "linecolor": "white",
           "ticks": "",
           "title": {
            "standoff": 15
           },
           "zerolinecolor": "white",
           "zerolinewidth": 2
          }
         }
        },
        "title": {
         "text": "Andamento delle medie rispetto al periodo"
        },
        "xaxis": {
         "anchor": "y",
         "domain": [
          0,
          1
         ],
         "title": {
          "text": "TIME_PERIOD"
         }
        },
        "yaxis": {
         "anchor": "x",
         "domain": [
          0,
          1
         ],
         "title": {
          "text": "OBS_VALUE"
         }
        }
       }
      }
     },
     "metadata": {},
     "output_type": "display_data"
    }
   ],
   "source": [
    "df_analisi = df_dati.groupby(['species', 'TIME_PERIOD'])['OBS_VALUE'].mean().reset_index()\n",
    "\n",
    "fig = px.scatter(\n",
    "    df_analisi,\n",
    "    x='TIME_PERIOD',\n",
    "    y='OBS_VALUE',\n",
    "    color='species',\n",
    "    title='Andamento delle medie rispetto al periodo'\n",
    ")\n",
    "\n",
    "fig.show()"
   ]
  },
  {
   "cell_type": "code",
   "execution_count": 23,
   "id": "1e1e1444",
   "metadata": {},
   "outputs": [
    {
     "data": {
      "application/vnd.plotly.v1+json": {
       "config": {
        "plotlyServerURL": "https://plot.ly"
       },
       "data": [
        {
         "hovertemplate": "species=AGK<br>TIME_PERIOD=%{x}<br>OBS_VALUE=%{y}<extra></extra>",
         "legendgroup": "AGK",
         "line": {
          "color": "#636efa",
          "dash": "solid"
         },
         "marker": {
          "symbol": "circle"
         },
         "mode": "lines",
         "name": "AGK",
         "showlegend": true,
         "type": "scattergl",
         "x": {
          "bdata": "3wfgB+EH4gfjBw==",
          "dtype": "i2"
         },
         "xaxis": "x",
         "y": {
          "bdata": "2kCnDcyT5EBxPQrXI4/TQPxiyS+2cdBA0wY6baCbk0DJL5b8YrWTQA==",
          "dtype": "f8"
         },
         "yaxis": "y"
        },
        {
         "hovertemplate": "species=ALB<br>TIME_PERIOD=%{x}<br>OBS_VALUE=%{y}<extra></extra>",
         "legendgroup": "ALB",
         "line": {
          "color": "#EF553B",
          "dash": "solid"
         },
         "marker": {
          "symbol": "circle"
         },
         "mode": "lines",
         "name": "ALB",
         "showlegend": true,
         "type": "scattergl",
         "x": {
          "bdata": "0QfSB9MH1AfVB9YH1wfYB9kH2gfbB9wH3QfeB98H4AfhB+IH4wfkB+UH5gfnBw==",
          "dtype": "i2"
         },
         "xaxis": "x",
         "y": {
          "bdata": "gZVDi2RS5UDQji5JeLU3QJKmVJzdVd9AVVVVVVVzykDJdr6vszQ/QYzzN8G0r0ZB8L+VdF9TTEF3sUP/04NAQaaOaO0K40VBaQOdtptqR0G/WPLrr3pJQY/C9ajq9jlBBJ020OmVL0Hf3d3dx4A7QfgDwHLhQi9BTxvotKNTOUGcLdV5W0AoQd7d3d23fDNBOpS66LEWLUHuCeAeqKsrQZqZmZkD/zVBgfas4dsVJ0GuR+E6r+1BQQ==",
          "dtype": "f8"
         },
         "yaxis": "y"
        },
        {
         "hovertemplate": "species=ALV<br>TIME_PERIOD=%{x}<br>OBS_VALUE=%{y}<extra></extra>",
         "legendgroup": "ALV",
         "line": {
          "color": "#00cc96",
          "dash": "solid"
         },
         "marker": {
          "symbol": "circle"
         },
         "mode": "lines",
         "name": "ALV",
         "showlegend": true,
         "type": "scattergl",
         "x": {
          "bdata": "3wfgB+EH4gfjB+QH5QfmB+cH",
          "dtype": "i2"
         },
         "xaxis": "x",
         "y": {
          "bdata": "q6qqqqq1sUAiIiIiIgCNQKuqqqqq9aBAxpJfLPlNm0BVVVVVVdCfQOtRuB4FeaVAH4XrUbjuwEB4d3d3d5CwQC+W/GLJwZhA",
          "dtype": "f8"
         },
         "yaxis": "y"
        },
        {
         "hovertemplate": "species=AMB<br>TIME_PERIOD=%{x}<br>OBS_VALUE=%{y}<extra></extra>",
         "legendgroup": "AMB",
         "line": {
          "color": "#ab63fa",
          "dash": "solid"
         },
         "marker": {
          "symbol": "circle"
         },
         "mode": "lines",
         "name": "AMB",
         "showlegend": true,
         "type": "scattergl",
         "x": {
          "bdata": "1QfWB9cH2AfZB9oH2wfcB90H3gffB+AH4QfiB+MH5AflB+YH5wc=",
          "dtype": "i2"
         },
         "xaxis": "x",
         "y": {
          "bdata": "pEjkqO7JRUEiIiICU45EQbu7uzvgVERBGEt+MZsAN0EAAADAi4E4Qe7u7u6saT5BAAAAgCo3PUEb6LSBUvgzQYiIiAhY9jlBBJ02kG1jQEHQaQOds+1CQSz5xRLu3kRBmpmZudeiREFVVVVV/xlAQei0gc7hdEFB84slv+qPOUGkcD2KHFo1QSIiIqLTeTlBpHA9Ci3INEE=",
          "dtype": "f8"
         },
         "yaxis": "y"
        },
        {
         "hovertemplate": "species=ANE<br>TIME_PERIOD=%{x}<br>OBS_VALUE=%{y}<extra></extra>",
         "legendgroup": "ANE",
         "line": {
          "color": "#FFA15A",
          "dash": "solid"
         },
         "marker": {
          "symbol": "circle"
         },
         "mode": "lines",
         "name": "ANE",
         "showlegend": true,
         "type": "scattergl",
         "x": {
          "bdata": "yAfJB8oHywfMB80HzgfPB9AH0QfSB9MH1AfVB9YH1wfYB9kH2gfbB9wH3QfeB98H4AfhB+IH4wfkB+UH5gfnBw==",
          "dtype": "i2"
         },
         "xaxis": "x",
         "y": {
          "bdata": "AAAAYM9makFVVVW1+DlqQVVVVXWENGpBq6qqKvyZcEGrqqo6PBt1QQAAADAvbnZBq6qqumntdEGrqqr6pSVxQRDpt2clf3JB5IBwxNnBdkEUGpsw9FnYQOaJ+sd0dHRB8IKbC3vgd0EUqxmCdRx9QeF6FD5rFoZB5RdL2EyPgEG/WPLnc454QXTaQAuV7XtBdNpAm74peEH8Ysm3D/N4QQAAAPR1DHhB/GLJD/abcUG1gU4rgapwQbLkF1upGXRBAAAAEIvwdEGrqqralwN4QRIRETnOenVBWfKLOUiidkGg0wb69vJoQVVVVSXFdHdBq6qqgiseekHe3d2tmzB0QQ==",
          "dtype": "f8"
         },
         "yaxis": "y"
        },
        {
         "hovertemplate": "species=ANK<br>TIME_PERIOD=%{x}<br>OBS_VALUE=%{y}<extra></extra>",
         "legendgroup": "ANK",
         "line": {
          "color": "#19d3f3",
          "dash": "solid"
         },
         "marker": {
          "symbol": "circle"
         },
         "mode": "lines",
         "name": "ANK",
         "showlegend": true,
         "type": "scattergl",
         "x": {
          "bdata": "3wfgB+EH4gfjB+QH5QfmB+cH",
          "dtype": "i2"
         },
         "xaxis": "x",
         "y": {
          "bdata": "exSuR37+SEGnDXTa5+FCQZX8Yum7rElBcEIhwkJBO0GSXyz5lGNCQVnyiyUHUjhBAAAAAIYcAUFVVVVVTar7QG6g0waajvBA",
          "dtype": "f8"
         },
         "yaxis": "y"
        },
        {
         "hovertemplate": "species=ANN<br>TIME_PERIOD=%{x}<br>OBS_VALUE=%{y}<extra></extra>",
         "legendgroup": "ANN",
         "line": {
          "color": "#FF6692",
          "dash": "solid"
         },
         "marker": {
          "symbol": "circle"
         },
         "mode": "lines",
         "name": "ANN",
         "showlegend": true,
         "type": "scattergl",
         "x": {
          "bdata": "3wfgB+EH4gfjB+QH",
          "dtype": "i2"
         },
         "xaxis": "x",
         "y": {
          "bdata": "3t3d3V9DF0GV/GLJQ5oWQVVVVVV/bAtBagOdNnrxIUHbQKcNtNYaQacNdNpAlMBA",
          "dtype": "f8"
         },
         "yaxis": "y"
        },
        {
         "hovertemplate": "species=AOM<br>TIME_PERIOD=%{x}<br>OBS_VALUE=%{y}<extra></extra>",
         "legendgroup": "AOM",
         "line": {
          "color": "#B6E880",
          "dash": "solid"
         },
         "marker": {
          "symbol": "circle"
         },
         "mode": "lines",
         "name": "AOM",
         "showlegend": true,
         "type": "scattergl",
         "x": {
          "bdata": "4wc=",
          "dtype": "i2"
         },
         "xaxis": "x",
         "y": {
          "bdata": "C9ejcD27mUA=",
          "dtype": "f8"
         },
         "yaxis": "y"
        },
        {
         "hovertemplate": "species=ARA<br>TIME_PERIOD=%{x}<br>OBS_VALUE=%{y}<extra></extra>",
         "legendgroup": "ARA",
         "line": {
          "color": "#FF97FF",
          "dash": "solid"
         },
         "marker": {
          "symbol": "circle"
         },
         "mode": "lines",
         "name": "ARA",
         "showlegend": true,
         "type": "scattergl",
         "x": {
          "bdata": "1QfWB98H4AfhB+IH4wfkB+UH5gfnBw==",
          "dtype": "i2"
         },
         "xaxis": "x",
         "y": {
          "bdata": "qjspCnKUc0EGOm2gSJh4QYsAlLR0EUhBzVDvJDVVSUFZWcgZYqNUQeexUxPhFVFB7DB1O0THUkEtRNbMxOZLQdmD5/2CVkJBKDdkJqMdQ0H9vKkIuhFHQQ==",
          "dtype": "f8"
         },
         "yaxis": "y"
        },
        {
         "hovertemplate": "species=ARG<br>TIME_PERIOD=%{x}<br>OBS_VALUE=%{y}<extra></extra>",
         "legendgroup": "ARG",
         "line": {
          "color": "#FECB52",
          "dash": "solid"
         },
         "marker": {
          "symbol": "circle"
         },
         "mode": "lines",
         "name": "ARG",
         "showlegend": true,
         "type": "scattergl",
         "x": {
          "bdata": "3wfgB+EH4wc=",
          "dtype": "i2"
         },
         "xaxis": "x",
         "y": {
          "bdata": "RURERESZ3kAAAAAAKG/pQPKLJb+YhN5ARURERESolUA=",
          "dtype": "f8"
         },
         "yaxis": "y"
        },
        {
         "hovertemplate": "species=ARI<br>TIME_PERIOD=%{x}<br>OBS_VALUE=%{y}<extra></extra>",
         "legendgroup": "ARI",
         "line": {
          "color": "#636efa",
          "dash": "solid"
         },
         "marker": {
          "symbol": "circle"
         },
         "mode": "lines",
         "name": "ARI",
         "showlegend": true,
         "type": "scattergl",
         "x": {
          "bdata": "1wfYB9kH2gfbB9wH3QfeBw==",
          "dtype": "i2"
         },
         "xaxis": "x",
         "y": {
          "bdata": "QTN17LKKaUGQoPjv4IdhQaojWicEWWVBKT+pbBELaEHwWFmIkgJnQSZLwDyaAmZBZXCU/CXwaUGW/GJJ68RlQQ==",
          "dtype": "f8"
         },
         "yaxis": "y"
        },
        {
         "hovertemplate": "species=ARS<br>TIME_PERIOD=%{x}<br>OBS_VALUE=%{y}<extra></extra>",
         "legendgroup": "ARS",
         "line": {
          "color": "#EF553B",
          "dash": "solid"
         },
         "marker": {
          "symbol": "circle"
         },
         "mode": "lines",
         "name": "ARS",
         "showlegend": true,
         "type": "scattergl",
         "x": {
          "bdata": "3wfgB+EH4gfjB+QH5QfmB+cH",
          "dtype": "i2"
         },
         "xaxis": "x",
         "y": {
          "bdata": "dF5jgwWVZEHV7IFQ99JkQYpu0P9+q2hB+Xs8rb5wYUEPU5fwSeZgQQ3gLQhPLmFB7FMst8MzYUE1Nxs4xFNiQYums+NA0WJB",
          "dtype": "f8"
         },
         "yaxis": "y"
        },
        {
         "hovertemplate": "species=ARY<br>TIME_PERIOD=%{x}<br>OBS_VALUE=%{y}<extra></extra>",
         "legendgroup": "ARY",
         "line": {
          "color": "#00cc96",
          "dash": "solid"
         },
         "marker": {
          "symbol": "circle"
         },
         "mode": "lines",
         "name": "ARY",
         "showlegend": true,
         "type": "scattergl",
         "x": {
          "bdata": "4gfjB+QH",
          "dtype": "i2"
         },
         "xaxis": "x",
         "y": {
          "bdata": "7+7u7rYS50CnDXTacDPnQN7d3d3dsZhA",
          "dtype": "f8"
         },
         "yaxis": "y"
        },
        {
         "hovertemplate": "species=ATB<br>TIME_PERIOD=%{x}<br>OBS_VALUE=%{y}<extra></extra>",
         "legendgroup": "ATB",
         "line": {
          "color": "#ab63fa",
          "dash": "solid"
         },
         "marker": {
          "symbol": "circle"
         },
         "mode": "lines",
         "name": "ATB",
         "showlegend": true,
         "type": "scattergl",
         "x": {
          "bdata": "1QfWB+IH4wfkB+UH5gfnBw==",
          "dtype": "i2"
         },
         "xaxis": "x",
         "y": {
          "bdata": "DLjU/roqQEH9YsmvZug3QdQGOm1ljCZB+cWSXyuwIUExlvxiCdzsQFVVVVXlZOdAVVVVVdXVtEBcj8L1qLaqQA==",
          "dtype": "f8"
         },
         "yaxis": "y"
        },
        {
         "hovertemplate": "species=BAS<br>TIME_PERIOD=%{x}<br>OBS_VALUE=%{y}<extra></extra>",
         "legendgroup": "BAS",
         "line": {
          "color": "#FFA15A",
          "dash": "solid"
         },
         "marker": {
          "symbol": "circle"
         },
         "mode": "lines",
         "name": "BAS",
         "showlegend": true,
         "type": "scattergl",
         "x": {
          "bdata": "5AflB+YH5wc=",
          "dtype": "i2"
         },
         "xaxis": "x",
         "y": {
          "bdata": "WfKLJVjgEUFmZmZmuu0RQYiIiIiG1RBBVVVVVTWjD0E=",
          "dtype": "f8"
         },
         "yaxis": "y"
        },
        {
         "hovertemplate": "species=BAZ<br>TIME_PERIOD=%{x}<br>OBS_VALUE=%{y}<extra></extra>",
         "legendgroup": "BAZ",
         "line": {
          "color": "#19d3f3",
          "dash": "solid"
         },
         "marker": {
          "symbol": "circle"
         },
         "mode": "lines",
         "name": "BAZ",
         "showlegend": true,
         "type": "scattergl",
         "x": {
          "bdata": "5AflB+YH5wc=",
          "dtype": "i2"
         },
         "xaxis": "x",
         "y": {
          "bdata": "zczMzOi58UDJL5b8Lsn4QBEREREZT/VAThvotNk580A=",
          "dtype": "f8"
         },
         "yaxis": "y"
        },
        {
         "hovertemplate": "species=BBS<br>TIME_PERIOD=%{x}<br>OBS_VALUE=%{y}<extra></extra>",
         "legendgroup": "BBS",
         "line": {
          "color": "#FF6692",
          "dash": "solid"
         },
         "marker": {
          "symbol": "circle"
         },
         "mode": "lines",
         "name": "BBS",
         "showlegend": true,
         "type": "scattergl",
         "x": {
          "bdata": "3wfgB+EH4gfjB+QH",
          "dtype": "i2"
         },
         "xaxis": "x",
         "y": {
          "bdata": "IiIiIrSHKEGpMLZQ4xUdQbyJNEResxxBSZU7RnwRvUBgLPnFkmO9QChcj8K12rNA",
          "dtype": "f8"
         },
         "yaxis": "y"
        },
        {
         "hovertemplate": "species=BET<br>TIME_PERIOD=%{x}<br>OBS_VALUE=%{y}<extra></extra>",
         "legendgroup": "BET",
         "line": {
          "color": "#B6E880",
          "dash": "solid"
         },
         "marker": {
          "symbol": "circle"
         },
         "mode": "lines",
         "name": "BET",
         "showlegend": true,
         "type": "scattergl",
         "x": {
          "bdata": "0AfRB9IH0wfUB9UH1gfXB9gH2QffB+AH4QfiB+MH5AflB+cH",
          "dtype": "i2"
         },
         "xaxis": "x",
         "y": {
          "bdata": "DpkF7VA9yEDGkl8shQ3SQNhcSJpSpWFAE16VHqZ86EAKHswTAr0AQd1uXNmIN/FAv1jyiw3180DC9Shcz77yQEx+seT/jgRB4XoUri+k+UDRaQOdBgzrQN7d3d3FuQBBEREREd2kD0FVCYuZTMARQX6x5BfjeANBAAAAADzW+kAiIiIiri4mQUx+seQTgglB",
          "dtype": "f8"
         },
         "yaxis": "y"
        },
        {
         "hovertemplate": "species=BFT<br>TIME_PERIOD=%{x}<br>OBS_VALUE=%{y}<extra></extra>",
         "legendgroup": "BFT",
         "line": {
          "color": "#FF97FF",
          "dash": "solid"
         },
         "marker": {
          "symbol": "circle"
         },
         "mode": "lines",
         "name": "BFT",
         "showlegend": true,
         "type": "scattergl",
         "x": {
          "bdata": "yAfJB8oHywfMB80HzgfPB9AH0QfSB9MH1AfVB9YH1wfYB9kH2gfbB9wH3QfeB98H4AfhB+IH4wfkB+UH5gfnBw==",
          "dtype": "i2"
         },
         "xaxis": "x",
         "y": {
          "bdata": "VVVV1coZQEFVVVVVWmc2QQAAAACDajpBq6qqqherPkEAAAAABFNGQTmO4zhB4FBBVVVV1X8jXkGrqqqqguBdQTWD5eGS7mBBBAehVcqWWEHHmLuWcKe8QKAaL+1m6F5BUyrOWr+hWUHVwj//8mFRQYFOG+i4klVBxEKtUyqYWEF1TPAsxC1OQfB4bamji0xBMzMzMzOzRkC7u7u7QDpOQYXrUXjHIFlB2kCnTV5IW0HXyJvvLGJTQVJJnZ5gIlZBchsNFKVkWkGMTRg2wJJeQVr0f14F3WFB65jgQ1SSZEH8GHOn+XhaQYKVQ5mY5V9B+jQUkVsBZUHpkoQ/r8tkQQ==",
          "dtype": "f8"
         },
         "yaxis": "y"
        },
        {
         "hovertemplate": "species=BIL<br>TIME_PERIOD=%{x}<br>OBS_VALUE=%{y}<extra></extra>",
         "legendgroup": "BIL",
         "line": {
          "color": "#FECB52",
          "dash": "solid"
         },
         "marker": {
          "symbol": "circle"
         },
         "mode": "lines",
         "name": "BIL",
         "showlegend": true,
         "type": "scattergl",
         "x": {
          "bdata": "1wfYB9kH2gfbB9wH3QfeB98H4AfhB+MH",
          "dtype": "i2"
         },
         "xaxis": "x",
         "y": {
          "bdata": "exSuR5xPEkFkyS+WS3IYQUt+seT5HiNBexSuR5k+EEEzMzMzlWYBQTptoNM2bvBAEREREfGQ8UCy5BdLzlfjQGAs+cVCOttARERERERZ0EDv7u7u7n/RQAc6baCTFddA",
          "dtype": "f8"
         },
         "yaxis": "y"
        },
        {
         "hovertemplate": "species=BLI<br>TIME_PERIOD=%{x}<br>OBS_VALUE=%{y}<extra></extra>",
         "legendgroup": "BLI",
         "line": {
          "color": "#636efa",
          "dash": "solid"
         },
         "marker": {
          "symbol": "circle"
         },
         "mode": "lines",
         "name": "BLI",
         "showlegend": true,
         "type": "scattergl",
         "x": {
          "bdata": "4gfjB+UH5gfnBw==",
          "dtype": "i2"
         },
         "xaxis": "x",
         "y": {
          "bdata": "WfKLJb8QlkBcj8L1KMqkQLjTH7GAG1NAMEU+6wZTWED2viYEZa9DQA==",
          "dtype": "f8"
         },
         "yaxis": "y"
        },
        {
         "hovertemplate": "species=BLL<br>TIME_PERIOD=%{x}<br>OBS_VALUE=%{y}<extra></extra>",
         "legendgroup": "BLL",
         "line": {
          "color": "#EF553B",
          "dash": "solid"
         },
         "marker": {
          "symbol": "circle"
         },
         "mode": "lines",
         "name": "BLL",
         "showlegend": true,
         "type": "scattergl",
         "x": {
          "bdata": "3wfgB+EH4gfjB+QH5QfmB+cH",
          "dtype": "i2"
         },
         "xaxis": "x",
         "y": {
          "bdata": "S36x5GHiG0H8YskvXiAbQauqqqoO7QVBJr9Y8gvBzkBVVVVV1RPFQHE9CtfoNhBBS36x5P9EHEERERERKcMUQXh3d3f7NhZB",
          "dtype": "f8"
         },
         "yaxis": "y"
        },
        {
         "hovertemplate": "species=BLT<br>TIME_PERIOD=%{x}<br>OBS_VALUE=%{y}<extra></extra>",
         "legendgroup": "BLT",
         "line": {
          "color": "#00cc96",
          "dash": "solid"
         },
         "marker": {
          "symbol": "circle"
         },
         "mode": "lines",
         "name": "BLT",
         "showlegend": true,
         "type": "scattergl",
         "x": {
          "bdata": "5wc=",
          "dtype": "i2"
         },
         "xaxis": "x",
         "y": {
          "bdata": "yWfdYIp8JEA=",
          "dtype": "f8"
         },
         "yaxis": "y"
        },
        {
         "hovertemplate": "species=BLU<br>TIME_PERIOD=%{x}<br>OBS_VALUE=%{y}<extra></extra>",
         "legendgroup": "BLU",
         "line": {
          "color": "#ab63fa",
          "dash": "solid"
         },
         "marker": {
          "symbol": "circle"
         },
         "mode": "lines",
         "name": "BLU",
         "showlegend": true,
         "type": "scattergl",
         "x": {
          "bdata": "3wfgB+EH4gfjB+QH5QfmB+cH",
          "dtype": "i2"
         },
         "xaxis": "x",
         "y": {
          "bdata": "Om2g045rDUG/WPKLDQkTQQvXo3DvKhBB5RdLfoWZEUF4d3d3D88PQZqZmZlBFw5B4XoUrtuoGUFFREREsHUeQS+W/GJNjR5B",
          "dtype": "f8"
         },
         "yaxis": "y"
        },
        {
         "hovertemplate": "species=BOC<br>TIME_PERIOD=%{x}<br>OBS_VALUE=%{y}<extra></extra>",
         "legendgroup": "BOC",
         "line": {
          "color": "#FFA15A",
          "dash": "solid"
         },
         "marker": {
          "symbol": "circle"
         },
         "mode": "lines",
         "name": "BOC",
         "showlegend": true,
         "type": "scattergl",
         "x": {
          "bdata": "4gfjBw==",
          "dtype": "i2"
         },
         "xaxis": "x",
         "y": {
          "bdata": "bqDTBrrOvkCBThvoNJa6QA==",
          "dtype": "f8"
         },
         "yaxis": "y"
        },
        {
         "hovertemplate": "species=BOG<br>TIME_PERIOD=%{x}<br>OBS_VALUE=%{y}<extra></extra>",
         "legendgroup": "BOG",
         "line": {
          "color": "#19d3f3",
          "dash": "solid"
         },
         "marker": {
          "symbol": "circle"
         },
         "mode": "lines",
         "name": "BOG",
         "showlegend": true,
         "type": "scattergl",
         "x": {
          "bdata": "yAfJB8oHywfMB80HzgfPB9AH0QfSB9MH1AfVB9YH1wfYB9kH2gfbB9wH3QfeB98H4AfhB+IH4wfkB+UH5gfnBw==",
          "dtype": "i2"
         },
         "xaxis": "x",
         "y": {
          "bdata": "AAAAAO9eP0FVVVXVZM1AQauqqqol2jNBq6qqqhvqMkGrqqqqGJIzQQAAAABcqTBBq6qqqrNoM0Grqqqq31YxQXdSTMuMuDJBK84+PCrAN0Ehi0e8T5KbQKVzaz/CXy9Bd1V6IMzkLkHSlIpz1W1BQfnFkt+jkzxBRURERDPqOUEiIiIi7pwzQXh3d3f2zzFBERER0TAJM0GrqqqqGy83QYFOG+hkbzNBEhEREfRyJ0EAAAAAkS01QZJfLHkI1SpByS+WfHSwLEFFRETEIPc5QUfhehQf0jdBY8kv1oEPMkFVVVVVdwkoQSz5xRKFhShBiIiIiKbxKkG8u7u72BEtQQ==",
          "dtype": "f8"
         },
         "yaxis": "y"
        },
        {
         "hovertemplate": "species=BON<br>TIME_PERIOD=%{x}<br>OBS_VALUE=%{y}<extra></extra>",
         "legendgroup": "BON",
         "line": {
          "color": "#FF6692",
          "dash": "solid"
         },
         "marker": {
          "symbol": "circle"
         },
         "mode": "lines",
         "name": "BON",
         "showlegend": true,
         "type": "scattergl",
         "x": {
          "bdata": "1wfYB9kH2gfbB9wH3QfeB98H4AfhB+IH4wfkB+UH5gfnBw==",
          "dtype": "i2"
         },
         "xaxis": "x",
         "y": {
          "bdata": "3t3d3VDZO0H5xZKfwLY1QYbrUbiq/DVBNDMz81CQOEG1gU4boWY8QSa/WPKu7jhBehSuh5BQOkHaQKcNJzA1QVVVVVWmoy9BvLu7u98hMEEt+cWSZIEpQe/u7u5EwypBL5b8Ypu7LEEEnTbQw6svQSIiIqLLGixBIiIiIunrKUEs+cWSbvspQQ==",
          "dtype": "f8"
         },
         "yaxis": "y"
        },
        {
         "hovertemplate": "species=BOY<br>TIME_PERIOD=%{x}<br>OBS_VALUE=%{y}<extra></extra>",
         "legendgroup": "BOY",
         "line": {
          "color": "#B6E880",
          "dash": "solid"
         },
         "marker": {
          "symbol": "circle"
         },
         "mode": "lines",
         "name": "BOY",
         "showlegend": true,
         "type": "scattergl",
         "x": {
          "bdata": "3wfgB+EH4gfjB+QH5QfmB+cH",
          "dtype": "i2"
         },
         "xaxis": "x",
         "y": {
          "bdata": "baDTBty5GkFVVVXVZCMgQQAAAAA8/SxBY8kvFk1rMUGh0wa6RJwwQYiIiIhW8iVBdNpAp7X5MUG7u7u7a54uQc3MzMxC8C9B",
          "dtype": "f8"
         },
         "yaxis": "y"
        },
        {
         "hovertemplate": "species=BPI<br>TIME_PERIOD=%{x}<br>OBS_VALUE=%{y}<extra></extra>",
         "legendgroup": "BPI",
         "line": {
          "color": "#FF97FF",
          "dash": "solid"
         },
         "marker": {
          "symbol": "circle"
         },
         "mode": "lines",
         "name": "BPI",
         "showlegend": true,
         "type": "scattergl",
         "x": {
          "bdata": "3wfgB+EH4gfjB+QH5QfmB+cH",
          "dtype": "i2"
         },
         "xaxis": "x",
         "y": {
          "bdata": "uB6Fa8PRO0GV/GLJQBQ3QTwK12P3zjxBnjbQaalFBUGX/GLJQ/T5QAc6baAHQhZBeHd3dxQZIkHNzMzMa78iQW6g0wbOeCFB",
          "dtype": "f8"
         },
         "yaxis": "y"
        },
        {
         "hovertemplate": "species=BRB<br>TIME_PERIOD=%{x}<br>OBS_VALUE=%{y}<extra></extra>",
         "legendgroup": "BRB",
         "line": {
          "color": "#FECB52",
          "dash": "solid"
         },
         "marker": {
          "symbol": "circle"
         },
         "mode": "lines",
         "name": "BRB",
         "showlegend": true,
         "type": "scattergl",
         "x": {
          "bdata": "1wfYB9kH2gfbB9wH3QfeB98H4AfhB+IH4wfkB+UH5gfnBw==",
          "dtype": "i2"
         },
         "xaxis": "x",
         "y": {
          "bdata": "eHd397izIUGF61G48rkWQcaSXyyl5hVBZMkvluQQC0GIiIiIEksQQeUXS365/ANBIiIiIk7LAUHziyW/hLgDQYwlv1jWOAdBx5JfLMk9AkHFkl8stfEKQW2g0wa81QhBpw102qD7DUEfhetRUCX7QFVVVVXfcAVBiIiIiKzeBEEoXI/Ctb0EQQ==",
          "dtype": "f8"
         },
         "yaxis": "y"
        },
        {
         "hovertemplate": "species=BRD<br>TIME_PERIOD=%{x}<br>OBS_VALUE=%{y}<extra></extra>",
         "legendgroup": "BRD",
         "line": {
          "color": "#636efa",
          "dash": "solid"
         },
         "marker": {
          "symbol": "circle"
         },
         "mode": "lines",
         "name": "BRD",
         "showlegend": true,
         "type": "scattergl",
         "x": {
          "bdata": "5Qc=",
          "dtype": "i2"
         },
         "xaxis": "x",
         "y": {
          "bdata": "L5b8YongtUA=",
          "dtype": "f8"
         },
         "yaxis": "y"
        },
        {
         "hovertemplate": "species=BRF<br>TIME_PERIOD=%{x}<br>OBS_VALUE=%{y}<extra></extra>",
         "legendgroup": "BRF",
         "line": {
          "color": "#EF553B",
          "dash": "solid"
         },
         "marker": {
          "symbol": "circle"
         },
         "mode": "lines",
         "name": "BRF",
         "showlegend": true,
         "type": "scattergl",
         "x": {
          "bdata": "3wfgB+EH4gfjB+QH5QfmB+cH",
          "dtype": "i2"
         },
         "xaxis": "x",
         "y": {
          "bdata": "k18s+UroIEG4HoXrbVAkQTfQaYODuC5B3t3d3U/HQ0Gx5BdLeYNAQdejcD12BwhBjCW/WIYHEUEiIiIiFrEMQVVVVVXdHw5B",
          "dtype": "f8"
         },
         "yaxis": "y"
        },
        {
         "hovertemplate": "species=BSC<br>TIME_PERIOD=%{x}<br>OBS_VALUE=%{y}<extra></extra>",
         "legendgroup": "BSC",
         "line": {
          "color": "#00cc96",
          "dash": "solid"
         },
         "marker": {
          "symbol": "circle"
         },
         "mode": "lines",
         "name": "BSC",
         "showlegend": true,
         "type": "scattergl",
         "x": {
          "bdata": "4gfjB+UH",
          "dtype": "i2"
         },
         "xaxis": "x",
         "y": {
          "bdata": "6LSBTltWtkBFREREhCy3QELZ+5oQFDxA",
          "dtype": "f8"
         },
         "yaxis": "y"
        },
        {
         "hovertemplate": "species=BSH<br>TIME_PERIOD=%{x}<br>OBS_VALUE=%{y}<extra></extra>",
         "legendgroup": "BSH",
         "line": {
          "color": "#ab63fa",
          "dash": "solid"
         },
         "marker": {
          "symbol": "circle"
         },
         "mode": "lines",
         "name": "BSH",
         "showlegend": true,
         "type": "scattergl",
         "x": {
          "bdata": "3wfgB+EH4gfjB+QH5QfmB+cH",
          "dtype": "i2"
         },
         "xaxis": "x",
         "y": {
          "bdata": "BzptoHcl8UBFREREVD7WQPnFkl9kEOtAe84/NvRY00C8u7u7O2jcQAAAAABQod5AiIiIiCiL6EARERERES3QQPrFkl+shcxA",
          "dtype": "f8"
         },
         "yaxis": "y"
        },
        {
         "hovertemplate": "species=BSS<br>TIME_PERIOD=%{x}<br>OBS_VALUE=%{y}<extra></extra>",
         "legendgroup": "BSS",
         "line": {
          "color": "#FFA15A",
          "dash": "solid"
         },
         "marker": {
          "symbol": "circle"
         },
         "mode": "lines",
         "name": "BSS",
         "showlegend": true,
         "type": "scattergl",
         "x": {
          "bdata": "1wfYB9kH2gfbB9wH3QfeB98H4AfhB+IH4wfkB+UH5gfnBw==",
          "dtype": "i2"
         },
         "xaxis": "x",
         "y": {
          "bdata": "RUREBFTgM0HUBjotcbwxQaRwPQryRDFBq6qqqr8CMUGZmZkZgoYwQREREZFtRzJBVVVV1c51KkEzMzMz6yMuQVVVVVUykDlBG+i0gQU7PkH8YsmvNuM1QUVERERTsDNBoNMGOl5hMEHv7u7uTQErQfcoXE87yTVBzczMTF4VM0EOdNrAc3UtQQ==",
          "dtype": "f8"
         },
         "yaxis": "y"
        },
        {
         "hovertemplate": "species=BSX<br>TIME_PERIOD=%{x}<br>OBS_VALUE=%{y}<extra></extra>",
         "legendgroup": "BSX",
         "line": {
          "color": "#19d3f3",
          "dash": "solid"
         },
         "marker": {
          "symbol": "circle"
         },
         "mode": "lines",
         "name": "BSX",
         "showlegend": true,
         "type": "scattergl",
         "x": {
          "bdata": "1wfYB9kH2gfbB9wH3QfeB98H4AfhB+IH4wflB+YH5wc=",
          "dtype": "i2"
         },
         "xaxis": "x",
         "y": {
          "bdata": "tYFOG9QFGUG4HoXrYV0SQfxiyS+kTBRBZ2ZmZkbdAkHziyW/CGMTQZNfLPltjg1BN9BpA+2u/0CnDXRaaxIiQdejcD1+QRFB3t3d3aPMFUFSuB6Fr6oWQacNdNqkwxFBmpmZmcEzDUFVVVVVlbrAQLu7u7s7BthAYYp81g2mZ0A=",
          "dtype": "f8"
         },
         "yaxis": "y"
        },
        {
         "hovertemplate": "species=BTP<br>TIME_PERIOD=%{x}<br>OBS_VALUE=%{y}<extra></extra>",
         "legendgroup": "BTP",
         "line": {
          "color": "#FF6692",
          "dash": "solid"
         },
         "marker": {
          "symbol": "circle"
         },
         "mode": "lines",
         "name": "BTP",
         "showlegend": true,
         "type": "scattergl",
         "x": {
          "bdata": "4AfiB+MH",
          "dtype": "i2"
         },
         "xaxis": "x",
         "y": {
          "bdata": "MzMzMzMHh0DkcxQNf4OlQEGnDXTa86RA",
          "dtype": "f8"
         },
         "yaxis": "y"
        },
        {
         "hovertemplate": "species=CBC<br>TIME_PERIOD=%{x}<br>OBS_VALUE=%{y}<extra></extra>",
         "legendgroup": "CBC",
         "line": {
          "color": "#B6E880",
          "dash": "solid"
         },
         "marker": {
          "symbol": "circle"
         },
         "mode": "lines",
         "name": "CBC",
         "showlegend": true,
         "type": "scattergl",
         "x": {
          "bdata": "3wfgB+EH4gfjB+QH5QfmB+cH",
          "dtype": "i2"
         },
         "xaxis": "x",
         "y": {
          "bdata": "VVVVVfWj6ECNJb9YEizqQEVERESEL8ZAIiIiItr28UDFkl8sKbTrQDfQaQO9dstAH4XrUXif00CIiIiIiArHQLy7u7v7I8BA",
          "dtype": "f8"
         },
         "yaxis": "y"
        },
        {
         "hovertemplate": "species=CBM<br>TIME_PERIOD=%{x}<br>OBS_VALUE=%{y}<extra></extra>",
         "legendgroup": "CBM",
         "line": {
          "color": "#FF97FF",
          "dash": "solid"
         },
         "marker": {
          "symbol": "circle"
         },
         "mode": "lines",
         "name": "CBM",
         "showlegend": true,
         "type": "scattergl",
         "x": {
          "bdata": "3wfgB+EH4gfjB+QH5QfmB+cH",
          "dtype": "i2"
         },
         "xaxis": "x",
         "y": {
          "bdata": "EREREZGf8UBERERElK7xQERERETQ7fBAVVVVVT3A7ECSXyz55TfuQIwlv1jilvFAvLu7u+OmAUGIiIiIGKIAQcL1KFynwQFB",
          "dtype": "f8"
         },
         "yaxis": "y"
        },
        {
         "hovertemplate": "species=CBR<br>TIME_PERIOD=%{x}<br>OBS_VALUE=%{y}<extra></extra>",
         "legendgroup": "CBR",
         "line": {
          "color": "#FECB52",
          "dash": "solid"
         },
         "marker": {
          "symbol": "circle"
         },
         "mode": "lines",
         "name": "CBR",
         "showlegend": true,
         "type": "scattergl",
         "x": {
          "bdata": "4gfjB+QH",
          "dtype": "i2"
         },
         "xaxis": "x",
         "y": {
          "bdata": "q6qqqiqP3kCy5BdLTsvgQCz5xZLfta9A",
          "dtype": "f8"
         },
         "yaxis": "y"
        },
        {
         "hovertemplate": "species=CDN<br>TIME_PERIOD=%{x}<br>OBS_VALUE=%{y}<extra></extra>",
         "legendgroup": "CDN",
         "line": {
          "color": "#636efa",
          "dash": "solid"
         },
         "marker": {
          "symbol": "circle"
         },
         "mode": "lines",
         "name": "CDN",
         "showlegend": true,
         "type": "scattergl",
         "x": {
          "bdata": "4wc=",
          "dtype": "i2"
         },
         "xaxis": "x",
         "y": {
          "bdata": "UW25ShrVWkA=",
          "dtype": "f8"
         },
         "yaxis": "y"
        },
        {
         "hovertemplate": "species=CDX<br>TIME_PERIOD=%{x}<br>OBS_VALUE=%{y}<extra></extra>",
         "legendgroup": "CDX",
         "line": {
          "color": "#EF553B",
          "dash": "solid"
         },
         "marker": {
          "symbol": "circle"
         },
         "mode": "lines",
         "name": "CDX",
         "showlegend": true,
         "type": "scattergl",
         "x": {
          "bdata": "1wfYB9kH2gfbB9wH3QfeBw==",
          "dtype": "i2"
         },
         "xaxis": "x",
         "y": {
          "bdata": "zczMzLe2HUGg0wY6ChMdQYmIiIiiziBBhetRuCqnJEHf3d3dr9kbQYwlv1hmhRdBDnTaQB86DkEAAAAAyz0aQQ==",
          "dtype": "f8"
         },
         "yaxis": "y"
        },
        {
         "hovertemplate": "species=CDZ<br>TIME_PERIOD=%{x}<br>OBS_VALUE=%{y}<extra></extra>",
         "legendgroup": "CDZ",
         "line": {
          "color": "#00cc96",
          "dash": "solid"
         },
         "marker": {
          "symbol": "circle"
         },
         "mode": "lines",
         "name": "CDZ",
         "showlegend": true,
         "type": "scattergl",
         "x": {
          "bdata": "zAfQB9EH0gfTBw==",
          "dtype": "i2"
         },
         "xaxis": "x",
         "y": {
          "bdata": "q6qqqqqgwUBkqmBUUiaAQJVDi2z3Fs5A2anMp6F1d0ByQDiMpr0FQQ==",
          "dtype": "f8"
         },
         "yaxis": "y"
        },
        {
         "hovertemplate": "species=CEO<br>TIME_PERIOD=%{x}<br>OBS_VALUE=%{y}<extra></extra>",
         "legendgroup": "CEO",
         "line": {
          "color": "#ab63fa",
          "dash": "solid"
         },
         "marker": {
          "symbol": "circle"
         },
         "mode": "lines",
         "name": "CEO",
         "showlegend": true,
         "type": "scattergl",
         "x": {
          "bdata": "4gfjB+QH5QfmB+cH",
          "dtype": "i2"
         },
         "xaxis": "x",
         "y": {
          "bdata": "q6qqqq8lJUH3KFyP2wQkQTptoNMY7BNB5RdLfnFVGkHe3d3dDecNQe/u7u4mKAJB",
          "dtype": "f8"
         },
         "yaxis": "y"
        },
        {
         "hovertemplate": "species=CEP<br>TIME_PERIOD=%{x}<br>OBS_VALUE=%{y}<extra></extra>",
         "legendgroup": "CEP",
         "line": {
          "color": "#FFA15A",
          "dash": "solid"
         },
         "marker": {
          "symbol": "circle"
         },
         "mode": "lines",
         "name": "CEP",
         "showlegend": true,
         "type": "scattergl",
         "x": {
          "bdata": "2wc=",
          "dtype": "i2"
         },
         "xaxis": "x",
         "y": {
          "bdata": "d3d3d84rPUE=",
          "dtype": "f8"
         },
         "yaxis": "y"
        },
        {
         "hovertemplate": "species=CET<br>TIME_PERIOD=%{x}<br>OBS_VALUE=%{y}<extra></extra>",
         "legendgroup": "CET",
         "line": {
          "color": "#19d3f3",
          "dash": "solid"
         },
         "marker": {
          "symbol": "circle"
         },
         "mode": "lines",
         "name": "CET",
         "showlegend": true,
         "type": "scattergl",
         "x": {
          "bdata": "4AfiB+MH5QfnBw==",
          "dtype": "i2"
         },
         "xaxis": "x",
         "y": {
          "bdata": "ERERETGa1EAhUXsk8PrAQPo3QhmVUc9AbqDTBops8EAlv1jy9zj3QA==",
          "dtype": "f8"
         },
         "yaxis": "y"
        },
        {
         "hovertemplate": "species=CGZ<br>TIME_PERIOD=%{x}<br>OBS_VALUE=%{y}<extra></extra>",
         "legendgroup": "CGZ",
         "line": {
          "color": "#FF6692",
          "dash": "solid"
         },
         "marker": {
          "symbol": "circle"
         },
         "mode": "lines",
         "name": "CGZ",
         "showlegend": true,
         "type": "scattergl",
         "x": {
          "bdata": "1QfWBw==",
          "dtype": "i2"
         },
         "xaxis": "x",
         "y": {
          "bdata": "b6YvcYYzJEH6xZJfrIslQQ==",
          "dtype": "f8"
         },
         "yaxis": "y"
        },
        {
         "hovertemplate": "species=CIL<br>TIME_PERIOD=%{x}<br>OBS_VALUE=%{y}<extra></extra>",
         "legendgroup": "CIL",
         "line": {
          "color": "#B6E880",
          "dash": "solid"
         },
         "marker": {
          "symbol": "circle"
         },
         "mode": "lines",
         "name": "CIL",
         "showlegend": true,
         "type": "scattergl",
         "x": {
          "bdata": "3wfgB+EH4gfjB+QH5QfmB+cH",
          "dtype": "i2"
         },
         "xaxis": "x",
         "y": {
          "bdata": "Z2ZmZl7LCEGGucoAGP0EQehILv/XkupAIatbPdYh80A+ZLe8ekv0QJfiqrIt5+ZA8Kr0AH038UDatD89m6LlQAAAAADgJO1A",
          "dtype": "f8"
         },
         "yaxis": "y"
        },
        {
         "hovertemplate": "species=CLQ<br>TIME_PERIOD=%{x}<br>OBS_VALUE=%{y}<extra></extra>",
         "legendgroup": "CLQ",
         "line": {
          "color": "#FF97FF",
          "dash": "solid"
         },
         "marker": {
          "symbol": "circle"
         },
         "mode": "lines",
         "name": "CLQ",
         "showlegend": true,
         "type": "scattergl",
         "x": {
          "bdata": "5Qc=",
          "dtype": "i2"
         },
         "xaxis": "x",
         "y": {
          "bdata": "EREREREwoUA=",
          "dtype": "f8"
         },
         "yaxis": "y"
        },
        {
         "hovertemplate": "species=CLV<br>TIME_PERIOD=%{x}<br>OBS_VALUE=%{y}<extra></extra>",
         "legendgroup": "CLV",
         "line": {
          "color": "#FECB52",
          "dash": "solid"
         },
         "marker": {
          "symbol": "circle"
         },
         "mode": "lines",
         "name": "CLV",
         "showlegend": true,
         "type": "scattergl",
         "x": {
          "bdata": "3wfgB+EH4gfjB+YH5wc=",
          "dtype": "i2"
         },
         "xaxis": "x",
         "y": {
          "bdata": "7u7u7q76yUBfLPnFonrxQKRwPQoPAvpA+cWSX3iSEUE40GkDpeXnQEVEREREEIhAu7u7u9tZ5kA=",
          "dtype": "f8"
         },
         "yaxis": "y"
        },
        {
         "hovertemplate": "species=CMK<br>TIME_PERIOD=%{x}<br>OBS_VALUE=%{y}<extra></extra>",
         "legendgroup": "CMK",
         "line": {
          "color": "#636efa",
          "dash": "solid"
         },
         "marker": {
          "symbol": "circle"
         },
         "mode": "lines",
         "name": "CMK",
         "showlegend": true,
         "type": "scattergl",
         "x": {
          "bdata": "4gfjBw==",
          "dtype": "i2"
         },
         "xaxis": "x",
         "y": {
          "bdata": "ERERERF5nEBnZmZmZriiQA==",
          "dtype": "f8"
         },
         "yaxis": "y"
        },
        {
         "hovertemplate": "species=CNZ<br>TIME_PERIOD=%{x}<br>OBS_VALUE=%{y}<extra></extra>",
         "legendgroup": "CNZ",
         "line": {
          "color": "#EF553B",
          "dash": "solid"
         },
         "marker": {
          "symbol": "circle"
         },
         "mode": "lines",
         "name": "CNZ",
         "showlegend": true,
         "type": "scattergl",
         "x": {
          "bdata": "zAfNB84HzwfQB9EH0gfTB9QH1QfWB9cH2AfZB9oH",
          "dtype": "i2"
         },
         "xaxis": "x",
         "y": {
          "bdata": "OY7jONYJC0HkOI7j5A4YQauqqqoQjCpBq6qqqq00MEGU0dsSu6AkQeQUHRnxbzJBsHJoke07e0C9wRfGMxU6QRSG7u/nSDhBm+s0shTWNUHCCsqXEnAxQYFOG2gslEtBL5b84trrO0GnDXSaDFFHQby7u7sFSUJB",
          "dtype": "f8"
         },
         "yaxis": "y"
        },
        {
         "hovertemplate": "species=COB<br>TIME_PERIOD=%{x}<br>OBS_VALUE=%{y}<extra></extra>",
         "legendgroup": "COB",
         "line": {
          "color": "#00cc96",
          "dash": "solid"
         },
         "marker": {
          "symbol": "circle"
         },
         "mode": "lines",
         "name": "COB",
         "showlegend": true,
         "type": "scattergl",
         "x": {
          "bdata": "3wfgB+EH4gfjB+QH5QfmB+cH",
          "dtype": "i2"
         },
         "xaxis": "x",
         "y": {
          "bdata": "EREREXBEH0EX2c53qw4RQfyMC4ebGQ5BXynLUJNXEUEzMzMzZ0kSQSv2l90KVApBKS8f9tfUEUG7u7u7VUIoQUVERESS7hpB",
          "dtype": "f8"
         },
         "yaxis": "y"
        },
        {
         "hovertemplate": "species=COE<br>TIME_PERIOD=%{x}<br>OBS_VALUE=%{y}<extra></extra>",
         "legendgroup": "COE",
         "line": {
          "color": "#ab63fa",
          "dash": "solid"
         },
         "marker": {
          "symbol": "circle"
         },
         "mode": "lines",
         "name": "COE",
         "showlegend": true,
         "type": "scattergl",
         "x": {
          "bdata": "1wfYB9kH2gfbB9wH3QfeB98H4AfhB+IH4wfkB+UH5gfnBw==",
          "dtype": "i2"
         },
         "xaxis": "x",
         "y": {
          "bdata": "16NwPdbPJUEDnTZQ2qghQZw20GlaCSZB+cWS362JJ0FfLPnFWjIsQXsUrke7iSFBBJ020CnFDEF4d3d3W6YWQWZmZmaUABZBZ2ZmZghaFkFVVVVVLcAKQVnyiyU1AApBd3d3d4/wBkFEREREdloQQc3MzMw41A9BRERERKJTEEGZmZmZad0SQQ==",
          "dtype": "f8"
         },
         "yaxis": "y"
        },
        {
         "hovertemplate": "species=COU<br>TIME_PERIOD=%{x}<br>OBS_VALUE=%{y}<extra></extra>",
         "legendgroup": "COU",
         "line": {
          "color": "#FFA15A",
          "dash": "solid"
         },
         "marker": {
          "symbol": "circle"
         },
         "mode": "lines",
         "name": "COU",
         "showlegend": true,
         "type": "scattergl",
         "x": {
          "bdata": "4gfjBw==",
          "dtype": "i2"
         },
         "xaxis": "x",
         "y": {
          "bdata": "dNpAp41cskBnZmZmZiKxQA==",
          "dtype": "f8"
         },
         "yaxis": "y"
        },
        {
         "hovertemplate": "species=COZ<br>TIME_PERIOD=%{x}<br>OBS_VALUE=%{y}<extra></extra>",
         "legendgroup": "COZ",
         "line": {
          "color": "#19d3f3",
          "dash": "solid"
         },
         "marker": {
          "symbol": "circle"
         },
         "mode": "lines",
         "name": "COZ",
         "showlegend": true,
         "type": "scattergl",
         "x": {
          "bdata": "1wfYB9kH2gfbB9wH3QfeB98H4AfiB+MH5AflB+YH5wc=",
          "dtype": "i2"
         },
         "xaxis": "x",
         "y": {
          "bdata": "1AY6bUAP3EC1gU4biKHnQC35xZKH3ORA7+7u7u7fvEBVVVVV1XPFQCIiIiLCIMtAN9BpAx2pp0AiIiIiIhaLQKuqqqqdBSJB4XoUrvPPFkGcNtBpg8euQML1KFyPlcBA7+7u7q6jw0Cy5BdL/kXDQEVERETEvtpAhetRuJ7HwEA=",
          "dtype": "f8"
         },
         "yaxis": "y"
        },
        {
         "hovertemplate": "species=CPW<br>TIME_PERIOD=%{x}<br>OBS_VALUE=%{y}<extra></extra>",
         "legendgroup": "CPW",
         "line": {
          "color": "#FF6692",
          "dash": "solid"
         },
         "marker": {
          "symbol": "circle"
         },
         "mode": "lines",
         "name": "CPW",
         "showlegend": true,
         "type": "scattergl",
         "x": {
          "bdata": "4gfjBw==",
          "dtype": "i2"
         },
         "xaxis": "x",
         "y": {
          "bdata": "baDTBjoBmUD00DG8OG9aQA==",
          "dtype": "f8"
         },
         "yaxis": "y"
        },
        {
         "hovertemplate": "species=CRA<br>TIME_PERIOD=%{x}<br>OBS_VALUE=%{y}<extra></extra>",
         "legendgroup": "CRA",
         "line": {
          "color": "#B6E880",
          "dash": "solid"
         },
         "marker": {
          "symbol": "circle"
         },
         "mode": "lines",
         "name": "CRA",
         "showlegend": true,
         "type": "scattergl",
         "x": {
          "bdata": "1wfYB9kH2gfbB9wH3QfeB98H4AfhB+IH4wfkB+UH5gfnBw==",
          "dtype": "i2"
         },
         "xaxis": "x",
         "y": {
          "bdata": "IiIiIl3fFUHNzMzMQOYTQc3MzMzAjQ5BZ2ZmZl3vEUE6baDTWFYTQYiIiIjQfghBc9pApxPhBUH8YskvqjgEQauqqqpD9xFBIiIiIq4ADUHvlA7WDWP3QETlTADLERJBmpmZmcpDGkFVVVVVxdYMQcaSXyxrthNBiIiIiAb/GkEAAAAABGQJQQ==",
          "dtype": "f8"
         },
         "yaxis": "y"
        },
        {
         "hovertemplate": "species=CRB<br>TIME_PERIOD=%{x}<br>OBS_VALUE=%{y}<extra></extra>",
         "legendgroup": "CRB",
         "line": {
          "color": "#FF97FF",
          "dash": "solid"
         },
         "marker": {
          "symbol": "circle"
         },
         "mode": "lines",
         "name": "CRB",
         "showlegend": true,
         "type": "scattergl",
         "x": {
          "bdata": "5gfnBw==",
          "dtype": "i2"
         },
         "xaxis": "x",
         "y": {
          "bdata": "MzMzM//jAkGCThvoCLYZQQ==",
          "dtype": "f8"
         },
         "yaxis": "y"
        },
        {
         "hovertemplate": "species=CRS<br>TIME_PERIOD=%{x}<br>OBS_VALUE=%{y}<extra></extra>",
         "legendgroup": "CRS",
         "line": {
          "color": "#FECB52",
          "dash": "solid"
         },
         "marker": {
          "symbol": "circle"
         },
         "mode": "lines",
         "name": "CRS",
         "showlegend": true,
         "type": "scattergl",
         "x": {
          "bdata": "0AfTB9UH1gc=",
          "dtype": "i2"
         },
         "xaxis": "x",
         "y": {
          "bdata": "ikSOmtSKx0AAAAAAAMGyQF+9d0E91QZBBjptoMkpC0E=",
          "dtype": "f8"
         },
         "yaxis": "y"
        },
        {
         "hovertemplate": "species=CRU<br>TIME_PERIOD=%{x}<br>OBS_VALUE=%{y}<extra></extra>",
         "legendgroup": "CRU",
         "line": {
          "color": "#636efa",
          "dash": "solid"
         },
         "marker": {
          "symbol": "circle"
         },
         "mode": "lines",
         "name": "CRU",
         "showlegend": true,
         "type": "scattergl",
         "x": {
          "bdata": "yAfJB8oHywfMB80HzgfPB9AH0QfSB9MH1AfVB9YH1wfYB9kH2gfbB9wH3QfeB98H4AfhB+IH4wfkB+UH5gfnBw==",
          "dtype": "i2"
         },
         "xaxis": "x",
         "y": {
          "bdata": "q6qqyssqikFVVVUV7rZ8QVVVVRVgpn5BVVVVRSnBckHkOI4DIopzQcdxHBedXHZBOY7jeBOSbkHkOI7zcWBwQeWr95MfeHZBidojGRQNdUFCnd8dhqbIQOCEQhH37nNBu4YGELvxcEFlO9/viAdKQe6HsmLXgktBZGo40gXFLEEb6LQBrk01QR1/j/f9OTFBlVgsOOUpL0GhOkOm8T9AQT4K16MwLTNB1AY67XY8MUGrqqqqLqs1QVVVVVWjnyFBXyz5RXEXIUEuRkqwPqc3QY/C9SgIHhhBERERERvrG0GV/GLJG3EOQWLJL5YaPBVBq6qqql7BAEGJiIiIUGLiQA==",
          "dtype": "f8"
         },
         "yaxis": "y"
        },
        {
         "hovertemplate": "species=CSH<br>TIME_PERIOD=%{x}<br>OBS_VALUE=%{y}<extra></extra>",
         "legendgroup": "CSH",
         "line": {
          "color": "#EF553B",
          "dash": "solid"
         },
         "marker": {
          "symbol": "circle"
         },
         "mode": "lines",
         "name": "CSH",
         "showlegend": true,
         "type": "scattergl",
         "x": {
          "bdata": "1wfYB9kH2gfbB9wH3QfeB98H4AfhB+IH4wfkB+UH5gfnBw==",
          "dtype": "i2"
         },
         "xaxis": "x",
         "y": {
          "bdata": "pHA9Cq85+ECZmZmZYVf+QKRwPQrLlQhBDnTaQA9XDUHYo3A976MYQSa/WPIi0RBB/GLJL9bT+UCy5BdLrk3jQAc6baCreOJAd3d3dzfq6UACiRmdvMb4QPnFkl+sU8hA3t3d3Z2e0UBVVVVVtanZQJ420GkD/dpAIiIiIiLewkDNzMzMjF3JQA==",
          "dtype": "f8"
         },
         "yaxis": "y"
        },
        {
         "hovertemplate": "species=CTB<br>TIME_PERIOD=%{x}<br>OBS_VALUE=%{y}<extra></extra>",
         "legendgroup": "CTB",
         "line": {
          "color": "#00cc96",
          "dash": "solid"
         },
         "marker": {
          "symbol": "circle"
         },
         "mode": "lines",
         "name": "CTB",
         "showlegend": true,
         "type": "scattergl",
         "x": {
          "bdata": "3wfgB+EH4gfjB+QH",
          "dtype": "i2"
         },
         "xaxis": "x",
         "y": {
          "bdata": "ThvotIS5J0Es+cUSkMcmQUt+seSCHhtB5RdL/q8dIUFBpw10PEYbQXPaQKeNkspA",
          "dtype": "f8"
         },
         "yaxis": "y"
        },
        {
         "hovertemplate": "species=CTC<br>TIME_PERIOD=%{x}<br>OBS_VALUE=%{y}<extra></extra>",
         "legendgroup": "CTC",
         "line": {
          "color": "#ab63fa",
          "dash": "solid"
         },
         "marker": {
          "symbol": "circle"
         },
         "mode": "lines",
         "name": "CTC",
         "showlegend": true,
         "type": "scattergl",
         "x": {
          "bdata": "3wfgB+EH4gfjB+QH5QfmB+cH",
          "dtype": "i2"
         },
         "xaxis": "x",
         "y": {
          "bdata": "gk4bDCX7cEGxfdvOJAFlQctKk6DcLGdBtzMms43haEFfoJEBs6ViQfPNNvfuBVlB0rSeuK29X0HfroTHzOFeQcWSX2zKf2dB",
          "dtype": "f8"
         },
         "yaxis": "y"
        },
        {
         "hovertemplate": "species=CTL<br>TIME_PERIOD=%{x}<br>OBS_VALUE=%{y}<extra></extra>",
         "legendgroup": "CTL",
         "line": {
          "color": "#FFA15A",
          "dash": "solid"
         },
         "marker": {
          "symbol": "circle"
         },
         "mode": "lines",
         "name": "CTL",
         "showlegend": true,
         "type": "scattergl",
         "x": {
          "bdata": "yAfJB8oHywfMB80HzgfPB9AH0QfSB9MH1AfVB9YH1wfYB9kH2gfbB9wH3QfeB98H4AfhB+IH4wfkB+UH5gfnBw==",
          "dtype": "i2"
         },
         "xaxis": "x",
         "y": {
          "bdata": "q6qqytf3bUEAAABAVP1lQauqquo1+mpBq6qqqqE1YEGO4ziOUftcQRzHcdwJMGBB5DiOo9BhX0FyHMdxC9VZQYQNT8tA1lNBBFH3AYGAW0GuTyZbCritQEOJ+A92alJBsiESCJ2+VUFkesLIwwxsQWyyRmRLinBBMFwwrlFBcEHmfJ7U9k5qQTKHt9UHSm1BSufWanlgaUGPwvVo4f1xQeYXS578SGxBeHd3V9IwbEF3d3dHbLltQY/C9ahBMyNB1/ULdkx8DUGi9S/iOT/6QH/Js7juDxBBpkHkh173DEHDnnb4X6D1QGAs+cUWmBZB/AjpFhgPEUGrqqqq3zUQQQ==",
          "dtype": "f8"
         },
         "yaxis": "y"
        },
        {
         "hovertemplate": "species=CTR<br>TIME_PERIOD=%{x}<br>OBS_VALUE=%{y}<extra></extra>",
         "legendgroup": "CTR",
         "line": {
          "color": "#19d3f3",
          "dash": "solid"
         },
         "marker": {
          "symbol": "circle"
         },
         "mode": "lines",
         "name": "CTR",
         "showlegend": true,
         "type": "scattergl",
         "x": {
          "bdata": "5QfnBw==",
          "dtype": "i2"
         },
         "xaxis": "x",
         "y": {
          "bdata": "+cWSX9ycBEGX/GLJR576QA==",
          "dtype": "f8"
         },
         "yaxis": "y"
        },
        {
         "hovertemplate": "species=CTZ<br>TIME_PERIOD=%{x}<br>OBS_VALUE=%{y}<extra></extra>",
         "legendgroup": "CTZ",
         "line": {
          "color": "#FF6692",
          "dash": "solid"
         },
         "marker": {
          "symbol": "circle"
         },
         "mode": "lines",
         "name": "CTZ",
         "showlegend": true,
         "type": "scattergl",
         "x": {
          "bdata": "3wfgB+EH4gfjB+QH5QfmB+cH",
          "dtype": "i2"
         },
         "xaxis": "x",
         "y": {
          "bdata": "q6qqqmpp70BxPQrXg1ryQIiIiIioC+pAzczMzIqiAEEEnTbQiWX9QPnFkl9IYgBBIiIiIlrp9EARERER+Wn4QG2g0wY6XLRA",
          "dtype": "f8"
         },
         "yaxis": "y"
        },
        {
         "hovertemplate": "species=CVW<br>TIME_PERIOD=%{x}<br>OBS_VALUE=%{y}<extra></extra>",
         "legendgroup": "CVW",
         "line": {
          "color": "#B6E880",
          "dash": "solid"
         },
         "marker": {
          "symbol": "circle"
         },
         "mode": "lines",
         "name": "CVW",
         "showlegend": true,
         "type": "scattergl",
         "x": {
          "bdata": "3wfgB+EH4gfjB+QH5QfmB+cH",
          "dtype": "i2"
         },
         "xaxis": "x",
         "y": {
          "bdata": "iIiIiBZVFkGamZmZgcMYQfUoXI8/KCVBnDbQ6T6mJkHv7u7u5KgnQbu7u7vdTRlBtIFOG5F9HUGrqqqqokAbQauqqqreeBZB",
          "dtype": "f8"
         },
         "yaxis": "y"
        },
        {
         "hovertemplate": "species=CWO<br>TIME_PERIOD=%{x}<br>OBS_VALUE=%{y}<extra></extra>",
         "legendgroup": "CWO",
         "line": {
          "color": "#FF97FF",
          "dash": "solid"
         },
         "marker": {
          "symbol": "circle"
         },
         "mode": "lines",
         "name": "CWO",
         "showlegend": true,
         "type": "scattergl",
         "x": {
          "bdata": "5AflB+YH5wc=",
          "dtype": "i2"
         },
         "xaxis": "x",
         "y": {
          "bdata": "gU4b6LSNnEB2gynyWTdAQDMzMzMzy31AL85Dx/BCXUA=",
          "dtype": "f8"
         },
         "yaxis": "y"
        },
        {
         "hovertemplate": "species=DAB<br>TIME_PERIOD=%{x}<br>OBS_VALUE=%{y}<extra></extra>",
         "legendgroup": "DAB",
         "line": {
          "color": "#FECB52",
          "dash": "solid"
         },
         "marker": {
          "symbol": "circle"
         },
         "mode": "lines",
         "name": "DAB",
         "showlegend": true,
         "type": "scattergl",
         "x": {
          "bdata": "ywfMB80HzgfPB9AH0wc=",
          "dtype": "i2"
         },
         "xaxis": "x",
         "y": {
          "bdata": "q6qqqioL2kBVVVVVVVGaQKuqqqq6n/xAq6qqqkpE/UAAAAAAADrTQCum5Ropu8xAzFodE3wxsEA=",
          "dtype": "f8"
         },
         "yaxis": "y"
        },
        {
         "hovertemplate": "species=DEC<br>TIME_PERIOD=%{x}<br>OBS_VALUE=%{y}<extra></extra>",
         "legendgroup": "DEC",
         "line": {
          "color": "#636efa",
          "dash": "solid"
         },
         "marker": {
          "symbol": "circle"
         },
         "mode": "lines",
         "name": "DEC",
         "showlegend": true,
         "type": "scattergl",
         "x": {
          "bdata": "1wfYB9kH2gfbB9wH3QfeB98H4AfhB+IH4wfkB+UH5gfnBw==",
          "dtype": "i2"
         },
         "xaxis": "x",
         "y": {
          "bdata": "RURERNKfOUFVVVXVsjQxQbgehWtobDFBgk4baPLXMUHAWPILQpguQX+x5Bfehi1B3t3dndFAM0EAAACA9nIvQZf8YsmEHDBBhU9gp/2sI0Fc7rn5KE0WQcQYa5L25tRAzQGCOepvzEAmreW7mF3/QOIR7xMV2x1BeHd3d+oNI0EVrkdhiLYlQQ==",
          "dtype": "f8"
         },
         "yaxis": "y"
        },
        {
         "hovertemplate": "species=DEL<br>TIME_PERIOD=%{x}<br>OBS_VALUE=%{y}<extra></extra>",
         "legendgroup": "DEL",
         "line": {
          "color": "#EF553B",
          "dash": "solid"
         },
         "marker": {
          "symbol": "circle"
         },
         "mode": "lines",
         "name": "DEL",
         "showlegend": true,
         "type": "scattergl",
         "x": {
          "bdata": "4gfjB+QH5QfmB+cH",
          "dtype": "i2"
         },
         "xaxis": "x",
         "y": {
          "bdata": "bHh6pSxlrUBlpRz1S4OjQLy7u7u7YLBAThvotFH42kDNzMzMDMvYQD4K16Pwc9xA",
          "dtype": "f8"
         },
         "yaxis": "y"
        },
        {
         "hovertemplate": "species=DEP<br>TIME_PERIOD=%{x}<br>OBS_VALUE=%{y}<extra></extra>",
         "legendgroup": "DEP",
         "line": {
          "color": "#00cc96",
          "dash": "solid"
         },
         "marker": {
          "symbol": "circle"
         },
         "mode": "lines",
         "name": "DEP",
         "showlegend": true,
         "type": "scattergl",
         "x": {
          "bdata": "4gfjB+QH5QfmB+cH",
          "dtype": "i2"
         },
         "xaxis": "x",
         "y": {
          "bdata": "u7u7u2sb10AREREREbLUQIiIiIgIp8FAv1jyiyVvwEAiIiIiIg7AQJ420GmjDcdA",
          "dtype": "f8"
         },
         "yaxis": "y"
        },
        {
         "hovertemplate": "species=DEQ<br>TIME_PERIOD=%{x}<br>OBS_VALUE=%{y}<extra></extra>",
         "legendgroup": "DEQ",
         "line": {
          "color": "#ab63fa",
          "dash": "solid"
         },
         "marker": {
          "symbol": "circle"
         },
         "mode": "lines",
         "name": "DEQ",
         "showlegend": true,
         "type": "scattergl",
         "x": {
          "bdata": "4gfjBw==",
          "dtype": "i2"
         },
         "xaxis": "x",
         "y": {
          "bdata": "WfKLJb/UmEBcj8L1KL2aQA==",
          "dtype": "f8"
         },
         "yaxis": "y"
        },
        {
         "hovertemplate": "species=DEX<br>TIME_PERIOD=%{x}<br>OBS_VALUE=%{y}<extra></extra>",
         "legendgroup": "DEX",
         "line": {
          "color": "#FFA15A",
          "dash": "solid"
         },
         "marker": {
          "symbol": "circle"
         },
         "mode": "lines",
         "name": "DEX",
         "showlegend": true,
         "type": "scattergl",
         "x": {
          "bdata": "4wfkB+UH5gfnBw==",
          "dtype": "i2"
         },
         "xaxis": "x",
         "y": {
          "bdata": "84slv1j9pEAhIiIiEpXcQIJOG+j0JdhAmpmZmTmD00CkcD0KFy/FQA==",
          "dtype": "f8"
         },
         "yaxis": "y"
        },
        {
         "hovertemplate": "species=DGS<br>TIME_PERIOD=%{x}<br>OBS_VALUE=%{y}<extra></extra>",
         "legendgroup": "DGS",
         "line": {
          "color": "#19d3f3",
          "dash": "solid"
         },
         "marker": {
          "symbol": "circle"
         },
         "mode": "lines",
         "name": "DGS",
         "showlegend": true,
         "type": "scattergl",
         "x": {
          "bdata": "4QfiB+MH5AflB+YH5wc=",
          "dtype": "i2"
         },
         "xaxis": "x",
         "y": {
          "bdata": "k18s+eVy5EBI4XoUniUBQWLJL5aMi/9Al/xiyddm6EARERER8UbzQFVVVVVlvelAGEt+sUw45UA=",
          "dtype": "f8"
         },
         "yaxis": "y"
        },
        {
         "hovertemplate": "species=DGZ<br>TIME_PERIOD=%{x}<br>OBS_VALUE=%{y}<extra></extra>",
         "legendgroup": "DGZ",
         "line": {
          "color": "#FF6692",
          "dash": "solid"
         },
         "marker": {
          "symbol": "circle"
         },
         "mode": "lines",
         "name": "DGZ",
         "showlegend": true,
         "type": "scattergl",
         "x": {
          "bdata": "1QfWB9cH2AfZB9oH2wfcB90H3gffB+AH",
          "dtype": "i2"
         },
         "xaxis": "x",
         "y": {
          "bdata": "F0t+sUSXD0GnDXTa1NERQYmIiIg+PwFBAAAAAKik/kC4HoXr0W/4QCIiIiJi7/BA20CnDbRE6UAAAAAAoL7nQCIiIiKSPu5A7+7u7s6JAEGrqqqqSln0QHh3d3cHFfFA",
          "dtype": "f8"
         },
         "yaxis": "y"
        },
        {
         "hovertemplate": "species=DHZ<br>TIME_PERIOD=%{x}<br>OBS_VALUE=%{y}<extra></extra>",
         "legendgroup": "DHZ",
         "line": {
          "color": "#B6E880",
          "dash": "solid"
         },
         "marker": {
          "symbol": "circle"
         },
         "mode": "lines",
         "name": "DHZ",
         "showlegend": true,
         "type": "scattergl",
         "x": {
          "bdata": "5QfnBw==",
          "dtype": "i2"
         },
         "xaxis": "x",
         "y": {
          "bdata": "nDbQaeMfzUBfLPnFEsDKQA==",
          "dtype": "f8"
         },
         "yaxis": "y"
        },
        {
         "hovertemplate": "species=DJB<br>TIME_PERIOD=%{x}<br>OBS_VALUE=%{y}<extra></extra>",
         "legendgroup": "DJB",
         "line": {
          "color": "#FF97FF",
          "dash": "solid"
         },
         "marker": {
          "symbol": "circle"
         },
         "mode": "lines",
         "name": "DJB",
         "showlegend": true,
         "type": "scattergl",
         "x": {
          "bdata": "5AflB+YH5wc=",
          "dtype": "i2"
         },
         "xaxis": "x",
         "y": {
          "bdata": "MzMzMzP6t0CnDXTaQJjIQKuqqqrq3MpAAAAAAIAUwEA=",
          "dtype": "f8"
         },
         "yaxis": "y"
        },
        {
         "hovertemplate": "species=DOL<br>TIME_PERIOD=%{x}<br>OBS_VALUE=%{y}<extra></extra>",
         "legendgroup": "DOL",
         "line": {
          "color": "#FECB52",
          "dash": "solid"
         },
         "marker": {
          "symbol": "circle"
         },
         "mode": "lines",
         "name": "DOL",
         "showlegend": true,
         "type": "scattergl",
         "x": {
          "bdata": "1wfYB9kH2gfbB9wH3QfeB98H4AfhB+IH4wfkB+UH5gfnBw==",
          "dtype": "i2"
         },
         "xaxis": "x",
         "y": {
          "bdata": "DnTagI77RUE6baBTIRFFQdtAp839SUJBPgrXo0YEQEE+CtejRqJAQREREZFKyTlB1AY6bcirLUGIiIiIoG0mQQAAAIBqTzVBWfKLJTEiOUFmZmbmBgkmQVVVVVUeASRBZmZmZqGNJkEcuJ/8abgdQfBer1+jwRpBEFULn+U0KEH3Bl/4DeokQQ==",
          "dtype": "f8"
         },
         "yaxis": "y"
        },
        {
         "hovertemplate": "species=DON<br>TIME_PERIOD=%{x}<br>OBS_VALUE=%{y}<extra></extra>",
         "legendgroup": "DON",
         "line": {
          "color": "#636efa",
          "dash": "solid"
         },
         "marker": {
          "symbol": "circle"
         },
         "mode": "lines",
         "name": "DON",
         "showlegend": true,
         "type": "scattergl",
         "x": {
          "bdata": "1wfYB9kH2gfbB9wH3QfeB98H4AfhB+IH4wfkB+UH5gfnBw==",
          "dtype": "i2"
         },
         "xaxis": "x",
         "y": {
          "bdata": "6LSBTrWKJUGIiIiIhEwbQSIiIiKDVyBBVVVVVYWUDkF/seQXWZkbQZX8Ysm4bhZBKVyPwh2TLUFVVVVV/ysqQVVVVVV6LypBzczMzB6OMUHe3d3dqOc0QbWBTpsIgTJBGEt+sXRZKUHe3d3dPyopQRWuR+GmNyhB7+7u7lnMKEFtoNMGwkEaQQ==",
          "dtype": "f8"
         },
         "yaxis": "y"
        },
        {
         "hovertemplate": "species=DPS<br>TIME_PERIOD=%{x}<br>OBS_VALUE=%{y}<extra></extra>",
         "legendgroup": "DPS",
         "line": {
          "color": "#EF553B",
          "dash": "solid"
         },
         "marker": {
          "symbol": "circle"
         },
         "mode": "lines",
         "name": "DPS",
         "showlegend": true,
         "type": "scattergl",
         "x": {
          "bdata": "1QfWB9cH2AfZB9oH2wfcB90H3gffB+AH4QfiB+MH5AflB+YH5wc=",
          "dtype": "i2"
         },
         "xaxis": "x",
         "y": {
          "bdata": "HMMJOHXvgUEAAADYNsuDQdzKJXS3SG9B6BiQATl5aEGmDXTEPqxqQT+uDSd3B25Bm5/1iT4IbEFNiSSgST1lQdG+zEYpvGRBckh9CrqDYkERoo+KLQZmQajHBXVOymFBERERycAlckFgLPlVGQdyQdtAp+1omHNBzczMRECLbEEOdNpgPcxmQdgifCLZ21tBLfnFcqB2ZEE=",
          "dtype": "f8"
         },
         "yaxis": "y"
        },
        {
         "hovertemplate": "species=DYL<br>TIME_PERIOD=%{x}<br>OBS_VALUE=%{y}<extra></extra>",
         "legendgroup": "DYL",
         "line": {
          "color": "#00cc96",
          "dash": "solid"
         },
         "marker": {
          "symbol": "circle"
         },
         "mode": "lines",
         "name": "DYL",
         "showlegend": true,
         "type": "scattergl",
         "x": {
          "bdata": "4wc=",
          "dtype": "i2"
         },
         "xaxis": "x",
         "y": {
          "bdata": "KFyPwvVDlUA=",
          "dtype": "f8"
         },
         "yaxis": "y"
        },
        {
         "hovertemplate": "species=EDT<br>TIME_PERIOD=%{x}<br>OBS_VALUE=%{y}<extra></extra>",
         "legendgroup": "EDT",
         "line": {
          "color": "#ab63fa",
          "dash": "solid"
         },
         "marker": {
          "symbol": "circle"
         },
         "mode": "lines",
         "name": "EDT",
         "showlegend": true,
         "type": "scattergl",
         "x": {
          "bdata": "3wfgB+EH4gfjB+QH5QfmB+cH",
          "dtype": "i2"
         },
         "xaxis": "x",
         "y": {
          "bdata": "BzptYGseVUFxPQq3J35UQauqqmpCIlRB/WLJ72dVUEFZ8ovluuZKQbSBTpsgETxBsuQXiw/qQEERERERfzk6QUGnDfTqeUBB",
          "dtype": "f8"
         },
         "yaxis": "y"
        },
        {
         "hovertemplate": "species=EFJ<br>TIME_PERIOD=%{x}<br>OBS_VALUE=%{y}<extra></extra>",
         "legendgroup": "EFJ",
         "line": {
          "color": "#FFA15A",
          "dash": "solid"
         },
         "marker": {
          "symbol": "circle"
         },
         "mode": "lines",
         "name": "EFJ",
         "showlegend": true,
         "type": "scattergl",
         "x": {
          "bdata": "4gfjB+QH5QfmB+cH",
          "dtype": "i2"
         },
         "xaxis": "x",
         "y": {
          "bdata": "EREREbEqwkBfLPnF0mTKQCz5xZKfS8ZAPgrXo3BytUCrqqqqKs64QGkDnTYQl8hA",
          "dtype": "f8"
         },
         "yaxis": "y"
        },
        {
         "hovertemplate": "species=EGC<br>TIME_PERIOD=%{x}<br>OBS_VALUE=%{y}<extra></extra>",
         "legendgroup": "EGC",
         "line": {
          "color": "#19d3f3",
          "dash": "solid"
         },
         "marker": {
          "symbol": "circle"
         },
         "mode": "lines",
         "name": "EGC",
         "showlegend": true,
         "type": "scattergl",
         "x": {
          "bdata": "4gfjBw==",
          "dtype": "i2"
         },
         "xaxis": "x",
         "y": {
          "bdata": "6LSBTpsb0UAOdNpAZyPYQA==",
          "dtype": "f8"
         },
         "yaxis": "y"
        },
        {
         "hovertemplate": "species=EGD<br>TIME_PERIOD=%{x}<br>OBS_VALUE=%{y}<extra></extra>",
         "legendgroup": "EGD",
         "line": {
          "color": "#FF6692",
          "dash": "solid"
         },
         "marker": {
          "symbol": "circle"
         },
         "mode": "lines",
         "name": "EGD",
         "showlegend": true,
         "type": "scattergl",
         "x": {
          "bdata": "4gfjBw==",
          "dtype": "i2"
         },
         "xaxis": "x",
         "y": {
          "bdata": "v1jyi9U/0kBcj8L16O/JQA==",
          "dtype": "f8"
         },
         "yaxis": "y"
        },
        {
         "hovertemplate": "species=EHI<br>TIME_PERIOD=%{x}<br>OBS_VALUE=%{y}<extra></extra>",
         "legendgroup": "EHI",
         "line": {
          "color": "#B6E880",
          "dash": "solid"
         },
         "marker": {
          "symbol": "circle"
         },
         "mode": "lines",
         "name": "EHI",
         "showlegend": true,
         "type": "scattergl",
         "x": {
          "bdata": "3wfgB+EH4gfjB+QH5QfmB+cH",
          "dtype": "i2"
         },
         "xaxis": "x",
         "y": {
          "bdata": "KVyPwlWB6ECcNtBp08zkQDQzMzO/Dv5A/GLJL5YssEBrA5020BuqQKcNdNrAVcpAMzMzMxMu4UBVVVVVFQrVQGTJL5aMj9ZA",
          "dtype": "f8"
         },
         "yaxis": "y"
        },
        {
         "hovertemplate": "species=EJB<br>TIME_PERIOD=%{x}<br>OBS_VALUE=%{y}<extra></extra>",
         "legendgroup": "EJB",
         "line": {
          "color": "#FF97FF",
          "dash": "solid"
         },
         "marker": {
          "symbol": "circle"
         },
         "mode": "lines",
         "name": "EJB",
         "showlegend": true,
         "type": "scattergl",
         "x": {
          "bdata": "5Qc=",
          "dtype": "i2"
         },
         "xaxis": "x",
         "y": {
          "bdata": "3t3d3Z1T50A=",
          "dtype": "f8"
         },
         "yaxis": "y"
        },
        {
         "hovertemplate": "species=ELE<br>TIME_PERIOD=%{x}<br>OBS_VALUE=%{y}<extra></extra>",
         "legendgroup": "ELE",
         "line": {
          "color": "#FECB52",
          "dash": "solid"
         },
         "marker": {
          "symbol": "circle"
         },
         "mode": "lines",
         "name": "ELE",
         "showlegend": true,
         "type": "scattergl",
         "x": {
          "bdata": "1wfYB9kH2gfbB9wH3QfeB98H4AfhB+IH4wfkB+UH5gfnBw==",
          "dtype": "i2"
         },
         "xaxis": "x",
         "y": {
          "bdata": "0WkDnX5LBEHv7u7uDl/zQAAAAADAIfxAtYFOG2QZ+EBOG+i0YUnjQEVERETEtNVAYCz5xfIz6EB3d3d3D0MCQeUXS37ZrQJBq6qqqup0EUHRaQOdgrIVQb9Y8ouvwhlBu7u7u7sVp0CIiIiISMrmQEGnDXTatbRARURERETAnECTXyz5SpEVQQ==",
          "dtype": "f8"
         },
         "yaxis": "y"
        },
        {
         "hovertemplate": "species=EOI<br>TIME_PERIOD=%{x}<br>OBS_VALUE=%{y}<extra></extra>",
         "legendgroup": "EOI",
         "line": {
          "color": "#636efa",
          "dash": "solid"
         },
         "marker": {
          "symbol": "circle"
         },
         "mode": "lines",
         "name": "EOI",
         "showlegend": true,
         "type": "scattergl",
         "x": {
          "bdata": "3wfgB+EH4gfjB+QH5QfmB+cH",
          "dtype": "i2"
         },
         "xaxis": "x",
         "y": {
          "bdata": "3t3d3QRVUEGrqqqKuWNQQU4b6PRO+VJBWfKLZXcDWUHGkl9sS9dSQVnyi6Uc3T9BOm2gk16LPkF4d3f3y+s2QfrFkt/DNTxB",
          "dtype": "f8"
         },
         "yaxis": "y"
        },
        {
         "hovertemplate": "species=ETX<br>TIME_PERIOD=%{x}<br>OBS_VALUE=%{y}<extra></extra>",
         "legendgroup": "ETX",
         "line": {
          "color": "#EF553B",
          "dash": "solid"
         },
         "marker": {
          "symbol": "circle"
         },
         "mode": "lines",
         "name": "ETX",
         "showlegend": true,
         "type": "scattergl",
         "x": {
          "bdata": "4gflB+YH5wc=",
          "dtype": "i2"
         },
         "xaxis": "x",
         "y": {
          "bdata": "q6qqqqpWkUCNJb9Y8mNqQHh3d3d3DbRA84slv1gnqkA=",
          "dtype": "f8"
         },
         "yaxis": "y"
        },
        {
         "hovertemplate": "species=EZS<br>TIME_PERIOD=%{x}<br>OBS_VALUE=%{y}<extra></extra>",
         "legendgroup": "EZS",
         "line": {
          "color": "#00cc96",
          "dash": "solid"
         },
         "marker": {
          "symbol": "circle"
         },
         "mode": "lines",
         "name": "EZS",
         "showlegend": true,
         "type": "scattergl",
         "x": {
          "bdata": "3wfgB+EH4gfjB+QH5QfnBw==",
          "dtype": "i2"
         },
         "xaxis": "x",
         "y": {
          "bdata": "zczMzMBk/0Dv7u7uFpUBQee0gU7bwPpAawOdNlALzUBmZmZmZke2QLLkF0t+IaxAL5b8Ysn1uEB4d3d3d8OfQA==",
          "dtype": "f8"
         },
         "yaxis": "y"
        },
        {
         "hovertemplate": "species=F00<br>TIME_PERIOD=%{x}<br>OBS_VALUE=%{y}<extra></extra>",
         "legendgroup": "F00",
         "line": {
          "color": "#ab63fa",
          "dash": "solid"
         },
         "marker": {
          "symbol": "circle"
         },
         "mode": "lines",
         "name": "F00",
         "showlegend": true,
         "type": "scattergl",
         "x": {
          "bdata": "yAfJB8oHywfMB80HzgfPB9AH0QfSB9MH1AfVB9YH1wfYB9kH2gfbB9wH3QfeB98H4AfhB+IH4wfkB+UH5gfnBw==",
          "dtype": "i2"
         },
         "xaxis": "x",
         "y": {
          "bdata": "juM4i7SxsUHHcRwPKWisQauqqv7dIatBq6qqxAJip0GrqirUjo+iQQAAAA4dQqFBjuM4jkubpEE5juP2mBqjQQAAAABQBPtAJUmSJIkjAEGeOBXAc+L5QBgByACOLp5B5LvzW7npoEF5art7rdiwQb34Jf7cGbJBNTo5KvMgq0GOvfNUQv+lQdyqsdOb2qxBROC1Eghbq0HbxClXdlCqQcWsly46D6ZBM7c1laXno0FYEoUViy2gQdBEEM6D/ppBaa14tKECmkGfCQaJij2bQbCT8g2DIJtBbA9AZWwymUHOVGt3bV6SQWcMaL1Ie5VBVWNQTnVilUGnno5+l9KUQQ==",
          "dtype": "f8"
         },
         "yaxis": "y"
        },
        {
         "hovertemplate": "species=F01<br>TIME_PERIOD=%{x}<br>OBS_VALUE=%{y}<extra></extra>",
         "legendgroup": "F01",
         "line": {
          "color": "#FFA15A",
          "dash": "solid"
         },
         "marker": {
          "symbol": "circle"
         },
         "mode": "lines",
         "name": "F01",
         "showlegend": true,
         "type": "scattergl",
         "x": {
          "bdata": "yAfJB8oHywfMB80HzgfPB9AH0QfSB9MH1AfVB9YH1wfYB9kH2gfbB9wH3QfeB98H4AfhB+IH4wfkB+UH5gfnBw==",
          "dtype": "i2"
         },
         "xaxis": "x",
         "y": {
          "bdata": "juM4i7SxsUHHcRwPKWisQauqqv7dIatBq6qqxAJip0GrqirUjo+iQQAAAA4dQqFBjuM4jkubpEE5juP2mBqjQQAAAABQBPtAJUmSJIkjAEGeOBXAc+L5QBgByACOLp5B5LvzW7npoEF5art7rdiwQb34Jf7cGbJBNTo5KvMgq0GOvfNUQv+lQdyqsdOb2qxBROC1Eghbq0HbxClXdlCqQcWsly46D6ZBM7c1laXno0FYEoUViy2gQdBEEM6D/ppBaa14tKECmkGfCQaJij2bQbCT8g2DIJtBbA9AZWwymUHOVGt3bV6SQWcMaL1Ie5VBVWNQTnVilUGnno5+l9KUQQ==",
          "dtype": "f8"
         },
         "yaxis": "y"
        },
        {
         "hovertemplate": "species=F02<br>TIME_PERIOD=%{x}<br>OBS_VALUE=%{y}<extra></extra>",
         "legendgroup": "F02",
         "line": {
          "color": "#19d3f3",
          "dash": "solid"
         },
         "marker": {
          "symbol": "circle"
         },
         "mode": "lines",
         "name": "F02",
         "showlegend": true,
         "type": "scattergl",
         "x": {
          "bdata": "1wfYB9kH2gfbB9wH3QfeB98H4AfhB+IH4wfkB+UH5gfnBw==",
          "dtype": "i2"
         },
         "xaxis": "x",
         "y": {
          "bdata": "0WkDnX5LBEHv7u7uDl/zQAAAAADAIfxAtYFOG2QZ+EBOG+i0YUnjQEVERETEtNVAYCz5xfIz6EB3d3d3D0MCQeUXS37ZrQJBq6qqqup0EUHRaQOdgrIVQb9Y8ouvwhlBu7u7u7sVp0CIiIiISMrmQEGnDXTatbRARURERETAnECTXyz5SpEVQQ==",
          "dtype": "f8"
         },
         "yaxis": "y"
        },
        {
         "hovertemplate": "species=F04<br>TIME_PERIOD=%{x}<br>OBS_VALUE=%{y}<extra></extra>",
         "legendgroup": "F04",
         "line": {
          "color": "#FF6692",
          "dash": "solid"
         },
         "marker": {
          "symbol": "circle"
         },
         "mode": "lines",
         "name": "F04",
         "showlegend": true,
         "type": "scattergl",
         "x": {
          "bdata": "yAfJB8oHywfMB80HzgfPB9IH0wfUB9UH1gfXB9gH2QfaB9sH3AfdB94H3wfgB+EH4gfjB+QH5QfmB+cH",
          "dtype": "i2"
         },
         "xaxis": "x",
         "y": {
          "bdata": "AAAAaEHXmkHkOI6LfhmUQcdxHI/XbJNBx3EcZ2QTkkGrqqriokyPQQAAAC6Qc45Bx3Ec58nQkUGO4ziir5ORQeArHH1uuOxABCLw4ZSOkkFHurs4u0GUQdOCF1GpNp1BLDCkKcPQn0GsVmbzvyedQZDaBPJ6KJhB1DuvJ11QmkFNFYyAjHSZQdSSoXv0AJhBLiHf0d/1kkF4MA/MALeSQXDeUiPwkZFBdSdFSX6/k0E3zy/nA82QQTqREagFy5JBExYzi/aIk0E0WRhRFNWRQbc8WjOCbIpBCPT+v959jUEf8rgBI+OMQZdzKeFRzI9B",
          "dtype": "f8"
         },
         "yaxis": "y"
        },
        {
         "hovertemplate": "species=F07<br>TIME_PERIOD=%{x}<br>OBS_VALUE=%{y}<extra></extra>",
         "legendgroup": "F07",
         "line": {
          "color": "#B6E880",
          "dash": "solid"
         },
         "marker": {
          "symbol": "circle"
         },
         "mode": "lines",
         "name": "F07",
         "showlegend": true,
         "type": "scattergl",
         "x": {
          "bdata": "yAfJB8oHywfMB80HzgfPB9IH0wfUB9UH1gfXB9gH2QfaB9sH3AfdB94H3wfgB+EH4gfjB+QH5QfmB+cH",
          "dtype": "i2"
         },
         "xaxis": "x",
         "y": {
          "bdata": "AAAAGtf3pUE5juPAdVuiQcdxHAV+a6FBVVVV2aywnEE5juMYHqGcQXIcx72nuJlBOY7jhNxll0HkOI7Xj6GUQU7gBE7iJutA6fap06Xfj0EeFVBKBTWTQUO4vN4TFqNBzM7VvGZLpEFF1ryyNfadQRRmpSDj3JdBMC9AZfxkn0H/Ho8nIUGdQUkMonaz2qdB59a+bjT3pEGfzUp7TJShQeaJylJKkppBtrhbh9T5kUG+XE89RfqPQSzKYaB/jI9B5bY4byY1jkEOD5KY+IuMQdZJkP5FfIRB80KJnDcMiUF2PlpEG1iJQWdKzLKkxIpB",
          "dtype": "f8"
         },
         "yaxis": "y"
        },
        {
         "hovertemplate": "species=F08<br>TIME_PERIOD=%{x}<br>OBS_VALUE=%{y}<extra></extra>",
         "legendgroup": "F08",
         "line": {
          "color": "#FF97FF",
          "dash": "solid"
         },
         "marker": {
          "symbol": "circle"
         },
         "mode": "lines",
         "name": "F08",
         "showlegend": true,
         "type": "scattergl",
         "x": {
          "bdata": "yAfJB8oHywfMB80HzgfPB9IH0wfUB9UH1gfXB9gH2QfaB9sH3AfdB94H3wfgB+EH4gfjB+QH5QfmB+cH",
          "dtype": "i2"
         },
         "xaxis": "x",
         "y": {
          "bdata": "juM4i7SxsUHHcRwPKWisQauqqv7dIatBq6qqxAJip0GrqirUjo+iQQAAAA4dQqFBjuM4jkubpEE5juP2mBqjQZ44FcBz4vlAGAHIAI4unkHku/NbuemgQXlqu3ut2LBBvfgl/twZskE1Ojkq8yCrQY6981RC/6VB3Kqx05varEFE4LUSCFurQdvEKVd2UKpBxayXLjoPpkEztzWVpeejQVgShRWLLaBB0EQQzoP+mkFprXi0oQKaQbZb94c6O5tBc84kkbIdm0FucFs5bi6ZQeArI6gKXZJB/Rn0aHx1lUHHDMMxVmCVQU49gQupz5RB",
          "dtype": "f8"
         },
         "yaxis": "y"
        },
        {
         "hovertemplate": "species=F20<br>TIME_PERIOD=%{x}<br>OBS_VALUE=%{y}<extra></extra>",
         "legendgroup": "F20",
         "line": {
          "color": "#FECB52",
          "dash": "solid"
         },
         "marker": {
          "symbol": "circle"
         },
         "mode": "lines",
         "name": "F20",
         "showlegend": true,
         "type": "scattergl",
         "x": {
          "bdata": "1wfYB9kH2gfbB9wH3QfeB98H4AfhB+IH4wfkB+UH5gfnBw==",
          "dtype": "i2"
         },
         "xaxis": "x",
         "y": {
          "bdata": "0WkDnX5LBEHv7u7uDl/zQAAAAADAIfxAtYFOG2QZ+EBOG+i0YUnjQEVERETEtNVAYCz5xfIz6EB3d3d3D0MCQeUXS37ZrQJBq6qqqup0EUHRaQOdgrIVQb9Y8ouvwhlBu7u7u7sVp0CIiIiISMrmQEGnDXTatbRARURERETAnECTXyz5SpEVQQ==",
          "dtype": "f8"
         },
         "yaxis": "y"
        },
        {
         "hovertemplate": "species=F22<br>TIME_PERIOD=%{x}<br>OBS_VALUE=%{y}<extra></extra>",
         "legendgroup": "F22",
         "line": {
          "color": "#636efa",
          "dash": "solid"
         },
         "marker": {
          "symbol": "circle"
         },
         "mode": "lines",
         "name": "F22",
         "showlegend": true,
         "type": "scattergl",
         "x": {
          "bdata": "1wfYB9kH2gfbB9wH3QfeB98H4AfhB+IH4wfkB+UH5gfnBw==",
          "dtype": "i2"
         },
         "xaxis": "x",
         "y": {
          "bdata": "0WkDnX5LBEHv7u7uDl/zQAAAAADAIfxAtYFOG2QZ+EBOG+i0YUnjQEVERETEtNVAYCz5xfIz6EB3d3d3D0MCQeUXS37ZrQJBq6qqqup0EUHRaQOdgrIVQb9Y8ouvwhlBu7u7u7sVp0CIiIiISMrmQEGnDXTatbRARURERETAnECTXyz5SpEVQQ==",
          "dtype": "f8"
         },
         "yaxis": "y"
        },
        {
         "hovertemplate": "species=F30<br>TIME_PERIOD=%{x}<br>OBS_VALUE=%{y}<extra></extra>",
         "legendgroup": "F30",
         "line": {
          "color": "#EF553B",
          "dash": "solid"
         },
         "marker": {
          "symbol": "circle"
         },
         "mode": "lines",
         "name": "F30",
         "showlegend": true,
         "type": "scattergl",
         "x": {
          "bdata": "yAfJB8oHywfMB80HzgfPB9AH0QfSB9MH1AfVB9YH1wfYB9kH2gfbB9wH3QfeB98H4AfhB+IH4wfkB+UH5gfnBw==",
          "dtype": "i2"
         },
         "xaxis": "x",
         "y": {
          "bdata": "AAAAGtf3pUE5juPAdVuiQcdxHAV+a6FBVVVV2aywnEE5juMYHqGcQXIcx72nuJlBOY7jhNxll0HkOI7Xj6GUQbdt27ZNKPBAAAAAANBI8UBO4ARO4ibrQOn2qdOl349BHhVQSgU1k0FDuLzeExajQczO1bxmS6RBJJTRljzxnUE7cYjdl9qXQfB1/1XvYJ9BISyQ/649nUFe3KbwodmnQS61a06z9qRBA78TMu+SoUEwdI+5pIuaQZQB5jWY9ZFBksR0xVjsj0FGYHtlLXuPQc38uLO6II5BUtgyDOOLjEEf7WEDRHqEQaOxFFIcDIlBamPObhdYiUFw2Wfb+7CKQQ==",
          "dtype": "f8"
         },
         "yaxis": "y"
        },
        {
         "hovertemplate": "species=F31<br>TIME_PERIOD=%{x}<br>OBS_VALUE=%{y}<extra></extra>",
         "legendgroup": "F31",
         "line": {
          "color": "#00cc96",
          "dash": "solid"
         },
         "marker": {
          "symbol": "circle"
         },
         "mode": "lines",
         "name": "F31",
         "showlegend": true,
         "type": "scattergl",
         "x": {
          "bdata": "yAfJB8oHywfMB80HzgfPB9AH0QfSB9MH1AfVB9YH1wfYB9kH2gfbB9wH3QfeB98H4AfhB+IH4wfkB+UH5gfnBw==",
          "dtype": "i2"
         },
         "xaxis": "x",
         "y": {
          "bdata": "q6qqijznikEAAAAQPyuAQauqqkobu31Bx3EcZyx9YkEAAACA02VWQTmO47ghmVdBVVVV1YehUkHkOI7j+fhLQZqZmZmZNZNAZmZmZmaamUC6rRpxznSmQAmsHOYTMlRBGdLOmqAFU0Fdj8K5hkRZQY63gnd+1V5BBmz0Oe+qYkH8+F4eYsxZQRrV/Pdc3l9BNBE2bjvVYEEyeltOOOdpQUymCs6TcGhBCkP35w60YEGL/WW/RsBiQeFV6VcujWdBxL6K9d+QW0FeGUEwonZXQbmc1sYZyFZBiXss0REIVUELa1DRl/RPQUWJg7HpeVRBixIHw03FUkHBXk4QlB5gQQ==",
          "dtype": "f8"
         },
         "yaxis": "y"
        },
        {
         "hovertemplate": "species=F32<br>TIME_PERIOD=%{x}<br>OBS_VALUE=%{y}<extra></extra>",
         "legendgroup": "F32",
         "line": {
          "color": "#ab63fa",
          "dash": "solid"
         },
         "marker": {
          "symbol": "circle"
         },
         "mode": "lines",
         "name": "F32",
         "showlegend": true,
         "type": "scattergl",
         "x": {
          "bdata": "yAfJB8oHywfMB80HzgfPB9AH0QfSB9MH1AfVB9YH1wfYB9kH2gfbB9wH3QfeB98H4AfhB+IH4wfkB+UH5gfnBw==",
          "dtype": "i2"
         },
         "xaxis": "x",
         "y": {
          "bdata": "HMdxvOcNd0GO4ziOUPV3QXIcxwHBA3hBAAAAYN/AdkEcx3GcLB53QVVVVfU7N3dBq6qqCugidEFVVVUVqRtwQZqZmZmZ0LRAt23btm3brkBst3QgcJSzQIZpRjZG2VtBiWQXntXKYEGk5wMRuQp4QRJuH8JBQHtBeMkSJMlDdkFxAz5MNjJzQfLqHGq+u3JBgLfA5vtCgEH34TOisHp+QZi4aExqA3pBzarPhXr9d0Gk376yCLZ2QXh6pc60+HdBgCbCXp57d0EUGpuOlvx1QaK8fGbDpmdBV53CS9nLZUGitDfyEAtiQZc0RiXldWJBia2zznZxYkHyiyXPbvhuQQ==",
          "dtype": "f8"
         },
         "yaxis": "y"
        },
        {
         "hovertemplate": "species=F33<br>TIME_PERIOD=%{x}<br>OBS_VALUE=%{y}<extra></extra>",
         "legendgroup": "F33",
         "line": {
          "color": "#FFA15A",
          "dash": "solid"
         },
         "marker": {
          "symbol": "circle"
         },
         "mode": "lines",
         "name": "F33",
         "showlegend": true,
         "type": "scattergl",
         "x": {
          "bdata": "yAfJB8oHywfMB80HzgfPB9AH0QfSB9MH1AfVB9YH1wfYB9kH2gfbB9wH3QfeB98H4AfhB+IH4wfkB+UH5gfnBw==",
          "dtype": "i2"
         },
         "xaxis": "x",
         "y": {
          "bdata": "AAAAwC9GWUEAAAAAqaFYQQAAAAB811BBVVVV1UTDU0GrqqoqMQ5ZQVVVVdWgnVBBAAAAwPmgUUEAAACA4ghQQQAAAAAA1b1AAAAAAAC0wECHFtnOd5a0QNmHz7iWPUxB/9emyrpxUEG0xUiVL4aEQbpriQru8oJB6ylfqbEci0Fgm/pxM9OEQVuMFCeOHYRB+qMVm1Pwg0Hv7u7L7JaDQd90uAAQU4FBurVffyvpgUGpE1B4N86BQR2kuqbDgIJBPfIHKpavdkF/RZFwcCJ3QXmXiwfJGXdBZvfkCMahcUEzzPbIb95oQa7I1bM7u29BK8b5NSKubkE63CGy6JR2QQ==",
          "dtype": "f8"
         },
         "yaxis": "y"
        },
        {
         "hovertemplate": "species=F34<br>TIME_PERIOD=%{x}<br>OBS_VALUE=%{y}<extra></extra>",
         "legendgroup": "F34",
         "line": {
          "color": "#19d3f3",
          "dash": "solid"
         },
         "marker": {
          "symbol": "circle"
         },
         "mode": "lines",
         "name": "F34",
         "showlegend": true,
         "type": "scattergl",
         "x": {
          "bdata": "zAfNB88H0AfRB9IH0wfUB9UH1gfXB9gH2QfaB9sH3AfdB94H3wfgB+EH4gfjB+QH5QfmB+cH",
          "dtype": "i2"
         },
         "xaxis": "x",
         "y": {
          "bdata": "AAAAAAC4jEAAAAAAAACzQAAAAAAAiKVAAAAAAAAAPkAAAAAAAOBgQPQiACUrzEdAR95MX8LTy0BpthgpRfPOQOdNRSIMHVRB9IH3hC9hVkGhrtudI+lwQYuzDy1OEmxBMoKgpOLUYkEfPsPMFk9wQaTfvi3ENHFBE6sZYEXwbkGSplQiuPBnQaT+jWLl/WlBiGNd5tyma0E/KuuEZkxgQfyRImRSeWFB2IFz3s0FYUFpvl0lchNfQQGPlY35dFNBEMzRL/8NWUFFBWG9rWNWQWkAb/eeYWBB",
          "dtype": "f8"
         },
         "yaxis": "y"
        },
        {
         "hovertemplate": "species=F35<br>TIME_PERIOD=%{x}<br>OBS_VALUE=%{y}<extra></extra>",
         "legendgroup": "F35",
         "line": {
          "color": "#FF6692",
          "dash": "solid"
         },
         "marker": {
          "symbol": "circle"
         },
         "mode": "lines",
         "name": "F35",
         "showlegend": true,
         "type": "scattergl",
         "x": {
          "bdata": "yAfJB8oHywfMB80HzgfPB9AH0QfSB9MH1AfVB9YH1wfYB9kH2gfbB9wH3QfeB98H4AfhB+IH4wfkB+UH5gfnBw==",
          "dtype": "i2"
         },
         "xaxis": "x",
         "y": {
          "bdata": "VVVVVSX1ckFVVVXlPAF0QQAAAHAej3JBAAAAUFJLekFVVVU9WKGAQauqqopxeHxBVVVVZY8ke0Grqqqa0Qt3QQAAAACQ8vFAAAAAALAb8kBMEl6VQpfgQM+wKxy+EHpBkqZUG4NNfUFYOTRqhaOAQbWBzoD+XohBQV23J2bhgkHi7MNZs+V8QQcVwjhIIYBBT0NB/6+AfEGooSDGVSx9QZISqAueeH1BWTzilAwGd0F1lkY9Zqx2QZfaZUFYbHtB4AU3ybo7fEG7k2KmNwZ9QUhTKgEK5X1Bf49nEDlUgEGSy39DPwBxQauFf8E7HH1B2MibMCFBf0EpOpIHJJZ3QQ==",
          "dtype": "f8"
         },
         "yaxis": "y"
        },
        {
         "hovertemplate": "species=F36<br>TIME_PERIOD=%{x}<br>OBS_VALUE=%{y}<extra></extra>",
         "legendgroup": "F36",
         "line": {
          "color": "#B6E880",
          "dash": "solid"
         },
         "marker": {
          "symbol": "circle"
         },
         "mode": "lines",
         "name": "F36",
         "showlegend": true,
         "type": "scattergl",
         "x": {
          "bdata": "yAfJB8oHywfMB80HzgfPB9AH0QfSB9MH1AfVB9YH1wfYB9kH2gfbB9wH3QfeB98H4AfhB+IH4wfkB+UH5gfnBw==",
          "dtype": "i2"
         },
         "xaxis": "x",
         "y": {
          "bdata": "AAAAAJfNV0FVVVU1TStpQVVVVTXOlmNBq6qqCrIyYEGrqqqKuMFlQeQ4jsNwrGJBVVVVFcOra0FVVVWVe7BoQTMzMzMzQbRAAAAAAACotkB8xUDEg/2+QG9PfZc1dGRBbwUnJYimYkGPLkkkv8R3Qf2k2rq4MHlBGr8h39xYdkHILGhW4JpuQSEvfotJtXRBPnlYt5MZfEHOPnyKe/R8QWxTTwCknHhBJCh+aC3Bc0HwzPFobZtuQbHS9V5y/2ZB5XPD4OeWakG6ulvsdlVrQZthODF7bGdB9FlNA0OmaUGOpJS7ajhmQZxdyc0BOGhBCsmWR9mBZ0FUcz173ptrQQ==",
          "dtype": "f8"
         },
         "yaxis": "y"
        },
        {
         "hovertemplate": "species=F37<br>TIME_PERIOD=%{x}<br>OBS_VALUE=%{y}<extra></extra>",
         "legendgroup": "F37",
         "line": {
          "color": "#FF97FF",
          "dash": "solid"
         },
         "marker": {
          "symbol": "circle"
         },
         "mode": "lines",
         "name": "F37",
         "showlegend": true,
         "type": "scattergl",
         "x": {
          "bdata": "yAfJB8oHywfMB80HzgfPB9AH0QfSB9MH1AfVB9YH1wfYB9kH2gfbB9wH3QfeB98H4AfhB+IH4wfkB+UH5gfnBw==",
          "dtype": "i2"
         },
         "xaxis": "x",
         "y": {
          "bdata": "VVVV1ae1UkFVVVXVIRlTQVVVVVVA6UtBVVVV1Y+wUUEAAAAA35FUQVVVVZWcG1JBVVVVVQhJVEEAAADAu0dQQQAAAAAAv8BAAAAAAID5wkD9QMw44Hu0QGIyVfznQVBBrPQAG2cnTEE2qz6L6LBjQRdte2AormNBawOdtuh2aUFx87Mobn9kQbohs1a8iWVBKakTAAjkZEHYy8meYWljQWtQIfSHAV9BhC9MLpWoW0EEwmF4dM5dQciYu1I5UWRBZMxd60mLZUH0bFZVu71jQeTN9E1D8mFBZc+LlJkGYEEpqwKRAiBHQTWXykZ/V0dBvdX8vqgoUkGt40mvibhGQQ==",
          "dtype": "f8"
         },
         "yaxis": "y"
        },
        {
         "hovertemplate": "species=F38<br>TIME_PERIOD=%{x}<br>OBS_VALUE=%{y}<extra></extra>",
         "legendgroup": "F38",
         "line": {
          "color": "#FECB52",
          "dash": "solid"
         },
         "marker": {
          "symbol": "circle"
         },
         "mode": "lines",
         "name": "F38",
         "showlegend": true,
         "type": "scattergl",
         "x": {
          "bdata": "yAfJB8oHywfMB80HzgfPB9AH0QfSB9MH1AfVB9YH1wfYB9kH2gfbB9wH3QfeB98H4AfhB+IH4wfkB+UH5gfnBw==",
          "dtype": "i2"
         },
         "xaxis": "x",
         "y": {
          "bdata": "q6qqqp6SSUGrqqqqVXFDQauqqirriEBB5DiO4+jaMkGrqqqqTF4vQQAAAAD0Z0ZBAAAAAE28OUGrqqqqHBImQQAAAAAAEHpAAAAAAACgcUCdIS9+LUxyQEK6xenEVRlBhhvw+STKHEHXNO/Ar2JJQZhMFVRQHURBf7Hkx3ESQ0EsikSexGU/QXJlY8hQOkBB03KNFBs9QEE5j52KEIxFQRi30cDIWzlBYXl9Y7uyOkFVMCp5teE9QeeMKG2rGjtBlXUSZEjdMUFyCZp5X94yQcs18radhTdB1OQ8RvbMREGduvL5VaMwQaW6k+Lp6DpBYqQE+qNtN0GF61FIz+c0QQ==",
          "dtype": "f8"
         },
         "yaxis": "y"
        },
        {
         "hovertemplate": "species=F39<br>TIME_PERIOD=%{x}<br>OBS_VALUE=%{y}<extra></extra>",
         "legendgroup": "F39",
         "line": {
          "color": "#636efa",
          "dash": "solid"
         },
         "marker": {
          "symbol": "circle"
         },
         "mode": "lines",
         "name": "F39",
         "showlegend": true,
         "type": "scattergl",
         "x": {
          "bdata": "yAfJB8oHywfMB80HzgfPB9AH0QfSB9MH1AfVB9YH1wfYB9kH2gfbB9wH3QfeB98H4AfhB+IH4wfkB+UH5gfnBw==",
          "dtype": "i2"
         },
         "xaxis": "x",
         "y": {
          "bdata": "AAAArGEEoUGrqqpGUYSaQVVVVXEPS5pBchzHUYU1ikGO4zjGkw+IQQAAACgvxYZBchzH+RZnhEGrqqoaUW2DQSVJkiQJs9JAMzMzM3N63ECDk1oVch7gQGGfotbsLYJBF4ph4Tm2hkFD97+clJGEQZMAtcrTnIJBRh0w3nzSZUHR27JKwthoQWPRdDgEh3FBA2A8X4PWa0GkcD3mj3l0QQAAAMjz6G9BXyz5VUE5YkG/WPJ7tf9gQS+W/JIqoVNBZ2ZmNiYDUEHKPyBN+1Y1QUorXJqq7TNBZqAynn1UN0E+cEdSi+U7QX6x5BdwqEBBDaj5A+fFL0ERERERxKM1QQ==",
          "dtype": "f8"
         },
         "yaxis": "y"
        },
        {
         "hovertemplate": "species=F40<br>TIME_PERIOD=%{x}<br>OBS_VALUE=%{y}<extra></extra>",
         "legendgroup": "F40",
         "line": {
          "color": "#EF553B",
          "dash": "solid"
         },
         "marker": {
          "symbol": "circle"
         },
         "mode": "lines",
         "name": "F40",
         "showlegend": true,
         "type": "scattergl",
         "x": {
          "bdata": "yAfJB8oHywfMB80HzgfPB9AH0QfSB9MH1AfVB9YH1wfYB9kH2gfbB9wH3QfeB98H4AfhB+IH4wfkB+UH5gfnBw==",
          "dtype": "i2"
         },
         "xaxis": "x",
         "y": {
          "bdata": "5DiO6ztDh0HHcRzHueh6QVVVVVVPsXxBHMdx3P2reUGrqqoqqJR1QQAAAHiWFHhBq6qqmrKJdUGrqqqKkLF4QQAAAABA7MRAzczMzExTxkBtKQ0ih07QQIwjS2VD2XZBJfkkWhjnd0G7/cwB6+eNQUGvUtjzHZFBynnsfButjkGhof/zItiHQWmhd6eQ2opB/U0omNU9i0EeAckWU+GIQfZyMokRxYNBJWX4Dl34g0HzH1JCdNWBQaDLQU906oRBGEy4GZCGgUF0byd7zlqFQcXZh9CD5YNB4qC53960gkEVHz32fsx8QRsyC+5T+XtBr5ZZ7CAFfUGhEuoBjap/QQ==",
          "dtype": "f8"
         },
         "yaxis": "y"
        },
        {
         "hovertemplate": "species=F42<br>TIME_PERIOD=%{x}<br>OBS_VALUE=%{y}<extra></extra>",
         "legendgroup": "F42",
         "line": {
          "color": "#00cc96",
          "dash": "solid"
         },
         "marker": {
          "symbol": "circle"
         },
         "mode": "lines",
         "name": "F42",
         "showlegend": true,
         "type": "scattergl",
         "x": {
          "bdata": "0AfTB9UH1gfXB9gH2QfaB9sH3AfdB94H3wfgB+EH4gfjB+QH5QfmB+cH",
          "dtype": "i2"
         },
         "xaxis": "x",
         "y": {
          "bdata": "AAAAAAAAIkAAAAAAAMGyQF+9d0E91QZBBjptoMkpC0EiIiIiXd8VQc3MzMxA5hNBzczMzMCNDkFnZmZmXe8RQTptoNNYVhNBiIiIiNB+CEFz2kCnE+EFQfxiyS+qOARBqMZLd0zcF0EiIiIirgANQfV3yRKhEwNB2o8UkcJ2F0FImlLxXa8fQX6MuSte+hJBAEcoI6ngHUGU9ga/UkAkQZLLf4jrBydB",
          "dtype": "f8"
         },
         "yaxis": "y"
        },
        {
         "hovertemplate": "species=F43<br>TIME_PERIOD=%{x}<br>OBS_VALUE=%{y}<extra></extra>",
         "legendgroup": "F43",
         "line": {
          "color": "#ab63fa",
          "dash": "solid"
         },
         "marker": {
          "symbol": "circle"
         },
         "mode": "lines",
         "name": "F43",
         "showlegend": true,
         "type": "scattergl",
         "x": {
          "bdata": "yAfJB8oHywfMB80HzgfPB9AH0QfSB9MH1AfVB9YH1wfYB9kH2gfbB9wH3QfeB98H4AfhB+IH4wfkB+UH5gfnBw==",
          "dtype": "i2"
         },
         "xaxis": "x",
         "y": {
          "bdata": "VVVVlXp0cUEAAADA50xnQauqqkrCx2hBq6qqKq3BZEFVVVVV4RNrQQAAAKAZHmxBq6qqKrobYUFVVVX17epmQQAAAAAAmKJAAAAAAADCoUAtsp3vp423QCD0bCxJpWVB6NZ+e3QsZEEEDLit5T12QX+x5HySDnlBqCVDMh/ecUHrmOA3nR1tQSDSbwuXIXBBMLYQ7qaRbUGhoX+M9mxoQUKVmk8mfWJBcqJdnTGgYEGKZouNyb1bQVgnQdYQP11B2tLfgMwpWEHk7jdB+WtfQdVTvkBeR1xBS6Pc0GClXEHaiv2FBLtKQY/Y5C4UiE9BOTjr1g2sTUF3+5knbj9QQQ==",
          "dtype": "f8"
         },
         "yaxis": "y"
        },
        {
         "hovertemplate": "species=F45<br>TIME_PERIOD=%{x}<br>OBS_VALUE=%{y}<extra></extra>",
         "legendgroup": "F45",
         "line": {
          "color": "#FFA15A",
          "dash": "solid"
         },
         "marker": {
          "symbol": "circle"
         },
         "mode": "lines",
         "name": "F45",
         "showlegend": true,
         "type": "scattergl",
         "x": {
          "bdata": "zAfNB84HzwfQB9EH0gfTB9QH1QfWB9cH2AfZB9oH2wfcB90H3gffB+AH4QfiB+MH5AflB+YH5wc=",
          "dtype": "i2"
         },
         "xaxis": "x",
         "y": {
          "bdata": "OY7jONYJC0HkOI7j5A4YQauqqqoQjCpBq6qqqq5aMEEAAAAAAGB2QAAAAAAAqIRArtuNKxsIiEC95kISnHg6QRSG7u/nSDhBw2xv4GUhgkEt5CT43/aEQXfOKdBaDoFBshnN5b+heEF6qkO2ich8QXKndCzgqH9BnEtxxxt/fEGJNu1yGtp3Qb+SvuS0enlB77QiZtijdkHGUE7b4Cp8QXxibFMFoXdBGLYXaAA4fUGRM+tQuv56QSVO491VBntBgr7WtIM0dkEy5i6M/cxzQcugi4z9cnVB703mq6ufdkE=",
          "dtype": "f8"
         },
         "yaxis": "y"
        },
        {
         "hovertemplate": "species=F47<br>TIME_PERIOD=%{x}<br>OBS_VALUE=%{y}<extra></extra>",
         "legendgroup": "F47",
         "line": {
          "color": "#19d3f3",
          "dash": "solid"
         },
         "marker": {
          "symbol": "circle"
         },
         "mode": "lines",
         "name": "F47",
         "showlegend": true,
         "type": "scattergl",
         "x": {
          "bdata": "yAfJB8oHywfMB80HzgfPB9AH0QfSB9MH1AfVB9YH1wfYB9kH2gfbB9wH3QfeB98H4AfhB+IH4wfkB+UH5gfnBw==",
          "dtype": "i2"
         },
         "xaxis": "x",
         "y": {
          "bdata": "q6qqyssqikFVVVUV7rZ8QVVVVRVgpn5BVVVVRSnBckHkOI4DIopzQcdxHBedXHZBOY7jeBOSbkHkOI7zcWBwQWZmZmZm48VAmpmZmRnjwkBCnd8dhqbIQOCEQhH37nNBu4YGELvxcEFk3OfrXjVkQX1Heu5yxGZBIOcQDSBaYkHu6JKq2LtrQYnaI6MrUWFBxObjbquEX0FQBF7RDcJhQaVza+UjH2VBJbwqyagtZEHSlIpD1ARkQZ7seRVRdWRB7zhFGbIbZUEhHMY30H5aQXuoWqIpuWVBPL1SqrO4YEF67FRi3mBaQe41Fyzj5mBB30+NK2CwYEHLDZmdC2ReQQ==",
          "dtype": "f8"
         },
         "yaxis": "y"
        },
        {
         "hovertemplate": "species=F50<br>TIME_PERIOD=%{x}<br>OBS_VALUE=%{y}<extra></extra>",
         "legendgroup": "F50",
         "line": {
          "color": "#FF6692",
          "dash": "solid"
         },
         "marker": {
          "symbol": "circle"
         },
         "mode": "lines",
         "name": "F50",
         "showlegend": true,
         "type": "scattergl",
         "x": {
          "bdata": "yAfJB8oHywfMB80HzgfPB9AH0QfSB9MH1AfVB9YH1wfYB9kH2gfbB9wH3QfeB98H4AfhB+IH4wfkB+UH5gfnBw==",
          "dtype": "i2"
         },
         "xaxis": "x",
         "y": {
          "bdata": "q6qqBo/QlkGrqqpKEA+UQVVVVdndYJJBchzHmfdQh0Ecx3GsmViLQY7jOO6VjIhBOY7joPbciEGO4zi+186GQQAAAAAQHe1AAAAAAEBV7kCmwmPwKe3lQIKbH49J4I9Bia1zUBOOjkGVYPG+wIWMQUD+P+r+ZY1BPMqufsSii0ENHxHeK3mIQbUyYYWBxolBUnYNyZOrh0G/gjT75iCHQSh+DIbRQI5By+jtXr8ZjUFz+Q9qX9iMQY5T9Lzi945BIchBz/xKg0Etx77tv3qDQfakuQ5rAodBqSPa8eFZhEEU6BOpddx8QcqJ9p5rm4JBvHFlNTpBgUHuOEVvFpyKQQ==",
          "dtype": "f8"
         },
         "yaxis": "y"
        },
        {
         "hovertemplate": "species=F52<br>TIME_PERIOD=%{x}<br>OBS_VALUE=%{y}<extra></extra>",
         "legendgroup": "F52",
         "line": {
          "color": "#B6E880",
          "dash": "solid"
         },
         "marker": {
          "symbol": "circle"
         },
         "mode": "lines",
         "name": "F52",
         "showlegend": true,
         "type": "scattergl",
         "x": {
          "bdata": "1wfYB9kH2gfbB9wH3QfeB98H4AfhB+IH4wfkB+UH5gfnBw==",
          "dtype": "i2"
         },
         "xaxis": "x",
         "y": {
          "bdata": "eHd3d1joV0GrqqoqYQ9VQaDTBppfHFZB6LSB7sXUUkEvlvxSO6VVQSIiImKQbktBvLu7mwOKTUGrqqrqs4pNQfRHK1G9PEhBrWneUUiASEH13gVv4RVIQeALk8H8oEZBZDixAuPJQ0EExY/5LbRBQeQUHaHC/kZBa3VMOIqBRkG+nOxJ9Y1DQQ==",
          "dtype": "f8"
         },
         "yaxis": "y"
        },
        {
         "hovertemplate": "species=F53<br>TIME_PERIOD=%{x}<br>OBS_VALUE=%{y}<extra></extra>",
         "legendgroup": "F53",
         "line": {
          "color": "#FF97FF",
          "dash": "solid"
         },
         "marker": {
          "symbol": "circle"
         },
         "mode": "lines",
         "name": "F53",
         "showlegend": true,
         "type": "scattergl",
         "x": {
          "bdata": "5AflB+YH5wc=",
          "dtype": "i2"
         },
         "xaxis": "x",
         "y": {
          "bdata": "jCW/WLLN20A30GkD7ZroQGZmZmbmhfVA20CnDWT28EA=",
          "dtype": "f8"
         },
         "yaxis": "y"
        },
        {
         "hovertemplate": "species=F54<br>TIME_PERIOD=%{x}<br>OBS_VALUE=%{y}<extra></extra>",
         "legendgroup": "F54",
         "line": {
          "color": "#FECB52",
          "dash": "solid"
         },
         "marker": {
          "symbol": "circle"
         },
         "mode": "lines",
         "name": "F54",
         "showlegend": true,
         "type": "scattergl",
         "x": {
          "bdata": "4gfjB+QH5QfmB+cH",
          "dtype": "i2"
         },
         "xaxis": "x",
         "y": {
          "bdata": "rkfheriPFEEHOm2gPDwgQWlN88732BZBv8dz0EbUGkGrqqqq6tzKQAAAAACAFMBA",
          "dtype": "f8"
         },
         "yaxis": "y"
        },
        {
         "hovertemplate": "species=F55<br>TIME_PERIOD=%{x}<br>OBS_VALUE=%{y}<extra></extra>",
         "legendgroup": "F55",
         "line": {
          "color": "#636efa",
          "dash": "solid"
         },
         "marker": {
          "symbol": "circle"
         },
         "mode": "lines",
         "name": "F55",
         "showlegend": true,
         "type": "scattergl",
         "x": {
          "bdata": "1QfWB9cH2AfZB9oH2wfcB90H3gffB+AH4QfiB+MH5AflB+YH5wc=",
          "dtype": "i2"
         },
         "xaxis": "x",
         "y": {
          "bdata": "nDOidFpjFUFPG+i0DCoYQR5dktAgeitBqsynYU4MIEGlc2s/OdcoQXzQszldYyVBxIwDAieyJEGVsgyxRHgqQSvzaegqGR5BN2QWdPwYG0FpSsUZJ+8TQczuyWNo4ilBT2U+zW0mGUG39isqnMMqQWtN8y46YyhBZa2OidzwH0EvcdG2fKknQQEDLsWJDDJBJCVQp7vpPUE=",
          "dtype": "f8"
         },
         "yaxis": "y"
        },
        {
         "hovertemplate": "species=F56<br>TIME_PERIOD=%{x}<br>OBS_VALUE=%{y}<extra></extra>",
         "legendgroup": "F56",
         "line": {
          "color": "#EF553B",
          "dash": "solid"
         },
         "marker": {
          "symbol": "circle"
         },
         "mode": "lines",
         "name": "F56",
         "showlegend": true,
         "type": "scattergl",
         "x": {
          "bdata": "1QfWB9cH2AfZB9oH2wfcB90H3gffB+AH4QfiB+MH5AflB+YH5wc=",
          "dtype": "i2"
         },
         "xaxis": "x",
         "y": {
          "bdata": "x9/j5+V2bUHw7u6OLm1vQcHvzDeh5nRBwfL6t6dMdUEvbqO3QLF0QeEOwee3Q3RB6P7Xit1SdEGlmJY0a/VwQSDSb9Nq02xB91C1FI6BakEGNz+VwktrQbMxnCDpEnBBLv8hrzB/Z0EmdQLaSjJuQQVZPN9zd3BBuUbedE4kcEFLe4PJBwd2QQFNhNSv53NBNFuMSG/OcEE=",
          "dtype": "f8"
         },
         "yaxis": "y"
        },
        {
         "hovertemplate": "species=F57<br>TIME_PERIOD=%{x}<br>OBS_VALUE=%{y}<extra></extra>",
         "legendgroup": "F57",
         "line": {
          "color": "#00cc96",
          "dash": "solid"
         },
         "marker": {
          "symbol": "circle"
         },
         "mode": "lines",
         "name": "F57",
         "showlegend": true,
         "type": "scattergl",
         "x": {
          "bdata": "yAfJB8oHywfMB80HzgfPB9AH0QfSB9MH1AfVB9YH1wfYB9kH2gfbB9wH3QfeB98H4AfhB+IH4wfkB+UH5gfnBw==",
          "dtype": "i2"
         },
         "xaxis": "x",
         "y": {
          "bdata": "AAAAuHNChkGrqqrqOz2DQQAAAPAx24RBchzHQdTGc0HHcRzn55V0QVVVVfW0CXVBOY7jqBHYc0HkOI6DGgxxQQAAAACAX8BAAAAAAEDuwkCrqqqqRgbCQEvGk+2pFmtBpJP0xScNakEXcKnPUD+DQfaPmKGIiIRBfcucfRMLg0EOtms33Q6AQVmTFNGgZ4FB7iJfp4V8f0HOGVF4i+B9QazSg2RSDYNBGHApYk2Xg0HmHSdB67uDQeaupTLqKoZB//zRAJU6ekGse1HOvvh8QdGJl1aY9oBBPOrCTNzJe0F2dEmdaiZxQdN60kvyeHVBVbRM6V8VdEFnsLwUO/h/QQ==",
          "dtype": "f8"
         },
         "yaxis": "y"
        },
        {
         "hovertemplate": "species=F58<br>TIME_PERIOD=%{x}<br>OBS_VALUE=%{y}<extra></extra>",
         "legendgroup": "F58",
         "line": {
          "color": "#ab63fa",
          "dash": "solid"
         },
         "marker": {
          "symbol": "circle"
         },
         "mode": "lines",
         "name": "F58",
         "showlegend": true,
         "type": "scattergl",
         "x": {
          "bdata": "yAfJB8oHywfMB80HzgfPB9AH0QfSB9MH1AfVB9YH1wfYB9kH2gfbB9wH3QfeB98H4AfhB+IH4wfkB+UH5gfnBw==",
          "dtype": "i2"
         },
         "xaxis": "x",
         "y": {
          "bdata": "AAAAiMxeh0EAAABAAuGEQQAAAEBLzX9B5DiOs1DbekEAAACgyA2BQRzHcQy4D3xBVVVVZSDifUHkOI7j3pF8QZqZmZk5Bu5AAAAAALCZ6UB3uYjvlufkQNLe4C+8GplBGUu+LegKmEESg8AuP7dvQUCnDRTK7mpBREREROYjLUGPwvUoDrQvQauqqipLKy1B5hdL/p84KUFSuB4FGZItQUGnDbRMFDNBL5b8Yo2vHEHlF0t+m3grQckvlvyexSNBBJ020Er/JEHL8LKZO9EsQeF6FK4CPDFBWfKLJYYiNUFEREREOIYSQQAAAABItAFB3t3d3R1x/EDe3d3dOWfxQA==",
          "dtype": "f8"
         },
         "yaxis": "y"
        },
        {
         "hovertemplate": "species=F70<br>TIME_PERIOD=%{x}<br>OBS_VALUE=%{y}<extra></extra>",
         "legendgroup": "F70",
         "line": {
          "color": "#FFA15A",
          "dash": "solid"
         },
         "marker": {
          "symbol": "circle"
         },
         "mode": "lines",
         "name": "F70",
         "showlegend": true,
         "type": "scattergl",
         "x": {
          "bdata": "4QfiB+MH5AflB+YH5wc=",
          "dtype": "i2"
         },
         "xaxis": "x",
         "y": {
          "bdata": "EREREXGU+kCW/GLJ0yYAQe+nxks91QZBaZQbMuYU8EDXEvLBJ80QQaTckFkxLPlAB6nuJO8FAEE=",
          "dtype": "f8"
         },
         "yaxis": "y"
        },
        {
         "hovertemplate": "species=F76<br>TIME_PERIOD=%{x}<br>OBS_VALUE=%{y}<extra></extra>",
         "legendgroup": "F76",
         "line": {
          "color": "#19d3f3",
          "dash": "solid"
         },
         "marker": {
          "symbol": "circle"
         },
         "mode": "lines",
         "name": "F76",
         "showlegend": true,
         "type": "scattergl",
         "x": {
          "bdata": "4QfiB+MH5AflB+YH5wc=",
          "dtype": "i2"
         },
         "xaxis": "x",
         "y": {
          "bdata": "EREREXGU+kCW/GLJ0yYAQdpApw36ewZBERERETGi30Bbj8L1zM8FQRERERERfKVAEREREdEN6EA=",
          "dtype": "f8"
         },
         "yaxis": "y"
        },
        {
         "hovertemplate": "species=F77<br>TIME_PERIOD=%{x}<br>OBS_VALUE=%{y}<extra></extra>",
         "legendgroup": "F77",
         "line": {
          "color": "#FF6692",
          "dash": "solid"
         },
         "marker": {
          "symbol": "circle"
         },
         "mode": "lines",
         "name": "F77",
         "showlegend": true,
         "type": "scattergl",
         "x": {
          "bdata": "4wfkB+UH5gfnBw==",
          "dtype": "i2"
         },
         "xaxis": "x",
         "y": {
          "bdata": "Jr9Y8ssPsEC4HoXrSSnhQL9Y8oulBPlAERERETEd+UDe3d3dOcn0QA==",
          "dtype": "f8"
         },
         "yaxis": "y"
        },
        {
         "hovertemplate": "species=FIM<br>TIME_PERIOD=%{x}<br>OBS_VALUE=%{y}<extra></extra>",
         "legendgroup": "FIM",
         "line": {
          "color": "#B6E880",
          "dash": "solid"
         },
         "marker": {
          "symbol": "circle"
         },
         "mode": "lines",
         "name": "FIM",
         "showlegend": true,
         "type": "scattergl",
         "x": {
          "bdata": "1wfYB9kH2gfbB9wH3QfeB98H4AfhB+IH4wfkB+UH5gfnBw==",
          "dtype": "i2"
         },
         "xaxis": "x",
         "y": {
          "bdata": "vLu7uwpFQEFuoNOGYhU9QZf8YgmFiTdBEREREWpEMkFfLPlF1YohQbWBThtMeBFBIiIiotEbSkHE9Sjc9NcoQTfQaQMHJCRBnDbQaZWhJUFH4XqU874oQS35xRK0CC9B0WkDHVsqJEEs+cUS+P0gQQ102sBT3CpBeHd3dznNJUGkcD2KuDcrQQ==",
          "dtype": "f8"
         },
         "yaxis": "y"
        },
        {
         "hovertemplate": "species=FIN<br>TIME_PERIOD=%{x}<br>OBS_VALUE=%{y}<extra></extra>",
         "legendgroup": "FIN",
         "line": {
          "color": "#FF97FF",
          "dash": "solid"
         },
         "marker": {
          "symbol": "circle"
         },
         "mode": "lines",
         "name": "FIN",
         "showlegend": true,
         "type": "scattergl",
         "x": {
          "bdata": "yAfJB8oHywfMB80HzgfPB9AH0QfSB9MH1AfVB9YH1wfYB9kH2gc=",
          "dtype": "i2"
         },
         "xaxis": "x",
         "y": {
          "bdata": "AAAArGEEoUGrqqpGUYSaQVVVVXEPS5pBchzHUYU1ikGO4zjGkw+IQQAAACgvxYZBchzH+RZnhEGrqqoaUW2DQXg7q9nrRHtBy76r9HA2iEGDk1oVch7gQGGfotbsLYJBF4ph4Tm2hkFD97+clJGEQZMAtcrTnIJBVVVVVTFeHUGrqqqqNCYSQdBpA52wOxBBu7u7u3WKAEE=",
          "dtype": "f8"
         },
         "yaxis": "y"
        },
        {
         "hovertemplate": "species=FLE<br>TIME_PERIOD=%{x}<br>OBS_VALUE=%{y}<extra></extra>",
         "legendgroup": "FLE",
         "line": {
          "color": "#FECB52",
          "dash": "solid"
         },
         "marker": {
          "symbol": "circle"
         },
         "mode": "lines",
         "name": "FLE",
         "showlegend": true,
         "type": "scattergl",
         "x": {
          "bdata": "1wfYB9kH2gfbB9wH3QfeB98H4AfhB+IH4wfkB+UH5gfnBw==",
          "dtype": "i2"
         },
         "xaxis": "x",
         "y": {
          "bdata": "odMGOkGKFUGnDXTazjUJQfnFkl/OMgpBBzptoOMnCEFVVVVVLSoDQXTaQKdJgQhBJr9Y8vNh/EAZS36x1Hf4QGTJL5YsDPpAl/xiyX+R8UBOG+i07db7QBvotIHWcvlA/GLJL+b49UBFREREVDz0QKcNdNrQQwBB3t3d3dU190C0gU4bOHjnQA==",
          "dtype": "f8"
         },
         "yaxis": "y"
        },
        {
         "hovertemplate": "species=FOR<br>TIME_PERIOD=%{x}<br>OBS_VALUE=%{y}<extra></extra>",
         "legendgroup": "FOR",
         "line": {
          "color": "#636efa",
          "dash": "solid"
         },
         "marker": {
          "symbol": "circle"
         },
         "mode": "lines",
         "name": "FOR",
         "showlegend": true,
         "type": "scattergl",
         "x": {
          "bdata": "1wfYB9kH2gfbB9wH3QfeB98H4AfhB+IH4wfkB+UH",
          "dtype": "i2"
         },
         "xaxis": "x",
         "y": {
          "bdata": "5RdLfmuHHUGX/GLJQQoWQd7d3d19KxpBSOF6lCReIEHRaQOdHp4kQX6x5BfJ1iFBAAAAgMYDKEEL16NwKSgqQRvotIHu/SRB5RdLfmmiJEGMJb/YxEUjQTMzMzObTwhBaQOdNkBFAUFLfrHkMRIHQe7u7u4OitxA",
          "dtype": "f8"
         },
         "yaxis": "y"
        },
        {
         "hovertemplate": "species=FRI<br>TIME_PERIOD=%{x}<br>OBS_VALUE=%{y}<extra></extra>",
         "legendgroup": "FRI",
         "line": {
          "color": "#EF553B",
          "dash": "solid"
         },
         "marker": {
          "symbol": "circle"
         },
         "mode": "lines",
         "name": "FRI",
         "showlegend": true,
         "type": "scattergl",
         "x": {
          "bdata": "4gfjB+QH5QfmB+cH",
          "dtype": "i2"
         },
         "xaxis": "x",
         "y": {
          "bdata": "WHzFVzwd9EAK2ZK5AZTRQKuqqqqq8rJAQKcNdFqxxUC7u7u7e8jGQO7u7u4u/8tA",
          "dtype": "f8"
         },
         "yaxis": "y"
        },
        {
         "hovertemplate": "species=FRZ<br>TIME_PERIOD=%{x}<br>OBS_VALUE=%{y}<extra></extra>",
         "legendgroup": "FRZ",
         "line": {
          "color": "#00cc96",
          "dash": "solid"
         },
         "marker": {
          "symbol": "circle"
         },
         "mode": "lines",
         "name": "FRZ",
         "showlegend": true,
         "type": "scattergl",
         "x": {
          "bdata": "1wfYB9kH2gfbB9wH3QfeB98H4AfhB+IH4wfkB+UH5gfnBw==",
          "dtype": "i2"
         },
         "xaxis": "x",
         "y": {
          "bdata": "mpmZmb0WD0HsUbgeu3AXQd7d3d1tURlB3t3d3Q99HkH5xZJfrJAOQd7d3d1Jzf1AVVVVVQv5F0F02kCnpWwMQYmIiIgekwtBRURERI2DHEF4d3d3mgMaQX/+48onrh1BdNpApyN0GEGIiIiIYYgjQae39LxfswlBtNps3hEAFEHM/tAaM1oTQQ==",
          "dtype": "f8"
         },
         "yaxis": "y"
        },
        {
         "hovertemplate": "species=FTX<br>TIME_PERIOD=%{x}<br>OBS_VALUE=%{y}<extra></extra>",
         "legendgroup": "FTX",
         "line": {
          "color": "#ab63fa",
          "dash": "solid"
         },
         "marker": {
          "symbol": "circle"
         },
         "mode": "lines",
         "name": "FTX",
         "showlegend": true,
         "type": "scattergl",
         "x": {
          "bdata": "5AfmB+cH",
          "dtype": "i2"
         },
         "xaxis": "x",
         "y": {
          "bdata": "7+7u7i5w1UCamZmZ6dXtQKcNdNpg2OtA",
          "dtype": "f8"
         },
         "yaxis": "y"
        },
        {
         "hovertemplate": "species=GAR<br>TIME_PERIOD=%{x}<br>OBS_VALUE=%{y}<extra></extra>",
         "legendgroup": "GAR",
         "line": {
          "color": "#FFA15A",
          "dash": "solid"
         },
         "marker": {
          "symbol": "circle"
         },
         "mode": "lines",
         "name": "GAR",
         "showlegend": true,
         "type": "scattergl",
         "x": {
          "bdata": "1QfWB9cH2AfZB9oH2wfcB90H3gffB+AH4QfiB+MH5AflB+YH5wc=",
          "dtype": "i2"
         },
         "xaxis": "x",
         "y": {
          "bdata": "HMnlP5yGAEGIiIiInjoKQVyPwvWIhAxBawOdNjSA90D1KFyPErnTQERERET4Bv1A/GLJLz4j9kD8YskvkmTyQL9Y8ovBvPpApHA9Cncc6EA6baDTDkf6QKuqqqpyP/1AdNpApx2v9EC7u7u7e/XoQHh3d3c/o+NA2kCnDeQq9UBVVVVVJZ7+QBERERGhZuRAYCz5xXI76kA=",
          "dtype": "f8"
         },
         "yaxis": "y"
        },
        {
         "hovertemplate": "species=GAS<br>TIME_PERIOD=%{x}<br>OBS_VALUE=%{y}<extra></extra>",
         "legendgroup": "GAS",
         "line": {
          "color": "#19d3f3",
          "dash": "solid"
         },
         "marker": {
          "symbol": "circle"
         },
         "mode": "lines",
         "name": "GAS",
         "showlegend": true,
         "type": "scattergl",
         "x": {
          "bdata": "1wfYB9kH2gfbB9wH3QfeB98H4AfhB+IH4wflB+YH5wc=",
          "dtype": "i2"
         },
         "xaxis": "x",
         "y": {
          "bdata": "eHd3d1joV0GrqqoqYQ9VQaDTBppfHFZB6LSB7sXUUkEvlvxSO6VVQSIiImKQbktBvLu7mwOKTUGrqqrqs4pNQXh3d3d3IdRA/GLJL3aU0UBmZmZm5tm0QH6x5BdLPqFAZMkvlvz2mUCIiIiIiFqaQO/u7u7uxpVARURERESUlkA=",
          "dtype": "f8"
         },
         "yaxis": "y"
        },
        {
         "hovertemplate": "species=GAU<br>TIME_PERIOD=%{x}<br>OBS_VALUE=%{y}<extra></extra>",
         "legendgroup": "GAU",
         "line": {
          "color": "#FF6692",
          "dash": "solid"
         },
         "marker": {
          "symbol": "circle"
         },
         "mode": "lines",
         "name": "GAU",
         "showlegend": true,
         "type": "scattergl",
         "x": {
          "bdata": "4AfiBw==",
          "dtype": "i2"
         },
         "xaxis": "x",
         "y": {
          "bdata": "l/xiya8Zo0C4HoXrUT6iQA==",
          "dtype": "f8"
         },
         "yaxis": "y"
        },
        {
         "hovertemplate": "species=GBA<br>TIME_PERIOD=%{x}<br>OBS_VALUE=%{y}<extra></extra>",
         "legendgroup": "GBA",
         "line": {
          "color": "#B6E880",
          "dash": "solid"
         },
         "marker": {
          "symbol": "circle"
         },
         "mode": "lines",
         "name": "GBA",
         "showlegend": true,
         "type": "scattergl",
         "x": {
          "bdata": "5wc=",
          "dtype": "i2"
         },
         "xaxis": "x",
         "y": {
          "bdata": "7+7u7u6uxkA=",
          "dtype": "f8"
         },
         "yaxis": "y"
        },
        {
         "hovertemplate": "species=GBN<br>TIME_PERIOD=%{x}<br>OBS_VALUE=%{y}<extra></extra>",
         "legendgroup": "GBN",
         "line": {
          "color": "#FF97FF",
          "dash": "solid"
         },
         "marker": {
          "symbol": "circle"
         },
         "mode": "lines",
         "name": "GBN",
         "showlegend": true,
         "type": "scattergl",
         "x": {
          "bdata": "4gfjB+QH",
          "dtype": "i2"
         },
         "xaxis": "x",
         "y": {
          "bdata": "lfxiyZfM/UCSXyz5/dv6QLgeheuRYcFA",
          "dtype": "f8"
         },
         "yaxis": "y"
        },
        {
         "hovertemplate": "species=GDG<br>TIME_PERIOD=%{x}<br>OBS_VALUE=%{y}<extra></extra>",
         "legendgroup": "GDG",
         "line": {
          "color": "#FECB52",
          "dash": "solid"
         },
         "marker": {
          "symbol": "circle"
         },
         "mode": "lines",
         "name": "GDG",
         "showlegend": true,
         "type": "scattergl",
         "x": {
          "bdata": "4gfjBw==",
          "dtype": "i2"
         },
         "xaxis": "x",
         "y": {
          "bdata": "RERERESomkAiIiIiIt6hQA==",
          "dtype": "f8"
         },
         "yaxis": "y"
        },
        {
         "hovertemplate": "species=GFB<br>TIME_PERIOD=%{x}<br>OBS_VALUE=%{y}<extra></extra>",
         "legendgroup": "GFB",
         "line": {
          "color": "#636efa",
          "dash": "solid"
         },
         "marker": {
          "symbol": "circle"
         },
         "mode": "lines",
         "name": "GFB",
         "showlegend": true,
         "type": "scattergl",
         "x": {
          "bdata": "1wfYB9kH2gfbB9wH3QfeB98H4AfhB+IH4wfkB+UH5gfnBw==",
          "dtype": "i2"
         },
         "xaxis": "x",
         "y": {
          "bdata": "UrgehdON60DXo3A9Ir34QDptoNO2RvRA393d3ZVA+EDrUbgeVY34QAAAAACsAvpAq6qqqhKVAkGF61G4bs4EQe/u7u7WkAFBKFyPwmVc/EBZ8osleyT+QEVERETLABNB1BvbWMiPEUGl/KRa5LwIQauqqqrI/BlB3t3d3fvsG0GrqqqqW9cfQQ==",
          "dtype": "f8"
         },
         "yaxis": "y"
        },
        {
         "hovertemplate": "species=GGU<br>TIME_PERIOD=%{x}<br>OBS_VALUE=%{y}<extra></extra>",
         "legendgroup": "GGU",
         "line": {
          "color": "#EF553B",
          "dash": "solid"
         },
         "marker": {
          "symbol": "circle"
         },
         "mode": "lines",
         "name": "GGU",
         "showlegend": true,
         "type": "scattergl",
         "x": {
          "bdata": "4gfjBw==",
          "dtype": "i2"
         },
         "xaxis": "x",
         "y": {
          "bdata": "QacNdNqflkAUrkfhel2VQA==",
          "dtype": "f8"
         },
         "yaxis": "y"
        },
        {
         "hovertemplate": "species=GGY<br>TIME_PERIOD=%{x}<br>OBS_VALUE=%{y}<extra></extra>",
         "legendgroup": "GGY",
         "line": {
          "color": "#00cc96",
          "dash": "solid"
         },
         "marker": {
          "symbol": "circle"
         },
         "mode": "lines",
         "name": "GGY",
         "showlegend": true,
         "type": "scattergl",
         "x": {
          "bdata": "4gfjBw==",
          "dtype": "i2"
         },
         "xaxis": "x",
         "y": {
          "bdata": "exSuR2E/skDe3d3dXWuwQA==",
          "dtype": "f8"
         },
         "yaxis": "y"
        },
        {
         "hovertemplate": "species=GLI<br>TIME_PERIOD=%{x}<br>OBS_VALUE=%{y}<extra></extra>",
         "legendgroup": "GLI",
         "line": {
          "color": "#ab63fa",
          "dash": "solid"
         },
         "marker": {
          "symbol": "circle"
         },
         "mode": "lines",
         "name": "GLI",
         "showlegend": true,
         "type": "scattergl",
         "x": {
          "bdata": "4gfjBw==",
          "dtype": "i2"
         },
         "xaxis": "x",
         "y": {
          "bdata": "UrgehevTkUC0gU4b6BilQA==",
          "dtype": "f8"
         },
         "yaxis": "y"
        },
        {
         "hovertemplate": "species=GOA<br>TIME_PERIOD=%{x}<br>OBS_VALUE=%{y}<extra></extra>",
         "legendgroup": "GOA",
         "line": {
          "color": "#FFA15A",
          "dash": "solid"
         },
         "marker": {
          "symbol": "circle"
         },
         "mode": "lines",
         "name": "GOA",
         "showlegend": true,
         "type": "scattergl",
         "x": {
          "bdata": "5Qc=",
          "dtype": "i2"
         },
         "xaxis": "x",
         "y": {
          "bdata": "DnTaQAcMwkA=",
          "dtype": "f8"
         },
         "yaxis": "y"
        },
        {
         "hovertemplate": "species=GOB<br>TIME_PERIOD=%{x}<br>OBS_VALUE=%{y}<extra></extra>",
         "legendgroup": "GOB",
         "line": {
          "color": "#19d3f3",
          "dash": "solid"
         },
         "marker": {
          "symbol": "circle"
         },
         "mode": "lines",
         "name": "GOB",
         "showlegend": true,
         "type": "scattergl",
         "x": {
          "bdata": "4gfjB+UH5gfnBw==",
          "dtype": "i2"
         },
         "xaxis": "x",
         "y": {
          "bdata": "Jb9Y8otGvEBOG+i0AYeyQE4b6LSBtpdA7+7u7u5RoUBZ8oslv6qNQA==",
          "dtype": "f8"
         },
         "yaxis": "y"
        },
        {
         "hovertemplate": "species=GPA<br>TIME_PERIOD=%{x}<br>OBS_VALUE=%{y}<extra></extra>",
         "legendgroup": "GPA",
         "line": {
          "color": "#FF6692",
          "dash": "solid"
         },
         "marker": {
          "symbol": "circle"
         },
         "mode": "lines",
         "name": "GPA",
         "showlegend": true,
         "type": "scattergl",
         "x": {
          "bdata": "1wfYB9kH2gfbB9wH3QfeB98H4AfhB+IH4wfkB+UH5gfnBw==",
          "dtype": "i2"
         },
         "xaxis": "x",
         "y": {
          "bdata": "VVVVVZClJEHRaQOdMMEfQUt+seSYNiJBwvUoXJvZI0FVVVXVEkMjQUVERET4KB1BG+i0gQKjFkGrqqqq6YYeQSW/WPJ1ZB9BBzptoPKKHUGrqqqqXh4fQVVVVVWl/iZBAAAAAGurI0EGOm2gi10ZQRIRERE1mRZBzczMzOBKF0GrqqqqWmwWQQ==",
          "dtype": "f8"
         },
         "yaxis": "y"
        },
        {
         "hovertemplate": "species=GPD<br>TIME_PERIOD=%{x}<br>OBS_VALUE=%{y}<extra></extra>",
         "legendgroup": "GPD",
         "line": {
          "color": "#B6E880",
          "dash": "solid"
         },
         "marker": {
          "symbol": "circle"
         },
         "mode": "lines",
         "name": "GPD",
         "showlegend": true,
         "type": "scattergl",
         "x": {
          "bdata": "1wfYB9kH2gfbB9wH3QfeB98H4AfhB+IH4wfkB+UH5gfnBw==",
          "dtype": "i2"
         },
         "xaxis": "x",
         "y": {
          "bdata": "mpmZmcVTGEGrqqqqsPQTQVVVVVWnoRNBPgrXo0LbFEEb6LSBuowQQR6F61Fk5wxBf7HkF9A1E0F3d3d3yB0aQRERERE37g5B7FG4HkkcE0F9pnGCodISQRy5W38iAQtBRcuU6VBUBUExCKwcer7UQJs4ud+pot5AVVVVVdXg50D8YskvHv7zQA==",
          "dtype": "f8"
         },
         "yaxis": "y"
        },
        {
         "hovertemplate": "species=GPW<br>TIME_PERIOD=%{x}<br>OBS_VALUE=%{y}<extra></extra>",
         "legendgroup": "GPW",
         "line": {
          "color": "#FF97FF",
          "dash": "solid"
         },
         "marker": {
          "symbol": "circle"
         },
         "mode": "lines",
         "name": "GPW",
         "showlegend": true,
         "type": "scattergl",
         "x": {
          "bdata": "4AfiB+MH5AflB+YH5wc=",
          "dtype": "i2"
         },
         "xaxis": "x",
         "y": {
          "bdata": "q6qqql4EAkE8RoyxfZPyQJ7vp8bbIulAJJTR2wq540Cg0wY6TV7hQK9n9ftfCOFApw102li890A=",
          "dtype": "f8"
         },
         "yaxis": "y"
        },
        {
         "hovertemplate": "species=GPX<br>TIME_PERIOD=%{x}<br>OBS_VALUE=%{y}<extra></extra>",
         "legendgroup": "GPX",
         "line": {
          "color": "#FECB52",
          "dash": "solid"
         },
         "marker": {
          "symbol": "circle"
         },
         "mode": "lines",
         "name": "GPX",
         "showlegend": true,
         "type": "scattergl",
         "x": {
          "bdata": "4wfkB+UH5gfnBw==",
          "dtype": "i2"
         },
         "xaxis": "x",
         "y": {
          "bdata": "suQXS34epECZmZmZ+fICQQAAAAAHlRlBeHd3d+WPFEH2KFyP3rURQQ==",
          "dtype": "f8"
         },
         "yaxis": "y"
        },
        {
         "hovertemplate": "species=GSM<br>TIME_PERIOD=%{x}<br>OBS_VALUE=%{y}<extra></extra>",
         "legendgroup": "GSM",
         "line": {
          "color": "#636efa",
          "dash": "solid"
         },
         "marker": {
          "symbol": "circle"
         },
         "mode": "lines",
         "name": "GSM",
         "showlegend": true,
         "type": "scattergl",
         "x": {
          "bdata": "4gfjB+UH5wc=",
          "dtype": "i2"
         },
         "xaxis": "x",
         "y": {
          "bdata": "BzptoBPOvEAmv1jyi1q6QJNfLPnFuJ9AxpJfLFkfwEA=",
          "dtype": "f8"
         },
         "yaxis": "y"
        },
        {
         "hovertemplate": "species=GUG<br>TIME_PERIOD=%{x}<br>OBS_VALUE=%{y}<extra></extra>",
         "legendgroup": "GUG",
         "line": {
          "color": "#EF553B",
          "dash": "solid"
         },
         "marker": {
          "symbol": "circle"
         },
         "mode": "lines",
         "name": "GUG",
         "showlegend": true,
         "type": "scattergl",
         "x": {
          "bdata": "3wfgB+EH4gfjB+QH5QfmB+cH",
          "dtype": "i2"
         },
         "xaxis": "x",
         "y": {
          "bdata": "baDTBpr7AkG5HoXr0fnpQKRwPQr3uNpAtYFOG5Ax6EDv7u7uHqPnQImIiIiQTOtAG+i0gV5c9UARERER8cTdQIwlv1jysL5A",
          "dtype": "f8"
         },
         "yaxis": "y"
        },
        {
         "hovertemplate": "species=GUM<br>TIME_PERIOD=%{x}<br>OBS_VALUE=%{y}<extra></extra>",
         "legendgroup": "GUM",
         "line": {
          "color": "#00cc96",
          "dash": "solid"
         },
         "marker": {
          "symbol": "circle"
         },
         "mode": "lines",
         "name": "GUM",
         "showlegend": true,
         "type": "scattergl",
         "x": {
          "bdata": "3wfhB+IH4wfkB+UH5gfnBw==",
          "dtype": "i2"
         },
         "xaxis": "x",
         "y": {
          "bdata": "LPnFkp8btEAiIiIiwnjIQCIiIiJKEuNAxpJfLNH24kBFRERExEDPQPnFkl/MUMBAq6qqqipzwUARERERcVrBQA==",
          "dtype": "f8"
         },
         "yaxis": "y"
        },
        {
         "hovertemplate": "species=GUN<br>TIME_PERIOD=%{x}<br>OBS_VALUE=%{y}<extra></extra>",
         "legendgroup": "GUN",
         "line": {
          "color": "#ab63fa",
          "dash": "solid"
         },
         "marker": {
          "symbol": "circle"
         },
         "mode": "lines",
         "name": "GUN",
         "showlegend": true,
         "type": "scattergl",
         "x": {
          "bdata": "3wfgB+EH4gfjB+QH5QfmB+cH",
          "dtype": "i2"
         },
         "xaxis": "x",
         "y": {
          "bdata": "LfnFkv9K3UC8u7u7+/zcQKuqqqrKuNZAMzMzMzOsrEAt+cWS3x6qQNFpA502DK1AeHd3d39X+0AzMzMz25D5QNtApw2U7O1A",
          "dtype": "f8"
         },
         "yaxis": "y"
        },
        {
         "hovertemplate": "species=GUP<br>TIME_PERIOD=%{x}<br>OBS_VALUE=%{y}<extra></extra>",
         "legendgroup": "GUP",
         "line": {
          "color": "#FFA15A",
          "dash": "solid"
         },
         "marker": {
          "symbol": "circle"
         },
         "mode": "lines",
         "name": "GUP",
         "showlegend": true,
         "type": "scattergl",
         "x": {
          "bdata": "4gfjBw==",
          "dtype": "i2"
         },
         "xaxis": "x",
         "y": {
          "bdata": "eHd3d3fbnEAEZe9rQlBXQA==",
          "dtype": "f8"
         },
         "yaxis": "y"
        },
        {
         "hovertemplate": "species=GUR<br>TIME_PERIOD=%{x}<br>OBS_VALUE=%{y}<extra></extra>",
         "legendgroup": "GUR",
         "line": {
          "color": "#19d3f3",
          "dash": "solid"
         },
         "marker": {
          "symbol": "circle"
         },
         "mode": "lines",
         "name": "GUR",
         "showlegend": true,
         "type": "scattergl",
         "x": {
          "bdata": "3wfgB+EH4gfjB+QH5QfmB+cH",
          "dtype": "i2"
         },
         "xaxis": "x",
         "y": {
          "bdata": "G+i0gcBeEEFpA502vokNQSEiIiJSjQlB5RdLfimZD0E0MzMz2zgLQb9Y8osh1QRBq6qqqqY+AEHv7u7u5vYEQRlLfrHwJwZB",
          "dtype": "f8"
         },
         "yaxis": "y"
        },
        {
         "hovertemplate": "species=GUS<br>TIME_PERIOD=%{x}<br>OBS_VALUE=%{y}<extra></extra>",
         "legendgroup": "GUS",
         "line": {
          "color": "#FF6692",
          "dash": "solid"
         },
         "marker": {
          "symbol": "circle"
         },
         "mode": "lines",
         "name": "GUS",
         "showlegend": true,
         "type": "scattergl",
         "x": {
          "bdata": "5QfnBw==",
          "dtype": "i2"
         },
         "xaxis": "x",
         "y": {
          "bdata": "7+7u7r507UB4d3d3V1/RQA==",
          "dtype": "f8"
         },
         "yaxis": "y"
        },
        {
         "hovertemplate": "species=GUU<br>TIME_PERIOD=%{x}<br>OBS_VALUE=%{y}<extra></extra>",
         "legendgroup": "GUU",
         "line": {
          "color": "#B6E880",
          "dash": "solid"
         },
         "marker": {
          "symbol": "circle"
         },
         "mode": "lines",
         "name": "GUU",
         "showlegend": true,
         "type": "scattergl",
         "x": {
          "bdata": "3wfgB+EH4gfjB+QH5QfmB+cH",
          "dtype": "i2"
         },
         "xaxis": "x",
         "y": {
          "bdata": "QacNdP1uO0FI4XqUpgtAQb9Y8ovnwz1B57SBTrmtP0FQU8uGJPMxQTjQaQPh5StBiYiICJTMLkEiIiIiuVYoQXTaQKczuyJB",
          "dtype": "f8"
         },
         "yaxis": "y"
        },
        {
         "hovertemplate": "species=GUX<br>TIME_PERIOD=%{x}<br>OBS_VALUE=%{y}<extra></extra>",
         "legendgroup": "GUX",
         "line": {
          "color": "#FF97FF",
          "dash": "solid"
         },
         "marker": {
          "symbol": "circle"
         },
         "mode": "lines",
         "name": "GUX",
         "showlegend": true,
         "type": "scattergl",
         "x": {
          "bdata": "zAfNB88H0AfRB9IH0wfUB9UH1gfXB9gH2QfaB9sH3AfdB94H4QflB+YH5wc=",
          "dtype": "i2"
         },
         "xaxis": "x",
         "y": {
          "bdata": "AAAAAAC4jEAAAAAAAACzQAAAAAAAiKVAqhb++SuA0kBUmU9D9+HwQPQiACUrzEdAAAAAAIClyEDLfBoKbgzQQEbeTB9wIztB59Z+JZkRQEFmZmamhC5KQa5H4frh20VB3Fukw77aPEEiIiJiCBtIQckvlnxShEtBJb9YMuIFSkEEnTZQD1FCQbu7u3upCEZB6LSBTlu91UAlv1jyC4D2QDMzMzPzfvpAThvotClL7kA=",
          "dtype": "f8"
         },
         "yaxis": "y"
        },
        {
         "hovertemplate": "species=HAL<br>TIME_PERIOD=%{x}<br>OBS_VALUE=%{y}<extra></extra>",
         "legendgroup": "HAL",
         "line": {
          "color": "#FECB52",
          "dash": "solid"
         },
         "marker": {
          "symbol": "circle"
         },
         "mode": "lines",
         "name": "HAL",
         "showlegend": true,
         "type": "scattergl",
         "x": {
          "bdata": "3wflBw==",
          "dtype": "i2"
         },
         "xaxis": "x",
         "y": {
          "bdata": "AAAAAAAAAABpA5020E+uQA==",
          "dtype": "f8"
         },
         "yaxis": "y"
        },
        {
         "hovertemplate": "species=HKE<br>TIME_PERIOD=%{x}<br>OBS_VALUE=%{y}<extra></extra>",
         "legendgroup": "HKE",
         "line": {
          "color": "#636efa",
          "dash": "solid"
         },
         "marker": {
          "symbol": "circle"
         },
         "mode": "lines",
         "name": "HKE",
         "showlegend": true,
         "type": "scattergl",
         "x": {
          "bdata": "yAfJB8oHywfMB80HzgfPB9AH0QfSB9MH1AfVB9YH1wfYB9kH2gfbB9wH3QfeB98H4AfhB+IH4wfkB+UH5gfnBw==",
          "dtype": "i2"
         },
         "xaxis": "x",
         "y": {
          "bdata": "VVVVvRV2gEGrqqrK8ViBQVVVVU2ak4FBHMdx3GNAdkGrqqoaWZt2QVVVVdUsGXZBAAAAgDeBc0EAAAAArdNuQdIA3q5JVG5BPujZlEfyX0HoJOyx1vmxQDEIrNwFhVpBrD8Ro3QtYEEiL35JSMt1QSuct6s6aHlBlt98mG19dEGLo4VsFqlxQVw9J2naRnFBS36x2CTIfUGrqqrqZWF7QYXrURAxpHdBGUt+lYlhdUGamZlpkkV0QRvotMFt63VBtYFOQ40xdUHUBjqdLdVzQVGolBZ0hWRBpHA96vg0b0Hd4vRmgxdgQZkF7TzZLmBBn+qQ6UDEYEHmF0uOFmRsQQ==",
          "dtype": "f8"
         },
         "yaxis": "y"
        },
        {
         "hovertemplate": "species=HMM<br>TIME_PERIOD=%{x}<br>OBS_VALUE=%{y}<extra></extra>",
         "legendgroup": "HMM",
         "line": {
          "color": "#EF553B",
          "dash": "solid"
         },
         "marker": {
          "symbol": "circle"
         },
         "mode": "lines",
         "name": "HMM",
         "showlegend": true,
         "type": "scattergl",
         "x": {
          "bdata": "3wfgB+EH4gfjB+QH5QfmB+cH",
          "dtype": "i2"
         },
         "xaxis": "x",
         "y": {
          "bdata": "N9BpA1WzHEGh0wY6Wb4eQa5H4XqodSFBJr9Y8hKZHEEb6LSB8L0XQfrFkl9UCwxBS36x5CHTBkFFREREJH3/QKuqqqpOMPdA",
          "dtype": "f8"
         },
         "yaxis": "y"
        },
        {
         "hovertemplate": "species=HMY<br>TIME_PERIOD=%{x}<br>OBS_VALUE=%{y}<extra></extra>",
         "legendgroup": "HMY",
         "line": {
          "color": "#00cc96",
          "dash": "solid"
         },
         "marker": {
          "symbol": "circle"
         },
         "mode": "lines",
         "name": "HMY",
         "showlegend": true,
         "type": "scattergl",
         "x": {
          "bdata": "4wc=",
          "dtype": "i2"
         },
         "xaxis": "x",
         "y": {
          "bdata": "gynyWTdYWUA=",
          "dtype": "f8"
         },
         "yaxis": "y"
        },
        {
         "hovertemplate": "species=HOM<br>TIME_PERIOD=%{x}<br>OBS_VALUE=%{y}<extra></extra>",
         "legendgroup": "HOM",
         "line": {
          "color": "#ab63fa",
          "dash": "solid"
         },
         "marker": {
          "symbol": "circle"
         },
         "mode": "lines",
         "name": "HOM",
         "showlegend": true,
         "type": "scattergl",
         "x": {
          "bdata": "3wfgB+EH4gfjB+QH5QfmB+cH",
          "dtype": "i2"
         },
         "xaxis": "x",
         "y": {
          "bdata": "ERER0XkqM0FFREQEfjkzQYiIiMgqXTRBcT0K14azNkFgLPnFObUvQWLJL5Z0ZR9BVVVVVWOsKUF4d3d3xM4oQSIiIiJkWyxB",
          "dtype": "f8"
         },
         "yaxis": "y"
        },
        {
         "hovertemplate": "species=HPR<br>TIME_PERIOD=%{x}<br>OBS_VALUE=%{y}<extra></extra>",
         "legendgroup": "HPR",
         "line": {
          "color": "#FFA15A",
          "dash": "solid"
         },
         "marker": {
          "symbol": "circle"
         },
         "mode": "lines",
         "name": "HPR",
         "showlegend": true,
         "type": "scattergl",
         "x": {
          "bdata": "4gfjBw==",
          "dtype": "i2"
         },
         "xaxis": "x",
         "y": {
          "bdata": "baDTBjrBkUD5xZJfLCWLQA==",
          "dtype": "f8"
         },
         "yaxis": "y"
        },
        {
         "hovertemplate": "species=HXT<br>TIME_PERIOD=%{x}<br>OBS_VALUE=%{y}<extra></extra>",
         "legendgroup": "HXT",
         "line": {
          "color": "#19d3f3",
          "dash": "solid"
         },
         "marker": {
          "symbol": "circle"
         },
         "mode": "lines",
         "name": "HXT",
         "showlegend": true,
         "type": "scattergl",
         "x": {
          "bdata": "4AfjB+QH5QfmB+cH",
          "dtype": "i2"
         },
         "xaxis": "x",
         "y": {
          "bdata": "7FG4HoUTfkDJL5b84iGjQN7d3d1dCapAG+i0gU7bokDe3d3d3VynQN7d3d3dKZ1A",
          "dtype": "f8"
         },
         "yaxis": "y"
        },
        {
         "hovertemplate": "species=HYB<br>TIME_PERIOD=%{x}<br>OBS_VALUE=%{y}<extra></extra>",
         "legendgroup": "HYB",
         "line": {
          "color": "#FF6692",
          "dash": "solid"
         },
         "marker": {
          "symbol": "circle"
         },
         "mode": "lines",
         "name": "HYB",
         "showlegend": true,
         "type": "scattergl",
         "x": {
          "bdata": "4wc=",
          "dtype": "i2"
         },
         "xaxis": "x",
         "y": {
          "bdata": "ILGAO/1RWkA=",
          "dtype": "f8"
         },
         "yaxis": "y"
        },
        {
         "hovertemplate": "species=HYS<br>TIME_PERIOD=%{x}<br>OBS_VALUE=%{y}<extra></extra>",
         "legendgroup": "HYS",
         "line": {
          "color": "#B6E880",
          "dash": "solid"
         },
         "marker": {
          "symbol": "circle"
         },
         "mode": "lines",
         "name": "HYS",
         "showlegend": true,
         "type": "scattergl",
         "x": {
          "bdata": "4wc=",
          "dtype": "i2"
         },
         "xaxis": "x",
         "y": {
          "bdata": "GEt+seSelUA=",
          "dtype": "f8"
         },
         "yaxis": "y"
        },
        {
         "hovertemplate": "species=IAR<br>TIME_PERIOD=%{x}<br>OBS_VALUE=%{y}<extra></extra>",
         "legendgroup": "IAR",
         "line": {
          "color": "#FF97FF",
          "dash": "solid"
         },
         "marker": {
          "symbol": "circle"
         },
         "mode": "lines",
         "name": "IAR",
         "showlegend": true,
         "type": "scattergl",
         "x": {
          "bdata": "4gfjB+QH5QfmB+cH",
          "dtype": "i2"
         },
         "xaxis": "x",
         "y": {
          "bdata": "Jr9Y8uNx60CamZmZybDtQDQzMzMz3d9Aq6qqqpKB8EBERERElHbhQK5H4Xo0ctRA",
          "dtype": "f8"
         },
         "yaxis": "y"
        },
        {
         "hovertemplate": "species=IIR<br>TIME_PERIOD=%{x}<br>OBS_VALUE=%{y}<extra></extra>",
         "legendgroup": "IIR",
         "line": {
          "color": "#FECB52",
          "dash": "solid"
         },
         "marker": {
          "symbol": "circle"
         },
         "mode": "lines",
         "name": "IIR",
         "showlegend": true,
         "type": "scattergl",
         "x": {
          "bdata": "5AflB+YH5wc=",
          "dtype": "i2"
         },
         "xaxis": "x",
         "y": {
          "bdata": "Om2g0wagqUBBpw102gaiQN7d3d3doqNAsAlB2fs6ZkA=",
          "dtype": "f8"
         },
         "yaxis": "y"
        },
        {
         "hovertemplate": "species=ILL<br>TIME_PERIOD=%{x}<br>OBS_VALUE=%{y}<extra></extra>",
         "legendgroup": "ILL",
         "line": {
          "color": "#636efa",
          "dash": "solid"
         },
         "marker": {
          "symbol": "circle"
         },
         "mode": "lines",
         "name": "ILL",
         "showlegend": true,
         "type": "scattergl",
         "x": {
          "bdata": "4gfjBw==",
          "dtype": "i2"
         },
         "xaxis": "x",
         "y": {
          "bdata": "k18s+eVw0UBVVVVV1TunQA==",
          "dtype": "f8"
         },
         "yaxis": "y"
        },
        {
         "hovertemplate": "species=JAA<br>TIME_PERIOD=%{x}<br>OBS_VALUE=%{y}<extra></extra>",
         "legendgroup": "JAA",
         "line": {
          "color": "#EF553B",
          "dash": "solid"
         },
         "marker": {
          "symbol": "circle"
         },
         "mode": "lines",
         "name": "JAA",
         "showlegend": true,
         "type": "scattergl",
         "x": {
          "bdata": "4AfhB+IH4wfkB+UH5gfnBw==",
          "dtype": "i2"
         },
         "xaxis": "x",
         "y": {
          "bdata": "3t3d3d2fkEDNzMzMDBLOQNpApw10rqBAIiIiIiK2l0CIiIiIiFSXQO7u7u5uUcdAAAAAABC15EBnZmZmZh+8QA==",
          "dtype": "f8"
         },
         "yaxis": "y"
        },
        {
         "hovertemplate": "species=JAI<br>TIME_PERIOD=%{x}<br>OBS_VALUE=%{y}<extra></extra>",
         "legendgroup": "JAI",
         "line": {
          "color": "#00cc96",
          "dash": "solid"
         },
         "marker": {
          "symbol": "circle"
         },
         "mode": "lines",
         "name": "JAI",
         "showlegend": true,
         "type": "scattergl",
         "x": {
          "bdata": "3wfgB+EH4gfjB+QH5QfmB+cH",
          "dtype": "i2"
         },
         "xaxis": "x",
         "y": {
          "bdata": "EREREcnK7UCnDXTaYG/uQGdmZmbm+sxAC/sUix9YAEHmF0t+o08HQUN4tHFu3eZA3t3d3UUl80ARERERYfLtQImIiIigSOZA",
          "dtype": "f8"
         },
         "yaxis": "y"
        },
        {
         "hovertemplate": "species=JAR<br>TIME_PERIOD=%{x}<br>OBS_VALUE=%{y}<extra></extra>",
         "legendgroup": "JAR",
         "line": {
          "color": "#ab63fa",
          "dash": "solid"
         },
         "marker": {
          "symbol": "circle"
         },
         "mode": "lines",
         "name": "JAR",
         "showlegend": true,
         "type": "scattergl",
         "x": {
          "bdata": "4gfjB+QH5QfmB+cH",
          "dtype": "i2"
         },
         "xaxis": "x",
         "y": {
          "bdata": "MzMzM3MevUBMfrHkl6bDQIFOG+g0A79ADnTaQKd0n0B4d3d3d7mfQHsUrkfheoZA",
          "dtype": "f8"
         },
         "yaxis": "y"
        },
        {
         "hovertemplate": "species=JAX<br>TIME_PERIOD=%{x}<br>OBS_VALUE=%{y}<extra></extra>",
         "legendgroup": "JAX",
         "line": {
          "color": "#FFA15A",
          "dash": "solid"
         },
         "marker": {
          "symbol": "circle"
         },
         "mode": "lines",
         "name": "JAX",
         "showlegend": true,
         "type": "scattergl",
         "x": {
          "bdata": "yAfJB8oHywfMB80HzgfPB9AH0QfSB9MH1AfVB9YH1wfYB9kH2gfbB9wH3QfeBw==",
          "dtype": "i2"
         },
         "xaxis": "x",
         "y": {
          "bdata": "q6qqqkEwP0Grqqqqn248QVVVVVUj0jZBAAAAAE/wOkFVVVVVDDM6QVVVVVWE8jNBVVVVVZ/kOkGrqqqq1Fw0QYIH8wQ/ejJBoYze9ouwOUGHgiwe8UiaQD58hs2hODJBOWpyPkqVM0HUvxFS1gBDQdpAp42OLUdBAAAAgBgaR0HRaQNdjLtAQZJfLHkJbEFBexSuh8+nQ0FVVVVVAbBDQZX8YknwrT5BPArXo7QGN0FmZmZmObE6QQ==",
          "dtype": "f8"
         },
         "yaxis": "y"
        },
        {
         "hovertemplate": "species=JAY<br>TIME_PERIOD=%{x}<br>OBS_VALUE=%{y}<extra></extra>",
         "legendgroup": "JAY",
         "line": {
          "color": "#19d3f3",
          "dash": "solid"
         },
         "marker": {
          "symbol": "circle"
         },
         "mode": "lines",
         "name": "JAY",
         "showlegend": true,
         "type": "scattergl",
         "x": {
          "bdata": "4gfjB+QH5QfmB+cH",
          "dtype": "i2"
         },
         "xaxis": "x",
         "y": {
          "bdata": "57SBTttHvEAAAAAAgHDBQCIiIiKimctAexSuR+EYokDyWTeYIp9VQOQXS36xoJBA",
          "dtype": "f8"
         },
         "yaxis": "y"
        },
        {
         "hovertemplate": "species=JDP<br>TIME_PERIOD=%{x}<br>OBS_VALUE=%{y}<extra></extra>",
         "legendgroup": "JDP",
         "line": {
          "color": "#FF6692",
          "dash": "solid"
         },
         "marker": {
          "symbol": "circle"
         },
         "mode": "lines",
         "name": "JDP",
         "showlegend": true,
         "type": "scattergl",
         "x": {
          "bdata": "4gfjBw==",
          "dtype": "i2"
         },
         "xaxis": "x",
         "y": {
          "bdata": "5RdLfrF/kkANdNpAp2WOQA==",
          "dtype": "f8"
         },
         "yaxis": "y"
        },
        {
         "hovertemplate": "species=JOD<br>TIME_PERIOD=%{x}<br>OBS_VALUE=%{y}<extra></extra>",
         "legendgroup": "JOD",
         "line": {
          "color": "#B6E880",
          "dash": "solid"
         },
         "marker": {
          "symbol": "circle"
         },
         "mode": "lines",
         "name": "JOD",
         "showlegend": true,
         "type": "scattergl",
         "x": {
          "bdata": "1wfYB9kH2gfbB9wH3QfeB98H4AfhB+IH4wfkB+UH5gfnBw==",
          "dtype": "i2"
         },
         "xaxis": "x",
         "y": {
          "bdata": "HoXr0SBlMkGrqqqqG0AwQVVVVVW8lTJBOm2gE2jnMUEYS34xI/0vQZw20GmdhytBVVVV1QZFKkHaQKcNcjcpQTfQaQMyijFBBJ020BmlL0FMfrHkqQMnQRIREVEyzjVB+thKVXq7KEFGPy0ZrVMeQUGnDTROHzFB1eyB9gv+IEGMJb+YTXAwQQ==",
          "dtype": "f8"
         },
         "yaxis": "y"
        },
        {
         "hovertemplate": "species=JRS<br>TIME_PERIOD=%{x}<br>OBS_VALUE=%{y}<extra></extra>",
         "legendgroup": "JRS",
         "line": {
          "color": "#FF97FF",
          "dash": "solid"
         },
         "marker": {
          "symbol": "circle"
         },
         "mode": "lines",
         "name": "JRS",
         "showlegend": true,
         "type": "scattergl",
         "x": {
          "bdata": "3wfgB+EH4gfjB+QH5QfmB+cH",
          "dtype": "i2"
         },
         "xaxis": "x",
         "y": {
          "bdata": "RURERByQCkFBpw10WjgBQW2g0wYQcQdBVVVVVU8lD0G8u7u7BBsSQbLkF0soJwZBaQOdNuokAUFFREREPHcEQaVwPQqXjAdB",
          "dtype": "f8"
         },
         "yaxis": "y"
        },
        {
         "hovertemplate": "species=JXX<br>TIME_PERIOD=%{x}<br>OBS_VALUE=%{y}<extra></extra>",
         "legendgroup": "JXX",
         "line": {
          "color": "#FECB52",
          "dash": "solid"
         },
         "marker": {
          "symbol": "circle"
         },
         "mode": "lines",
         "name": "JXX",
         "showlegend": true,
         "type": "scattergl",
         "x": {
          "bdata": "5AflB+YH5wc=",
          "dtype": "i2"
         },
         "xaxis": "x",
         "y": {
          "bdata": "+cWSX5wx20Amv1jyKwLUQM3MzMzMCeRAISIiIuJ8xkA=",
          "dtype": "f8"
         },
         "yaxis": "y"
        },
        {
         "hovertemplate": "species=KDE<br>TIME_PERIOD=%{x}<br>OBS_VALUE=%{y}<extra></extra>",
         "legendgroup": "KDE",
         "line": {
          "color": "#636efa",
          "dash": "solid"
         },
         "marker": {
          "symbol": "circle"
         },
         "mode": "lines",
         "name": "KDE",
         "showlegend": true,
         "type": "scattergl",
         "x": {
          "bdata": "4gfjB+QH",
          "dtype": "i2"
         },
         "xaxis": "x",
         "y": {
          "bdata": "Om2g04aFvUARERERUYjSQPUoXI/CU4FA",
          "dtype": "f8"
         },
         "yaxis": "y"
        },
        {
         "hovertemplate": "species=KLK<br>TIME_PERIOD=%{x}<br>OBS_VALUE=%{y}<extra></extra>",
         "legendgroup": "KLK",
         "line": {
          "color": "#EF553B",
          "dash": "solid"
         },
         "marker": {
          "symbol": "circle"
         },
         "mode": "lines",
         "name": "KLK",
         "showlegend": true,
         "type": "scattergl",
         "x": {
          "bdata": "1wfYB9kH2gfbB9wH3QfeB98H4AfhB+IH4wfkB+UH5gfnBw==",
          "dtype": "i2"
         },
         "xaxis": "x",
         "y": {
          "bdata": "BJ02EBs6RUF4d3c3ix5DQUVERMSRYkZBIiIiAldqQ0EYS34RuXhDQXh3d/fDVUBBtYFOm//oQEE6baATTaI5QSIiIqKokzpBAAAAANrOOkGIiIgIqqY3QSIiIqLkF0JB0wY67VF4OUEHOm2gFE42QTfQacM9eUFBzczMTKJ+P0H8YskvFAE9QQ==",
          "dtype": "f8"
         },
         "yaxis": "y"
        },
        {
         "hovertemplate": "species=KOB<br>TIME_PERIOD=%{x}<br>OBS_VALUE=%{y}<extra></extra>",
         "legendgroup": "KOB",
         "line": {
          "color": "#00cc96",
          "dash": "solid"
         },
         "marker": {
          "symbol": "circle"
         },
         "mode": "lines",
         "name": "KOB",
         "showlegend": true,
         "type": "scattergl",
         "x": {
          "bdata": "5Qc=",
          "dtype": "i2"
         },
         "xaxis": "x",
         "y": {
          "bdata": "U+SzbjBFZEA=",
          "dtype": "f8"
         },
         "yaxis": "y"
        },
        {
         "hovertemplate": "species=LBE<br>TIME_PERIOD=%{x}<br>OBS_VALUE=%{y}<extra></extra>",
         "legendgroup": "LBE",
         "line": {
          "color": "#ab63fa",
          "dash": "solid"
         },
         "marker": {
          "symbol": "circle"
         },
         "mode": "lines",
         "name": "LBE",
         "showlegend": true,
         "type": "scattergl",
         "x": {
          "bdata": "1QfWB9cH2AfZB9oH2wfcB90H3gffB+AH4QfiB+MH5AflB+YH5wc=",
          "dtype": "i2"
         },
         "xaxis": "x",
         "y": {
          "bdata": "6CDVnXAXBkGrqqqqikgFQbu7u7sjBAZBaQOdNmhdCkEAAAAAcOMOQRhLfrFQIRJBhetRuNp1DkEs+cWSE3kJQWAs+cVgBwtBiIiIiKALB0EUrkfhPiYEQYFOG+ie9ApBq6qqqqZ8CEENdNpAc1YEQauqqqqC0BFBVVVVVWkQBUGnDXTaUFAAQSIiIiIy9QFBu7u7u4uHA0E=",
          "dtype": "f8"
         },
         "yaxis": "y"
        },
        {
         "hovertemplate": "species=LDB<br>TIME_PERIOD=%{x}<br>OBS_VALUE=%{y}<extra></extra>",
         "legendgroup": "LDB",
         "line": {
          "color": "#FFA15A",
          "dash": "solid"
         },
         "marker": {
          "symbol": "circle"
         },
         "mode": "lines",
         "name": "LDB",
         "showlegend": true,
         "type": "scattergl",
         "x": {
          "bdata": "4QfiB+MH5Ac=",
          "dtype": "i2"
         },
         "xaxis": "x",
         "y": {
          "bdata": "C9ejcD3npkAHOm2gK4D1QIXrUbiuRvFAOm2g0wbJpUA=",
          "dtype": "f8"
         },
         "yaxis": "y"
        },
        {
         "hovertemplate": "species=LDV<br>TIME_PERIOD=%{x}<br>OBS_VALUE=%{y}<extra></extra>",
         "legendgroup": "LDV",
         "line": {
          "color": "#19d3f3",
          "dash": "solid"
         },
         "marker": {
          "symbol": "circle"
         },
         "mode": "lines",
         "name": "LDV",
         "showlegend": true,
         "type": "scattergl",
         "x": {
          "bdata": "4QfiB+MH5AflB+YH5wc=",
          "dtype": "i2"
         },
         "xaxis": "x",
         "y": {
          "bdata": "56FjeHF+aEBFRERERIvWQOQXS36RMtJAlvxiyd+l0EBI4XoUrvaxQEVERETELb9ASOF6FG7Ds0A=",
          "dtype": "f8"
         },
         "yaxis": "y"
        },
        {
         "hovertemplate": "species=LEE<br>TIME_PERIOD=%{x}<br>OBS_VALUE=%{y}<extra></extra>",
         "legendgroup": "LEE",
         "line": {
          "color": "#FF6692",
          "dash": "solid"
         },
         "marker": {
          "symbol": "circle"
         },
         "mode": "lines",
         "name": "LEE",
         "showlegend": true,
         "type": "scattergl",
         "x": {
          "bdata": "1wfYB9kH2gfbB9wH3QfeB98H4AfhB+IH4wfkB+UH5gfnBw==",
          "dtype": "i2"
         },
         "xaxis": "x",
         "y": {
          "bdata": "KFyPwtVT9EBVVVVVxXbjQIJOG+hEkfFAWfKLJd/47kBiyS+WZLv5QD4K16MQ2PNAOm2g09T1EUGIiIiIdqgLQe/u7u6GSgpBKFyPwlEgB0F7FK5HpUz3QL9Y8ouxshBBdNpAp4WfAkFOG+i0sUj0QBzotIFGqfFAAAAAAPgsA0F4d3d3V6z4QA==",
          "dtype": "f8"
         },
         "yaxis": "y"
        },
        {
         "hovertemplate": "species=LEM<br>TIME_PERIOD=%{x}<br>OBS_VALUE=%{y}<extra></extra>",
         "legendgroup": "LEM",
         "line": {
          "color": "#B6E880",
          "dash": "solid"
         },
         "marker": {
          "symbol": "circle"
         },
         "mode": "lines",
         "name": "LEM",
         "showlegend": true,
         "type": "scattergl",
         "x": {
          "bdata": "ywfMBw==",
          "dtype": "i2"
         },
         "xaxis": "x",
         "y": {
          "bdata": "q6qqqqo7tkBVVVVVVX++QA==",
          "dtype": "f8"
         },
         "yaxis": "y"
        },
        {
         "hovertemplate": "species=LEP<br>TIME_PERIOD=%{x}<br>OBS_VALUE=%{y}<extra></extra>",
         "legendgroup": "LEP",
         "line": {
          "color": "#FF97FF",
          "dash": "solid"
         },
         "marker": {
          "symbol": "circle"
         },
         "mode": "lines",
         "name": "LEP",
         "showlegend": true,
         "type": "scattergl",
         "x": {
          "bdata": "4QfiB+MH5AflB+YH5wc=",
          "dtype": "i2"
         },
         "xaxis": "x",
         "y": {
          "bdata": "yS+W/KJSs0B4d3d3l0zLQDwK16PwAMhApw102uCmxkB4d3d391q0QIiIiIiI8K5A1AY6baDtokA=",
          "dtype": "f8"
         },
         "yaxis": "y"
        },
        {
         "hovertemplate": "species=LEZ<br>TIME_PERIOD=%{x}<br>OBS_VALUE=%{y}<extra></extra>",
         "legendgroup": "LEZ",
         "line": {
          "color": "#FECB52",
          "dash": "solid"
         },
         "marker": {
          "symbol": "circle"
         },
         "mode": "lines",
         "name": "LEZ",
         "showlegend": true,
         "type": "scattergl",
         "x": {
          "bdata": "5AflB+YH5wc=",
          "dtype": "i2"
         },
         "xaxis": "x",
         "y": {
          "bdata": "YCz5xRrj6kBtoNMGOjrcQJmZmZkpQOBAVVVVVXWd40A=",
          "dtype": "f8"
         },
         "yaxis": "y"
        },
        {
         "hovertemplate": "species=LKN<br>TIME_PERIOD=%{x}<br>OBS_VALUE=%{y}<extra></extra>",
         "legendgroup": "LKN",
         "line": {
          "color": "#636efa",
          "dash": "solid"
         },
         "marker": {
          "symbol": "circle"
         },
         "mode": "lines",
         "name": "LKN",
         "showlegend": true,
         "type": "scattergl",
         "x": {
          "bdata": "4gfjBw==",
          "dtype": "i2"
         },
         "xaxis": "x",
         "y": {
          "bdata": "ERERERGClECamZmZmeOUQA==",
          "dtype": "f8"
         },
         "yaxis": "y"
        },
        {
         "hovertemplate": "species=LKW<br>TIME_PERIOD=%{x}<br>OBS_VALUE=%{y}<extra></extra>",
         "legendgroup": "LKW",
         "line": {
          "color": "#EF553B",
          "dash": "solid"
         },
         "marker": {
          "symbol": "circle"
         },
         "mode": "lines",
         "name": "LKW",
         "showlegend": true,
         "type": "scattergl",
         "x": {
          "bdata": "4gfjB+QH5QfnBw==",
          "dtype": "i2"
         },
         "xaxis": "x",
         "y": {
          "bdata": "5r6vJBcOJUHWvShUA+kjQSa/WPJLP9NA8oslvxigvEARERER0a3CQA==",
          "dtype": "f8"
         },
         "yaxis": "y"
        },
        {
         "hovertemplate": "species=LNZ<br>TIME_PERIOD=%{x}<br>OBS_VALUE=%{y}<extra></extra>",
         "legendgroup": "LNZ",
         "line": {
          "color": "#00cc96",
          "dash": "solid"
         },
         "marker": {
          "symbol": "circle"
         },
         "mode": "lines",
         "name": "LNZ",
         "showlegend": true,
         "type": "scattergl",
         "x": {
          "bdata": "1QfWBw==",
          "dtype": "i2"
         },
         "xaxis": "x",
         "y": {
          "bdata": "LLKd7yce2kARERER0fjbQA==",
          "dtype": "f8"
         },
         "yaxis": "y"
        },
        {
         "hovertemplate": "species=LTA<br>TIME_PERIOD=%{x}<br>OBS_VALUE=%{y}<extra></extra>",
         "legendgroup": "LTA",
         "line": {
          "color": "#ab63fa",
          "dash": "solid"
         },
         "marker": {
          "symbol": "circle"
         },
         "mode": "lines",
         "name": "LTA",
         "showlegend": true,
         "type": "scattergl",
         "x": {
          "bdata": "1wfYB9kH2gfbB9wH3QfeB98H4AfhB+IH4wfkB+UH5gfnBw==",
          "dtype": "i2"
         },
         "xaxis": "x",
         "y": {
          "bdata": "pHA9Ch/jH0HGkl8s9RsYQSz5xZJJLCdBfrHkF+orIEERERERaekcQXd3d3cnqBtBAAAAACStIkHlF0t+vdMgQXd3d3c/1ShBREREhBNWMEGu73K0SJQhQWAs+cUg9C1Bq6qq6hRQNUF+seQXjH0yQUVERER+sCNB7+7u7rRUJEHRaQOd9IkvQQ==",
          "dtype": "f8"
         },
         "yaxis": "y"
        },
        {
         "hovertemplate": "species=LZS<br>TIME_PERIOD=%{x}<br>OBS_VALUE=%{y}<extra></extra>",
         "legendgroup": "LZS",
         "line": {
          "color": "#FFA15A",
          "dash": "solid"
         },
         "marker": {
          "symbol": "circle"
         },
         "mode": "lines",
         "name": "LZS",
         "showlegend": true,
         "type": "scattergl",
         "x": {
          "bdata": "3wfgB+EH4wc=",
          "dtype": "i2"
         },
         "xaxis": "x",
         "y": {
          "bdata": "pHA9ChcyskBTuB6F6w6sQLLkF0vMkg1BdNpApw2hyEA=",
          "dtype": "f8"
         },
         "yaxis": "y"
        },
        {
         "hovertemplate": "species=LZZ<br>TIME_PERIOD=%{x}<br>OBS_VALUE=%{y}<extra></extra>",
         "legendgroup": "LZZ",
         "line": {
          "color": "#19d3f3",
          "dash": "solid"
         },
         "marker": {
          "symbol": "circle"
         },
         "mode": "lines",
         "name": "LZZ",
         "showlegend": true,
         "type": "scattergl",
         "x": {
          "bdata": "5AflB+YH5wc=",
          "dtype": "i2"
         },
         "xaxis": "x",
         "y": {
          "bdata": "BzptICTqKUGCThvosE4QQZqZmZktAh1BIiIiIt5mL0E=",
          "dtype": "f8"
         },
         "yaxis": "y"
        },
        {
         "hovertemplate": "species=MAC<br>TIME_PERIOD=%{x}<br>OBS_VALUE=%{y}<extra></extra>",
         "legendgroup": "MAC",
         "line": {
          "color": "#FF6692",
          "dash": "solid"
         },
         "marker": {
          "symbol": "circle"
         },
         "mode": "lines",
         "name": "MAC",
         "showlegend": true,
         "type": "scattergl",
         "x": {
          "bdata": "1QfWB9cH2AfZB9oH2wfcB90H3gffB+AH4QfiB+MH5AflB+YH5wc=",
          "dtype": "i2"
         },
         "xaxis": "x",
         "y": {
          "bdata": "FPidmW8kQEE6baDTito5QauqqqoxrDdBpHA9yhYvMkERERER9qg1QW6g0wYeYjZBw/Uo3DpSMkFY8oulcTQyQb9Y8kvKjDVBOm2gU3BUNEHGkl9s9W8xQTGW/GL8yCVB7+7u7ouaM0EiIiKiizI4QZf8YsnEkTVBS36xZL1LJ0FApw30gQ8oQbu7u7tUwiRBq6qqqoI3HkE=",
          "dtype": "f8"
         },
         "yaxis": "y"
        },
        {
         "hovertemplate": "species=MAZ<br>TIME_PERIOD=%{x}<br>OBS_VALUE=%{y}<extra></extra>",
         "legendgroup": "MAZ",
         "line": {
          "color": "#B6E880",
          "dash": "solid"
         },
         "marker": {
          "symbol": "circle"
         },
         "mode": "lines",
         "name": "MAZ",
         "showlegend": true,
         "type": "scattergl",
         "x": {
          "bdata": "yAfJB8oHywfMB80HzgfPB9AH0QfSB9MH1AfVB9YH4gfjB+QH5QfmB+cH",
          "dtype": "i2"
         },
         "xaxis": "x",
         "y": {
          "bdata": "AAAAABzURUFVVVXVpPtHQVVVVVXOgEBBAAAAgKLpRUFVVVVV7ApMQVVVVVWiPkpBAAAAgIQgS0EAAACA2mFGQZCdyoRdNEdBVzaG44q+TEFWM1he39OrQHL24fOpaEdBLfzztwNeQkEkTam4aLkiQfxiyS8rnR5BR+F6FJ5G50BxPQrXO1TgQHTaQKf9selAeHd3d3emm0AiIiIiIjCRQH6x5BdLq5ZA",
          "dtype": "f8"
         },
         "yaxis": "y"
        },
        {
         "hovertemplate": "species=MEG<br>TIME_PERIOD=%{x}<br>OBS_VALUE=%{y}<extra></extra>",
         "legendgroup": "MEG",
         "line": {
          "color": "#FF97FF",
          "dash": "solid"
         },
         "marker": {
          "symbol": "circle"
         },
         "mode": "lines",
         "name": "MEG",
         "showlegend": true,
         "type": "scattergl",
         "x": {
          "bdata": "1QfWB+IH4wc=",
          "dtype": "i2"
         },
         "xaxis": "x",
         "y": {
          "bdata": "AAAAAIBTyUAAAAAAAAAAAGAs+cVS+ctAqqqqqoqm0EA=",
          "dtype": "f8"
         },
         "yaxis": "y"
        },
        {
         "hovertemplate": "species=MGA<br>TIME_PERIOD=%{x}<br>OBS_VALUE=%{y}<extra></extra>",
         "legendgroup": "MGA",
         "line": {
          "color": "#FECB52",
          "dash": "solid"
         },
         "marker": {
          "symbol": "circle"
         },
         "mode": "lines",
         "name": "MGA",
         "showlegend": true,
         "type": "scattergl",
         "x": {
          "bdata": "3wfgB+EH4gfjB+QH",
          "dtype": "i2"
         },
         "xaxis": "x",
         "y": {
          "bdata": "7+7u7vYOBkGPwvUo5NcIQauqqqpGCxtB3t3d3b0R30De3d3dlUjwQMaSXyz5iqdA",
          "dtype": "f8"
         },
         "yaxis": "y"
        },
        {
         "hovertemplate": "species=MGC<br>TIME_PERIOD=%{x}<br>OBS_VALUE=%{y}<extra></extra>",
         "legendgroup": "MGC",
         "line": {
          "color": "#636efa",
          "dash": "solid"
         },
         "marker": {
          "symbol": "circle"
         },
         "mode": "lines",
         "name": "MGC",
         "showlegend": true,
         "type": "scattergl",
         "x": {
          "bdata": "3wfgB+EH4gfjB+QH",
          "dtype": "i2"
         },
         "xaxis": "x",
         "y": {
          "bdata": "EhEREfvDG0GkcD0KyEkeQTwK16PUdR9BRERERP4REEFLfrHk3LolQT4K16NwhYpA",
          "dtype": "f8"
         },
         "yaxis": "y"
        },
        {
         "hovertemplate": "species=MGS<br>TIME_PERIOD=%{x}<br>OBS_VALUE=%{y}<extra></extra>",
         "legendgroup": "MGS",
         "line": {
          "color": "#EF553B",
          "dash": "solid"
         },
         "marker": {
          "symbol": "circle"
         },
         "mode": "lines",
         "name": "MGS",
         "showlegend": true,
         "type": "scattergl",
         "x": {
          "bdata": "4wc=",
          "dtype": "i2"
         },
         "xaxis": "x",
         "y": {
          "bdata": "w/UoXA+RwUA=",
          "dtype": "f8"
         },
         "yaxis": "y"
        },
        {
         "hovertemplate": "species=MKG<br>TIME_PERIOD=%{x}<br>OBS_VALUE=%{y}<extra></extra>",
         "legendgroup": "MKG",
         "line": {
          "color": "#00cc96",
          "dash": "solid"
         },
         "marker": {
          "symbol": "circle"
         },
         "mode": "lines",
         "name": "MKG",
         "showlegend": true,
         "type": "scattergl",
         "x": {
          "bdata": "4gfjBw==",
          "dtype": "i2"
         },
         "xaxis": "x",
         "y": {
          "bdata": "84slv1gcrUC/WPKLJUCpQA==",
          "dtype": "f8"
         },
         "yaxis": "y"
        },
        {
         "hovertemplate": "species=MLR<br>TIME_PERIOD=%{x}<br>OBS_VALUE=%{y}<extra></extra>",
         "legendgroup": "MLR",
         "line": {
          "color": "#ab63fa",
          "dash": "solid"
         },
         "marker": {
          "symbol": "circle"
         },
         "mode": "lines",
         "name": "MLR",
         "showlegend": true,
         "type": "scattergl",
         "x": {
          "bdata": "4gfjB+QH",
          "dtype": "i2"
         },
         "xaxis": "x",
         "y": {
          "bdata": "7+7u7m4GwUBBpw102j7BQK5H4XoUkZlA",
          "dtype": "f8"
         },
         "yaxis": "y"
        },
        {
         "hovertemplate": "species=MMH<br>TIME_PERIOD=%{x}<br>OBS_VALUE=%{y}<extra></extra>",
         "legendgroup": "MMH",
         "line": {
          "color": "#FFA15A",
          "dash": "solid"
         },
         "marker": {
          "symbol": "circle"
         },
         "mode": "lines",
         "name": "MMH",
         "showlegend": true,
         "type": "scattergl",
         "x": {
          "bdata": "3wfgB+EH4gfjB+QH5QfmB+cH",
          "dtype": "i2"
         },
         "xaxis": "x",
         "y": {
          "bdata": "ERERET2QAEFVVVVVhSUAQTttoNPkxgVBMzMzM+9bC0GMJb9Y2hENQdFpA50SmAdBVVVVVdlXBEGrqqqqtrsEQZf8YskbHQdB",
          "dtype": "f8"
         },
         "yaxis": "y"
        },
        {
         "hovertemplate": "species=MNZ<br>TIME_PERIOD=%{x}<br>OBS_VALUE=%{y}<extra></extra>",
         "legendgroup": "MNZ",
         "line": {
          "color": "#19d3f3",
          "dash": "solid"
         },
         "marker": {
          "symbol": "circle"
         },
         "mode": "lines",
         "name": "MNZ",
         "showlegend": true,
         "type": "scattergl",
         "x": {
          "bdata": "1QfWB9cH2AfZB9oH2wfcB90H3gflB+YH5wc=",
          "dtype": "i2"
         },
         "xaxis": "x",
         "y": {
          "bdata": "1AY6ZZyzU0GW/GJ5VTpVQckvlpx1AVRB1AY6rcr6UUEAAABwf7JTQS+W/OIKB1VB7FG4fo2kU0HXo3B93UhRQSz5xZIXSEtBIiIioj7+SEHWDabIZ11RQGZmZmZmDaRAwhT5rBvsZkA=",
          "dtype": "f8"
         },
         "yaxis": "y"
        },
        {
         "hovertemplate": "species=MOL<br>TIME_PERIOD=%{x}<br>OBS_VALUE=%{y}<extra></extra>",
         "legendgroup": "MOL",
         "line": {
          "color": "#FF6692",
          "dash": "solid"
         },
         "marker": {
          "symbol": "circle"
         },
         "mode": "lines",
         "name": "MOL",
         "showlegend": true,
         "type": "scattergl",
         "x": {
          "bdata": "yAfJB8oHywfMB80HzgfPB9AH0QfSB9MH1AfVB9YH1wfYB9kH2gfbB9wH3QfeB98H4AfhB+IH4wfkB+UH5gfnBw==",
          "dtype": "i2"
         },
         "xaxis": "x",
         "y": {
          "bdata": "AAAAiMxeh0EAAABAAuGEQQAAAEBLzX9B5DiOs1DbekEAAACgyA2BQRzHcQy4D3xBVVVVZSDifUHkOI7j3pF8Qcxqp7IsAoFBov1TTi8lgUF3uYjvlufkQNLe4C+8GplBGUu+LegKmEESg8AuP7dvQUCnDRTK7mpBREREROYjLUGPwvUoDrQvQauqqipLKy1B5hdL/p84KUFSuB4FGZItQUGnDbRMFDNBL5b8Yo2vHEHlF0t+m3grQckvlvyexSNBBJ020Er/JEHL8LKZO9EsQeF6FK4CPDFBWfKLJYYiNUFEREREOIYSQQAAAABItAFB3t3d3R1x/EDe3d3dOWfxQA==",
          "dtype": "f8"
         },
         "yaxis": "y"
        },
        {
         "hovertemplate": "species=MON<br>TIME_PERIOD=%{x}<br>OBS_VALUE=%{y}<extra></extra>",
         "legendgroup": "MON",
         "line": {
          "color": "#B6E880",
          "dash": "solid"
         },
         "marker": {
          "symbol": "circle"
         },
         "mode": "lines",
         "name": "MON",
         "showlegend": true,
         "type": "scattergl",
         "x": {
          "bdata": "3wfgB+EH4gfjB+QH5QfmB+cH",
          "dtype": "i2"
         },
         "xaxis": "x",
         "y": {
          "bdata": "mZmZGaHlLEHJL5b8E50wQe/u7m5pniFBVVVVVZczKkFK/6UfEz4fQVyPwrUGgRRB12670BDVOEE3ww2Iybo2QTCW/OK45UBB",
          "dtype": "f8"
         },
         "yaxis": "y"
        },
        {
         "hovertemplate": "species=MPO<br>TIME_PERIOD=%{x}<br>OBS_VALUE=%{y}<extra></extra>",
         "legendgroup": "MPO",
         "line": {
          "color": "#FF97FF",
          "dash": "solid"
         },
         "marker": {
          "symbol": "circle"
         },
         "mode": "lines",
         "name": "MPO",
         "showlegend": true,
         "type": "scattergl",
         "x": {
          "bdata": "4gfjBw==",
          "dtype": "i2"
         },
         "xaxis": "x",
         "y": {
          "bdata": "8oslv1gOk0AOdNpApwWEQA==",
          "dtype": "f8"
         },
         "yaxis": "y"
        },
        {
         "hovertemplate": "species=MPT<br>TIME_PERIOD=%{x}<br>OBS_VALUE=%{y}<extra></extra>",
         "legendgroup": "MPT",
         "line": {
          "color": "#FECB52",
          "dash": "solid"
         },
         "marker": {
          "symbol": "circle"
         },
         "mode": "lines",
         "name": "MPT",
         "showlegend": true,
         "type": "scattergl",
         "x": {
          "bdata": "3wfgB+EH4gfjB+QH",
          "dtype": "i2"
         },
         "xaxis": "x",
         "y": {
          "bdata": "WfKLJTf+FEEpXI/CQRYdQQHU1DLK2g1BZ2ZmZmQ7AkGkcD0K32ABQQ502kCnfalA",
          "dtype": "f8"
         },
         "yaxis": "y"
        },
        {
         "hovertemplate": "species=MRK<br>TIME_PERIOD=%{x}<br>OBS_VALUE=%{y}<extra></extra>",
         "legendgroup": "MRK",
         "line": {
          "color": "#636efa",
          "dash": "solid"
         },
         "marker": {
          "symbol": "circle"
         },
         "mode": "lines",
         "name": "MRK",
         "showlegend": true,
         "type": "scattergl",
         "x": {
          "bdata": "4gfjBw==",
          "dtype": "i2"
         },
         "xaxis": "x",
         "y": {
          "bdata": "ERERERHVmEDUBjptoMOZQA==",
          "dtype": "f8"
         },
         "yaxis": "y"
        },
        {
         "hovertemplate": "species=MSF<br>TIME_PERIOD=%{x}<br>OBS_VALUE=%{y}<extra></extra>",
         "legendgroup": "MSF",
         "line": {
          "color": "#EF553B",
          "dash": "solid"
         },
         "marker": {
          "symbol": "circle"
         },
         "mode": "lines",
         "name": "MSF",
         "showlegend": true,
         "type": "scattergl",
         "x": {
          "bdata": "3wfgB+EH4gfjB+QH5QfnBw==",
          "dtype": "i2"
         },
         "xaxis": "x",
         "y": {
          "bdata": "UrgeheycJEEdpLoTGjAhQQko+mlVPh5Bsw+f4aT4GkFDNqP5tREdQaHTBjpNzNpAp6Y3NlDGAEHaQKcNcNIHQQ==",
          "dtype": "f8"
         },
         "yaxis": "y"
        },
        {
         "hovertemplate": "species=MSM<br>TIME_PERIOD=%{x}<br>OBS_VALUE=%{y}<extra></extra>",
         "legendgroup": "MSM",
         "line": {
          "color": "#00cc96",
          "dash": "solid"
         },
         "marker": {
          "symbol": "circle"
         },
         "mode": "lines",
         "name": "MSM",
         "showlegend": true,
         "type": "scattergl",
         "x": {
          "bdata": "4gfjB+QH5Qc=",
          "dtype": "i2"
         },
         "xaxis": "x",
         "y": {
          "bdata": "rkfheriPFEEHOm2gPDwgQSa/WPIfihZBAAAAAIwfGkE=",
          "dtype": "f8"
         },
         "yaxis": "y"
        },
        {
         "hovertemplate": "species=MSP<br>TIME_PERIOD=%{x}<br>OBS_VALUE=%{y}<extra></extra>",
         "legendgroup": "MSP",
         "line": {
          "color": "#ab63fa",
          "dash": "solid"
         },
         "marker": {
          "symbol": "circle"
         },
         "mode": "lines",
         "name": "MSP",
         "showlegend": true,
         "type": "scattergl",
         "x": {
          "bdata": "4gfjB+QH5QfmB+cH",
          "dtype": "i2"
         },
         "xaxis": "x",
         "y": {
          "bdata": "EhEREZGf10BmZmZmRhXsQDptoNPmx9lArkfhetQB4ECrqqqqqo8MQYXrUbheeNtA",
          "dtype": "f8"
         },
         "yaxis": "y"
        },
        {
         "hovertemplate": "species=MTS<br>TIME_PERIOD=%{x}<br>OBS_VALUE=%{y}<extra></extra>",
         "legendgroup": "MTS",
         "line": {
          "color": "#FFA15A",
          "dash": "solid"
         },
         "marker": {
          "symbol": "circle"
         },
         "mode": "lines",
         "name": "MTS",
         "showlegend": true,
         "type": "scattergl",
         "x": {
          "bdata": "1QfWB9cH2AfZB9oH2wfcB90H3gffB+AH4QfiB+MH5AflB+YH5wc=",
          "dtype": "i2"
         },
         "xaxis": "x",
         "y": {
          "bdata": "7+7usGHZZkEL16MQR39qQWLJLzZgmGtBAAAAuH0TaUFVVVUla0dpQVVVVa14BmdB7+7uvgDVZkFxPQqXGrtiQVK4Ht1WB2JBBzptAGhQYUF4d3e/+VxjQZqZmRm7C2RBS36xzHEqYUHRaQP9z/pkQfnFkr8nuF9B+cWSn3tyWUEDnTZAMj9gQauqqgqLb2BBKVyPwlpBXkE=",
          "dtype": "f8"
         },
         "yaxis": "y"
        },
        {
         "hovertemplate": "species=MUE<br>TIME_PERIOD=%{x}<br>OBS_VALUE=%{y}<extra></extra>",
         "legendgroup": "MUE",
         "line": {
          "color": "#19d3f3",
          "dash": "solid"
         },
         "marker": {
          "symbol": "circle"
         },
         "mode": "lines",
         "name": "MUE",
         "showlegend": true,
         "type": "scattergl",
         "x": {
          "bdata": "3wfgB+EH4gfjB+QH5QfmB+cH",
          "dtype": "i2"
         },
         "xaxis": "x",
         "y": {
          "bdata": "eHd3dyH9FEG/WPKLrZYaQZf8Yslvm91AVVVVVQHq/kBmZmZmdl/9QM3MzMyMV/VAsuQXS/4A40Dv7u7urqvDQJqZmZmJY9NA",
          "dtype": "f8"
         },
         "yaxis": "y"
        },
        {
         "hovertemplate": "species=MUF<br>TIME_PERIOD=%{x}<br>OBS_VALUE=%{y}<extra></extra>",
         "legendgroup": "MUF",
         "line": {
          "color": "#FF6692",
          "dash": "solid"
         },
         "marker": {
          "symbol": "circle"
         },
         "mode": "lines",
         "name": "MUF",
         "showlegend": true,
         "type": "scattergl",
         "x": {
          "bdata": "3wfgB+EH4gfjB+QH",
          "dtype": "i2"
         },
         "xaxis": "x",
         "y": {
          "bdata": "L5b8YqnD5EAAAAAAQJ3aQG6g0wb3ABlBBJ020Amd4UDotIFO21/vQDMzMzMzMq9A",
          "dtype": "f8"
         },
         "yaxis": "y"
        },
        {
         "hovertemplate": "species=MUL<br>TIME_PERIOD=%{x}<br>OBS_VALUE=%{y}<extra></extra>",
         "legendgroup": "MUL",
         "line": {
          "color": "#B6E880",
          "dash": "solid"
         },
         "marker": {
          "symbol": "circle"
         },
         "mode": "lines",
         "name": "MUL",
         "showlegend": true,
         "type": "scattergl",
         "x": {
          "bdata": "yAfJB8oHywfMB80HzgfPB9AH0QfSB9MH1AfVB9YH1wfYB9kH2gfbB9wH3QfeB98H4AfhB+IH4wfkB+UH5gfnBw==",
          "dtype": "i2"
         },
         "xaxis": "x",
         "y": {
          "bdata": "q6qqqqPiTEEAAAAA+JxLQQAAAICVvURBVVVVVTFYSUGrqqrqHDxRQauqqir7nkZBq6qqqlXuRkFVVVXVGL1EQRx8YRL9vkFBp+hIjuSYRUEtRkqgbs2pQJhxQOiLKUNB1QyWx6x/R0Fkggdzn99AQSz5xZICiTVB57SBTlIvOkFgLPnFQLs0QUt+saRDzjNBL5b8YoBbNkEEnTZQJEBBQVVVVZVjmztBq6qqKgsjPkERERHRYhc+QcL1KNw5azFBYskvFprnNUGBThvodOPUQHh3d3esXDlB9ShcD182NkFFREREzSwuQauqqioJeDdBu7u7uyquNkFxPQrXKvcuQQ==",
          "dtype": "f8"
         },
         "yaxis": "y"
        },
        {
         "hovertemplate": "species=MUR<br>TIME_PERIOD=%{x}<br>OBS_VALUE=%{y}<extra></extra>",
         "legendgroup": "MUR",
         "line": {
          "color": "#FF97FF",
          "dash": "solid"
         },
         "marker": {
          "symbol": "circle"
         },
         "mode": "lines",
         "name": "MUR",
         "showlegend": true,
         "type": "scattergl",
         "x": {
          "bdata": "1QfWB9cH2AfZB9oH2wfcB90H3gffB+AH4QfiB+MH5AflB+YH5wc=",
          "dtype": "i2"
         },
         "xaxis": "x",
         "y": {
          "bdata": "O5X5VCGabEE20GnDfOprQT4K10P8sWhBMzMzI23GYkHGkl9sa2RhQREREREPAWJBIiIioqWbXkGrqqqqPptXQauqqvoB+ldBMzMzkzvFV0Hu7u5+YYdWQQY6bZCQuldBaQOdVmz9WEH3GRcm6uxOQfUQjaYbXkRBbkQK2NKCQkH1WuP2mutFQf9g4MGVnEdBN9BpA8BaTkE=",
          "dtype": "f8"
         },
         "yaxis": "y"
        },
        {
         "hovertemplate": "species=MUT<br>TIME_PERIOD=%{x}<br>OBS_VALUE=%{y}<extra></extra>",
         "legendgroup": "MUT",
         "line": {
          "color": "#FECB52",
          "dash": "solid"
         },
         "marker": {
          "symbol": "circle"
         },
         "mode": "lines",
         "name": "MUT",
         "showlegend": true,
         "type": "scattergl",
         "x": {
          "bdata": "1QfWB9cH2AfZB9oH2wfcB90H3gffB+AH4QfiB+MH5AflB+YH5wc=",
          "dtype": "i2"
         },
         "xaxis": "x",
         "y": {
          "bdata": "44BwkzOIcEGCThtsw3lwQSa/WEKeWG1BkcL18BBiZkFVVVW9X3xjQdFpA4XVE2NBMzMzM0UrYUGnDXRaWnhjQRvotMFEm15BiIiISMnzYUHhehTuVDhkQVhuaUFC7VdB3lF2sZQwWEGVLuqstjJZQUOQg3bPWVJBXI/CVTXXUUHO9CVuiBVLQYL/rdyztUZBBzpt4FCxUUE=",
          "dtype": "f8"
         },
         "yaxis": "y"
        },
        {
         "hovertemplate": "species=MUX<br>TIME_PERIOD=%{x}<br>OBS_VALUE=%{y}<extra></extra>",
         "legendgroup": "MUX",
         "line": {
          "color": "#636efa",
          "dash": "solid"
         },
         "marker": {
          "symbol": "circle"
         },
         "mode": "lines",
         "name": "MUX",
         "showlegend": true,
         "type": "scattergl",
         "x": {
          "bdata": "3wflBw==",
          "dtype": "i2"
         },
         "xaxis": "x",
         "y": {
          "bdata": "mpmZmWkh5EDu7u7uxmH9QA==",
          "dtype": "f8"
         },
         "yaxis": "y"
        },
        {
         "hovertemplate": "species=MYL<br>TIME_PERIOD=%{x}<br>OBS_VALUE=%{y}<extra></extra>",
         "legendgroup": "MYL",
         "line": {
          "color": "#EF553B",
          "dash": "solid"
         },
         "marker": {
          "symbol": "circle"
         },
         "mode": "lines",
         "name": "MYL",
         "showlegend": true,
         "type": "scattergl",
         "x": {
          "bdata": "4gfjBw==",
          "dtype": "i2"
         },
         "xaxis": "x",
         "y": {
          "bdata": "u7u7u7tDpUDYo3A9Cj+jQA==",
          "dtype": "f8"
         },
         "yaxis": "y"
        },
        {
         "hovertemplate": "species=MZZ<br>TIME_PERIOD=%{x}<br>OBS_VALUE=%{y}<extra></extra>",
         "legendgroup": "MZZ",
         "line": {
          "color": "#00cc96",
          "dash": "solid"
         },
         "marker": {
          "symbol": "circle"
         },
         "mode": "lines",
         "name": "MZZ",
         "showlegend": true,
         "type": "scattergl",
         "x": {
          "bdata": "1wfYB9kH2gfbB9wH3QfeB98H4AfhB+IH4wfkB+UH5gfnBw==",
          "dtype": "i2"
         },
         "xaxis": "x",
         "y": {
          "bdata": "G+i0Ufy5cUEREREpFWx0QQAAAFh59XxBVVVVebgRd0GkcD3mj3l0QQAAAMjz6G9BXyz5VUE5YkG/WPJ7tf9gQS+W/JIqoVNBZ2ZmNiYDUEHKPyBN+1Y1QUorXJqq7TNBZqAynn1UN0E+cEdSi+U7QX6x5BdwqEBBDaj5A+fFL0ERERERxKM1QQ==",
          "dtype": "f8"
         },
         "yaxis": "y"
        },
        {
         "hovertemplate": "species=NAU<br>TIME_PERIOD=%{x}<br>OBS_VALUE=%{y}<extra></extra>",
         "legendgroup": "NAU",
         "line": {
          "color": "#ab63fa",
          "dash": "solid"
         },
         "marker": {
          "symbol": "circle"
         },
         "mode": "lines",
         "name": "NAU",
         "showlegend": true,
         "type": "scattergl",
         "x": {
          "bdata": "1wfYB9kH2gfbB9wH3QfeB98H4AfhB+IH4wfkB+UH5gfnBw==",
          "dtype": "i2"
         },
         "xaxis": "x",
         "y": {
          "bdata": "zczMzPwj+UDu7u7upvIIQVVVVVXpEgtBQKcNdPoG5kDlF0t+cSHqQKcNdNrgfuNArkfhenTTzEDRaQOddlDqQIiIiIjoouxA7+7u7uBuAUE6baDT1lz+QBWuR+HaCghBEREREdH580BpA5020LXkQE4b6LQhOelAq6qqqvqu4kDUBjptQBTTQA==",
          "dtype": "f8"
         },
         "yaxis": "y"
        },
        {
         "hovertemplate": "species=NEP<br>TIME_PERIOD=%{x}<br>OBS_VALUE=%{y}<extra></extra>",
         "legendgroup": "NEP",
         "line": {
          "color": "#FFA15A",
          "dash": "solid"
         },
         "marker": {
          "symbol": "circle"
         },
         "mode": "lines",
         "name": "NEP",
         "showlegend": true,
         "type": "scattergl",
         "x": {
          "bdata": "yAfJB8oHywfMB80HzgfPB9AH0QfSB9MH1AfVB9YH1wfYB9kH2gfbB9wH3QfeB98H4AfhB+IH4wfkB+UH5gfnBw==",
          "dtype": "i2"
         },
         "xaxis": "x",
         "y": {
          "bdata": "VVVVlXp0cUEAAADA50xnQauqqkrCx2hBq6qqKq3BZEFVVVVV4RNrQQAAAKAZHmxBq6qqKrobYUFVVVX17epmQTojSsmxnWRBJLwq+xmhZUEtsp3vp423QCD0bCxJpWVB6NZ+e3QsZEGuALlH3RR2QfYoXJ/e53hBSf5gGrvNbUG2UvX+FEtoQZ+DVPHJBWpBPDHrd0+OaEFwsaJwzTRkQXUCmiTQzV5BXrpJ8GvjW0HUDn+tDMZVQS7886MmlFVBhDeRlkn/VUG8AuRiCg5dQSGoLQTC7FtBGOyGkVnwVkEGTOCOBfhGQUnpv4R71kpBamKUMi9iRkEbpqMxAORJQQ==",
          "dtype": "f8"
         },
         "yaxis": "y"
        },
        {
         "hovertemplate": "species=NSQ<br>TIME_PERIOD=%{x}<br>OBS_VALUE=%{y}<extra></extra>",
         "legendgroup": "NSQ",
         "line": {
          "color": "#19d3f3",
          "dash": "solid"
         },
         "marker": {
          "symbol": "circle"
         },
         "mode": "lines",
         "name": "NSQ",
         "showlegend": true,
         "type": "scattergl",
         "x": {
          "bdata": "3wfgB+EH4gfjB+QH5QfmB+cH",
          "dtype": "i2"
         },
         "xaxis": "x",
         "y": {
          "bdata": "+cWSnxMhQkG8u7sbiwZBQaHTBpqclUBBq6qqapC8OUERERERH8o0QWLJL5aI3TZB0wY67QBKO0Hv7u7uQXE9QXsUrsdozDZB",
          "dtype": "f8"
         },
         "yaxis": "y"
        },
        {
         "hovertemplate": "species=OAM<br>TIME_PERIOD=%{x}<br>OBS_VALUE=%{y}<extra></extra>",
         "legendgroup": "OAM",
         "line": {
          "color": "#FF6692",
          "dash": "solid"
         },
         "marker": {
          "symbol": "circle"
         },
         "mode": "lines",
         "name": "OAM",
         "showlegend": true,
         "type": "scattergl",
         "x": {
          "bdata": "5AflB+YH5wc=",
          "dtype": "i2"
         },
         "xaxis": "x",
         "y": {
          "bdata": "VVVVVRVqD0E0MzMzw9EeQTMzMzOLlhRBAAAAAFyeDEE=",
          "dtype": "f8"
         },
         "yaxis": "y"
        },
        {
         "hovertemplate": "species=OBR<br>TIME_PERIOD=%{x}<br>OBS_VALUE=%{y}<extra></extra>",
         "legendgroup": "OBR",
         "line": {
          "color": "#B6E880",
          "dash": "solid"
         },
         "marker": {
          "symbol": "circle"
         },
         "mode": "lines",
         "name": "OBR",
         "showlegend": true,
         "type": "scattergl",
         "x": {
          "bdata": "4wc=",
          "dtype": "i2"
         },
         "xaxis": "x",
         "y": {
          "bdata": "EB3Di/MQWEA=",
          "dtype": "f8"
         },
         "yaxis": "y"
        },
        {
         "hovertemplate": "species=OCC<br>TIME_PERIOD=%{x}<br>OBS_VALUE=%{y}<extra></extra>",
         "legendgroup": "OCC",
         "line": {
          "color": "#FF97FF",
          "dash": "solid"
         },
         "marker": {
          "symbol": "circle"
         },
         "mode": "lines",
         "name": "OCC",
         "showlegend": true,
         "type": "scattergl",
         "x": {
          "bdata": "1wfYB9kH2gfbB9wH3QfeB98H4AfhB+IH4wfkB+UH5gfnBw==",
          "dtype": "i2"
         },
         "xaxis": "x",
         "y": {
          "bdata": "garkWkZuWEFxyXEfdBVVQaSSOt1kr1dBsE09gV2qVEHaQKf91hliQdijcI2YlVxBAAAAILa7WkHYo3AtbRFWQfxiya/7oVpBy+7J+7T/TUE5yWlysgFNQcpHZSlUnFlBlCiO3v8uW0HePNVxfTFUQRIKEYByClpBr/hz9wi9WUGPwvUIZ7ljQQ==",
          "dtype": "f8"
         },
         "yaxis": "y"
        },
        {
         "hovertemplate": "species=OCM<br>TIME_PERIOD=%{x}<br>OBS_VALUE=%{y}<extra></extra>",
         "legendgroup": "OCM",
         "line": {
          "color": "#FECB52",
          "dash": "solid"
         },
         "marker": {
          "symbol": "circle"
         },
         "mode": "lines",
         "name": "OCM",
         "showlegend": true,
         "type": "scattergl",
         "x": {
          "bdata": "1QfWB9cH2AfZB9oH2wfcB90H3gc=",
          "dtype": "i2"
         },
         "xaxis": "x",
         "y": {
          "bdata": "NKXinM+8ZkEAAACg4FFnQWsDnWZiG2ZBvLu724k+YUFVVVV1VFNhQVnyi+WBLF9BmZmZGVRQX0FVVVWVNe5cQVVVVfXg7mFBzMzMzJqFX0E=",
          "dtype": "f8"
         },
         "yaxis": "y"
        },
        {
         "hovertemplate": "species=OCZ<br>TIME_PERIOD=%{x}<br>OBS_VALUE=%{y}<extra></extra>",
         "legendgroup": "OCZ",
         "line": {
          "color": "#636efa",
          "dash": "solid"
         },
         "marker": {
          "symbol": "circle"
         },
         "mode": "lines",
         "name": "OCZ",
         "showlegend": true,
         "type": "scattergl",
         "x": {
          "bdata": "yAfJB8oHywfMB80HzgfPB9AH0QfSB9MH1AfVB9YH",
          "dtype": "i2"
         },
         "xaxis": "x",
         "y": {
          "bdata": "VVVV1Z/JXEFVVVW1+c5gQQAAACAJQWBBq6qqKtt5VEEAAABA7KlYQcdxHEcXH1pBVVVVVX/aX0HHcRyHajlcQY/mZkWYv1RBJlS/oBCVWEHkEe8TOuSvQNBqvZiTSVdBo9libFR0VUEVb2Q6ZoVbQZ6tll6/VVxB",
          "dtype": "f8"
         },
         "yaxis": "y"
        },
        {
         "hovertemplate": "species=OFJ<br>TIME_PERIOD=%{x}<br>OBS_VALUE=%{y}<extra></extra>",
         "legendgroup": "OFJ",
         "line": {
          "color": "#EF553B",
          "dash": "solid"
         },
         "marker": {
          "symbol": "circle"
         },
         "mode": "lines",
         "name": "OFJ",
         "showlegend": true,
         "type": "scattergl",
         "x": {
          "bdata": "4Ac=",
          "dtype": "i2"
         },
         "xaxis": "x",
         "y": {
          "bdata": "iIiIiIgYpUA=",
          "dtype": "f8"
         },
         "yaxis": "y"
        },
        {
         "hovertemplate": "species=OHQ<br>TIME_PERIOD=%{x}<br>OBS_VALUE=%{y}<extra></extra>",
         "legendgroup": "OHQ",
         "line": {
          "color": "#00cc96",
          "dash": "solid"
         },
         "marker": {
          "symbol": "circle"
         },
         "mode": "lines",
         "name": "OHQ",
         "showlegend": true,
         "type": "scattergl",
         "x": {
          "bdata": "4gfjB+QH5QfmB+cH",
          "dtype": "i2"
         },
         "xaxis": "x",
         "y": {
          "bdata": "k18s+QWbtED8YskvFiy3QFVVVVXVEadA0WkDnXZBs0CamZmZmUe1QFVVVVVVBZ9A",
          "dtype": "f8"
         },
         "yaxis": "y"
        },
        {
         "hovertemplate": "species=OMZ<br>TIME_PERIOD=%{x}<br>OBS_VALUE=%{y}<extra></extra>",
         "legendgroup": "OMZ",
         "line": {
          "color": "#ab63fa",
          "dash": "solid"
         },
         "marker": {
          "symbol": "circle"
         },
         "mode": "lines",
         "name": "OMZ",
         "showlegend": true,
         "type": "scattergl",
         "x": {
          "bdata": "1QfWB+EH4gfjB+QH5QfmB+cH",
          "dtype": "i2"
         },
         "xaxis": "x",
         "y": {
          "bdata": "UkmdEjcZYkEiIiJKrgVhQSa/WPKLLZNAKcPL5mgD0EAiIiIiwsXVQM3MzMxsL+xAq6qqqmKu+0DNzMzMIGMAQdFpA51qsANB",
          "dtype": "f8"
         },
         "yaxis": "y"
        },
        {
         "hovertemplate": "species=ONK<br>TIME_PERIOD=%{x}<br>OBS_VALUE=%{y}<extra></extra>",
         "legendgroup": "ONK",
         "line": {
          "color": "#FFA15A",
          "dash": "solid"
         },
         "marker": {
          "symbol": "circle"
         },
         "mode": "lines",
         "name": "ONK",
         "showlegend": true,
         "type": "scattergl",
         "x": {
          "bdata": "5AflB+YH5wc=",
          "dtype": "i2"
         },
         "xaxis": "x",
         "y": {
          "bdata": "IiIiIiLso0Dks24wRf5gQNC6wRT5rFlAYYp81g2md0A=",
          "dtype": "f8"
         },
         "yaxis": "y"
        },
        {
         "hovertemplate": "species=OQT<br>TIME_PERIOD=%{x}<br>OBS_VALUE=%{y}<extra></extra>",
         "legendgroup": "OQT",
         "line": {
          "color": "#19d3f3",
          "dash": "solid"
         },
         "marker": {
          "symbol": "circle"
         },
         "mode": "lines",
         "name": "OQT",
         "showlegend": true,
         "type": "scattergl",
         "x": {
          "bdata": "4gfjB+QH5QfmB+cH",
          "dtype": "i2"
         },
         "xaxis": "x",
         "y": {
          "bdata": "tIFOGyg+20A6baDTFqLhQFVVVVWVPNxAq6qqqup01kC8u7u7u+HSQDMzMzPzF9FA",
          "dtype": "f8"
         },
         "yaxis": "y"
        },
        {
         "hovertemplate": "species=OQU<br>TIME_PERIOD=%{x}<br>OBS_VALUE=%{y}<extra></extra>",
         "legendgroup": "OQU",
         "line": {
          "color": "#FF6692",
          "dash": "solid"
         },
         "marker": {
          "symbol": "circle"
         },
         "mode": "lines",
         "name": "OQU",
         "showlegend": true,
         "type": "scattergl",
         "x": {
          "bdata": "5Qc=",
          "dtype": "i2"
         },
         "xaxis": "x",
         "y": {
          "bdata": "vLu7uwtt8EA=",
          "dtype": "f8"
         },
         "yaxis": "y"
        },
        {
         "hovertemplate": "species=OUB<br>TIME_PERIOD=%{x}<br>OBS_VALUE=%{y}<extra></extra>",
         "legendgroup": "OUB",
         "line": {
          "color": "#B6E880",
          "dash": "solid"
         },
         "marker": {
          "symbol": "circle"
         },
         "mode": "lines",
         "name": "OUB",
         "showlegend": true,
         "type": "scattergl",
         "x": {
          "bdata": "4gfjB+QH5QfmB+cH",
          "dtype": "i2"
         },
         "xaxis": "x",
         "y": {
          "bdata": "YCz5xRJFqkB02kCnDQasQO/u7u7OQMVA7+7u7m6JzUBmZmZmJkzDQIiIiIgIEblA",
          "dtype": "f8"
         },
         "yaxis": "y"
        },
        {
         "hovertemplate": "species=OUM<br>TIME_PERIOD=%{x}<br>OBS_VALUE=%{y}<extra></extra>",
         "legendgroup": "OUM",
         "line": {
          "color": "#FF97FF",
          "dash": "solid"
         },
         "marker": {
          "symbol": "circle"
         },
         "mode": "lines",
         "name": "OUM",
         "showlegend": true,
         "type": "scattergl",
         "x": {
          "bdata": "4gfjB+QH5QfmB+cH",
          "dtype": "i2"
         },
         "xaxis": "x",
         "y": {
          "bdata": "DXTaQJHbLUFxPQrXmL0tQYJOG+gLEyVBIiIiour+JkFEREREYXshQTptoNPmciFB",
          "dtype": "f8"
         },
         "yaxis": "y"
        },
        {
         "hovertemplate": "species=OUW<br>TIME_PERIOD=%{x}<br>OBS_VALUE=%{y}<extra></extra>",
         "legendgroup": "OUW",
         "line": {
          "color": "#FECB52",
          "dash": "solid"
         },
         "marker": {
          "symbol": "circle"
         },
         "mode": "lines",
         "name": "OUW",
         "showlegend": true,
         "type": "scattergl",
         "x": {
          "bdata": "3wfgB+EH4wc=",
          "dtype": "i2"
         },
         "xaxis": "x",
         "y": {
          "bdata": "q6qqKnmmMUHe3d0dy/I0QdijcD2q9M1Au7u7u/sc7kA=",
          "dtype": "f8"
         },
         "yaxis": "y"
        },
        {
         "hovertemplate": "species=OXY<br>TIME_PERIOD=%{x}<br>OBS_VALUE=%{y}<extra></extra>",
         "legendgroup": "OXY",
         "line": {
          "color": "#636efa",
          "dash": "solid"
         },
         "marker": {
          "symbol": "circle"
         },
         "mode": "lines",
         "name": "OXY",
         "showlegend": true,
         "type": "scattergl",
         "x": {
          "bdata": "4wc=",
          "dtype": "i2"
         },
         "xaxis": "x",
         "y": {
          "bdata": "o9pylTRKV0A=",
          "dtype": "f8"
         },
         "yaxis": "y"
        },
        {
         "hovertemplate": "species=OYF<br>TIME_PERIOD=%{x}<br>OBS_VALUE=%{y}<extra></extra>",
         "legendgroup": "OYF",
         "line": {
          "color": "#EF553B",
          "dash": "solid"
         },
         "marker": {
          "symbol": "circle"
         },
         "mode": "lines",
         "name": "OYF",
         "showlegend": true,
         "type": "scattergl",
         "x": {
          "bdata": "5AflB+YH5wc=",
          "dtype": "i2"
         },
         "xaxis": "x",
         "y": {
          "bdata": "jCW/WLLN20A30GkD7ZroQGZmZmbmhfVA20CnDWT28EA=",
          "dtype": "f8"
         },
         "yaxis": "y"
        },
        {
         "hovertemplate": "species=PAC<br>TIME_PERIOD=%{x}<br>OBS_VALUE=%{y}<extra></extra>",
         "legendgroup": "PAC",
         "line": {
          "color": "#00cc96",
          "dash": "solid"
         },
         "marker": {
          "symbol": "circle"
         },
         "mode": "lines",
         "name": "PAC",
         "showlegend": true,
         "type": "scattergl",
         "x": {
          "bdata": "1QfWB98H4AfhB+IH4wfkB+UH5gfnBw==",
          "dtype": "i2"
         },
         "xaxis": "x",
         "y": {
          "bdata": "JSusAcBuSkH8YskvpzZHQTfQacMd40BBVVVVVYTuQkH8Yslv3d07Qb9Y8gvl2DpBq6qqqjmxOEFiyS+WJgotQb9Y8sv/7ihBUEZvqxRoJkElv1hydaUyQQ==",
          "dtype": "f8"
         },
         "yaxis": "y"
        },
        {
         "hovertemplate": "species=PAX<br>TIME_PERIOD=%{x}<br>OBS_VALUE=%{y}<extra></extra>",
         "legendgroup": "PAX",
         "line": {
          "color": "#ab63fa",
          "dash": "solid"
         },
         "marker": {
          "symbol": "circle"
         },
         "mode": "lines",
         "name": "PAX",
         "showlegend": true,
         "type": "scattergl",
         "x": {
          "bdata": "1wfYB9kH2gfbB9wH3QfeB98H",
          "dtype": "i2"
         },
         "xaxis": "x",
         "y": {
          "bdata": "Om2gg1beUkEs+cVyn85KQRIRETF0QUxBVVVVVWg7SkElv1iS1htIQe/u7q6fTEZB393dXVl/RkGrqqpqWU5KQSIiIiIavvNA",
          "dtype": "f8"
         },
         "yaxis": "y"
        },
        {
         "hovertemplate": "species=PDZ<br>TIME_PERIOD=%{x}<br>OBS_VALUE=%{y}<extra></extra>",
         "legendgroup": "PDZ",
         "line": {
          "color": "#FFA15A",
          "dash": "solid"
         },
         "marker": {
          "symbol": "circle"
         },
         "mode": "lines",
         "name": "PDZ",
         "showlegend": true,
         "type": "scattergl",
         "x": {
          "bdata": "zwfQB9EH0gfTB9UH1gfkB+UH5gfnBw==",
          "dtype": "i2"
         },
         "xaxis": "x",
         "y": {
          "bdata": "VVVVVdW/x0Coxku3Lu4KQXEY32pJNxVB2V92Tx7udEAAAAAAQGPcQFVVVVVVlatAq6qqqnaP90BVVVVVjfH2QEVERETezANBq6qqqmK9/UCIiIiIUA3vQA==",
          "dtype": "f8"
         },
         "yaxis": "y"
        },
        {
         "hovertemplate": "species=PIC<br>TIME_PERIOD=%{x}<br>OBS_VALUE=%{y}<extra></extra>",
         "legendgroup": "PIC",
         "line": {
          "color": "#19d3f3",
          "dash": "solid"
         },
         "marker": {
          "symbol": "circle"
         },
         "mode": "lines",
         "name": "PIC",
         "showlegend": true,
         "type": "scattergl",
         "x": {
          "bdata": "yAfJB8oHywfMB80HzgfPB9AH0QfSB9MH1AfVB9YH1wfYB9kH2gfbB9wH3QfeB+IH4wfkB+UH5gfnBw==",
          "dtype": "i2"
         },
         "xaxis": "x",
         "y": {
          "bdata": "q6qqqj7zJ0Grqqqqim0jQVVVVVUFMRhBq6qqqsDsIkGrqqqqYHcnQVVVVVWhShJBVVVVVRULFUFVVVVVVVsVQfNpKEjXrQlBkX77ujC6CkEv3SQGgXlpQMKr0gNB5QNBKfA7c8vRCkEMTIFf1AxFQauqqqrsATdBl/xiSRi6OUHGkl+sAoJCQVVVVdXtszxBgU4baClUPUGIiIjoRldEQTGW/GLqnD5BBJ020ARQM0FpA502j7ZBQa5H4XqIKx9Bq6qqqvI3H0HJL5b80ujcQLgeheuho9pAAAAAAOAS2UC0gU4bKNXLQA==",
          "dtype": "f8"
         },
         "yaxis": "y"
        },
        {
         "hovertemplate": "species=PIL<br>TIME_PERIOD=%{x}<br>OBS_VALUE=%{y}<extra></extra>",
         "legendgroup": "PIL",
         "line": {
          "color": "#FF6692",
          "dash": "solid"
         },
         "marker": {
          "symbol": "circle"
         },
         "mode": "lines",
         "name": "PIL",
         "showlegend": true,
         "type": "scattergl",
         "x": {
          "bdata": "yAfJB8oHywfMB80HzgfPB9AH0QfSB9MH1AfVB9YH1wfYB9kH2gfbB9wH3QfeB98H4AfhB+IH4wfkB+UH5gfnBw==",
          "dtype": "i2"
         },
         "xaxis": "x",
         "y": {
          "bdata": "q6qqaoMHV0EAAAAAf5FbQVVVVRXD01VBq6qqCthiY0GrqqrqH09oQauqqupRKVhBq6qq6uncWEEAAABAAJlXQcksaAc7i1dBXW3FXgeIWUH0RyvRPKnBQCZ4MP+McVZBnJ/1a5q0VUHRbDE2D31QQRzotDHcJ1JBq6qqKmIzUUEwlvxCyYJQQckvljyAKVBBAAAAQJlmUEGamZkZlx9QQe/u7p7o6VRB0WkDrVEUVUFBpw20GZpXQVVVVSW5uFxBOm2g011eXEFSuB4VW6JRQYiIiDjULGBB5RdLDu5AY0F7FK6H+YNRQQSdNpDBfVVBeHd3VyvkU0EvlvxCH5dJQQ==",
          "dtype": "f8"
         },
         "yaxis": "y"
        },
        {
         "hovertemplate": "species=PJC<br>TIME_PERIOD=%{x}<br>OBS_VALUE=%{y}<extra></extra>",
         "legendgroup": "PJC",
         "line": {
          "color": "#B6E880",
          "dash": "solid"
         },
         "marker": {
          "symbol": "circle"
         },
         "mode": "lines",
         "name": "PJC",
         "showlegend": true,
         "type": "scattergl",
         "x": {
          "bdata": "4gfjB+QH5QfmB+cH",
          "dtype": "i2"
         },
         "xaxis": "x",
         "y": {
          "bdata": "aQOdNtAtlUBLfrHkF4OiQFuPwvUoAJZACdejcD0wpUAREREREaOTQOJ6FK5HfZJA",
          "dtype": "f8"
         },
         "yaxis": "y"
        },
        {
         "hovertemplate": "species=PLE<br>TIME_PERIOD=%{x}<br>OBS_VALUE=%{y}<extra></extra>",
         "legendgroup": "PLE",
         "line": {
          "color": "#FF97FF",
          "dash": "solid"
         },
         "marker": {
          "symbol": "circle"
         },
         "mode": "lines",
         "name": "PLE",
         "showlegend": true,
         "type": "scattergl",
         "x": {
          "bdata": "zAfNB84HzwfQB9EH0gfTB9QH1QfWBw==",
          "dtype": "i2"
         },
         "xaxis": "x",
         "y": {
          "bdata": "q6qqqqogvkCrqqqqOsL6QKuqqqo6CPxAVVVVVVWDw0BkE4buo1rSQDCW/GKRCd1AqV0mnVt7SkB8PzVe9iTdQIWkKRVHTd9AGLr/tanvxkBgLPnFsuPOQA==",
          "dtype": "f8"
         },
         "yaxis": "y"
        },
        {
         "hovertemplate": "species=PLS<br>TIME_PERIOD=%{x}<br>OBS_VALUE=%{y}<extra></extra>",
         "legendgroup": "PLS",
         "line": {
          "color": "#FECB52",
          "dash": "solid"
         },
         "marker": {
          "symbol": "circle"
         },
         "mode": "lines",
         "name": "PLS",
         "showlegend": true,
         "type": "scattergl",
         "x": {
          "bdata": "4gfjBw==",
          "dtype": "i2"
         },
         "xaxis": "x",
         "y": {
          "bdata": "exSuRyGNvEAzMzMzM7OyQA==",
          "dtype": "f8"
         },
         "yaxis": "y"
        },
        {
         "hovertemplate": "species=POA<br>TIME_PERIOD=%{x}<br>OBS_VALUE=%{y}<extra></extra>",
         "legendgroup": "POA",
         "line": {
          "color": "#636efa",
          "dash": "solid"
         },
         "marker": {
          "symbol": "circle"
         },
         "mode": "lines",
         "name": "POA",
         "showlegend": true,
         "type": "scattergl",
         "x": {
          "bdata": "3wfgB+EH4gfjB+QH5QfmB+cH",
          "dtype": "i2"
         },
         "xaxis": "x",
         "y": {
          "bdata": "q6qqqhIQBUGMJb9Y2izzQCEiIiJCk+hALPnFkvtT8UCamZmZ9fH5QFVVVVVhXhhBiIiIiAzgFEGIiIiITIkRQVnyiyW3nRBB",
          "dtype": "f8"
         },
         "yaxis": "y"
        },
        {
         "hovertemplate": "species=POD<br>TIME_PERIOD=%{x}<br>OBS_VALUE=%{y}<extra></extra>",
         "legendgroup": "POD",
         "line": {
          "color": "#EF553B",
          "dash": "solid"
         },
         "marker": {
          "symbol": "circle"
         },
         "mode": "lines",
         "name": "POD",
         "showlegend": true,
         "type": "scattergl",
         "x": {
          "bdata": "1QfWB9cH2AfZB9oH2wfcB90H3gffB+AH4QfiB+MH5AflB+YH5wc=",
          "dtype": "i2"
         },
         "xaxis": "x",
         "y": {
          "bdata": "bFNPKYl8OUFVVVVVKuQnQTMzMzMK6yNBseQXS0xRIUERERERJQUVQauqqqpyuhZB/GLJL/AcGEEiIiIi3DQRQdejcD1CshFB57SBTm+tF0Grqqqq/DoeQbLkF0vEQSJBq6qqqlKFHEGcNtBpDcIqQaRwPQqRDyhBtYFOmxriIEHbQKcNNjggQRERERHz/hdBRURERGt/EUE=",
          "dtype": "f8"
         },
         "yaxis": "y"
        },
        {
         "hovertemplate": "species=POI<br>TIME_PERIOD=%{x}<br>OBS_VALUE=%{y}<extra></extra>",
         "legendgroup": "POI",
         "line": {
          "color": "#00cc96",
          "dash": "solid"
         },
         "marker": {
          "symbol": "circle"
         },
         "mode": "lines",
         "name": "POI",
         "showlegend": true,
         "type": "scattergl",
         "x": {
          "bdata": "5Qc=",
          "dtype": "i2"
         },
         "xaxis": "x",
         "y": {
          "bdata": "2kCnDXRUpUA=",
          "dtype": "f8"
         },
         "yaxis": "y"
        },
        {
         "hovertemplate": "species=POP<br>TIME_PERIOD=%{x}<br>OBS_VALUE=%{y}<extra></extra>",
         "legendgroup": "POP",
         "line": {
          "color": "#ab63fa",
          "dash": "solid"
         },
         "marker": {
          "symbol": "circle"
         },
         "mode": "lines",
         "name": "POP",
         "showlegend": true,
         "type": "scattergl",
         "x": {
          "bdata": "3wfgB+EH4gfjB+QH5QfmB+cH",
          "dtype": "i2"
         },
         "xaxis": "x",
         "y": {
          "bdata": "AAAAAPDH/UC/WPKLiRD7QPxiyS/uXfNAvLu7u3vo7EAt+cWSH1XsQJ420GlPsfhAehSuRyH510Dv7u7uHnPrQFVVVVVVFORA",
          "dtype": "f8"
         },
         "yaxis": "y"
        },
        {
         "hovertemplate": "species=POR<br>TIME_PERIOD=%{x}<br>OBS_VALUE=%{y}<extra></extra>",
         "legendgroup": "POR",
         "line": {
          "color": "#FFA15A",
          "dash": "solid"
         },
         "marker": {
          "symbol": "circle"
         },
         "mode": "lines",
         "name": "POR",
         "showlegend": true,
         "type": "scattergl",
         "x": {
          "bdata": "3wfgB+EH4gfjB+cH",
          "dtype": "i2"
         },
         "xaxis": "x",
         "y": {
          "bdata": "pw102kDpoEAwlvxiyQ+RQPOLJb9YXINAyS+W/GLxkUC4HoXrUfKRQLu7u7u762ZA",
          "dtype": "f8"
         },
         "yaxis": "y"
        },
        {
         "hovertemplate": "species=PRA<br>TIME_PERIOD=%{x}<br>OBS_VALUE=%{y}<extra></extra>",
         "legendgroup": "PRA",
         "line": {
          "color": "#19d3f3",
          "dash": "solid"
         },
         "marker": {
          "symbol": "circle"
         },
         "mode": "lines",
         "name": "PRA",
         "showlegend": true,
         "type": "scattergl",
         "x": {
          "bdata": "3wfgB+EH4gfjB+QH",
          "dtype": "i2"
         },
         "xaxis": "x",
         "y": {
          "bdata": "rkfhegP0FEEAAAAA29sXQWkDnTa/AShBVVVVVecmJUFgLPnF8psbQVVVVVXtUOVA",
          "dtype": "f8"
         },
         "yaxis": "y"
        },
        {
         "hovertemplate": "species=PRR<br>TIME_PERIOD=%{x}<br>OBS_VALUE=%{y}<extra></extra>",
         "legendgroup": "PRR",
         "line": {
          "color": "#FF6692",
          "dash": "solid"
         },
         "marker": {
          "symbol": "circle"
         },
         "mode": "lines",
         "name": "PRR",
         "showlegend": true,
         "type": "scattergl",
         "x": {
          "bdata": "4gfjBw==",
          "dtype": "i2"
         },
         "xaxis": "x",
         "y": {
          "bdata": "q6qqqqoMpUDJZ91ginxTQA==",
          "dtype": "f8"
         },
         "yaxis": "y"
        },
        {
         "hovertemplate": "species=PSL<br>TIME_PERIOD=%{x}<br>OBS_VALUE=%{y}<extra></extra>",
         "legendgroup": "PSL",
         "line": {
          "color": "#B6E880",
          "dash": "solid"
         },
         "marker": {
          "symbol": "circle"
         },
         "mode": "lines",
         "name": "PSL",
         "showlegend": true,
         "type": "scattergl",
         "x": {
          "bdata": "4Ac=",
          "dtype": "i2"
         },
         "xaxis": "x",
         "y": {
          "bdata": "mZmZmVmwwUA=",
          "dtype": "f8"
         },
         "yaxis": "y"
        },
        {
         "hovertemplate": "species=QSX<br>TIME_PERIOD=%{x}<br>OBS_VALUE=%{y}<extra></extra>",
         "legendgroup": "QSX",
         "line": {
          "color": "#FF97FF",
          "dash": "solid"
         },
         "marker": {
          "symbol": "circle"
         },
         "mode": "lines",
         "name": "QSX",
         "showlegend": true,
         "type": "scattergl",
         "x": {
          "bdata": "5QfmB+cH",
          "dtype": "i2"
         },
         "xaxis": "x",
         "y": {
          "bdata": "VVVVVVUjo0CtG0yRzzphQMIU+awbTCFA",
          "dtype": "f8"
         },
         "yaxis": "y"
        },
        {
         "hovertemplate": "species=QUB<br>TIME_PERIOD=%{x}<br>OBS_VALUE=%{y}<extra></extra>",
         "legendgroup": "QUB",
         "line": {
          "color": "#FECB52",
          "dash": "solid"
         },
         "marker": {
          "symbol": "circle"
         },
         "mode": "lines",
         "name": "QUB",
         "showlegend": true,
         "type": "scattergl",
         "x": {
          "bdata": "4gfjB+QH5QfmB+cH",
          "dtype": "i2"
         },
         "xaxis": "x",
         "y": {
          "bdata": "IiIiIiK7y0BpA502UMzAQC35xZJf/atAj8L1KFzjsEDe3d3dXQq3QLy7u7s73LpA",
          "dtype": "f8"
         },
         "yaxis": "y"
        },
        {
         "hovertemplate": "species=RAE<br>TIME_PERIOD=%{x}<br>OBS_VALUE=%{y}<extra></extra>",
         "legendgroup": "RAE",
         "line": {
          "color": "#636efa",
          "dash": "solid"
         },
         "marker": {
          "symbol": "circle"
         },
         "mode": "lines",
         "name": "RAE",
         "showlegend": true,
         "type": "scattergl",
         "x": {
          "bdata": "3wfgB+EH4gfjB+QH5QfmB+cH",
          "dtype": "i2"
         },
         "xaxis": "x",
         "y": {
          "bdata": "pw10Wu0RI0FVVVVVf/0mQacNdNrK5glB+cWSX2yc2ECNJb9Y0kXnQC35xZL/9NtAz2kDne7x+kCIiIiICP60QPnFkl8sXLZA",
          "dtype": "f8"
         },
         "yaxis": "y"
        },
        {
         "hovertemplate": "species=RCR<br>TIME_PERIOD=%{x}<br>OBS_VALUE=%{y}<extra></extra>",
         "legendgroup": "RCR",
         "line": {
          "color": "#EF553B",
          "dash": "solid"
         },
         "marker": {
          "symbol": "circle"
         },
         "mode": "lines",
         "name": "RCR",
         "showlegend": true,
         "type": "scattergl",
         "x": {
          "bdata": "5QfnBw==",
          "dtype": "i2"
         },
         "xaxis": "x",
         "y": {
          "bdata": "VVVVVQGrDUGZmZmZQasAQQ==",
          "dtype": "f8"
         },
         "yaxis": "y"
        },
        {
         "hovertemplate": "species=RDC<br>TIME_PERIOD=%{x}<br>OBS_VALUE=%{y}<extra></extra>",
         "legendgroup": "RDC",
         "line": {
          "color": "#00cc96",
          "dash": "solid"
         },
         "marker": {
          "symbol": "circle"
         },
         "mode": "lines",
         "name": "RDC",
         "showlegend": true,
         "type": "scattergl",
         "x": {
          "bdata": "4gfjBw==",
          "dtype": "i2"
         },
         "xaxis": "x",
         "y": {
          "bdata": "LPnFkl/YqECy5BdLfvOoQA==",
          "dtype": "f8"
         },
         "yaxis": "y"
        },
        {
         "hovertemplate": "species=RED<br>TIME_PERIOD=%{x}<br>OBS_VALUE=%{y}<extra></extra>",
         "legendgroup": "RED",
         "line": {
          "color": "#ab63fa",
          "dash": "solid"
         },
         "marker": {
          "symbol": "circle"
         },
         "mode": "lines",
         "name": "RED",
         "showlegend": true,
         "type": "scattergl",
         "x": {
          "bdata": "0QfTB9QH2Qc=",
          "dtype": "i2"
         },
         "xaxis": "x",
         "y": {
          "bdata": "DeAtkPA9ukCrqqqqqkafQGwJ+aDnua5A3t3d3d3FdUA=",
          "dtype": "f8"
         },
         "yaxis": "y"
        },
        {
         "hovertemplate": "species=RGX<br>TIME_PERIOD=%{x}<br>OBS_VALUE=%{y}<extra></extra>",
         "legendgroup": "RGX",
         "line": {
          "color": "#FFA15A",
          "dash": "solid"
         },
         "marker": {
          "symbol": "circle"
         },
         "mode": "lines",
         "name": "RGX",
         "showlegend": true,
         "type": "scattergl",
         "x": {
          "bdata": "5AflB+YH5wc=",
          "dtype": "i2"
         },
         "xaxis": "x",
         "y": {
          "bdata": "DoRkAdBTEUH5xZLfKr0gQfG6fkELnhVBmpmZmbb6FUE=",
          "dtype": "f8"
         },
         "yaxis": "y"
        },
        {
         "hovertemplate": "species=RIB<br>TIME_PERIOD=%{x}<br>OBS_VALUE=%{y}<extra></extra>",
         "legendgroup": "RIB",
         "line": {
          "color": "#19d3f3",
          "dash": "solid"
         },
         "marker": {
          "symbol": "circle"
         },
         "mode": "lines",
         "name": "RIB",
         "showlegend": true,
         "type": "scattergl",
         "x": {
          "bdata": "4gfjBw==",
          "dtype": "i2"
         },
         "xaxis": "x",
         "y": {
          "bdata": "pw102sCysECg0wY6bQy2QA==",
          "dtype": "f8"
         },
         "yaxis": "y"
        },
        {
         "hovertemplate": "species=RJA<br>TIME_PERIOD=%{x}<br>OBS_VALUE=%{y}<extra></extra>",
         "legendgroup": "RJA",
         "line": {
          "color": "#FF6692",
          "dash": "solid"
         },
         "marker": {
          "symbol": "circle"
         },
         "mode": "lines",
         "name": "RJA",
         "showlegend": true,
         "type": "scattergl",
         "x": {
          "bdata": "3wfgB+EH4gfjB+QH5QfmB+cH",
          "dtype": "i2"
         },
         "xaxis": "x",
         "y": {
          "bdata": "mZmZmelQ90AAAAAApJQAQQ102kDL6RFBXyz5xZK2rkCh0wY6rYzEQJqZmZm5OuZARERERIwy/kCIiIiIgB8EQby7u7ujBQBB",
          "dtype": "f8"
         },
         "yaxis": "y"
        },
        {
         "hovertemplate": "species=RJB<br>TIME_PERIOD=%{x}<br>OBS_VALUE=%{y}<extra></extra>",
         "legendgroup": "RJB",
         "line": {
          "color": "#B6E880",
          "dash": "solid"
         },
         "marker": {
          "symbol": "circle"
         },
         "mode": "lines",
         "name": "RJB",
         "showlegend": true,
         "type": "scattergl",
         "x": {
          "bdata": "4gfjB+QH5QfmB+cH",
          "dtype": "i2"
         },
         "xaxis": "x",
         "y": {
          "bdata": "odMGOp2W8kB4d3d3N7LVQHh3d3f3Br1Ak18s+SVM40CrqqqqKh7QQI/C9Shc87pA",
          "dtype": "f8"
         },
         "yaxis": "y"
        },
        {
         "hovertemplate": "species=RJC<br>TIME_PERIOD=%{x}<br>OBS_VALUE=%{y}<extra></extra>",
         "legendgroup": "RJC",
         "line": {
          "color": "#FF97FF",
          "dash": "solid"
         },
         "marker": {
          "symbol": "circle"
         },
         "mode": "lines",
         "name": "RJC",
         "showlegend": true,
         "type": "scattergl",
         "x": {
          "bdata": "3wfgB+EH4gfjB+QH5QfmB+cH",
          "dtype": "i2"
         },
         "xaxis": "x",
         "y": {
          "bdata": "ThvoNDO4IUEYS34xB2QhQXh3d/fbkCNBmpmZmRNiJEG8u7u7O3gqQSW/WPKfTBhBq6qqqhg1HEGIiIiIkGgVQWLJL5brKhRB",
          "dtype": "f8"
         },
         "yaxis": "y"
        },
        {
         "hovertemplate": "species=RJF<br>TIME_PERIOD=%{x}<br>OBS_VALUE=%{y}<extra></extra>",
         "legendgroup": "RJF",
         "line": {
          "color": "#FECB52",
          "dash": "solid"
         },
         "marker": {
          "symbol": "circle"
         },
         "mode": "lines",
         "name": "RJF",
         "showlegend": true,
         "type": "scattergl",
         "x": {
          "bdata": "4wfkBw==",
          "dtype": "i2"
         },
         "xaxis": "x",
         "y": {
          "bdata": "pFFtuUq6VECcNtBpA7eUQA==",
          "dtype": "f8"
         },
         "yaxis": "y"
        },
        {
         "hovertemplate": "species=RJH<br>TIME_PERIOD=%{x}<br>OBS_VALUE=%{y}<extra></extra>",
         "legendgroup": "RJH",
         "line": {
          "color": "#636efa",
          "dash": "solid"
         },
         "marker": {
          "symbol": "circle"
         },
         "mode": "lines",
         "name": "RJH",
         "showlegend": true,
         "type": "scattergl",
         "x": {
          "bdata": "4gfjB+QH5QfmB+cH",
          "dtype": "i2"
         },
         "xaxis": "x",
         "y": {
          "bdata": "l7U6JnCa0EBH4XoUrovOQJqZmZm5A+hAOm2g0/YO00CrqqqqCtnQQLu7u7u7VbJA",
          "dtype": "f8"
         },
         "yaxis": "y"
        },
        {
         "hovertemplate": "species=RJI<br>TIME_PERIOD=%{x}<br>OBS_VALUE=%{y}<extra></extra>",
         "legendgroup": "RJI",
         "line": {
          "color": "#EF553B",
          "dash": "solid"
         },
         "marker": {
          "symbol": "circle"
         },
         "mode": "lines",
         "name": "RJI",
         "showlegend": true,
         "type": "scattergl",
         "x": {
          "bdata": "4gfjB+QH5QfmB+cH",
          "dtype": "i2"
         },
         "xaxis": "x",
         "y": {
          "bdata": "tYFOG+j4lUCg0wY6bceaQJX8Yskvm75AjCW/WPLKmECrqqqqqhiVQI/C9ShcOYVA",
          "dtype": "f8"
         },
         "yaxis": "y"
        },
        {
         "hovertemplate": "species=RJM<br>TIME_PERIOD=%{x}<br>OBS_VALUE=%{y}<extra></extra>",
         "legendgroup": "RJM",
         "line": {
          "color": "#00cc96",
          "dash": "solid"
         },
         "marker": {
          "symbol": "circle"
         },
         "mode": "lines",
         "name": "RJM",
         "showlegend": true,
         "type": "scattergl",
         "x": {
          "bdata": "3wfgB+EH4gfjB+QH5QfmB+cH",
          "dtype": "i2"
         },
         "xaxis": "x",
         "y": {
          "bdata": "2kCnDZS430BqA502KFPgQLLkF0uegcRAhetRuB65wUCTXyz5xSjGQLu7u7s7osxA5RdLfrFpuUCIiIiIqGncQB+F61FQ7+FA",
          "dtype": "f8"
         },
         "yaxis": "y"
        },
        {
         "hovertemplate": "species=RJO<br>TIME_PERIOD=%{x}<br>OBS_VALUE=%{y}<extra></extra>",
         "legendgroup": "RJO",
         "line": {
          "color": "#ab63fa",
          "dash": "solid"
         },
         "marker": {
          "symbol": "circle"
         },
         "mode": "lines",
         "name": "RJO",
         "showlegend": true,
         "type": "scattergl",
         "x": {
          "bdata": "4gfjB+QH5QfmB+cH",
          "dtype": "i2"
         },
         "xaxis": "x",
         "y": {
          "bdata": "suQXS/7vx0BVVVVVVU/LQKuqqqoKddBADXTaQKclnUBFRERERGCTQBERERER0XZA",
          "dtype": "f8"
         },
         "yaxis": "y"
        },
        {
         "hovertemplate": "species=RJR<br>TIME_PERIOD=%{x}<br>OBS_VALUE=%{y}<extra></extra>",
         "legendgroup": "RJR",
         "line": {
          "color": "#FFA15A",
          "dash": "solid"
         },
         "marker": {
          "symbol": "circle"
         },
         "mode": "lines",
         "name": "RJR",
         "showlegend": true,
         "type": "scattergl",
         "x": {
          "bdata": "4gc=",
          "dtype": "i2"
         },
         "xaxis": "x",
         "y": {
          "bdata": "Z2ZmZmbSpEA=",
          "dtype": "f8"
         },
         "yaxis": "y"
        },
        {
         "hovertemplate": "species=RJT<br>TIME_PERIOD=%{x}<br>OBS_VALUE=%{y}<extra></extra>",
         "legendgroup": "RJT",
         "line": {
          "color": "#19d3f3",
          "dash": "solid"
         },
         "marker": {
          "symbol": "circle"
         },
         "mode": "lines",
         "name": "RJT",
         "showlegend": true,
         "type": "scattergl",
         "x": {
          "bdata": "4gc=",
          "dtype": "i2"
         },
         "xaxis": "x",
         "y": {
          "bdata": "AAAAAIDEqUA=",
          "dtype": "f8"
         },
         "yaxis": "y"
        },
        {
         "hovertemplate": "species=RJU<br>TIME_PERIOD=%{x}<br>OBS_VALUE=%{y}<extra></extra>",
         "legendgroup": "RJU",
         "line": {
          "color": "#FF6692",
          "dash": "solid"
         },
         "marker": {
          "symbol": "circle"
         },
         "mode": "lines",
         "name": "RJU",
         "showlegend": true,
         "type": "scattergl",
         "x": {
          "bdata": "4gfjB+QH",
          "dtype": "i2"
         },
         "xaxis": "x",
         "y": {
          "bdata": "LPnFkl/UjEC1gU4b6MiQQE4b6LRBZLVA",
          "dtype": "f8"
         },
         "yaxis": "y"
        },
        {
         "hovertemplate": "species=RKQ<br>TIME_PERIOD=%{x}<br>OBS_VALUE=%{y}<extra></extra>",
         "legendgroup": "RKQ",
         "line": {
          "color": "#B6E880",
          "dash": "solid"
         },
         "marker": {
          "symbol": "circle"
         },
         "mode": "lines",
         "name": "RKQ",
         "showlegend": true,
         "type": "scattergl",
         "x": {
          "bdata": "5AflB+YH5wc=",
          "dtype": "i2"
         },
         "xaxis": "x",
         "y": {
          "bdata": "LfnFkl+Qr0COwvUoXM6dQO/u7u7u4J9AERERERHFlEA=",
          "dtype": "f8"
         },
         "yaxis": "y"
        },
        {
         "hovertemplate": "species=RLI<br>TIME_PERIOD=%{x}<br>OBS_VALUE=%{y}<extra></extra>",
         "legendgroup": "RLI",
         "line": {
          "color": "#FF97FF",
          "dash": "solid"
         },
         "marker": {
          "symbol": "circle"
         },
         "mode": "lines",
         "name": "RLI",
         "showlegend": true,
         "type": "scattergl",
         "x": {
          "bdata": "4gfjBw==",
          "dtype": "i2"
         },
         "xaxis": "x",
         "y": {
          "bdata": "Jr9Y8ovHmUDlF0t+sUueQA==",
          "dtype": "f8"
         },
         "yaxis": "y"
        },
        {
         "hovertemplate": "species=RNH<br>TIME_PERIOD=%{x}<br>OBS_VALUE=%{y}<extra></extra>",
         "legendgroup": "RNH",
         "line": {
          "color": "#FECB52",
          "dash": "solid"
         },
         "marker": {
          "symbol": "circle"
         },
         "mode": "lines",
         "name": "RNH",
         "showlegend": true,
         "type": "scattergl",
         "x": {
          "bdata": "4gfjB+QH",
          "dtype": "i2"
         },
         "xaxis": "x",
         "y": {
          "bdata": "Jb9Y8otIu0C8u7u7OxTCQH6x5BdLxKJA",
          "dtype": "f8"
         },
         "yaxis": "y"
        },
        {
         "hovertemplate": "species=ROA<br>TIME_PERIOD=%{x}<br>OBS_VALUE=%{y}<extra></extra>",
         "legendgroup": "ROA",
         "line": {
          "color": "#636efa",
          "dash": "solid"
         },
         "marker": {
          "symbol": "circle"
         },
         "mode": "lines",
         "name": "ROA",
         "showlegend": true,
         "type": "scattergl",
         "x": {
          "bdata": "4gfjB+QH5QfmB+cH",
          "dtype": "i2"
         },
         "xaxis": "x",
         "y": {
          "bdata": "PQrXo3Cc0kDu7u7ubnTOQNejcD0KE89AzczMzMxVt0BmZmZm5g3EQKHTBjqt9LFA",
          "dtype": "f8"
         },
         "yaxis": "y"
        },
        {
         "hovertemplate": "species=RPG<br>TIME_PERIOD=%{x}<br>OBS_VALUE=%{y}<extra></extra>",
         "legendgroup": "RPG",
         "line": {
          "color": "#EF553B",
          "dash": "solid"
         },
         "marker": {
          "symbol": "circle"
         },
         "mode": "lines",
         "name": "RPG",
         "showlegend": true,
         "type": "scattergl",
         "x": {
          "bdata": "3wfgB+EH4gfjB+QH",
          "dtype": "i2"
         },
         "xaxis": "x",
         "y": {
          "bdata": "YskvlqCsG0E6baDTFCcaQYiIiIhScCNB9Shcj0eZLEHRaQOd4JQmQZNfLPmVOuRA",
          "dtype": "f8"
         },
         "yaxis": "y"
        },
        {
         "hovertemplate": "species=RRU<br>TIME_PERIOD=%{x}<br>OBS_VALUE=%{y}<extra></extra>",
         "legendgroup": "RRU",
         "line": {
          "color": "#00cc96",
          "dash": "solid"
         },
         "marker": {
          "symbol": "circle"
         },
         "mode": "lines",
         "name": "RRU",
         "showlegend": true,
         "type": "scattergl",
         "x": {
          "bdata": "5Qc=",
          "dtype": "i2"
         },
         "xaxis": "x",
         "y": {
          "bdata": "MzMzM3OCw0A=",
          "dtype": "f8"
         },
         "yaxis": "y"
        },
        {
         "hovertemplate": "species=RSE<br>TIME_PERIOD=%{x}<br>OBS_VALUE=%{y}<extra></extra>",
         "legendgroup": "RSE",
         "line": {
          "color": "#ab63fa",
          "dash": "solid"
         },
         "marker": {
          "symbol": "circle"
         },
         "mode": "lines",
         "name": "RSE",
         "showlegend": true,
         "type": "scattergl",
         "x": {
          "bdata": "3wfgB+EH4gfjB+QH5Qc=",
          "dtype": "i2"
         },
         "xaxis": "x",
         "y": {
          "bdata": "S36xBGwfQEERERERj/I/QbgehWshKEFBThvotIt1EUF4d3d355v7QOUXS36hMfVAVVVVVZXTvkA=",
          "dtype": "f8"
         },
         "yaxis": "y"
        },
        {
         "hovertemplate": "species=RUB<br>TIME_PERIOD=%{x}<br>OBS_VALUE=%{y}<extra></extra>",
         "legendgroup": "RUB",
         "line": {
          "color": "#FFA15A",
          "dash": "solid"
         },
         "marker": {
          "symbol": "circle"
         },
         "mode": "lines",
         "name": "RUB",
         "showlegend": true,
         "type": "scattergl",
         "x": {
          "bdata": "5wc=",
          "dtype": "i2"
         },
         "xaxis": "x",
         "y": {
          "bdata": "pshn3WDKQkA=",
          "dtype": "f8"
         },
         "yaxis": "y"
        },
        {
         "hovertemplate": "species=SAA<br>TIME_PERIOD=%{x}<br>OBS_VALUE=%{y}<extra></extra>",
         "legendgroup": "SAA",
         "line": {
          "color": "#19d3f3",
          "dash": "solid"
         },
         "marker": {
          "symbol": "circle"
         },
         "mode": "lines",
         "name": "SAA",
         "showlegend": true,
         "type": "scattergl",
         "x": {
          "bdata": "1wfYB9kH2gfbB9wH3QfeB98H4AfhB+IH4wfkB+UH5gfnBw==",
          "dtype": "i2"
         },
         "xaxis": "x",
         "y": {
          "bdata": "zczMzMrYE0Hv7u7u3jwGQRERERENWw9BVVVVVemgCEGrqqqqesoEQXd3d3cL9wVB4XoUrvtp/0BOG+i0sZHzQJJfLPk1yfpAXI/C9XAlB0F3d3d3YOIhQRvotIHFHBFB3t3d3SNuE0FkyS+WvDj/QKcNdNp0rw1BVVVVVVEmAEGnDXTa2KcHQQ==",
          "dtype": "f8"
         },
         "yaxis": "y"
        },
        {
         "hovertemplate": "species=SAN<br>TIME_PERIOD=%{x}<br>OBS_VALUE=%{y}<extra></extra>",
         "legendgroup": "SAN",
         "line": {
          "color": "#FF6692",
          "dash": "solid"
         },
         "marker": {
          "symbol": "circle"
         },
         "mode": "lines",
         "name": "SAN",
         "showlegend": true,
         "type": "scattergl",
         "x": {
          "bdata": "1wfYB9kH2gfbB9wH3QfeB98H4AfhB+MH",
          "dtype": "i2"
         },
         "xaxis": "x",
         "y": {
          "bdata": "Om2g0+4qF0GPwvUoVCnnQFnyiyX/+PtALPnFkj/hCkHC9ShciwX1QGsDnTYoeAdB6LSBTqOGBEFgLPnFcIIIQWZmZmY21AlBfrHkF/f/C0GTXyz52doCQQAAAAAA6MRA",
          "dtype": "f8"
         },
         "yaxis": "y"
        },
        {
         "hovertemplate": "species=SAU<br>TIME_PERIOD=%{x}<br>OBS_VALUE=%{y}<extra></extra>",
         "legendgroup": "SAU",
         "line": {
          "color": "#B6E880",
          "dash": "solid"
         },
         "marker": {
          "symbol": "circle"
         },
         "mode": "lines",
         "name": "SAU",
         "showlegend": true,
         "type": "scattergl",
         "x": {
          "bdata": "3wfgB+EH4gfjB+QH5QfmB+cH",
          "dtype": "i2"
         },
         "xaxis": "x",
         "y": {
          "bdata": "cT0K1xO18UD5xZJfKG71QN/d3d2loehAyS+W/O4U+kAmv1jyq9z2QASdNtAJy8NAq6qqqqrCtUC7u7u7Oy3PQDGW/GLJEapA",
          "dtype": "f8"
         },
         "yaxis": "y"
        },
        {
         "hovertemplate": "species=SBA<br>TIME_PERIOD=%{x}<br>OBS_VALUE=%{y}<extra></extra>",
         "legendgroup": "SBA",
         "line": {
          "color": "#FF97FF",
          "dash": "solid"
         },
         "marker": {
          "symbol": "circle"
         },
         "mode": "lines",
         "name": "SBA",
         "showlegend": true,
         "type": "scattergl",
         "x": {
          "bdata": "3wfgB+EH4gfjB+QH5QfmB+cH",
          "dtype": "i2"
         },
         "xaxis": "x",
         "y": {
          "bdata": "Z2ZmZm7yEUEZS36xmm0JQYwlv1g+Gw5BIiIiIiK/CEF4d3d3KyIIQei0gU73DgJB+cWSX3QBBEERERERiRAGQShcj8JJj/hA",
          "dtype": "f8"
         },
         "yaxis": "y"
        },
        {
         "hovertemplate": "species=SBG<br>TIME_PERIOD=%{x}<br>OBS_VALUE=%{y}<extra></extra>",
         "legendgroup": "SBG",
         "line": {
          "color": "#FECB52",
          "dash": "solid"
         },
         "marker": {
          "symbol": "circle"
         },
         "mode": "lines",
         "name": "SBG",
         "showlegend": true,
         "type": "scattergl",
         "x": {
          "bdata": "1wfYB9kH2gfbB9wH3QfeB98H4AfhB+IH4wfkB+UH5gfnBw==",
          "dtype": "i2"
         },
         "xaxis": "x",
         "y": {
          "bdata": "/GLJL/iCPkEiIiLiXeM6QQnXozA9/zdB61G4HvoUOkEOdNqAGWpBQQ102kB6tzxBCtejcIdDQkF7FK5nRCJBQVVVVVUM20ZBR+F6lNVcSEGrqqoqHu5PQckvlvxcC1JBAAAAQO4uSUHTBjotSqY9QbHkF8tCJEJBvLu7e4FkQEFVVVXV//M7QQ==",
          "dtype": "f8"
         },
         "yaxis": "y"
        },
        {
         "hovertemplate": "species=SBL<br>TIME_PERIOD=%{x}<br>OBS_VALUE=%{y}<extra></extra>",
         "legendgroup": "SBL",
         "line": {
          "color": "#636efa",
          "dash": "solid"
         },
         "marker": {
          "symbol": "circle"
         },
         "mode": "lines",
         "name": "SBL",
         "showlegend": true,
         "type": "scattergl",
         "x": {
          "bdata": "3wfgB+EH4gfjB+QH5QfmB+cH",
          "dtype": "i2"
         },
         "xaxis": "x",
         "y": {
          "bdata": "frHkF0vznkDotIFOG0aNQJf8Yskvq5FAxtv78i0WsECy5BdL/uamQM3MzMxM2rJARURERERgnEDe3d3d3YGbQEt+seQXY5BA",
          "dtype": "f8"
         },
         "yaxis": "y"
        },
        {
         "hovertemplate": "species=SBP<br>TIME_PERIOD=%{x}<br>OBS_VALUE=%{y}<extra></extra>",
         "legendgroup": "SBP",
         "line": {
          "color": "#EF553B",
          "dash": "solid"
         },
         "marker": {
          "symbol": "circle"
         },
         "mode": "lines",
         "name": "SBP",
         "showlegend": true,
         "type": "scattergl",
         "x": {
          "bdata": "5AflB+YH5wc=",
          "dtype": "i2"
         },
         "xaxis": "x",
         "y": {
          "bdata": "OiZ4sGj2C0F02kCnRd0VQRERERERLBVB2KNwPTWbFUE=",
          "dtype": "f8"
         },
         "yaxis": "y"
        },
        {
         "hovertemplate": "species=SBR<br>TIME_PERIOD=%{x}<br>OBS_VALUE=%{y}<extra></extra>",
         "legendgroup": "SBR",
         "line": {
          "color": "#00cc96",
          "dash": "solid"
         },
         "marker": {
          "symbol": "circle"
         },
         "mode": "lines",
         "name": "SBR",
         "showlegend": true,
         "type": "scattergl",
         "x": {
          "bdata": "3wfgB+EH4gfjB+QH5QfmB+cH",
          "dtype": "i2"
         },
         "xaxis": "x",
         "y": {
          "bdata": "YskvlnrNGkHJL5b8sCMQQRERERF3UBRBmpmZmWmPEkGrqqqqlv8QQSIiIiKvbiFBMzMzM6L0IUG8u7u7TQUgQYiIiIiQ/QlB",
          "dtype": "f8"
         },
         "yaxis": "y"
        },
        {
         "hovertemplate": "species=SBS<br>TIME_PERIOD=%{x}<br>OBS_VALUE=%{y}<extra></extra>",
         "legendgroup": "SBS",
         "line": {
          "color": "#ab63fa",
          "dash": "solid"
         },
         "marker": {
          "symbol": "circle"
         },
         "mode": "lines",
         "name": "SBS",
         "showlegend": true,
         "type": "scattergl",
         "x": {
          "bdata": "1wfYB9kH2gfbB9wH3QfeB98H4AfhB+IH4wfkB+UH5gfnBw==",
          "dtype": "i2"
         },
         "xaxis": "x",
         "y": {
          "bdata": "MZb8Yv7DNkFxPQrXY5ckQeJ6FK6XbyhBMZb8YjyyKEGkcD0KbqUnQRlLfrG8uBlB9Shcjy6EE0He3d3dEVAeQR+F61FOIRpBKVyPwk45GUHv7u7ulG8aQauqqqoCqhRBc9pAp0EsD0HhehSuU90DQXoUrkcxZApBZmZmZnIaDEERERERWYgNQQ==",
          "dtype": "f8"
         },
         "yaxis": "y"
        },
        {
         "hovertemplate": "species=SBZ<br>TIME_PERIOD=%{x}<br>OBS_VALUE=%{y}<extra></extra>",
         "legendgroup": "SBZ",
         "line": {
          "color": "#FFA15A",
          "dash": "solid"
         },
         "marker": {
          "symbol": "circle"
         },
         "mode": "lines",
         "name": "SBZ",
         "showlegend": true,
         "type": "scattergl",
         "x": {
          "bdata": "4gfjBw==",
          "dtype": "i2"
         },
         "xaxis": "x",
         "y": {
          "bdata": "LPnFkt/kuUBFRERERMm4QA==",
          "dtype": "f8"
         },
         "yaxis": "y"
        },
        {
         "hovertemplate": "species=SCF<br>TIME_PERIOD=%{x}<br>OBS_VALUE=%{y}<extra></extra>",
         "legendgroup": "SCF",
         "line": {
          "color": "#19d3f3",
          "dash": "solid"
         },
         "marker": {
          "symbol": "circle"
         },
         "mode": "lines",
         "name": "SCF",
         "showlegend": true,
         "type": "scattergl",
         "x": {
          "bdata": "1wfYB9kH2gfbB9wH3QfeB98H4AfhB+IH4wfkBw==",
          "dtype": "i2"
         },
         "xaxis": "x",
         "y": {
          "bdata": "Xyz5JWsRREHaQKfNAQZAQYFOG+jm+z5B7+7urllRQ0EEnTbQ0DtAQYwlv1jrXT1B0wY67QrhPEEzMzPzxhc9Qd7d3d2fhwpByS+W/PKx+kCJiIiISE/fQFyPwvVoPMZAv1jyiyWEvUAHOm2g0/S7QA==",
          "dtype": "f8"
         },
         "yaxis": "y"
        },
        {
         "hovertemplate": "species=SCK<br>TIME_PERIOD=%{x}<br>OBS_VALUE=%{y}<extra></extra>",
         "legendgroup": "SCK",
         "line": {
          "color": "#FF6692",
          "dash": "solid"
         },
         "marker": {
          "symbol": "circle"
         },
         "mode": "lines",
         "name": "SCK",
         "showlegend": true,
         "type": "scattergl",
         "x": {
          "bdata": "4gfjBw==",
          "dtype": "i2"
         },
         "xaxis": "x",
         "y": {
          "bdata": "GEt+seTzkUAt4E5/xII9QA==",
          "dtype": "f8"
         },
         "yaxis": "y"
        },
        {
         "hovertemplate": "species=SCO<br>TIME_PERIOD=%{x}<br>OBS_VALUE=%{y}<extra></extra>",
         "legendgroup": "SCO",
         "line": {
          "color": "#B6E880",
          "dash": "solid"
         },
         "marker": {
          "symbol": "circle"
         },
         "mode": "lines",
         "name": "SCO",
         "showlegend": true,
         "type": "scattergl",
         "x": {
          "bdata": "1wfYB9kH2gfbB9wH3QfeB98H4AfhBw==",
          "dtype": "i2"
         },
         "xaxis": "x",
         "y": {
          "bdata": "QKcN9HNHTkG7u7s77rNEQYiIiAji/klBKFyPAhkoSkHv7u4uH1NPQRhLfrFLnUlBZMkvViA0SUEL16MwTchJQY/C9SicAbZAq6qqqqoxs0Crqqqqqky1QA==",
          "dtype": "f8"
         },
         "yaxis": "y"
        },
        {
         "hovertemplate": "species=SCR<br>TIME_PERIOD=%{x}<br>OBS_VALUE=%{y}<extra></extra>",
         "legendgroup": "SCR",
         "line": {
          "color": "#FF97FF",
          "dash": "solid"
         },
         "marker": {
          "symbol": "circle"
         },
         "mode": "lines",
         "name": "SCR",
         "showlegend": true,
         "type": "scattergl",
         "x": {
          "bdata": "3wfhB+IH4wfkB+UH5gfnBw==",
          "dtype": "i2"
         },
         "xaxis": "x",
         "y": {
          "bdata": "/GLJL76990BMfrHkxyL5QCIiIiKaIwJBeHd3dz/89UAiIiIispbyQCIiIiIixwRBeHd3d7dU8UBiyS+WHMT/QA==",
          "dtype": "f8"
         },
         "yaxis": "y"
        },
        {
         "hovertemplate": "species=SCS<br>TIME_PERIOD=%{x}<br>OBS_VALUE=%{y}<extra></extra>",
         "legendgroup": "SCS",
         "line": {
          "color": "#FECB52",
          "dash": "solid"
         },
         "marker": {
          "symbol": "circle"
         },
         "mode": "lines",
         "name": "SCS",
         "showlegend": true,
         "type": "scattergl",
         "x": {
          "bdata": "3wfiB+MH5AflB+YH5wc=",
          "dtype": "i2"
         },
         "xaxis": "x",
         "y": {
          "bdata": "IiIiIqKDtkDhehSupxPRQAJR6cjWdgBBnFO2dT3kMUE0MzPTs5NGQYiIiMhhlEZBv1jyC02BQ0E=",
          "dtype": "f8"
         },
         "yaxis": "y"
        },
        {
         "hovertemplate": "species=SCX<br>TIME_PERIOD=%{x}<br>OBS_VALUE=%{y}<extra></extra>",
         "legendgroup": "SCX",
         "line": {
          "color": "#636efa",
          "dash": "solid"
         },
         "marker": {
          "symbol": "circle"
         },
         "mode": "lines",
         "name": "SCX",
         "showlegend": true,
         "type": "scattergl",
         "x": {
          "bdata": "1wfYB9kH2gfbB9wH3QfeB98H4AfhB+IH4wfkB+UH5gfnBw==",
          "dtype": "i2"
         },
         "xaxis": "x",
         "y": {
          "bdata": "YskvFnndI0G7u7u7fT4UQSlcj8KSdxdB2KNwPcPGFEHUBjptdEUXQc3MzMw0hyJBq6qqqvaCD0HRaQOdZDIQQRhLfrE8KQxB/WLJL4pgEkHyiyW/mDDZQIwlv1gS/eNAsuQXS04o5kAb6LSBDt/hQF8s+cXaIuVAvLu7u6NS8ECMJb9YEsfXQA==",
          "dtype": "f8"
         },
         "yaxis": "y"
        },
        {
         "hovertemplate": "species=SDR<br>TIME_PERIOD=%{x}<br>OBS_VALUE=%{y}<extra></extra>",
         "legendgroup": "SDR",
         "line": {
          "color": "#EF553B",
          "dash": "solid"
         },
         "marker": {
          "symbol": "circle"
         },
         "mode": "lines",
         "name": "SDR",
         "showlegend": true,
         "type": "scattergl",
         "x": {
          "bdata": "4gfjBw==",
          "dtype": "i2"
         },
         "xaxis": "x",
         "y": {
          "bdata": "iIiIiIhAhkB7FK5H4ZyCQA==",
          "dtype": "f8"
         },
         "yaxis": "y"
        },
        {
         "hovertemplate": "species=SDS<br>TIME_PERIOD=%{x}<br>OBS_VALUE=%{y}<extra></extra>",
         "legendgroup": "SDS",
         "line": {
          "color": "#00cc96",
          "dash": "solid"
         },
         "marker": {
          "symbol": "circle"
         },
         "mode": "lines",
         "name": "SDS",
         "showlegend": true,
         "type": "scattergl",
         "x": {
          "bdata": "3wfgB+EH4gfjB+QH",
          "dtype": "i2"
         },
         "xaxis": "x",
         "y": {
          "bdata": "L5b8Ygngs0Cg0wY6bdelQIJOG+i0rulAjCW/WLJusEAEnTbQaT2dQJ420GkDo65A",
          "dtype": "f8"
         },
         "yaxis": "y"
        },
        {
         "hovertemplate": "species=SDV<br>TIME_PERIOD=%{x}<br>OBS_VALUE=%{y}<extra></extra>",
         "legendgroup": "SDV",
         "line": {
          "color": "#ab63fa",
          "dash": "solid"
         },
         "marker": {
          "symbol": "circle"
         },
         "mode": "lines",
         "name": "SDV",
         "showlegend": true,
         "type": "scattergl",
         "x": {
          "bdata": "1QfWB9cH2AfZB9oH2wfcB90H3gfkB+UH5gfnBw==",
          "dtype": "i2"
         },
         "xaxis": "x",
         "y": {
          "bdata": "tKNLEtUENUEs+cWSCYEnQX+x5JfJKipBOm2g0+4ZJkHJL5Z8nJYoQdpApw2AWiJBN9Bpg7KoKUGuR+F62xohQauqqqpc8yFBXyz5xThhIkHv7u7uygInQXE9Ctfx1iFBVVVVVUs6HkHziyW/ZjscQQ==",
          "dtype": "f8"
         },
         "yaxis": "y"
        },
        {
         "hovertemplate": "species=SFS<br>TIME_PERIOD=%{x}<br>OBS_VALUE=%{y}<extra></extra>",
         "legendgroup": "SFS",
         "line": {
          "color": "#FFA15A",
          "dash": "solid"
         },
         "marker": {
          "symbol": "circle"
         },
         "mode": "lines",
         "name": "SFS",
         "showlegend": true,
         "type": "scattergl",
         "x": {
          "bdata": "1wfYB9kH2gfbB9wH3QfeB98H4AfhB+IH4wfkB+UH5gfnBw==",
          "dtype": "i2"
         },
         "xaxis": "x",
         "y": {
          "bdata": "TH6xZC37REHv7u4OgLBCQQAAAAANRkNBVVVVNRr4REFApw00yTFGQcaSX6wBAEhBBJ020NGqPUFVVVXVshhEQZJfLPlJ8D5BpHA9SsN+QEFpA522capGQXh3d/fcJD5Bv1jyi/C9PUG7u7s7aiwlQTMzMzOlaSZBq6qqqkRaIEHJL5b8YvIZQQ==",
          "dtype": "f8"
         },
         "yaxis": "y"
        },
        {
         "hovertemplate": "species=SHO<br>TIME_PERIOD=%{x}<br>OBS_VALUE=%{y}<extra></extra>",
         "legendgroup": "SHO",
         "line": {
          "color": "#19d3f3",
          "dash": "solid"
         },
         "marker": {
          "symbol": "circle"
         },
         "mode": "lines",
         "name": "SHO",
         "showlegend": true,
         "type": "scattergl",
         "x": {
          "bdata": "4QfiB+MH5AflB+YH5wc=",
          "dtype": "i2"
         },
         "xaxis": "x",
         "y": {
          "bdata": "AAAAAEBH00Ck374OrITCQEjhehTukcJA8oslvxgvv0ApXI/C9enNQIiIiIiIkcpAkl8s+UXtvEA=",
          "dtype": "f8"
         },
         "yaxis": "y"
        },
        {
         "hovertemplate": "species=SHR<br>TIME_PERIOD=%{x}<br>OBS_VALUE=%{y}<extra></extra>",
         "legendgroup": "SHR",
         "line": {
          "color": "#FF6692",
          "dash": "solid"
         },
         "marker": {
          "symbol": "circle"
         },
         "mode": "lines",
         "name": "SHR",
         "showlegend": true,
         "type": "scattergl",
         "x": {
          "bdata": "3wfgB+EH4gfjB+QH",
          "dtype": "i2"
         },
         "xaxis": "x",
         "y": {
          "bdata": "BzptoI+ZFUFkyS+WggoXQVK4HoX5tSFBq6qqqror8UBBpw10ernjQGkDnTbQ5KlA",
          "dtype": "f8"
         },
         "yaxis": "y"
        },
        {
         "hovertemplate": "species=SIL<br>TIME_PERIOD=%{x}<br>OBS_VALUE=%{y}<extra></extra>",
         "legendgroup": "SIL",
         "line": {
          "color": "#B6E880",
          "dash": "solid"
         },
         "marker": {
          "symbol": "circle"
         },
         "mode": "lines",
         "name": "SIL",
         "showlegend": true,
         "type": "scattergl",
         "x": {
          "bdata": "1gfXB9gH2QfaB9sH3AfdB94H3wfgB+EH4wc=",
          "dtype": "i2"
         },
         "xaxis": "x",
         "y": {
          "bdata": "Jb9Y8ufSIkHf3d1dKvk7Qei0gc4NaD5B1AY6LfJ5QkGNJb/YCEM5Qauqqqr1njJBnDbQadteL0FPG+i0T3cjQdpApw3eBCRB20CnDR5wIkFSuB6FTIMlQVK4HoUoIihBMzMzM0sv5EA=",
          "dtype": "f8"
         },
         "yaxis": "y"
        },
        {
         "hovertemplate": "species=SIU<br>TIME_PERIOD=%{x}<br>OBS_VALUE=%{y}<extra></extra>",
         "legendgroup": "SIU",
         "line": {
          "color": "#FF97FF",
          "dash": "solid"
         },
         "marker": {
          "symbol": "circle"
         },
         "mode": "lines",
         "name": "SIU",
         "showlegend": true,
         "type": "scattergl",
         "x": {
          "bdata": "4wfkB+UH5gfnBw==",
          "dtype": "i2"
         },
         "xaxis": "x",
         "y": {
          "bdata": "Jr9Y8ssPsEC4HoXrSSnhQL9Y8oulBPlAERERETEd+UDe3d3dOcn0QA==",
          "dtype": "f8"
         },
         "yaxis": "y"
        },
        {
         "hovertemplate": "species=SIY<br>TIME_PERIOD=%{x}<br>OBS_VALUE=%{y}<extra></extra>",
         "legendgroup": "SIY",
         "line": {
          "color": "#FECB52",
          "dash": "solid"
         },
         "marker": {
          "symbol": "circle"
         },
         "mode": "lines",
         "name": "SIY",
         "showlegend": true,
         "type": "scattergl",
         "x": {
          "bdata": "4gfjBw==",
          "dtype": "i2"
         },
         "xaxis": "x",
         "y": {
          "bdata": "RUREREQ4nkAb6LSBToWjQA==",
          "dtype": "f8"
         },
         "yaxis": "y"
        },
        {
         "hovertemplate": "species=SJA<br>TIME_PERIOD=%{x}<br>OBS_VALUE=%{y}<extra></extra>",
         "legendgroup": "SJA",
         "line": {
          "color": "#636efa",
          "dash": "solid"
         },
         "marker": {
          "symbol": "circle"
         },
         "mode": "lines",
         "name": "SJA",
         "showlegend": true,
         "type": "scattergl",
         "x": {
          "bdata": "1QfWB9cH2AfZB9oH2wfcB90H3gffB+AH4QfiB+MH5AflB+YH5wc=",
          "dtype": "i2"
         },
         "xaxis": "x",
         "y": {
          "bdata": "nDOidFpjFUFPG+i0DCoYQZ420GnTBw9Bc9pAp/EmCEEvlvxiJV8aQRERERE1QxZBNDMzM1dpEkHNzMzMGCAQQauqqqryEQ1BVVVVVXMwBkFxPQrXc2T4QIwlv1gSxCBBG+i0gTyxF0E30GkD7ssdQTfQaQP4/h9BmZmZmX0OFkFqA502jOwgQRERERGtJBxBS36x5J9jK0E=",
          "dtype": "f8"
         },
         "yaxis": "y"
        },
        {
         "hovertemplate": "species=SKA<br>TIME_PERIOD=%{x}<br>OBS_VALUE=%{y}<extra></extra>",
         "legendgroup": "SKA",
         "line": {
          "color": "#EF553B",
          "dash": "solid"
         },
         "marker": {
          "symbol": "circle"
         },
         "mode": "lines",
         "name": "SKA",
         "showlegend": true,
         "type": "scattergl",
         "x": {
          "bdata": "3wfgB+EH4gfjB+QH5QfmB+cH",
          "dtype": "i2"
         },
         "xaxis": "x",
         "y": {
          "bdata": "1AY6bUAH9EARERERRQvwQIiIiIjoD8RAERERERE9mkBZ8oslvxmdQJNfLPmFRbpAMZb8Ypmv2kCIiIiIyGHIQGkDnTYwM8NA",
          "dtype": "f8"
         },
         "yaxis": "y"
        },
        {
         "hovertemplate": "species=SKJ<br>TIME_PERIOD=%{x}<br>OBS_VALUE=%{y}<extra></extra>",
         "legendgroup": "SKJ",
         "line": {
          "color": "#00cc96",
          "dash": "solid"
         },
         "marker": {
          "symbol": "circle"
         },
         "mode": "lines",
         "name": "SKJ",
         "showlegend": true,
         "type": "scattergl",
         "x": {
          "bdata": "zQfQB9EH0gfTB9QH1QfWB9cH2AfZB98H4AfhB+IH4wfkB+UH5gfnBw==",
          "dtype": "i2"
         },
         "xaxis": "x",
         "y": {
          "bdata": "VVVVVX11DEG28/3U1DngQOdC0tRxBSFBDncI9vJSkUC41C7z28QiQc6t/QoKFiVBdgXI/dijKEEy7xLW3CgnQT4K16NhjyZBQacNNG2wM0FEREREtIMqQSchAVUpAARBiEIQYs4aO0Ep5BKWPP1EQQF7L2RdjTpBLSoahGxqJkGWwCQvhv8xQfSRgRkugjlBm2yyyQQWK0HlGTpnoesoQQ==",
          "dtype": "f8"
         },
         "yaxis": "y"
        },
        {
         "hovertemplate": "species=SKM<br>TIME_PERIOD=%{x}<br>OBS_VALUE=%{y}<extra></extra>",
         "legendgroup": "SKM",
         "line": {
          "color": "#ab63fa",
          "dash": "solid"
         },
         "marker": {
          "symbol": "circle"
         },
         "mode": "lines",
         "name": "SKM",
         "showlegend": true,
         "type": "scattergl",
         "x": {
          "bdata": "4gfjB+QH5QfmB+cH",
          "dtype": "i2"
         },
         "xaxis": "x",
         "y": {
          "bdata": "Om2g08jkD0EF6A7bmjcGQVVVVVUTgwFB5RdLfgneCkF4d3d3Y18SQWdmZmb22wBB",
          "dtype": "f8"
         },
         "yaxis": "y"
        },
        {
         "hovertemplate": "species=SKX<br>TIME_PERIOD=%{x}<br>OBS_VALUE=%{y}<extra></extra>",
         "legendgroup": "SKX",
         "line": {
          "color": "#FFA15A",
          "dash": "solid"
         },
         "marker": {
          "symbol": "circle"
         },
         "mode": "lines",
         "name": "SKX",
         "showlegend": true,
         "type": "scattergl",
         "x": {
          "bdata": "1QfWB9cH2AfZB9oH2wfcB90H3gffB+AH4QfiB+MH5AflB+YH5wc=",
          "dtype": "i2"
         },
         "xaxis": "x",
         "y": {
          "bdata": "N9OXOCMPEUF3d3d3teoSQRERERGUxhdBeHd3d+yGGEGrqqqqPoURQc3MzMyIlBhBiIiIiNeKLEFVVVVVrckKQVVVVVW9ZQRBxZJfLNU1CUFVVVVV1dvjQHoUrkfp4whBIiIiIqJPp0DNzMzMzFGSQDptoNMGyqdAyS+W/DK20ECkcD0K112vQCIiIiLitsxAJb9Y8ot2okA=",
          "dtype": "f8"
         },
         "yaxis": "y"
        },
        {
         "hovertemplate": "species=SLM<br>TIME_PERIOD=%{x}<br>OBS_VALUE=%{y}<extra></extra>",
         "legendgroup": "SLM",
         "line": {
          "color": "#19d3f3",
          "dash": "solid"
         },
         "marker": {
          "symbol": "circle"
         },
         "mode": "lines",
         "name": "SLM",
         "showlegend": true,
         "type": "scattergl",
         "x": {
          "bdata": "1wfYB9kH2gfbB9wH3QfeB98H4AfhB+IH4wfkB+UH5gfnBw==",
          "dtype": "i2"
         },
         "xaxis": "x",
         "y": {
          "bdata": "BJ020JuTJkEEnTbQ/h0SQSIiIiKkyxJBKVyPwp3WC0EEnTbQscwOQZqZmZkHUQNB7FG4HoU79UAYS36xzAYMQYwlv1jsLBJBmZmZmRNCDEFpA5027NUEQZNfLPndgANBeHd3d6ed+UDNzMzMLLnuQAc6baCzUPJA7+7u7i6660AAAAAAcM31QA==",
          "dtype": "f8"
         },
         "yaxis": "y"
        },
        {
         "hovertemplate": "species=SLO<br>TIME_PERIOD=%{x}<br>OBS_VALUE=%{y}<extra></extra>",
         "legendgroup": "SLO",
         "line": {
          "color": "#FF6692",
          "dash": "solid"
         },
         "marker": {
          "symbol": "circle"
         },
         "mode": "lines",
         "name": "SLO",
         "showlegend": true,
         "type": "scattergl",
         "x": {
          "bdata": "1wfYB9kH2gfbB9wH3QfeB98H4AfhB+IH4wfkB+UH5gfnBw==",
          "dtype": "i2"
         },
         "xaxis": "x",
         "y": {
          "bdata": "eHd3R8w0U0GIiIgIQbhOQckvllwu8lNBxpJfrEthT0FPG+j0EXNKQQ102sCLMkNBIiIigpliQEF4d3e3bKRCQbu7uxshf0hB2kCnLbbRRUFdZYDGoYFAQWHD00u0vzZB61G4/nv7QEE/mnb7dFQuQRJPUqOyJjNBiIiIiHJ3NkFVVVXVzPgzQQ==",
          "dtype": "f8"
         },
         "yaxis": "y"
        },
        {
         "hovertemplate": "species=SMA<br>TIME_PERIOD=%{x}<br>OBS_VALUE=%{y}<extra></extra>",
         "legendgroup": "SMA",
         "line": {
          "color": "#B6E880",
          "dash": "solid"
         },
         "marker": {
          "symbol": "circle"
         },
         "mode": "lines",
         "name": "SMA",
         "showlegend": true,
         "type": "scattergl",
         "x": {
          "bdata": "4gfjBw==",
          "dtype": "i2"
         },
         "xaxis": "x",
         "y": {
          "bdata": "njbQaQP7pEBvMEU+66ZXQA==",
          "dtype": "f8"
         },
         "yaxis": "y"
        },
        {
         "hovertemplate": "species=SMD<br>TIME_PERIOD=%{x}<br>OBS_VALUE=%{y}<extra></extra>",
         "legendgroup": "SMD",
         "line": {
          "color": "#FF97FF",
          "dash": "solid"
         },
         "marker": {
          "symbol": "circle"
         },
         "mode": "lines",
         "name": "SMD",
         "showlegend": true,
         "type": "scattergl",
         "x": {
          "bdata": "3wfgB+EH4gfjB+QH",
          "dtype": "i2"
         },
         "xaxis": "x",
         "y": {
          "bdata": "eHd3dzdOwEDKV+9dcKm4QAvKR2VkkQJBuRluwNX2HkF3d3f3oYgmQdBpA50WXcBA",
          "dtype": "f8"
         },
         "yaxis": "y"
        },
        {
         "hovertemplate": "species=SNQ<br>TIME_PERIOD=%{x}<br>OBS_VALUE=%{y}<extra></extra>",
         "legendgroup": "SNQ",
         "line": {
          "color": "#FECB52",
          "dash": "solid"
         },
         "marker": {
          "symbol": "circle"
         },
         "mode": "lines",
         "name": "SNQ",
         "showlegend": true,
         "type": "scattergl",
         "x": {
          "bdata": "3wfgB+EH4gfjB+QH",
          "dtype": "i2"
         },
         "xaxis": "x",
         "y": {
          "bdata": "wFjyi9WQ7ED5xZJfLDntQM3MzMwk3vBAu7u7u9sB3UBLfrHk1yLSQO/u7u7uTI9A",
          "dtype": "f8"
         },
         "yaxis": "y"
        },
        {
         "hovertemplate": "species=SOI<br>TIME_PERIOD=%{x}<br>OBS_VALUE=%{y}<extra></extra>",
         "legendgroup": "SOI",
         "line": {
          "color": "#636efa",
          "dash": "solid"
         },
         "marker": {
          "symbol": "circle"
         },
         "mode": "lines",
         "name": "SOI",
         "showlegend": true,
         "type": "scattergl",
         "x": {
          "bdata": "1wfYB9kH2gfbB9wH3QfeBw==",
          "dtype": "i2"
         },
         "xaxis": "x",
         "y": {
          "bdata": "VVVVVXoVF0FnZmZmyIUiQdejcL0BJSxBMzMzs9EQKkEt+cWS8BYmQTQzM7MZeTFBLPnFkqF2J0E30GkDo1cjQQ==",
          "dtype": "f8"
         },
         "yaxis": "y"
        },
        {
         "hovertemplate": "species=SOL<br>TIME_PERIOD=%{x}<br>OBS_VALUE=%{y}<extra></extra>",
         "legendgroup": "SOL",
         "line": {
          "color": "#EF553B",
          "dash": "solid"
         },
         "marker": {
          "symbol": "circle"
         },
         "mode": "lines",
         "name": "SOL",
         "showlegend": true,
         "type": "scattergl",
         "x": {
          "bdata": "yAfJB8oHywfMB80HzgfPB9AH0QfSB9MH1AfVB9YH1wfYB9kH2gfbB9wH3QfeB98H4AfhB+IH4wfkB+UH5gfnBw==",
          "dtype": "i2"
         },
         "xaxis": "x",
         "y": {
          "bdata": "q6qqijznikEAAAAQPyuAQauqqkobu31BVVVV1eZyYkGO4zhOY1tWQRzHcRyxBldBAAAAQB0KUkHkOI5jQNNLQdDAtfCUEUtBKeXIfWUmUUG/Iz0feDWmQNBxSFmNHlRBJR5QJgzzUkEAQhFYBjpZQQkOQidvzF5B1U6nJ0tfXkGh+DGmq2hUQTX3fd1IgFpB7tPx4IM9W0Gy5BeTuWhlQbu7uxP8JGRB2KNwfUODWUFmZmY2vXxdQfxiyf+LKGJByQImdDR1VUFKFEfzl5pTQeJDdtsDqlFBsPaKsZKqUEER5KBkTLZIQfWuZ3UmUU1Bq6qqqpZaWEGeNtB5oddYQQ==",
          "dtype": "f8"
         },
         "yaxis": "y"
        },
        {
         "hovertemplate": "species=SOO<br>TIME_PERIOD=%{x}<br>OBS_VALUE=%{y}<extra></extra>",
         "legendgroup": "SOO",
         "line": {
          "color": "#00cc96",
          "dash": "solid"
         },
         "marker": {
          "symbol": "circle"
         },
         "mode": "lines",
         "name": "SOO",
         "showlegend": true,
         "type": "scattergl",
         "x": {
          "bdata": "3wfkB+UH5gfnBw==",
          "dtype": "i2"
         },
         "xaxis": "x",
         "y": {
          "bdata": "eHd3d+EcEUG6iO/EmPfjQDMzMzNTucRAq6qqqiqgvUAiIiIicjnTQA==",
          "dtype": "f8"
         },
         "yaxis": "y"
        },
        {
         "hovertemplate": "species=SOS<br>TIME_PERIOD=%{x}<br>OBS_VALUE=%{y}<extra></extra>",
         "legendgroup": "SOS",
         "line": {
          "color": "#ab63fa",
          "dash": "solid"
         },
         "marker": {
          "symbol": "circle"
         },
         "mode": "lines",
         "name": "SOS",
         "showlegend": true,
         "type": "scattergl",
         "x": {
          "bdata": "4AfiB+MH5AflB+YH5wc=",
          "dtype": "i2"
         },
         "xaxis": "x",
         "y": {
          "bdata": "zczMzMwBq0CIiIiICBnEQNUeCQ6C58BAfNCzWVmF0UDvuTmC2y/kQL8b+D7CqdtA7+7u7shqAUE=",
          "dtype": "f8"
         },
         "yaxis": "y"
        },
        {
         "hovertemplate": "species=SOX<br>TIME_PERIOD=%{x}<br>OBS_VALUE=%{y}<extra></extra>",
         "legendgroup": "SOX",
         "line": {
          "color": "#FFA15A",
          "dash": "solid"
         },
         "marker": {
          "symbol": "circle"
         },
         "mode": "lines",
         "name": "SOX",
         "showlegend": true,
         "type": "scattergl",
         "x": {
          "bdata": "1wfYB9kH2gfbB9wH3QfeB98H4Qc=",
          "dtype": "i2"
         },
         "xaxis": "x",
         "y": {
          "bdata": "ERERESFx8EDbQKcN/M7rQGZmZmY2avpAeHd3d1/W9EBZ8oslx4nzQGkDnTbIgQBB4XoUrsOl8ECcNtBpu7v4QEt+seQ3j/1A84slv4Qa+EA=",
          "dtype": "f8"
         },
         "yaxis": "y"
        },
        {
         "hovertemplate": "species=SPC<br>TIME_PERIOD=%{x}<br>OBS_VALUE=%{y}<extra></extra>",
         "legendgroup": "SPC",
         "line": {
          "color": "#19d3f3",
          "dash": "solid"
         },
         "marker": {
          "symbol": "circle"
         },
         "mode": "lines",
         "name": "SPC",
         "showlegend": true,
         "type": "scattergl",
         "x": {
          "bdata": "3wfgB+EH4gfjB+QH5QfmB+cH",
          "dtype": "i2"
         },
         "xaxis": "x",
         "y": {
          "bdata": "GEt+sblcFkFcj8J1pwohQVnyiyXWnR1BG+i0Acq8MUG7u7u7RbgnQRvotIFCswZBZ2ZmZrCcBkFnZmZm8mgAQauqqqqCD/9A",
          "dtype": "f8"
         },
         "yaxis": "y"
        },
        {
         "hovertemplate": "species=SPF<br>TIME_PERIOD=%{x}<br>OBS_VALUE=%{y}<extra></extra>",
         "legendgroup": "SPF",
         "line": {
          "color": "#FF6692",
          "dash": "solid"
         },
         "marker": {
          "symbol": "circle"
         },
         "mode": "lines",
         "name": "SPF",
         "showlegend": true,
         "type": "scattergl",
         "x": {
          "bdata": "4wc=",
          "dtype": "i2"
         },
         "xaxis": "x",
         "y": {
          "bdata": "PgrXo3AJlUA=",
          "dtype": "f8"
         },
         "yaxis": "y"
        },
        {
         "hovertemplate": "species=SPN<br>TIME_PERIOD=%{x}<br>OBS_VALUE=%{y}<extra></extra>",
         "legendgroup": "SPN",
         "line": {
          "color": "#B6E880",
          "dash": "solid"
         },
         "marker": {
          "symbol": "circle"
         },
         "mode": "lines",
         "name": "SPN",
         "showlegend": true,
         "type": "scattergl",
         "x": {
          "bdata": "4AflB+YH",
          "dtype": "i2"
         },
         "xaxis": "x",
         "y": {
          "bdata": "u7u7uzugp0A3mCKfdYNHQNC6wRT5rElA",
          "dtype": "f8"
         },
         "yaxis": "y"
        },
        {
         "hovertemplate": "species=SPR<br>TIME_PERIOD=%{x}<br>OBS_VALUE=%{y}<extra></extra>",
         "legendgroup": "SPR",
         "line": {
          "color": "#FF97FF",
          "dash": "solid"
         },
         "marker": {
          "symbol": "circle"
         },
         "mode": "lines",
         "name": "SPR",
         "showlegend": true,
         "type": "scattergl",
         "x": {
          "bdata": "1QfWB9cH2AfZB9oH2wfcB90H3gffB+AH4QfiB+MH5AflB+YH5wc=",
          "dtype": "i2"
         },
         "xaxis": "x",
         "y": {
          "bdata": "eVV6gF395kB3d3d3t3HdQNFpA50WYeBAu7u7u0ui5EAJ16NwbVfoQBIRERFxeehA0WkDnZYW4ED5xZJfjEzYQHh3d3fXV9dAS36x5JcD4EAYS36x9P/jQFnyiyW/PtZA7+7u7k6d5kA0MzMzg0XvQASdNtBZa/hARURERPRe20De3d3dfVXqQFVVVVWlW+RAlfxiya99zUA=",
          "dtype": "f8"
         },
         "yaxis": "y"
        },
        {
         "hovertemplate": "species=SQC<br>TIME_PERIOD=%{x}<br>OBS_VALUE=%{y}<extra></extra>",
         "legendgroup": "SQC",
         "line": {
          "color": "#FECB52",
          "dash": "solid"
         },
         "marker": {
          "symbol": "circle"
         },
         "mode": "lines",
         "name": "SQC",
         "showlegend": true,
         "type": "scattergl",
         "x": {
          "bdata": "yAfJB8oHywfMB80HzgfPB9AH0QfSB9MH1AfVB9YH1wfYB9kH2gfbB9wH3QfeB98H4QfiB+MH5AflB+YH5wc=",
          "dtype": "i2"
         },
         "xaxis": "x",
         "y": {
          "bdata": "q6qqOigxcEGrqqpKUBhrQQAAAKCGNW1BAAAAgKoCWkHkOI5jPLRcQauqquqaqllBchzH8W4nUEFVVVXVsEpMQWNd3AZHsU1BTLurvT1NUkEm9A1f+T2iQF1Q3+I83E1BEw8oi/cZTkE5hCplCGJVQUzg1v3rY1VB3ypi52DHV0FJCdTBC6tUQYrNx90GDVRBx89ZpS6eVkEiIiL6PxhgQbgehbsggFVBYskv1gC2V0GrqqqywyVgQXh3d3c3z7dAeHd3d1eCA0EOdNpAp/zOQGAs+cVy7sdAQKcNdPonxkAiIiIiYvDOQN7d3d296tJAVVVVVZW20UA=",
          "dtype": "f8"
         },
         "yaxis": "y"
        },
        {
         "hovertemplate": "species=SQE<br>TIME_PERIOD=%{x}<br>OBS_VALUE=%{y}<extra></extra>",
         "legendgroup": "SQE",
         "line": {
          "color": "#636efa",
          "dash": "solid"
         },
         "marker": {
          "symbol": "circle"
         },
         "mode": "lines",
         "name": "SQE",
         "showlegend": true,
         "type": "scattergl",
         "x": {
          "bdata": "3wfgB+EH4gfjB+QH5QfmB+cH",
          "dtype": "i2"
         },
         "xaxis": "x",
         "y": {
          "bdata": "EREREXlG+kCrqqqqSqHqQBSuRyHlBTlB1AY6ba7AFkE6j53K/QUFQSkNIj8xh/JA5fpkcrzLI0Ek5mwUdjQfQXE9CtethCBB",
          "dtype": "f8"
         },
         "yaxis": "y"
        },
        {
         "hovertemplate": "species=SQF<br>TIME_PERIOD=%{x}<br>OBS_VALUE=%{y}<extra></extra>",
         "legendgroup": "SQF",
         "line": {
          "color": "#EF553B",
          "dash": "solid"
         },
         "marker": {
          "symbol": "circle"
         },
         "mode": "lines",
         "name": "SQF",
         "showlegend": true,
         "type": "scattergl",
         "x": {
          "bdata": "4gfjB+QH5QfmB+cH",
          "dtype": "i2"
         },
         "xaxis": "x",
         "y": {
          "bdata": "7+7u7qNKEkGrqqqqtKgVQbHkF0tmYBxB2kCnDQpGJkF4d3d34MEkQe/u7u7pGyhB",
          "dtype": "f8"
         },
         "yaxis": "y"
        },
        {
         "hovertemplate": "species=SQM<br>TIME_PERIOD=%{x}<br>OBS_VALUE=%{y}<extra></extra>",
         "legendgroup": "SQM",
         "line": {
          "color": "#00cc96",
          "dash": "solid"
         },
         "marker": {
          "symbol": "circle"
         },
         "mode": "lines",
         "name": "SQM",
         "showlegend": true,
         "type": "scattergl",
         "x": {
          "bdata": "1wfYB9kH2gfbB9wH3QfeB98H4AfhB+IH4wfkB+UH5gfnBw==",
          "dtype": "i2"
         },
         "xaxis": "x",
         "y": {
          "bdata": "q6qq6moGVUFSuB61MmJWQUt+seTN71pBoNMGKtUNVkERERHxb0JUQVVVVVUZ31BBJb9Yst8nTEFVVVVVhCdJQY/C9QgMbk5BMzMzs27GTUElv1iSy51RQe/u7i5rJVVBfrHkFzKRUUG/WPKLOzZDQV8s+cU7UjxBMzMzM7CyPEGrqqpqMNU4QQ==",
          "dtype": "f8"
         },
         "yaxis": "y"
        },
        {
         "hovertemplate": "species=SQR<br>TIME_PERIOD=%{x}<br>OBS_VALUE=%{y}<extra></extra>",
         "legendgroup": "SQR",
         "line": {
          "color": "#ab63fa",
          "dash": "solid"
         },
         "marker": {
          "symbol": "circle"
         },
         "mode": "lines",
         "name": "SQR",
         "showlegend": true,
         "type": "scattergl",
         "x": {
          "bdata": "3wfgB+EH4gfjB+QH5QfmB+cH",
          "dtype": "i2"
         },
         "xaxis": "x",
         "y": {
          "bdata": "Xyz5Bfl4VkHC9ShcrNRUQQAAADDLw1lBS36xpL8DXEGkcD0qPFNSQVnyi2WyaT9BbaDTZmM9REFVVVXVGUtCQQ102qDJykRB",
          "dtype": "f8"
         },
         "yaxis": "y"
        },
        {
         "hovertemplate": "species=SQU<br>TIME_PERIOD=%{x}<br>OBS_VALUE=%{y}<extra></extra>",
         "legendgroup": "SQU",
         "line": {
          "color": "#FFA15A",
          "dash": "solid"
         },
         "marker": {
          "symbol": "circle"
         },
         "mode": "lines",
         "name": "SQU",
         "showlegend": true,
         "type": "scattergl",
         "x": {
          "bdata": "yAfJB8oHywfMB9AH0QfSB9MH",
          "dtype": "i2"
         },
         "xaxis": "x",
         "y": {
          "bdata": "AAAAQGeZWEFVVVXVJSRWQQAAAMBh+1VBq6qqqjoz9EBVVVVVVVmWQKxBhRD9JJBArdUxwfdE0EC1gU4b6GxIQH1njr9H2dlA",
          "dtype": "f8"
         },
         "yaxis": "y"
        },
        {
         "hovertemplate": "species=SRG<br>TIME_PERIOD=%{x}<br>OBS_VALUE=%{y}<extra></extra>",
         "legendgroup": "SRG",
         "line": {
          "color": "#19d3f3",
          "dash": "solid"
         },
         "marker": {
          "symbol": "circle"
         },
         "mode": "lines",
         "name": "SRG",
         "showlegend": true,
         "type": "scattergl",
         "x": {
          "bdata": "1wfYB9kH2gfbB9wH3QfeB98H4AfhB+IH4wfkB+UH5gfnBw==",
          "dtype": "i2"
         },
         "xaxis": "x",
         "y": {
          "bdata": "ZmZmpkClS0HRaQMdl1VFQSIiIqIGNkdBVVVVNWWXSEH6xZLfeqRLQUREROQf00ZBXI/C1QGJS0FVVVWV6a5DQSlcj8J1b7BAeHd3d3fOs0CuR+F6NKfaQOi0gU4LMdFAgU4b6HT4tEDe3d0dJ0cyQXE9CtdHCDlBVVVVFSZgQEEiIiIiK4g5QQ==",
          "dtype": "f8"
         },
         "yaxis": "y"
        },
        {
         "hovertemplate": "species=SRJ<br>TIME_PERIOD=%{x}<br>OBS_VALUE=%{y}<extra></extra>",
         "legendgroup": "SRJ",
         "line": {
          "color": "#FF6692",
          "dash": "solid"
         },
         "marker": {
          "symbol": "circle"
         },
         "mode": "lines",
         "name": "SRJ",
         "showlegend": true,
         "type": "scattergl",
         "x": {
          "bdata": "4wc=",
          "dtype": "i2"
         },
         "xaxis": "x",
         "y": {
          "bdata": "FfmsG0wxV0A=",
          "dtype": "f8"
         },
         "yaxis": "y"
        },
        {
         "hovertemplate": "species=SRK<br>TIME_PERIOD=%{x}<br>OBS_VALUE=%{y}<extra></extra>",
         "legendgroup": "SRK",
         "line": {
          "color": "#B6E880",
          "dash": "solid"
         },
         "marker": {
          "symbol": "circle"
         },
         "mode": "lines",
         "name": "SRK",
         "showlegend": true,
         "type": "scattergl",
         "x": {
          "bdata": "4gfjB+QH5wc=",
          "dtype": "i2"
         },
         "xaxis": "x",
         "y": {
          "bdata": "BjptoFP+2kBFREREhALcQHh3d3e3iLZAHjqGF+fhRkA=",
          "dtype": "f8"
         },
         "yaxis": "y"
        },
        {
         "hovertemplate": "species=SRX<br>TIME_PERIOD=%{x}<br>OBS_VALUE=%{y}<extra></extra>",
         "legendgroup": "SRX",
         "line": {
          "color": "#FF97FF",
          "dash": "solid"
         },
         "marker": {
          "symbol": "circle"
         },
         "mode": "lines",
         "name": "SRX",
         "showlegend": true,
         "type": "scattergl",
         "x": {
          "bdata": "yAfJB8oHywfMB80HzgfPB9AH0QfSB9MH1AfVB9YH1wfYB9kH2gfbB9wH3QfeB98H4AfhB+IH4wfkB+UH5gfnBw==",
          "dtype": "i2"
         },
         "xaxis": "x",
         "y": {
          "bdata": "q6qqqp6SSUGrqqqqVXFDQauqqirriEBB5DiO4+jaMkGrqqqqTF4vQQAAAAD0Z0ZBAAAAAE28OUGrqqqqHBImQewKkHt9yR1Bpw10mhMZGkGdIS9+LUxyQEK6xenEVRlBhhvw+STKHEG/nxqv7pk1QdQGOu0lXDNBq6qqqrMFMUEHOm2g9r4oQcaSXyyhoSxBAAAAAGcqMEHv7u7uNJIuQauqqqq9kClBu7u7u2GVLEEVrkfh2AwvQZ020GkDZ6FAMzMzM7NzoEBBpw102o+TQIiIiIiI4oJAERERERHBgEDJL5b8ojDSQIiIiIiIM7xAMzMzMzN61UDf3d3d3RyvQA==",
          "dtype": "f8"
         },
         "yaxis": "y"
        },
        {
         "hovertemplate": "species=SSB<br>TIME_PERIOD=%{x}<br>OBS_VALUE=%{y}<extra></extra>",
         "legendgroup": "SSB",
         "line": {
          "color": "#FECB52",
          "dash": "solid"
         },
         "marker": {
          "symbol": "circle"
         },
         "mode": "lines",
         "name": "SSB",
         "showlegend": true,
         "type": "scattergl",
         "x": {
          "bdata": "1wfYB9kH2gfbB9wH3QfeB98H4AfhB+IH4wfkB+UH5gfnBw==",
          "dtype": "i2"
         },
         "xaxis": "x",
         "y": {
          "bdata": "mpmZGbk2PUEHOm2g414vQYwlv1inhjtBG+i0gQQFOkGZmZm5yKhAQc3MzMxebTtBdNpAh8X1QkF7FK5H7IM2QURERMSAVDhBjCW/WG1YNkHXo3C9inAuQXh3d3ephDJBH4Xr0czpLUEehetROC0iQbu7u7vIDSlB7+7u7tmxKkHv7u7usOIkQQ==",
          "dtype": "f8"
         },
         "yaxis": "y"
        },
        {
         "hovertemplate": "species=STT<br>TIME_PERIOD=%{x}<br>OBS_VALUE=%{y}<extra></extra>",
         "legendgroup": "STT",
         "line": {
          "color": "#636efa",
          "dash": "solid"
         },
         "marker": {
          "symbol": "circle"
         },
         "mode": "lines",
         "name": "STT",
         "showlegend": true,
         "type": "scattergl",
         "x": {
          "bdata": "3wfgB+EH4gfjB+UH5gfnBw==",
          "dtype": "i2"
         },
         "xaxis": "x",
         "y": {
          "bdata": "q6qqqqrckEDPaQOdNiaIQIiIiIgIfKxAIiIiIiLeiUAvzkPH8MJXQIA7/RELuD9AbzBFPusGS0Cg0wY6bdxxQA==",
          "dtype": "f8"
         },
         "yaxis": "y"
        },
        {
         "hovertemplate": "species=SVE<br>TIME_PERIOD=%{x}<br>OBS_VALUE=%{y}<extra></extra>",
         "legendgroup": "SVE",
         "line": {
          "color": "#EF553B",
          "dash": "solid"
         },
         "marker": {
          "symbol": "circle"
         },
         "mode": "lines",
         "name": "SVE",
         "showlegend": true,
         "type": "scattergl",
         "x": {
          "bdata": "1QfWB9cH2AfZB9oH2wfcB90H3gffB+AH4QfiB+MH5AflB+YH5wc=",
          "dtype": "i2"
         },
         "xaxis": "x",
         "y": {
          "bdata": "x9/j5+V2bUHw7u6OLm1vQbWBTj9VMXFBjCW/qH7dcUFjyS+axnhwQZf8Ytn4yHBBAAAAeDDEcEGx5Bdj1O9qQRvotDlDSmVBERERSYR3ZEFSuB6lygVkQc3MzBxRWGhBvLu7y91TYUHrUbi+XaZmQbu7u9PN52tBpw10wpW3a0GkcD0yQO1yQREREUnkAXFBiIiIyK7qbEE=",
          "dtype": "f8"
         },
         "yaxis": "y"
        },
        {
         "hovertemplate": "species=SVV<br>TIME_PERIOD=%{x}<br>OBS_VALUE=%{y}<extra></extra>",
         "legendgroup": "SVV",
         "line": {
          "color": "#00cc96",
          "dash": "solid"
         },
         "marker": {
          "symbol": "circle"
         },
         "mode": "lines",
         "name": "SVV",
         "showlegend": true,
         "type": "scattergl",
         "x": {
          "bdata": "5Qc=",
          "dtype": "i2"
         },
         "xaxis": "x",
         "y": {
          "bdata": "N9BpAx09oEA=",
          "dtype": "f8"
         },
         "yaxis": "y"
        },
        {
         "hovertemplate": "species=SWA<br>TIME_PERIOD=%{x}<br>OBS_VALUE=%{y}<extra></extra>",
         "legendgroup": "SWA",
         "line": {
          "color": "#ab63fa",
          "dash": "solid"
         },
         "marker": {
          "symbol": "circle"
         },
         "mode": "lines",
         "name": "SWA",
         "showlegend": true,
         "type": "scattergl",
         "x": {
          "bdata": "3wfgB+EH4gfjB+QH",
          "dtype": "i2"
         },
         "xaxis": "x",
         "y": {
          "bdata": "kl8s+aPhKEFuoNOGyvwpQbLkF4udjTFB+cWSX6C/HUHbQKcNHo8SQYwlv1jylMZA",
          "dtype": "f8"
         },
         "yaxis": "y"
        },
        {
         "hovertemplate": "species=SWO<br>TIME_PERIOD=%{x}<br>OBS_VALUE=%{y}<extra></extra>",
         "legendgroup": "SWO",
         "line": {
          "color": "#FFA15A",
          "dash": "solid"
         },
         "marker": {
          "symbol": "circle"
         },
         "mode": "lines",
         "name": "SWO",
         "showlegend": true,
         "type": "scattergl",
         "x": {
          "bdata": "yAfJB8oHywfMB80HzgfPB9AH0QfSB9MH1AfVB9YH1wfYB9kH2gfbB9wH3QfeB98H4AfhB+IH4wfkB+UH5gfnBw==",
          "dtype": "i2"
         },
         "xaxis": "x",
         "y": {
          "bdata": "AAAAAN2ET0FVVVW1Fl9mQauqqmouSmBBq6qqKu67WEGrqqpK3C1gQauqqmqUmV1BAAAAQFQ2WUEAAACAEINTQU9lPl2yjlZB606KsR48XUEAcq+5UEitQLxxZasi4lxB3EPVcnkMWUHhehTC8eZ6QV8s+aXAP3tBRUREGD70eUHHkl/E/ARxQVVVVaUgfHNBFa5HzTpLdkFFREQwIWZzQTfQaaPcF21Bu7u7C0mSYkG7u7sbeT9kQXsUrudGFGlBeHd3F99DZ0F02kBnzL5iQd7d3e18lVZBhetRaIumXkElv1jyy0NgQXoUrgcmmVVBRURERE1lWUFSuB4F/9FcQQ==",
          "dtype": "f8"
         },
         "yaxis": "y"
        },
        {
         "hovertemplate": "species=SYC<br>TIME_PERIOD=%{x}<br>OBS_VALUE=%{y}<extra></extra>",
         "legendgroup": "SYC",
         "line": {
          "color": "#19d3f3",
          "dash": "solid"
         },
         "marker": {
          "symbol": "circle"
         },
         "mode": "lines",
         "name": "SYC",
         "showlegend": true,
         "type": "scattergl",
         "x": {
          "bdata": "3wfgB+EH4gfjB+QH5QfmB+cH",
          "dtype": "i2"
         },
         "xaxis": "x",
         "y": {
          "bdata": "u7u7u/kSBEEYS36xRGQEQRERERHdUPJA9Shcj+J0B0FSuB6FF9gJQaVwPQpHPPpA2kCnDRTH/EBmZmZm5nb4QHh3d3en1fJA",
          "dtype": "f8"
         },
         "yaxis": "y"
        },
        {
         "hovertemplate": "species=SYT<br>TIME_PERIOD=%{x}<br>OBS_VALUE=%{y}<extra></extra>",
         "legendgroup": "SYT",
         "line": {
          "color": "#FF6692",
          "dash": "solid"
         },
         "marker": {
          "symbol": "circle"
         },
         "mode": "lines",
         "name": "SYT",
         "showlegend": true,
         "type": "scattergl",
         "x": {
          "bdata": "3wfgB+EH4gfjB+QH5QfmB+cH",
          "dtype": "i2"
         },
         "xaxis": "x",
         "y": {
          "bdata": "AAAAAAAZq0DotIFOm6euQJf8YskvPrZA5RdLfrFKrkAiIiIiIubAQK5H4XoU/K1AgU4b6LQqvkBVVVVVVYa5QLu7u7u7vaNA",
          "dtype": "f8"
         },
         "yaxis": "y"
        },
        {
         "hovertemplate": "species=TDQ<br>TIME_PERIOD=%{x}<br>OBS_VALUE=%{y}<extra></extra>",
         "legendgroup": "TDQ",
         "line": {
          "color": "#B6E880",
          "dash": "solid"
         },
         "marker": {
          "symbol": "circle"
         },
         "mode": "lines",
         "name": "TDQ",
         "showlegend": true,
         "type": "scattergl",
         "x": {
          "bdata": "3wfgB+EH4gfjB+QH5QfmB+cH",
          "dtype": "i2"
         },
         "xaxis": "x",
         "y": {
          "bdata": "rkfhetxBAEEmv1jyu7r3QA502kCFIB1BISIiIkTGGUH8YskvMtQUQRSuR+F6uAZB7+7u7ji+BEGIiIiI9CYAQe/u7u4+TOlA",
          "dtype": "f8"
         },
         "yaxis": "y"
        },
        {
         "hovertemplate": "species=TGS<br>TIME_PERIOD=%{x}<br>OBS_VALUE=%{y}<extra></extra>",
         "legendgroup": "TGS",
         "line": {
          "color": "#FF97FF",
          "dash": "solid"
         },
         "marker": {
          "symbol": "circle"
         },
         "mode": "lines",
         "name": "TGS",
         "showlegend": true,
         "type": "scattergl",
         "x": {
          "bdata": "1QfWB9cH2AfZB9oH2wfcB90H3gffB+AH4QfiB+MH5AflB+YH5wc=",
          "dtype": "i2"
         },
         "xaxis": "x",
         "y": {
          "bdata": "eAskSALMRUGUXyy5pnhOQURERIRt7VdBq6qq2ifXUEFI4Xp0o3tTQWZmZqZb2lRBS36xdJleUkHMzMxMSLlLQW2g0yaA4ktBREREFDORUEFFRES0glxWQXyLdHT99E1BC+IWBj3bUkEwpoY3wTBTQbx+wWZ8/U5BFd7lEnDqSEGOeohG2+RJQUVERAR2gVtBFK5HoTUxWEE=",
          "dtype": "f8"
         },
         "yaxis": "y"
        },
        {
         "hovertemplate": "species=TRA<br>TIME_PERIOD=%{x}<br>OBS_VALUE=%{y}<extra></extra>",
         "legendgroup": "TRA",
         "line": {
          "color": "#FECB52",
          "dash": "solid"
         },
         "marker": {
          "symbol": "circle"
         },
         "mode": "lines",
         "name": "TRA",
         "showlegend": true,
         "type": "scattergl",
         "x": {
          "bdata": "1wfYB9kH2gfbB9wH3QfeB98H4AfhB+IH4wc=",
          "dtype": "i2"
         },
         "xaxis": "x",
         "y": {
          "bdata": "QacNdNKyGEFBpw10W5oQQcL1KFwdPxJBgU4b6FB5E0E30GkD4SkOQauqqqqG1w1BiIiIiP3vEEEEnTbQdUcNQQAAAACCHQ9BVVVVVf36DUEzMzMzQ8ANQckvlvxi7NpAq6qqqoI76kA=",
          "dtype": "f8"
         },
         "yaxis": "y"
        },
        {
         "hovertemplate": "species=TTO<br>TIME_PERIOD=%{x}<br>OBS_VALUE=%{y}<extra></extra>",
         "legendgroup": "TTO",
         "line": {
          "color": "#636efa",
          "dash": "solid"
         },
         "marker": {
          "symbol": "circle"
         },
         "mode": "lines",
         "name": "TTO",
         "showlegend": true,
         "type": "scattergl",
         "x": {
          "bdata": "4gfjBw==",
          "dtype": "i2"
         },
         "xaxis": "x",
         "y": {
          "bdata": "3t3d3d0xmUDsUbgehZ6UQA==",
          "dtype": "f8"
         },
         "yaxis": "y"
        },
        {
         "hovertemplate": "species=TTR<br>TIME_PERIOD=%{x}<br>OBS_VALUE=%{y}<extra></extra>",
         "legendgroup": "TTR",
         "line": {
          "color": "#EF553B",
          "dash": "solid"
         },
         "marker": {
          "symbol": "circle"
         },
         "mode": "lines",
         "name": "TTR",
         "showlegend": true,
         "type": "scattergl",
         "x": {
          "bdata": "4gfjB+QH5QfmB+cH",
          "dtype": "i2"
         },
         "xaxis": "x",
         "y": {
          "bdata": "eHd3d3ekqUBBpw102peeQN7d3d3dJZFArkfhehSdlUCZmZmZmdOQQBERERERhYtA",
          "dtype": "f8"
         },
         "yaxis": "y"
        },
        {
         "hovertemplate": "species=TTV<br>TIME_PERIOD=%{x}<br>OBS_VALUE=%{y}<extra></extra>",
         "legendgroup": "TTV",
         "line": {
          "color": "#00cc96",
          "dash": "solid"
         },
         "marker": {
          "symbol": "circle"
         },
         "mode": "lines",
         "name": "TTV",
         "showlegend": true,
         "type": "scattergl",
         "x": {
          "bdata": "4gfjB+QH5QfmB+cH",
          "dtype": "i2"
         },
         "xaxis": "x",
         "y": {
          "bdata": "VVVVVVWMo0CMJb9Y8vqgQNMGOm2gepxAnTbQaQNVokAiIiIiIgCVQEGnDXTaSJRA",
          "dtype": "f8"
         },
         "yaxis": "y"
        },
        {
         "hovertemplate": "species=TUN<br>TIME_PERIOD=%{x}<br>OBS_VALUE=%{y}<extra></extra>",
         "legendgroup": "TUN",
         "line": {
          "color": "#ab63fa",
          "dash": "solid"
         },
         "marker": {
          "symbol": "circle"
         },
         "mode": "lines",
         "name": "TUN",
         "showlegend": true,
         "type": "scattergl",
         "x": {
          "bdata": "zQfVB9YH",
          "dtype": "i2"
         },
         "xaxis": "x",
         "y": {
          "bdata": "AAAAAMAG3ECw4enlRidIQR+F6zHeaEFB",
          "dtype": "f8"
         },
         "yaxis": "y"
        },
        {
         "hovertemplate": "species=TUR<br>TIME_PERIOD=%{x}<br>OBS_VALUE=%{y}<extra></extra>",
         "legendgroup": "TUR",
         "line": {
          "color": "#FFA15A",
          "dash": "solid"
         },
         "marker": {
          "symbol": "circle"
         },
         "mode": "lines",
         "name": "TUR",
         "showlegend": true,
         "type": "scattergl",
         "x": {
          "bdata": "3wfgB+EH4gfjB+QH5QfmB+cH",
          "dtype": "i2"
         },
         "xaxis": "x",
         "y": {
          "bdata": "AAAAAEAkKEEAAAAADgIpQWTJL5bauRZBY8kvVsMsMUFSuB4FUOYmQRERERFHjBBBHoXrUVeEF0FFREREcqATQSEiIiIWtRdB",
          "dtype": "f8"
         },
         "yaxis": "y"
        },
        {
         "hovertemplate": "species=UGU<br>TIME_PERIOD=%{x}<br>OBS_VALUE=%{y}<extra></extra>",
         "legendgroup": "UGU",
         "line": {
          "color": "#19d3f3",
          "dash": "solid"
         },
         "marker": {
          "symbol": "circle"
         },
         "mode": "lines",
         "name": "UGU",
         "showlegend": true,
         "type": "scattergl",
         "x": {
          "bdata": "4wc=",
          "dtype": "i2"
         },
         "xaxis": "x",
         "y": {
          "bdata": "Y3hxHjqGWEA=",
          "dtype": "f8"
         },
         "yaxis": "y"
        },
        {
         "hovertemplate": "species=ULF<br>TIME_PERIOD=%{x}<br>OBS_VALUE=%{y}<extra></extra>",
         "legendgroup": "ULF",
         "line": {
          "color": "#FF6692",
          "dash": "solid"
         },
         "marker": {
          "symbol": "circle"
         },
         "mode": "lines",
         "name": "ULF",
         "showlegend": true,
         "type": "scattergl",
         "x": {
          "bdata": "4gfjBw==",
          "dtype": "i2"
         },
         "xaxis": "x",
         "y": {
          "bdata": "oNMGOo0RykCy5BdLXq3RQA==",
          "dtype": "f8"
         },
         "yaxis": "y"
        },
        {
         "hovertemplate": "species=URM<br>TIME_PERIOD=%{x}<br>OBS_VALUE=%{y}<extra></extra>",
         "legendgroup": "URM",
         "line": {
          "color": "#B6E880",
          "dash": "solid"
         },
         "marker": {
          "symbol": "circle"
         },
         "mode": "lines",
         "name": "URM",
         "showlegend": true,
         "type": "scattergl",
         "x": {
          "bdata": "4QfiB+MH5AflB+YH5wc=",
          "dtype": "i2"
         },
         "xaxis": "x",
         "y": {
          "bdata": "EREREXGU+kCW/GLJ0yYAQdpApw36ewZBERERETGi30Bbj8L1zM8FQRERERERfKVAEREREdEN6EA=",
          "dtype": "f8"
         },
         "yaxis": "y"
        },
        {
         "hovertemplate": "species=UUC<br>TIME_PERIOD=%{x}<br>OBS_VALUE=%{y}<extra></extra>",
         "legendgroup": "UUC",
         "line": {
          "color": "#FF97FF",
          "dash": "solid"
         },
         "marker": {
          "symbol": "circle"
         },
         "mode": "lines",
         "name": "UUC",
         "showlegend": true,
         "type": "scattergl",
         "x": {
          "bdata": "1wfYB9kH2gfbB9wH3QfeB98H4AfhB+IH4wfkB+UH5gfnBw==",
          "dtype": "i2"
         },
         "xaxis": "x",
         "y": {
          "bdata": "AAAAAE1PGkHUBjptjx4VQTfQaQNoFRFBq6qqqkSfE0He3d3dzSITQZqZmZm3HxNBq6qqqmLjDUFtoNMGZkAQQdFpA50DWhVB84slvwI3F0GnDXTafrUFQQSdNtBtkQ9BJr9Y8kDnEEHv7u7ulk0IQSz5xZK30A1BiIiIiIRJB0FVVVVVt8sIQQ==",
          "dtype": "f8"
         },
         "yaxis": "y"
        },
        {
         "hovertemplate": "species=VEV<br>TIME_PERIOD=%{x}<br>OBS_VALUE=%{y}<extra></extra>",
         "legendgroup": "VEV",
         "line": {
          "color": "#FECB52",
          "dash": "solid"
         },
         "marker": {
          "symbol": "circle"
         },
         "mode": "lines",
         "name": "VEV",
         "showlegend": true,
         "type": "scattergl",
         "x": {
          "bdata": "4QfiB+MH5AflB+YH5wc=",
          "dtype": "i2"
         },
         "xaxis": "x",
         "y": {
          "bdata": "ZmZmZmYwtEC1gU4bCJXwQIXrUbjepORA16NwPcqc60As+cWS/y/tQHh3d3f/0vJARURERMQO2EA=",
          "dtype": "f8"
         },
         "yaxis": "y"
        },
        {
         "hovertemplate": "species=VMA<br>TIME_PERIOD=%{x}<br>OBS_VALUE=%{y}<extra></extra>",
         "legendgroup": "VMA",
         "line": {
          "color": "#636efa",
          "dash": "solid"
         },
         "marker": {
          "symbol": "circle"
         },
         "mode": "lines",
         "name": "VMA",
         "showlegend": true,
         "type": "scattergl",
         "x": {
          "bdata": "1wfYB9kH2gfbB9wH3QfeB98H4AfhB+IH4wfkB+UH5gfnBw==",
          "dtype": "i2"
         },
         "xaxis": "x",
         "y": {
          "bdata": "4XoUrl/qHkHv7u7uAwcXQZqZmZm1URVBdNpAp2VQGkHsUbge5f4aQW2g0waZ7xRBk18s+dP4E0EAAAAA0eskQetRuF5vTjFBYskvlsDGNUF4d3d3p/MvQb9Y8os3jjFB7+7ubtVlLkH5xZJfkEoVQfcoXI/IXhhBOgM8Pb0gN0HPaQOdNlkOQQ==",
          "dtype": "f8"
         },
         "yaxis": "y"
        },
        {
         "hovertemplate": "species=VSC<br>TIME_PERIOD=%{x}<br>OBS_VALUE=%{y}<extra></extra>",
         "legendgroup": "VSC",
         "line": {
          "color": "#EF553B",
          "dash": "solid"
         },
         "marker": {
          "symbol": "circle"
         },
         "mode": "lines",
         "name": "VSC",
         "showlegend": true,
         "type": "scattergl",
         "x": {
          "bdata": "4gfjB+QH5QfmB+cH",
          "dtype": "i2"
         },
         "xaxis": "x",
         "y": {
          "bdata": "iIiIiAB4FUF/seQX5XsMQdFpA51iuP9AAAAAAORLBkFVVVVVUSckQe/u7m7s/S9B",
          "dtype": "f8"
         },
         "yaxis": "y"
        },
        {
         "hovertemplate": "species=WAH<br>TIME_PERIOD=%{x}<br>OBS_VALUE=%{y}<extra></extra>",
         "legendgroup": "WAH",
         "line": {
          "color": "#00cc96",
          "dash": "solid"
         },
         "marker": {
          "symbol": "circle"
         },
         "mode": "lines",
         "name": "WAH",
         "showlegend": true,
         "type": "scattergl",
         "x": {
          "bdata": "5QfnBw==",
          "dtype": "i2"
         },
         "xaxis": "x",
         "y": {
          "bdata": "RUREREQ9m0C7u7u724XIQA==",
          "dtype": "f8"
         },
         "yaxis": "y"
        },
        {
         "hovertemplate": "species=WEG<br>TIME_PERIOD=%{x}<br>OBS_VALUE=%{y}<extra></extra>",
         "legendgroup": "WEG",
         "line": {
          "color": "#ab63fa",
          "dash": "solid"
         },
         "marker": {
          "symbol": "circle"
         },
         "mode": "lines",
         "name": "WEG",
         "showlegend": true,
         "type": "scattergl",
         "x": {
          "bdata": "4gfjB+QH5QfmB+cH",
          "dtype": "i2"
         },
         "xaxis": "x",
         "y": {
          "bdata": "u7u7uxvS+UDf3d3duWD7QFyPwvUorvFA7+7u7vYR5kBFREREZNflQNQGOm1wy91A",
          "dtype": "f8"
         },
         "yaxis": "y"
        },
        {
         "hovertemplate": "species=WHB<br>TIME_PERIOD=%{x}<br>OBS_VALUE=%{y}<extra></extra>",
         "legendgroup": "WHB",
         "line": {
          "color": "#FFA15A",
          "dash": "solid"
         },
         "marker": {
          "symbol": "circle"
         },
         "mode": "lines",
         "name": "WHB",
         "showlegend": true,
         "type": "scattergl",
         "x": {
          "bdata": "yAfJB8oHywfMB80HzgfPB9AH0QfSB9MH1AfVB9YH1wfYB9kH2gfbB9wH3QfeB98H4AfhB+IH4wfkB+UH5gfnBw==",
          "dtype": "i2"
         },
         "xaxis": "x",
         "y": {
          "bdata": "AAAAAGmMOkFVVVVVheIzQauqqqrczytBVVVVVYMbKEFVVVVVA00oQQAAAADT4zFBq6qqqiY7JEGrqqqqYEAmQfcGXzjFGiNBJzQ2gZY/KUGF61G4HqV8QJzpSxw5aiNBIwAla92yI0GrqqqqmHgpQYmIiIjKYytBl/xiSTf6JUFfLPnF8EQgQXE9Cte3QxtBj8L1KKUxHkGX/GLJqn4cQei0gU4jeBNBN9BpA69xCkEwlvxinVUQQVK4HoUj1QRBseQXS2o7BEF4d3d3hzr1QL9Y8ov1CPpAGEt+sQwZDUEwlvxi2QwAQfKLJb+4DvhAEREREdEY9EAHOm2gW03wQA==",
          "dtype": "f8"
         },
         "yaxis": "y"
        },
        {
         "hovertemplate": "species=WHG<br>TIME_PERIOD=%{x}<br>OBS_VALUE=%{y}<extra></extra>",
         "legendgroup": "WHG",
         "line": {
          "color": "#19d3f3",
          "dash": "solid"
         },
         "marker": {
          "symbol": "circle"
         },
         "mode": "lines",
         "name": "WHG",
         "showlegend": true,
         "type": "scattergl",
         "x": {
          "bdata": "1QfWB9cH2AfZB9oH2wfcB90H3gffB+AH4QfiB+MH5AflB+YH5wc=",
          "dtype": "i2"
         },
         "xaxis": "x",
         "y": {
          "bdata": "V8cEj/9dNUEL16Ow8iM3QSIiIqL/OjJBBzpt4L0yMUEvlvxi7AozQe/u7u7HBTVBWfKLJV2uOEGrqqpqRVUyQW2g0wY6xzNBIiIioqzlKkFxPQrX8yYkQVVVVVUq+ClBnDbQaQcvLUGrqqoqY+YyQREREZGLfC9BAAAAABidHkHRaQOdTH8kQVVVVVXnYSBB3t3d3RcYFUE=",
          "dtype": "f8"
         },
         "yaxis": "y"
        },
        {
         "hovertemplate": "species=WRA<br>TIME_PERIOD=%{x}<br>OBS_VALUE=%{y}<extra></extra>",
         "legendgroup": "WRA",
         "line": {
          "color": "#FF6692",
          "dash": "solid"
         },
         "marker": {
          "symbol": "circle"
         },
         "mode": "lines",
         "name": "WRA",
         "showlegend": true,
         "type": "scattergl",
         "x": {
          "bdata": "3wfgB+EH4gfjB+QH5QfmB+cH",
          "dtype": "i2"
         },
         "xaxis": "x",
         "y": {
          "bdata": "zczMzIwmDEEt+cWSw2sVQUt+seSbeyBB8oslv4PUHUHe3d3dTQobQauqqqryuAlBJb9Y8nfXF0FVVVVVbZX3QDCW/GKht/JA",
          "dtype": "f8"
         },
         "yaxis": "y"
        },
        {
         "hovertemplate": "species=WRF<br>TIME_PERIOD=%{x}<br>OBS_VALUE=%{y}<extra></extra>",
         "legendgroup": "WRF",
         "line": {
          "color": "#B6E880",
          "dash": "solid"
         },
         "marker": {
          "symbol": "circle"
         },
         "mode": "lines",
         "name": "WRF",
         "showlegend": true,
         "type": "scattergl",
         "x": {
          "bdata": "4gfjB+QH5QfmB+cH",
          "dtype": "i2"
         },
         "xaxis": "x",
         "y": {
          "bdata": "1AY6bQhr6kDv7u7uPlHzQJHC9Si8uulAnDbQaQtO4UAiIiIiYkDlQNijcD2avuVA",
          "dtype": "f8"
         },
         "yaxis": "y"
        },
        {
         "hovertemplate": "species=WRM<br>TIME_PERIOD=%{x}<br>OBS_VALUE=%{y}<extra></extra>",
         "legendgroup": "WRM",
         "line": {
          "color": "#FF97FF",
          "dash": "solid"
         },
         "marker": {
          "symbol": "circle"
         },
         "mode": "lines",
         "name": "WRM",
         "showlegend": true,
         "type": "scattergl",
         "x": {
          "bdata": "4wc=",
          "dtype": "i2"
         },
         "xaxis": "x",
         "y": {
          "bdata": "2kCnDbQytEA=",
          "dtype": "f8"
         },
         "yaxis": "y"
        },
        {
         "hovertemplate": "species=WRX<br>TIME_PERIOD=%{x}<br>OBS_VALUE=%{y}<extra></extra>",
         "legendgroup": "WRX",
         "line": {
          "color": "#FECB52",
          "dash": "solid"
         },
         "marker": {
          "symbol": "circle"
         },
         "mode": "lines",
         "name": "WRX",
         "showlegend": true,
         "type": "scattergl",
         "x": {
          "bdata": "5AflB+cH",
          "dtype": "i2"
         },
         "xaxis": "x",
         "y": {
          "bdata": "u7u7u7u1o0AYS36x5GuiQH+x5BdLtJ5A",
          "dtype": "f8"
         },
         "yaxis": "y"
        },
        {
         "hovertemplate": "species=XIX<br>TIME_PERIOD=%{x}<br>OBS_VALUE=%{y}<extra></extra>",
         "legendgroup": "XIX",
         "line": {
          "color": "#636efa",
          "dash": "solid"
         },
         "marker": {
          "symbol": "circle"
         },
         "mode": "lines",
         "name": "XIX",
         "showlegend": true,
         "type": "scattergl",
         "x": {
          "bdata": "5AflB+YH5wc=",
          "dtype": "i2"
         },
         "xaxis": "x",
         "y": {
          "bdata": "4XoUroeuy0C/WPKLJdW3QBERERGRE7FAJr9Y8oswq0A=",
          "dtype": "f8"
         },
         "yaxis": "y"
        },
        {
         "hovertemplate": "species=XKX<br>TIME_PERIOD=%{x}<br>OBS_VALUE=%{y}<extra></extra>",
         "legendgroup": "XKX",
         "line": {
          "color": "#EF553B",
          "dash": "solid"
         },
         "marker": {
          "symbol": "circle"
         },
         "mode": "lines",
         "name": "XKX",
         "showlegend": true,
         "type": "scattergl",
         "x": {
          "bdata": "3wfgB+EH4gfjB+QH5QfmB+cH",
          "dtype": "i2"
         },
         "xaxis": "x",
         "y": {
          "bdata": "rkfh+nFZIEEzMzMzN2gLQacNdDocY0NBnjbQaQO9jUDRaQOdNiDBQE1C/BZQPBRBVVVV1WCMI0EB3gKJvjQiQUGnDXREFChB",
          "dtype": "f8"
         },
         "yaxis": "y"
        },
        {
         "hovertemplate": "species=XYN<br>TIME_PERIOD=%{x}<br>OBS_VALUE=%{y}<extra></extra>",
         "legendgroup": "XYN",
         "line": {
          "color": "#00cc96",
          "dash": "solid"
         },
         "marker": {
          "symbol": "circle"
         },
         "mode": "lines",
         "name": "XYN",
         "showlegend": true,
         "type": "scattergl",
         "x": {
          "bdata": "1wfYB9kH2gfbB9wH3QfeB98H4AfhB+IH4wfkB+UH5gfnBw==",
          "dtype": "i2"
         },
         "xaxis": "x",
         "y": {
          "bdata": "ThvotM6+E0FuoNMG2NYeQSlcj0Kc9CxBDXTawI8VI0HNzMzMNoccQZX8YsmYUBVBKVyPwgNyD0EL16Nwq90KQZw20GkvTwhB+aBns5zE70B7tbaDpu8DQdxj6UOO1PZANcLIuFcg70BwzojS8PXiQETyqAvksvlAf4/nIKeAAkGnDXTa8JIPQQ==",
          "dtype": "f8"
         },
         "yaxis": "y"
        },
        {
         "hovertemplate": "species=YFC<br>TIME_PERIOD=%{x}<br>OBS_VALUE=%{y}<extra></extra>",
         "legendgroup": "YFC",
         "line": {
          "color": "#ab63fa",
          "dash": "solid"
         },
         "marker": {
          "symbol": "circle"
         },
         "mode": "lines",
         "name": "YFC",
         "showlegend": true,
         "type": "scattergl",
         "x": {
          "bdata": "4gfjBw==",
          "dtype": "i2"
         },
         "xaxis": "x",
         "y": {
          "bdata": "Gui0gU7vmkCX/GLJL72cQA==",
          "dtype": "f8"
         },
         "yaxis": "y"
        },
        {
         "hovertemplate": "species=YFT<br>TIME_PERIOD=%{x}<br>OBS_VALUE=%{y}<extra></extra>",
         "legendgroup": "YFT",
         "line": {
          "color": "#FFA15A",
          "dash": "solid"
         },
         "marker": {
          "symbol": "circle"
         },
         "mode": "lines",
         "name": "YFT",
         "showlegend": true,
         "type": "scattergl",
         "x": {
          "bdata": "zQfQB9EH0gfTB9QH1QfWB9cH2AfZB98H4AfhB+IH4wfkB+UH5wc=",
          "dtype": "i2"
         },
         "xaxis": "x",
         "y": {
          "bdata": "q6qqqqpk30BifKuI6enkQDhCGR0PHyJBfDwHqW4di0B0/D2e3vo2QaEdXbLIlkBBLtr2kBM+NEGW/GLJhNI0QWPJL5YxrTFBmpmZmSoLNEF4d3d3onIgQXE9CtcF4StBmZmZmeQ8MUGrqqqquDA2QQG8BRJTYyRB8oslP+EwI0Es+cUSPukiQVVVVdUVmUpBlfxiSaCtREE=",
          "dtype": "f8"
         },
         "yaxis": "y"
        },
        {
         "hovertemplate": "species=YFU<br>TIME_PERIOD=%{x}<br>OBS_VALUE=%{y}<extra></extra>",
         "legendgroup": "YFU",
         "line": {
          "color": "#19d3f3",
          "dash": "solid"
         },
         "marker": {
          "symbol": "circle"
         },
         "mode": "lines",
         "name": "YFU",
         "showlegend": true,
         "type": "scattergl",
         "x": {
          "bdata": "4AfjB+QH5QfmB+cH",
          "dtype": "i2"
         },
         "xaxis": "x",
         "y": {
          "bdata": "eHd3d3fRtEDNzMzMzPSWQNFpA502yZFAPhFdXhhYmUBERERERECQQG6g0wZ6trlA",
          "dtype": "f8"
         },
         "yaxis": "y"
        },
        {
         "hovertemplate": "species=YRS<br>TIME_PERIOD=%{x}<br>OBS_VALUE=%{y}<extra></extra>",
         "legendgroup": "YRS",
         "line": {
          "color": "#FF6692",
          "dash": "solid"
         },
         "marker": {
          "symbol": "circle"
         },
         "mode": "lines",
         "name": "YRS",
         "showlegend": true,
         "type": "scattergl",
         "x": {
          "bdata": "1wfYB9kH2gfbB9wH3QfeB98H4AfhB+IH4wfkB+UH5wc=",
          "dtype": "i2"
         },
         "xaxis": "x",
         "y": {
          "bdata": "q6qqqhI/HUHJL5b8CTcYQdFpA53mYB9BAAAAAP+RH0Hf3d3dVa8YQVVVVVU43RZB84slv02JEUG7u7u7c48HQXE9CtdjXQBBIiIiIhqGAUH5xZJf1IIAQQAAAABs9wBBq6qqqtrL+0BnZmZmZtGxQAAAAAAAN7lAQacNdJqUwkA=",
          "dtype": "f8"
         },
         "yaxis": "y"
        },
        {
         "hovertemplate": "species=ZGC<br>TIME_PERIOD=%{x}<br>OBS_VALUE=%{y}<extra></extra>",
         "legendgroup": "ZGC",
         "line": {
          "color": "#B6E880",
          "dash": "solid"
         },
         "marker": {
          "symbol": "circle"
         },
         "mode": "lines",
         "name": "ZGC",
         "showlegend": true,
         "type": "scattergl",
         "x": {
          "bdata": "4gfjB+QH5QfmB+cH",
          "dtype": "i2"
         },
         "xaxis": "x",
         "y": {
          "bdata": "PgrXo2CW8kC7u7u7OxTCQBvotIHmv+VApw102sBtqUDe3d3dXSSzQD4K16PwUbZA",
          "dtype": "f8"
         },
         "yaxis": "y"
        }
       ],
       "layout": {
        "legend": {
         "title": {
          "text": "species"
         },
         "tracegroupgap": 0
        },
        "template": {
         "data": {
          "bar": [
           {
            "error_x": {
             "color": "#2a3f5f"
            },
            "error_y": {
             "color": "#2a3f5f"
            },
            "marker": {
             "line": {
              "color": "#E5ECF6",
              "width": 0.5
             },
             "pattern": {
              "fillmode": "overlay",
              "size": 10,
              "solidity": 0.2
             }
            },
            "type": "bar"
           }
          ],
          "barpolar": [
           {
            "marker": {
             "line": {
              "color": "#E5ECF6",
              "width": 0.5
             },
             "pattern": {
              "fillmode": "overlay",
              "size": 10,
              "solidity": 0.2
             }
            },
            "type": "barpolar"
           }
          ],
          "carpet": [
           {
            "aaxis": {
             "endlinecolor": "#2a3f5f",
             "gridcolor": "white",
             "linecolor": "white",
             "minorgridcolor": "white",
             "startlinecolor": "#2a3f5f"
            },
            "baxis": {
             "endlinecolor": "#2a3f5f",
             "gridcolor": "white",
             "linecolor": "white",
             "minorgridcolor": "white",
             "startlinecolor": "#2a3f5f"
            },
            "type": "carpet"
           }
          ],
          "choropleth": [
           {
            "colorbar": {
             "outlinewidth": 0,
             "ticks": ""
            },
            "type": "choropleth"
           }
          ],
          "contour": [
           {
            "colorbar": {
             "outlinewidth": 0,
             "ticks": ""
            },
            "colorscale": [
             [
              0,
              "#0d0887"
             ],
             [
              0.1111111111111111,
              "#46039f"
             ],
             [
              0.2222222222222222,
              "#7201a8"
             ],
             [
              0.3333333333333333,
              "#9c179e"
             ],
             [
              0.4444444444444444,
              "#bd3786"
             ],
             [
              0.5555555555555556,
              "#d8576b"
             ],
             [
              0.6666666666666666,
              "#ed7953"
             ],
             [
              0.7777777777777778,
              "#fb9f3a"
             ],
             [
              0.8888888888888888,
              "#fdca26"
             ],
             [
              1,
              "#f0f921"
             ]
            ],
            "type": "contour"
           }
          ],
          "contourcarpet": [
           {
            "colorbar": {
             "outlinewidth": 0,
             "ticks": ""
            },
            "type": "contourcarpet"
           }
          ],
          "heatmap": [
           {
            "colorbar": {
             "outlinewidth": 0,
             "ticks": ""
            },
            "colorscale": [
             [
              0,
              "#0d0887"
             ],
             [
              0.1111111111111111,
              "#46039f"
             ],
             [
              0.2222222222222222,
              "#7201a8"
             ],
             [
              0.3333333333333333,
              "#9c179e"
             ],
             [
              0.4444444444444444,
              "#bd3786"
             ],
             [
              0.5555555555555556,
              "#d8576b"
             ],
             [
              0.6666666666666666,
              "#ed7953"
             ],
             [
              0.7777777777777778,
              "#fb9f3a"
             ],
             [
              0.8888888888888888,
              "#fdca26"
             ],
             [
              1,
              "#f0f921"
             ]
            ],
            "type": "heatmap"
           }
          ],
          "histogram": [
           {
            "marker": {
             "pattern": {
              "fillmode": "overlay",
              "size": 10,
              "solidity": 0.2
             }
            },
            "type": "histogram"
           }
          ],
          "histogram2d": [
           {
            "colorbar": {
             "outlinewidth": 0,
             "ticks": ""
            },
            "colorscale": [
             [
              0,
              "#0d0887"
             ],
             [
              0.1111111111111111,
              "#46039f"
             ],
             [
              0.2222222222222222,
              "#7201a8"
             ],
             [
              0.3333333333333333,
              "#9c179e"
             ],
             [
              0.4444444444444444,
              "#bd3786"
             ],
             [
              0.5555555555555556,
              "#d8576b"
             ],
             [
              0.6666666666666666,
              "#ed7953"
             ],
             [
              0.7777777777777778,
              "#fb9f3a"
             ],
             [
              0.8888888888888888,
              "#fdca26"
             ],
             [
              1,
              "#f0f921"
             ]
            ],
            "type": "histogram2d"
           }
          ],
          "histogram2dcontour": [
           {
            "colorbar": {
             "outlinewidth": 0,
             "ticks": ""
            },
            "colorscale": [
             [
              0,
              "#0d0887"
             ],
             [
              0.1111111111111111,
              "#46039f"
             ],
             [
              0.2222222222222222,
              "#7201a8"
             ],
             [
              0.3333333333333333,
              "#9c179e"
             ],
             [
              0.4444444444444444,
              "#bd3786"
             ],
             [
              0.5555555555555556,
              "#d8576b"
             ],
             [
              0.6666666666666666,
              "#ed7953"
             ],
             [
              0.7777777777777778,
              "#fb9f3a"
             ],
             [
              0.8888888888888888,
              "#fdca26"
             ],
             [
              1,
              "#f0f921"
             ]
            ],
            "type": "histogram2dcontour"
           }
          ],
          "mesh3d": [
           {
            "colorbar": {
             "outlinewidth": 0,
             "ticks": ""
            },
            "type": "mesh3d"
           }
          ],
          "parcoords": [
           {
            "line": {
             "colorbar": {
              "outlinewidth": 0,
              "ticks": ""
             }
            },
            "type": "parcoords"
           }
          ],
          "pie": [
           {
            "automargin": true,
            "type": "pie"
           }
          ],
          "scatter": [
           {
            "fillpattern": {
             "fillmode": "overlay",
             "size": 10,
             "solidity": 0.2
            },
            "type": "scatter"
           }
          ],
          "scatter3d": [
           {
            "line": {
             "colorbar": {
              "outlinewidth": 0,
              "ticks": ""
             }
            },
            "marker": {
             "colorbar": {
              "outlinewidth": 0,
              "ticks": ""
             }
            },
            "type": "scatter3d"
           }
          ],
          "scattercarpet": [
           {
            "marker": {
             "colorbar": {
              "outlinewidth": 0,
              "ticks": ""
             }
            },
            "type": "scattercarpet"
           }
          ],
          "scattergeo": [
           {
            "marker": {
             "colorbar": {
              "outlinewidth": 0,
              "ticks": ""
             }
            },
            "type": "scattergeo"
           }
          ],
          "scattergl": [
           {
            "marker": {
             "colorbar": {
              "outlinewidth": 0,
              "ticks": ""
             }
            },
            "type": "scattergl"
           }
          ],
          "scattermap": [
           {
            "marker": {
             "colorbar": {
              "outlinewidth": 0,
              "ticks": ""
             }
            },
            "type": "scattermap"
           }
          ],
          "scattermapbox": [
           {
            "marker": {
             "colorbar": {
              "outlinewidth": 0,
              "ticks": ""
             }
            },
            "type": "scattermapbox"
           }
          ],
          "scatterpolar": [
           {
            "marker": {
             "colorbar": {
              "outlinewidth": 0,
              "ticks": ""
             }
            },
            "type": "scatterpolar"
           }
          ],
          "scatterpolargl": [
           {
            "marker": {
             "colorbar": {
              "outlinewidth": 0,
              "ticks": ""
             }
            },
            "type": "scatterpolargl"
           }
          ],
          "scatterternary": [
           {
            "marker": {
             "colorbar": {
              "outlinewidth": 0,
              "ticks": ""
             }
            },
            "type": "scatterternary"
           }
          ],
          "surface": [
           {
            "colorbar": {
             "outlinewidth": 0,
             "ticks": ""
            },
            "colorscale": [
             [
              0,
              "#0d0887"
             ],
             [
              0.1111111111111111,
              "#46039f"
             ],
             [
              0.2222222222222222,
              "#7201a8"
             ],
             [
              0.3333333333333333,
              "#9c179e"
             ],
             [
              0.4444444444444444,
              "#bd3786"
             ],
             [
              0.5555555555555556,
              "#d8576b"
             ],
             [
              0.6666666666666666,
              "#ed7953"
             ],
             [
              0.7777777777777778,
              "#fb9f3a"
             ],
             [
              0.8888888888888888,
              "#fdca26"
             ],
             [
              1,
              "#f0f921"
             ]
            ],
            "type": "surface"
           }
          ],
          "table": [
           {
            "cells": {
             "fill": {
              "color": "#EBF0F8"
             },
             "line": {
              "color": "white"
             }
            },
            "header": {
             "fill": {
              "color": "#C8D4E3"
             },
             "line": {
              "color": "white"
             }
            },
            "type": "table"
           }
          ]
         },
         "layout": {
          "annotationdefaults": {
           "arrowcolor": "#2a3f5f",
           "arrowhead": 0,
           "arrowwidth": 1
          },
          "autotypenumbers": "strict",
          "coloraxis": {
           "colorbar": {
            "outlinewidth": 0,
            "ticks": ""
           }
          },
          "colorscale": {
           "diverging": [
            [
             0,
             "#8e0152"
            ],
            [
             0.1,
             "#c51b7d"
            ],
            [
             0.2,
             "#de77ae"
            ],
            [
             0.3,
             "#f1b6da"
            ],
            [
             0.4,
             "#fde0ef"
            ],
            [
             0.5,
             "#f7f7f7"
            ],
            [
             0.6,
             "#e6f5d0"
            ],
            [
             0.7,
             "#b8e186"
            ],
            [
             0.8,
             "#7fbc41"
            ],
            [
             0.9,
             "#4d9221"
            ],
            [
             1,
             "#276419"
            ]
           ],
           "sequential": [
            [
             0,
             "#0d0887"
            ],
            [
             0.1111111111111111,
             "#46039f"
            ],
            [
             0.2222222222222222,
             "#7201a8"
            ],
            [
             0.3333333333333333,
             "#9c179e"
            ],
            [
             0.4444444444444444,
             "#bd3786"
            ],
            [
             0.5555555555555556,
             "#d8576b"
            ],
            [
             0.6666666666666666,
             "#ed7953"
            ],
            [
             0.7777777777777778,
             "#fb9f3a"
            ],
            [
             0.8888888888888888,
             "#fdca26"
            ],
            [
             1,
             "#f0f921"
            ]
           ],
           "sequentialminus": [
            [
             0,
             "#0d0887"
            ],
            [
             0.1111111111111111,
             "#46039f"
            ],
            [
             0.2222222222222222,
             "#7201a8"
            ],
            [
             0.3333333333333333,
             "#9c179e"
            ],
            [
             0.4444444444444444,
             "#bd3786"
            ],
            [
             0.5555555555555556,
             "#d8576b"
            ],
            [
             0.6666666666666666,
             "#ed7953"
            ],
            [
             0.7777777777777778,
             "#fb9f3a"
            ],
            [
             0.8888888888888888,
             "#fdca26"
            ],
            [
             1,
             "#f0f921"
            ]
           ]
          },
          "colorway": [
           "#636efa",
           "#EF553B",
           "#00cc96",
           "#ab63fa",
           "#FFA15A",
           "#19d3f3",
           "#FF6692",
           "#B6E880",
           "#FF97FF",
           "#FECB52"
          ],
          "font": {
           "color": "#2a3f5f"
          },
          "geo": {
           "bgcolor": "white",
           "lakecolor": "white",
           "landcolor": "#E5ECF6",
           "showlakes": true,
           "showland": true,
           "subunitcolor": "white"
          },
          "hoverlabel": {
           "align": "left"
          },
          "hovermode": "closest",
          "mapbox": {
           "style": "light"
          },
          "paper_bgcolor": "white",
          "plot_bgcolor": "#E5ECF6",
          "polar": {
           "angularaxis": {
            "gridcolor": "white",
            "linecolor": "white",
            "ticks": ""
           },
           "bgcolor": "#E5ECF6",
           "radialaxis": {
            "gridcolor": "white",
            "linecolor": "white",
            "ticks": ""
           }
          },
          "scene": {
           "xaxis": {
            "backgroundcolor": "#E5ECF6",
            "gridcolor": "white",
            "gridwidth": 2,
            "linecolor": "white",
            "showbackground": true,
            "ticks": "",
            "zerolinecolor": "white"
           },
           "yaxis": {
            "backgroundcolor": "#E5ECF6",
            "gridcolor": "white",
            "gridwidth": 2,
            "linecolor": "white",
            "showbackground": true,
            "ticks": "",
            "zerolinecolor": "white"
           },
           "zaxis": {
            "backgroundcolor": "#E5ECF6",
            "gridcolor": "white",
            "gridwidth": 2,
            "linecolor": "white",
            "showbackground": true,
            "ticks": "",
            "zerolinecolor": "white"
           }
          },
          "shapedefaults": {
           "line": {
            "color": "#2a3f5f"
           }
          },
          "ternary": {
           "aaxis": {
            "gridcolor": "white",
            "linecolor": "white",
            "ticks": ""
           },
           "baxis": {
            "gridcolor": "white",
            "linecolor": "white",
            "ticks": ""
           },
           "bgcolor": "#E5ECF6",
           "caxis": {
            "gridcolor": "white",
            "linecolor": "white",
            "ticks": ""
           }
          },
          "title": {
           "x": 0.05
          },
          "xaxis": {
           "automargin": true,
           "gridcolor": "white",
           "linecolor": "white",
           "ticks": "",
           "title": {
            "standoff": 15
           },
           "zerolinecolor": "white",
           "zerolinewidth": 2
          },
          "yaxis": {
           "automargin": true,
           "gridcolor": "white",
           "linecolor": "white",
           "ticks": "",
           "title": {
            "standoff": 15
           },
           "zerolinecolor": "white",
           "zerolinewidth": 2
          }
         }
        },
        "title": {
         "text": "Andamento delle medie rispetto al periodo"
        },
        "xaxis": {
         "anchor": "y",
         "domain": [
          0,
          1
         ],
         "title": {
          "text": "TIME_PERIOD"
         }
        },
        "yaxis": {
         "anchor": "x",
         "domain": [
          0,
          1
         ],
         "title": {
          "text": "OBS_VALUE"
         }
        }
       }
      }
     },
     "metadata": {},
     "output_type": "display_data"
    }
   ],
   "source": [
    "fig = px.line(\n",
    "    df_analisi,\n",
    "    x='TIME_PERIOD',\n",
    "    y='OBS_VALUE',\n",
    "    color='species',\n",
    "    title='Andamento delle medie rispetto al periodo'\n",
    ")\n",
    "\n",
    "fig.show()"
   ]
  }
 ],
 "metadata": {
  "kernelspec": {
   "display_name": ".venv",
   "language": "python",
   "name": "python3"
  },
  "language_info": {
   "codemirror_mode": {
    "name": "ipython",
    "version": 3
   },
   "file_extension": ".py",
   "mimetype": "text/x-python",
   "name": "python",
   "nbconvert_exporter": "python",
   "pygments_lexer": "ipython3",
   "version": "3.13.3"
  }
 },
 "nbformat": 4,
 "nbformat_minor": 5
}
